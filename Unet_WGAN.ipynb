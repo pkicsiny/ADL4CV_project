{
 "cells": [
  {
   "cell_type": "markdown",
   "metadata": {},
   "source": [
    "#### Import required libs"
   ]
  },
  {
   "cell_type": "code",
   "execution_count": 76,
   "metadata": {},
   "outputs": [
    {
     "name": "stdout",
     "output_type": "stream",
     "text": [
      "The autoreload extension is already loaded. To reload it, use:\n",
      "  %reload_ext autoreload\n"
     ]
    }
   ],
   "source": [
    "import os\n",
    "import sys\n",
    "import matplotlib.pyplot as plt\n",
    "%matplotlib inline\n",
    "\n",
    "%load_ext autoreload\n",
    "%autoreload 2\n",
    "sys.path.append('../ADL4CV_project/')\n",
    "import src\n",
    "\n",
    "import numpy as np\n",
    "import tensorflow as tf\n",
    "import re\n",
    "import math\n",
    "import io\n",
    "import pandas as pd\n",
    "import seaborn as sns\n",
    "from  matplotlib.animation import FuncAnimation\n",
    "from matplotlib import colors\n",
    "from netCDF4 import Dataset\n",
    "from IPython.display import clear_output\n",
    "\n",
    "import keras.backend as K\n",
    "from keras.layers import *\n",
    "from keras.models import *\n",
    "from keras.optimizers import *\n",
    "from keras.initializers import *\n",
    "from keras.callbacks import *\n",
    "from keras.utils.generic_utils import Progbar\n",
    "from tensorflow.python.client import device_lib"
   ]
  },
  {
   "cell_type": "code",
   "execution_count": 2,
   "metadata": {},
   "outputs": [],
   "source": [
    "sys.path.insert(0, '/Users/jlee/Desktop/JONG/TUM/18W/\\\n",
    "Advanced_Deep_Learning_for_Computer_Vision/project/data')"
   ]
  },
  {
   "cell_type": "code",
   "execution_count": 3,
   "metadata": {},
   "outputs": [
    {
     "name": "stdout",
     "output_type": "stream",
     "text": [
      "[name: \"/device:CPU:0\"\n",
      "device_type: \"CPU\"\n",
      "memory_limit: 268435456\n",
      "locality {\n",
      "}\n",
      "incarnation: 17445472360613635407\n",
      "]\n"
     ]
    }
   ],
   "source": [
    "print(device_lib.list_local_devices())"
   ]
  },
  {
   "cell_type": "markdown",
   "metadata": {},
   "source": [
    "#### Load the dataset"
   ]
  },
  {
   "cell_type": "code",
   "execution_count": 4,
   "metadata": {},
   "outputs": [
    {
     "name": "stdout",
     "output_type": "stream",
     "text": [
      "Training data: (7500, 64, 64, 2)\n",
      "Validation data: (1500, 64, 64, 2)\n",
      "Test data: (1000, 64, 64, 2)\n"
     ]
    }
   ],
   "source": [
    "train, val, test = src.load_datasets()"
   ]
  },
  {
   "cell_type": "code",
   "execution_count": 5,
   "metadata": {},
   "outputs": [
    {
     "name": "stdout",
     "output_type": "stream",
     "text": [
      "Shape of training data:  (7500, 64, 64, 1) \n",
      "Shape of training truth:  (7500, 64, 64, 1) \n",
      "Shape of validation data:  (1500, 64, 64, 1) \n",
      "Shape of validation truth:  (1500, 64, 64, 1) \n",
      "Shape of test data:  (1000, 64, 64, 1) \n",
      "Shape of test truth:  (1000, 64, 64, 1)\n"
     ]
    }
   ],
   "source": [
    "X_train, T_train, X_val, T_val, X_test, T_test = src.split_datasets(\n",
    "            train, val, test)"
   ]
  },
  {
   "cell_type": "code",
   "execution_count": 6,
   "metadata": {},
   "outputs": [
    {
     "data": {
      "text/plain": [
       "(7500, 64, 64, 1)"
      ]
     },
     "execution_count": 6,
     "metadata": {},
     "output_type": "execute_result"
    }
   ],
   "source": [
    "X_train.shape"
   ]
  },
  {
   "cell_type": "code",
   "execution_count": 7,
   "metadata": {},
   "outputs": [
    {
     "data": {
      "text/plain": [
       "<matplotlib.image.AxesImage at 0x1ca8b6e80>"
      ]
     },
     "execution_count": 7,
     "metadata": {},
     "output_type": "execute_result"
    },
    {
     "data": {
      "image/png": "[encoded data removed]",
      "text/plain": [
       "<Figure size 432x288 with 1 Axes>"
      ]
     },
     "metadata": {
      "needs_background": "light"
     },
     "output_type": "display_data"
    }
   ],
   "source": [
    "plt.imshow(X_train[0,:,:,0])"
   ]
  },
  {
   "cell_type": "markdown",
   "metadata": {},
   "source": [
    "### WGAN-GP\n",
    "    reference sources:\n",
    "* https://github.com/eriklindernoren/Keras-GAN/blob/master/gan/gan.py\n",
    "* https://myurasov.github.io/2017/09/24/wasserstein-gan-keras.html\n",
    "* https://github.com/bobchennan/Wasserstein-GAN-Keras/blob/master/mnist_wacgan.py\n",
    "* https://github.com/keras-team/keras-contrib/blob/master/examples/improved_wgan.py"
   ]
  },
  {
   "cell_type": "markdown",
   "metadata": {},
   "source": [
    "#### Special Loss functions for WGAN-GP"
   ]
  },
  {
   "cell_type": "code",
   "execution_count": 8,
   "metadata": {},
   "outputs": [],
   "source": [
    "def wasserstein_loss(y_true, y_pred):\n",
    "    return K.mean(y_true * y_pred)"
   ]
  },
  {
   "cell_type": "code",
   "execution_count": 9,
   "metadata": {},
   "outputs": [],
   "source": [
    "def gradient_penalty_loss(y_true, y_pred, averaged_samples, gradient_penalty_weight):\n",
    "    \"\"\"Calculates the gradient penalty loss for a batch of \"averaged\" samples.\n",
    "    In Improved WGANs, the 1-Lipschitz constraint is enforced by adding a term to the loss function\n",
    "    that penalizes the network if the gradient norm moves away from 1. However, it is impossible to evaluate\n",
    "    this function at all points in the input space. The compromise used in the paper is to choose random points\n",
    "    on the lines between real and generated samples, and check the gradients at these points. Note that it is the\n",
    "    gradient w.r.t. the input averaged samples, not the weights of the discriminator, that we're penalizing!\n",
    "    In order to evaluate the gradients, we must first run samples through the generator and evaluate the loss.\n",
    "    Then we get the gradients of the discriminator w.r.t. the input averaged samples.\n",
    "    The l2 norm and penalty can then be calculated for this gradient.\n",
    "    Note that this loss function requires the original averaged samples as input, but Keras only supports passing\n",
    "    y_true and y_pred to loss functions. To get around this, we make a partial() of the function with the\n",
    "    averaged_samples argument, and use that for model training.\"\"\"\n",
    "    # first get the gradients:\n",
    "    #   assuming: - that y_pred has dimensions (batch_size, 1)\n",
    "    #             - averaged_samples has dimensions (batch_size, nbr_features)\n",
    "    # gradients afterwards has dimension (batch_size, nbr_features), basically\n",
    "    # a list of nbr_features-dimensional gradient vectors\n",
    "    gradients = K.gradients(y_pred, averaged_samples)[0]\n",
    "    # compute the euclidean norm by squaring ...\n",
    "    gradients_sqr = K.square(gradients)\n",
    "    #   ... summing over the rows ...\n",
    "    gradients_sqr_sum = K.sum(gradients_sqr,\n",
    "                              axis=np.arange(1, len(gradients_sqr.shape)))\n",
    "    #   ... and sqrt\n",
    "    gradient_l2_norm = K.sqrt(gradients_sqr_sum)\n",
    "    # compute lambda * (1 - ||grad||)^2 still for each single sample\n",
    "    gradient_penalty = gradient_penalty_weight * K.square(1 - gradient_l2_norm)\n",
    "    # return the mean as loss over all the batch samples\n",
    "    return K.mean(gradient_penalty)"
   ]
  },
  {
   "cell_type": "markdown",
   "metadata": {},
   "source": [
    "#### Generator Architecture"
   ]
  },
  {
   "cell_type": "code",
   "execution_count": 10,
   "metadata": {},
   "outputs": [],
   "source": [
    "def build_G_Unet(input_shape=(64, 64, 1), dropout=0.0, batchnorm=False):\n",
    "    init = Input(shape=input_shape)\n",
    "    ConvDown1 = Conv2D(filters=32, kernel_size=(2, 2), strides=(1, 1), padding=\"same\")(init)\n",
    "    if batchnorm:\n",
    "        ConvDown1 = BatchNormalization()(ConvDown1)\n",
    "    Lr1 = LeakyReLU(alpha=0.1)(ConvDown1)\n",
    "    if (dropout > 0) and (dropout <= 1):\n",
    "        Lr1 = Dropout(dropout)(Lr1)\n",
    "    # 64\n",
    "    ConvDown2 = Conv2D(filters=32, kernel_size=(2, 2), strides=(2, 2), padding=\"same\")(Lr1)\n",
    "    if batchnorm:\n",
    "        ConvDown2 = BatchNormalization()(ConvDown2)\n",
    "    Lr2 = LeakyReLU(alpha=0.1)(ConvDown2)\n",
    "    if (dropout > 0) and (dropout <= 1):\n",
    "        Lr2 = Dropout(dropout)(Lr2)\n",
    "    # 32\n",
    "    ConvDown3 = Conv2D(filters=32, kernel_size=(2, 2), strides=(2, 2), padding=\"same\")(Lr2)\n",
    "    if batchnorm:\n",
    "        ConvDown3 = BatchNormalization()(ConvDown3)\n",
    "    Lr3 = LeakyReLU(alpha=0.1)(ConvDown3)\n",
    "    if (dropout > 0) and (dropout <= 1):\n",
    "        Lr3 = Dropout(dropout)(Lr3)\n",
    "    # 16\n",
    "    ConvDown4 = Conv2D(filters=32, kernel_size=(2, 2), strides=(2, 2), padding=\"same\")(Lr3)\n",
    "    if batchnorm:\n",
    "        ConvDown4 = BatchNormalization()(ConvDown4)\n",
    "    Lr4 = LeakyReLU(alpha=0.1)(ConvDown4)\n",
    "    if (dropout > 0) and (dropout <= 1):\n",
    "        Lr4 = Dropout(dropout)(Lr4)\n",
    "    # 8\n",
    "    ConvDown5 = Conv2D(filters=64, kernel_size=(2, 2), strides=(2, 2), padding=\"same\")(Lr4)\n",
    "    if batchnorm:\n",
    "        ConvDown5 = BatchNormalization()(ConvDown5)\n",
    "    Lr5 = LeakyReLU(alpha=0.1)(ConvDown5)\n",
    "    if (dropout > 0) and (dropout <= 1):\n",
    "        Lr5 = Dropout(dropout)(Lr5)\n",
    "    # 4\n",
    "\n",
    "    # 8\n",
    "    UpSamp1 = UpSampling2D(size=(2, 2), data_format=\"channels_last\")(Lr5)\n",
    "    merge1 = concatenate([ConvDown4, UpSamp1], axis=-1)\n",
    "    Conv1 = Conv2D(filters=32, kernel_size=(4, 4), strides=(1, 1), padding=\"same\")(merge1)\n",
    "    if batchnorm:\n",
    "        Conv1 = BatchNormalization()(Conv1)\n",
    "    Lr6 = LeakyReLU(alpha=0.1)(Conv1)\n",
    "    if (dropout > 0) and (dropout <= 1):\n",
    "        Lr6 = keras.layers.Dropout(dropout)(Lr6)\n",
    "    # 16\n",
    "    UpSamp2 = UpSampling2D(size=(2, 2), data_format=\"channels_last\")(Lr6)\n",
    "    merge2 = concatenate([ConvDown3, UpSamp2], axis=-1)\n",
    "    Conv2 = Conv2D(filters=32, kernel_size=(4, 4), strides=(1, 1), padding=\"same\")(merge2)\n",
    "    if batchnorm:\n",
    "        Conv2 = BatchNormalization()(Conv2)\n",
    "    Lr7 = LeakyReLU(alpha=0.1)(Conv2)\n",
    "    if (dropout > 0) and (dropout <= 1):\n",
    "        Lr7 = Dropout(dropout)(Lr7)\n",
    "    # 32\n",
    "    UpSamp3 = UpSampling2D(size=(2, 2), data_format=\"channels_last\")(Lr7)\n",
    "    merge3 = concatenate([ConvDown2, UpSamp3], axis=-1)\n",
    "    Conv3 = Conv2D(filters=32, kernel_size=(4, 4), strides=(1, 1), padding=\"same\")(merge3)\n",
    "    if batchnorm:\n",
    "        Conv3 = BatchNormalization()(Conv3)\n",
    "    Lr8 = LeakyReLU(alpha=0.1)(Conv3)\n",
    "    if (dropout > 0) and (dropout <= 1):\n",
    "        Lr8 = Dropout(dropout)(Lr8)\n",
    "    # 64\n",
    "    UpSamp4 = UpSampling2D(size=(2, 2), data_format=\"channels_last\")(Lr8)\n",
    "    merge4 = concatenate([ConvDown1, UpSamp4], axis=-1)\n",
    "    Conv4 = Conv2D(filters=32, kernel_size=(4, 4), strides=(1, 1), padding=\"same\")(merge4)\n",
    "    if batchnorm:\n",
    "        Conv4 = BatchNormalization()(Conv4)\n",
    "    Lr9 = LeakyReLU(alpha=0.1)(Conv4)\n",
    "    if (dropout > 0) and (dropout <= 1):\n",
    "        Lr9 = Dropout(dropout)(Lr9)\n",
    "\n",
    "    Conv5 = Conv2D(filters=1, kernel_size=(4, 4), strides=(1, 1),\n",
    "                                padding=\"same\", activation='tanh')(Lr9)\n",
    "\n",
    "    return Model(inputs=init, outputs=Conv5, name='G')"
   ]
  },
  {
   "cell_type": "code",
   "execution_count": 11,
   "metadata": {},
   "outputs": [
    {
     "name": "stdout",
     "output_type": "stream",
     "text": [
      "__________________________________________________________________________________________________\n",
      "Layer (type)                    Output Shape         Param #     Connected to                     \n",
      "==================================================================================================\n",
      "input_1 (InputLayer)            (None, 64, 64, 1)    0                                            \n",
      "__________________________________________________________________________________________________\n",
      "conv2d_1 (Conv2D)               (None, 64, 64, 32)   160         input_1[0][0]                    \n",
      "__________________________________________________________________________________________________\n",
      "batch_normalization_1 (BatchNor (None, 64, 64, 32)   128         conv2d_1[0][0]                   \n",
      "__________________________________________________________________________________________________\n",
      "leaky_re_lu_1 (LeakyReLU)       (None, 64, 64, 32)   0           batch_normalization_1[0][0]      \n",
      "__________________________________________________________________________________________________\n",
      "conv2d_2 (Conv2D)               (None, 32, 32, 32)   4128        leaky_re_lu_1[0][0]              \n",
      "__________________________________________________________________________________________________\n",
      "batch_normalization_2 (BatchNor (None, 32, 32, 32)   128         conv2d_2[0][0]                   \n",
      "__________________________________________________________________________________________________\n",
      "leaky_re_lu_2 (LeakyReLU)       (None, 32, 32, 32)   0           batch_normalization_2[0][0]      \n",
      "__________________________________________________________________________________________________\n",
      "conv2d_3 (Conv2D)               (None, 16, 16, 32)   4128        leaky_re_lu_2[0][0]              \n",
      "__________________________________________________________________________________________________\n",
      "batch_normalization_3 (BatchNor (None, 16, 16, 32)   128         conv2d_3[0][0]                   \n",
      "__________________________________________________________________________________________________\n",
      "leaky_re_lu_3 (LeakyReLU)       (None, 16, 16, 32)   0           batch_normalization_3[0][0]      \n",
      "__________________________________________________________________________________________________\n",
      "conv2d_4 (Conv2D)               (None, 8, 8, 32)     4128        leaky_re_lu_3[0][0]              \n",
      "__________________________________________________________________________________________________\n",
      "batch_normalization_4 (BatchNor (None, 8, 8, 32)     128         conv2d_4[0][0]                   \n",
      "__________________________________________________________________________________________________\n",
      "leaky_re_lu_4 (LeakyReLU)       (None, 8, 8, 32)     0           batch_normalization_4[0][0]      \n",
      "__________________________________________________________________________________________________\n",
      "conv2d_5 (Conv2D)               (None, 4, 4, 64)     8256        leaky_re_lu_4[0][0]              \n",
      "__________________________________________________________________________________________________\n",
      "batch_normalization_5 (BatchNor (None, 4, 4, 64)     256         conv2d_5[0][0]                   \n",
      "__________________________________________________________________________________________________\n",
      "leaky_re_lu_5 (LeakyReLU)       (None, 4, 4, 64)     0           batch_normalization_5[0][0]      \n",
      "__________________________________________________________________________________________________\n",
      "up_sampling2d_1 (UpSampling2D)  (None, 8, 8, 64)     0           leaky_re_lu_5[0][0]              \n",
      "__________________________________________________________________________________________________\n",
      "concatenate_1 (Concatenate)     (None, 8, 8, 96)     0           batch_normalization_4[0][0]      \n",
      "                                                                 up_sampling2d_1[0][0]            \n",
      "__________________________________________________________________________________________________\n",
      "conv2d_6 (Conv2D)               (None, 8, 8, 32)     49184       concatenate_1[0][0]              \n",
      "__________________________________________________________________________________________________\n",
      "batch_normalization_6 (BatchNor (None, 8, 8, 32)     128         conv2d_6[0][0]                   \n",
      "__________________________________________________________________________________________________\n",
      "leaky_re_lu_6 (LeakyReLU)       (None, 8, 8, 32)     0           batch_normalization_6[0][0]      \n",
      "__________________________________________________________________________________________________\n",
      "up_sampling2d_2 (UpSampling2D)  (None, 16, 16, 32)   0           leaky_re_lu_6[0][0]              \n",
      "__________________________________________________________________________________________________\n",
      "concatenate_2 (Concatenate)     (None, 16, 16, 64)   0           batch_normalization_3[0][0]      \n",
      "                                                                 up_sampling2d_2[0][0]            \n",
      "__________________________________________________________________________________________________\n",
      "conv2d_7 (Conv2D)               (None, 16, 16, 32)   32800       concatenate_2[0][0]              \n",
      "__________________________________________________________________________________________________\n",
      "batch_normalization_7 (BatchNor (None, 16, 16, 32)   128         conv2d_7[0][0]                   \n",
      "__________________________________________________________________________________________________\n",
      "leaky_re_lu_7 (LeakyReLU)       (None, 16, 16, 32)   0           batch_normalization_7[0][0]      \n",
      "__________________________________________________________________________________________________\n",
      "up_sampling2d_3 (UpSampling2D)  (None, 32, 32, 32)   0           leaky_re_lu_7[0][0]              \n",
      "__________________________________________________________________________________________________\n",
      "concatenate_3 (Concatenate)     (None, 32, 32, 64)   0           batch_normalization_2[0][0]      \n",
      "                                                                 up_sampling2d_3[0][0]            \n",
      "__________________________________________________________________________________________________\n",
      "conv2d_8 (Conv2D)               (None, 32, 32, 32)   32800       concatenate_3[0][0]              \n",
      "__________________________________________________________________________________________________\n",
      "batch_normalization_8 (BatchNor (None, 32, 32, 32)   128         conv2d_8[0][0]                   \n",
      "__________________________________________________________________________________________________\n",
      "leaky_re_lu_8 (LeakyReLU)       (None, 32, 32, 32)   0           batch_normalization_8[0][0]      \n",
      "__________________________________________________________________________________________________\n",
      "up_sampling2d_4 (UpSampling2D)  (None, 64, 64, 32)   0           leaky_re_lu_8[0][0]              \n",
      "__________________________________________________________________________________________________\n",
      "concatenate_4 (Concatenate)     (None, 64, 64, 64)   0           batch_normalization_1[0][0]      \n",
      "                                                                 up_sampling2d_4[0][0]            \n",
      "__________________________________________________________________________________________________\n",
      "conv2d_9 (Conv2D)               (None, 64, 64, 32)   32800       concatenate_4[0][0]              \n",
      "__________________________________________________________________________________________________\n",
      "batch_normalization_9 (BatchNor (None, 64, 64, 32)   128         conv2d_9[0][0]                   \n",
      "__________________________________________________________________________________________________\n",
      "leaky_re_lu_9 (LeakyReLU)       (None, 64, 64, 32)   0           batch_normalization_9[0][0]      \n",
      "__________________________________________________________________________________________________\n",
      "conv2d_10 (Conv2D)              (None, 64, 64, 1)    513         leaky_re_lu_9[0][0]              \n",
      "==================================================================================================\n",
      "Total params: 170,177\n",
      "Trainable params: 169,537\n",
      "Non-trainable params: 640\n",
      "__________________________________________________________________________________________________\n"
     ]
    }
   ],
   "source": [
    "G = build_G_Unet(batchnorm=True)\n",
    "G.summary()"
   ]
  },
  {
   "cell_type": "markdown",
   "metadata": {},
   "source": [
    "#### Spatial Discriminator Architecture"
   ]
  },
  {
   "cell_type": "code",
   "execution_count": 12,
   "metadata": {},
   "outputs": [],
   "source": [
    "def build_Spatial_D(input_shape=(64, 64, 1), condition_shape=(64, 64, 1), dropout=0.3, batchnorm=False):\n",
    "    # condition is the frame t (the original frame) or the sequence of past frames\n",
    "    condition = Input(shape=condition_shape)\n",
    "    # other is the generated prediction of frame t+1 or the ground truth frame t+1\n",
    "    other = Input(shape=input_shape)\n",
    "    # Concatenate image and conditioning image by channels to produce input\n",
    "    combined_imgs = Concatenate(axis=-1)([condition, other])\n",
    "\n",
    "    conv1 = Conv2D(filters=16, kernel_size=4, strides=2, padding='same')(combined_imgs)\n",
    "    if batchnorm:\n",
    "        conv1   = BatchNormalization()(conv1)\n",
    "    relu1 = LeakyReLU(alpha=0.2)(conv1)\n",
    "    if (dropout > 0) and (dropout <= 1):\n",
    "        relu1 = Dropout(dropout)(relu1)\n",
    "\n",
    "    conv2 = Conv2D(filters=32, kernel_size=4, strides=2, padding='same')(relu1)\n",
    "    if batchnorm:\n",
    "        conv2   = BatchNormalization()(conv2)\n",
    "    relu2 = LeakyReLU(alpha=0.2)(conv2)\n",
    "    if (dropout > 0) and (dropout <= 1):\n",
    "        relu2 = Dropout(dropout)(relu2)\n",
    "\n",
    "    conv3 = Conv2D(filters=64, kernel_size=4, strides=2, padding='same')(relu2)\n",
    "    if batchnorm:\n",
    "        conv3   = BatchNormalization()(conv3)\n",
    "    relu3 = LeakyReLU(alpha=0.2)(conv3)\n",
    "    if (dropout > 0) and (dropout <= 1):\n",
    "        relu3 = Dropout(dropout)(relu3)\n",
    "\n",
    "    conv4 = Conv2D(filters=128, kernel_size=4, strides=2, padding='same')(relu3)\n",
    "    if batchnorm:\n",
    "        conv4   = BatchNormalization()(conv4)\n",
    "    relu4 = LeakyReLU(alpha=0.2)(conv4)\n",
    "    if (dropout > 0) and (dropout <= 1):\n",
    "        relu4 = Dropout(dropout)(relu4)\n",
    "\n",
    "    # Out: 1-dim probability\n",
    "    flatten = Flatten()(relu4)\n",
    "    fcl1 = Dense(1)(flatten)\n",
    "    # sig1 = Activation('sigmoid', name=\"s_disc_output\")(fcl1)\n",
    "    # For WGAN, there is no activation function\n",
    "    lin1 = Activation('linear', name=\"s_disc_output\")(fcl1)\n",
    "\n",
    "    return Model(inputs=[condition, other], outputs=lin1, name='SD')"
   ]
  },
  {
   "cell_type": "code",
   "execution_count": 13,
   "metadata": {},
   "outputs": [
    {
     "name": "stdout",
     "output_type": "stream",
     "text": [
      "__________________________________________________________________________________________________\n",
      "Layer (type)                    Output Shape         Param #     Connected to                     \n",
      "==================================================================================================\n",
      "input_2 (InputLayer)            (None, 64, 64, 1)    0                                            \n",
      "__________________________________________________________________________________________________\n",
      "input_3 (InputLayer)            (None, 64, 64, 1)    0                                            \n",
      "__________________________________________________________________________________________________\n",
      "concatenate_5 (Concatenate)     (None, 64, 64, 2)    0           input_2[0][0]                    \n",
      "                                                                 input_3[0][0]                    \n",
      "__________________________________________________________________________________________________\n",
      "conv2d_11 (Conv2D)              (None, 32, 32, 16)   528         concatenate_5[0][0]              \n",
      "__________________________________________________________________________________________________\n",
      "leaky_re_lu_10 (LeakyReLU)      (None, 32, 32, 16)   0           conv2d_11[0][0]                  \n",
      "__________________________________________________________________________________________________\n",
      "dropout_1 (Dropout)             (None, 32, 32, 16)   0           leaky_re_lu_10[0][0]             \n",
      "__________________________________________________________________________________________________\n",
      "conv2d_12 (Conv2D)              (None, 16, 16, 32)   8224        dropout_1[0][0]                  \n",
      "__________________________________________________________________________________________________\n",
      "leaky_re_lu_11 (LeakyReLU)      (None, 16, 16, 32)   0           conv2d_12[0][0]                  \n",
      "__________________________________________________________________________________________________\n",
      "dropout_2 (Dropout)             (None, 16, 16, 32)   0           leaky_re_lu_11[0][0]             \n",
      "__________________________________________________________________________________________________\n",
      "conv2d_13 (Conv2D)              (None, 8, 8, 64)     32832       dropout_2[0][0]                  \n",
      "__________________________________________________________________________________________________\n",
      "leaky_re_lu_12 (LeakyReLU)      (None, 8, 8, 64)     0           conv2d_13[0][0]                  \n",
      "__________________________________________________________________________________________________\n",
      "dropout_3 (Dropout)             (None, 8, 8, 64)     0           leaky_re_lu_12[0][0]             \n",
      "__________________________________________________________________________________________________\n",
      "conv2d_14 (Conv2D)              (None, 4, 4, 128)    131200      dropout_3[0][0]                  \n",
      "__________________________________________________________________________________________________\n",
      "leaky_re_lu_13 (LeakyReLU)      (None, 4, 4, 128)    0           conv2d_14[0][0]                  \n",
      "__________________________________________________________________________________________________\n",
      "dropout_4 (Dropout)             (None, 4, 4, 128)    0           leaky_re_lu_13[0][0]             \n",
      "__________________________________________________________________________________________________\n",
      "flatten_1 (Flatten)             (None, 2048)         0           dropout_4[0][0]                  \n",
      "__________________________________________________________________________________________________\n",
      "dense_1 (Dense)                 (None, 1)            2049        flatten_1[0][0]                  \n",
      "__________________________________________________________________________________________________\n",
      "s_disc_output (Activation)      (None, 1)            0           dense_1[0][0]                    \n",
      "==================================================================================================\n",
      "Total params: 174,833\n",
      "Trainable params: 174,833\n",
      "Non-trainable params: 0\n",
      "__________________________________________________________________________________________________\n"
     ]
    }
   ],
   "source": [
    "SD = build_Spatial_D()\n",
    "SD.summary()"
   ]
  },
  {
   "cell_type": "markdown",
   "metadata": {},
   "source": [
    "#### Parameter setting"
   ]
  },
  {
   "cell_type": "code",
   "execution_count": 124,
   "metadata": {},
   "outputs": [],
   "source": [
    "# GRADIENT_PENALTY_WEIGHT = 10  # As per the paper\n",
    "\n",
    "# random seed\n",
    "RND = 777\n",
    "np.random.seed(RND)\n",
    "\n",
    "BATCH_SIZE = 16\n",
    "ITERATIONS = 20000\n",
    "D_ITERS = 10\n",
    "\n",
    "K.set_image_dim_ordering('tf')"
   ]
  },
  {
   "cell_type": "code",
   "execution_count": 125,
   "metadata": {},
   "outputs": [
    {
     "name": "stdout",
     "output_type": "stream",
     "text": [
      "__________________________________________________________________________________________________\n",
      "Layer (type)                    Output Shape         Param #     Connected to                     \n",
      "==================================================================================================\n",
      "input_condition_ (InputLayer)   (None, 64, 64, 1)    0                                            \n",
      "__________________________________________________________________________________________________\n",
      "G (Model)                       (None, 64, 64, 1)    170177      input_condition_[0][0]           \n",
      "__________________________________________________________________________________________________\n",
      "SD (Model)                      (None, 1)            175793      input_condition_[0][0]           \n",
      "                                                                 G[1][0]                          \n",
      "==================================================================================================\n",
      "Total params: 345,970\n",
      "Trainable params: 344,850\n",
      "Non-trainable params: 1,120\n",
      "__________________________________________________________________________________________________\n"
     ]
    }
   ],
   "source": [
    "D = build_Spatial_D(batchnorm=True)\n",
    "\n",
    "D.compile(\n",
    "    optimizer = RMSprop(lr=0.00005),\n",
    "    loss = wasserstein_loss)\n",
    "\n",
    "condition = Input(shape=(64, 64, 1), name='input_condition_')\n",
    "other = Input(shape=(64, 64, 1),name='input_other_')\n",
    "\n",
    "G = build_G_Unet(batchnorm=True)\n",
    "\n",
    "# create combined D(G) model\n",
    "output_is_fake = D(inputs = [condition, G(condition)])\n",
    "DG = Model(condition, outputs=output_is_fake)\n",
    "\n",
    "DG.summary()\n",
    "\n",
    "DG.compile(\n",
    "    optimizer = RMSprop(lr=0.00005),\n",
    "    loss = wasserstein_loss\n",
    ")"
   ]
  },
  {
   "cell_type": "markdown",
   "metadata": {},
   "source": [
    "#### Training"
   ]
  },
  {
   "cell_type": "code",
   "execution_count": null,
   "metadata": {},
   "outputs": [],
   "source": [
    "import warnings; warnings.simplefilter('ignore')\n",
    "\n",
    "progress_bar = Progbar(target=ITERATIONS)\n",
    "\n",
    "DG_losses = []\n",
    "D_true_losses = []\n",
    "D_fake_losses = []"
   ]
  },
  {
   "cell_type": "code",
   "execution_count": null,
   "metadata": {},
   "outputs": [
    {
     "name": "stdout",
     "output_type": "stream",
     "text": [
      "12514/20000 [=================>............] - ETA: 12:52:56 - D_real_is_fake: -0.1661 - D_fake_is_fake: 0.1677 - D(G)_is_fake: -0.1660"
     ]
    }
   ],
   "source": [
    "for it in range(ITERATIONS):\n",
    "\n",
    "    if len(D_true_losses) > 0:\n",
    "        progress_bar.update(\n",
    "            it,\n",
    "            values=[ # avg of 5 most recent\n",
    "                    ('D_real_is_fake', np.mean(D_true_losses[-5:], axis=0)),\n",
    "                    ('D_fake_is_fake', np.mean(D_fake_losses[-5:], axis=0)),\n",
    "                    ('D(G)_is_fake', np.mean(DG_losses[-5:],axis=0))\n",
    "            ]\n",
    "        )\n",
    "        \n",
    "    else:\n",
    "        progress_bar.update(it)\n",
    "        \n",
    "    # 1: train D on real+generated images\n",
    "\n",
    "    if (it % 1000) < 25 or it % 500 == 0: # 25 times in 1000, every 500th\n",
    "        d_iters = 100\n",
    "    else:\n",
    "        d_iters = D_ITERS\n",
    "\n",
    "    for d_it in range(d_iters):\n",
    "\n",
    "        # unfreeze D\n",
    "        D.trainable = True\n",
    "        for l in D.layers: l.trainable = True\n",
    "\n",
    "        # clip D weights\n",
    "\n",
    "        for l in D.layers:\n",
    "            weights = l.get_weights()\n",
    "            weights = [np.clip(w, -0.01, 0.01) for w in weights]\n",
    "            l.set_weights(weights)\n",
    "\n",
    "        # 1.1: maximize D output on reals === minimize -1*(D(real))\n",
    "\n",
    "        # draw random samples from real images\n",
    "        index = np.random.choice(len(X_train), BATCH_SIZE, replace=False)\n",
    "        base_images = X_train[index]\n",
    "        real_images = T_train[index]\n",
    "\n",
    "        D_loss = D.train_on_batch([base_images, real_images], -np.ones(BATCH_SIZE))\n",
    "        #print(D_loss)\n",
    "        D_true_losses.append(D_loss)\n",
    "\n",
    "        # 1.2: minimize D output on fakes \n",
    "\n",
    "        generated_images = G.predict(base_images)\n",
    "\n",
    "        D_loss = D.train_on_batch([base_images, generated_images], np.ones(BATCH_SIZE))\n",
    "        #print(D_loss)\n",
    "        D_fake_losses.append(D_loss)\n",
    "\n",
    "    # 2: train D(G) (D is frozen)\n",
    "    # minimize D output while supplying it with fakes, \n",
    "    # telling it that they are reals (-1)\n",
    "\n",
    "    # freeze D\n",
    "    D.trainable = False\n",
    "    for l in D.layers: l.trainable = False\n",
    "        \n",
    "    index = np.random.choice(len(X_train), BATCH_SIZE, replace=False)\n",
    "    base_images = X_train[index]\n",
    "\n",
    "    DG_loss = DG.train_on_batch(base_images,-np.ones(BATCH_SIZE))\n",
    "    DG_losses.append(DG_loss)\n",
    "\n",
    "#    if it % 10 == 0:\n",
    "#        update_tb_summary(it, write_sample_images=(it % 250 == 0))"
   ]
  },
  {
   "cell_type": "code",
   "execution_count": null,
   "metadata": {},
   "outputs": [],
   "source": [
    "G.save_weights('/Users/jlee/Desktop/JONG/TUM/18W/Advanced_Deep_Learning_for_Computer_Vision/project/results/wgan_results/iter_20000_RMSprop_0.00005/G_model.h5')\n",
    "D.save_weights('/Users/jlee/Desktop/JONG/TUM/18W/Advanced_Deep_Learning_for_Computer_Vision/project/results/wgan_results/iter_20000_RMSprop_0.00005/D_model.h5')\n",
    "DG.save_weights('/Users/jlee/Desktop/JONG/TUM/18W/Advanced_Deep_Learning_for_Computer_Vision/project/results/wgan_results/iter_20000_RMSprop_0.00005/DG_model.h5')"
   ]
  },
  {
   "cell_type": "code",
   "execution_count": null,
   "metadata": {},
   "outputs": [],
   "source": [
    "G_imgs = G.predict(X_test)"
   ]
  },
  {
   "cell_type": "code",
   "execution_count": null,
   "metadata": {},
   "outputs": [],
   "source": [
    "plt.imshow(T_test[1,:,:,0])"
   ]
  },
  {
   "cell_type": "code",
   "execution_count": null,
   "metadata": {},
   "outputs": [],
   "source": [
    "plt.imshow(G_imgs[1,:,:,0])"
   ]
  },
  {
   "cell_type": "markdown",
   "metadata": {},
   "source": [
    "#### Plot the training curve"
   ]
  },
  {
   "cell_type": "code",
   "execution_count": null,
   "metadata": {},
   "outputs": [],
   "source": [
    "f = plt.figure(figsize=(16,4))\n",
    "ax = f.add_subplot(121)\n",
    "ax2 = f.add_subplot(122)\n",
    "\n",
    "g_labels = [\"Generator loss\"]\n",
    "#loop over gen loss components\n",
    "#for curve in range(np.shape(gan.log[\"g_loss\"])[-1]):\n",
    "ax.plot(DG_losses, c=\"g\", label=\"G_loss\")\n",
    "\n",
    "ax.plot(D_true_losses, alpha=0.3, c=\"b\")\n",
    "ax.plot(src.smooth(D_true_losses) ,label=\"D_true_loss\", c=\"b\")\n",
    "ax.plot(D_fake_losses, alpha=0.6, c=\"orange\")\n",
    "ax.plot(src.smooth(D_fake_losses),label=\"D_fake_loss\", c=\"orange\")\n",
    "ax.grid()\n",
    "ax.set_xlabel(\"Iterations\")\n",
    "ax.set_ylabel(\"Loss\")\n",
    "ax.legend(loc=\"best\")\n",
    "\n",
    "#plt.savefig(f\"best_GAN_training_1_{gan.g_dropout}_{gan.d_dropout}.png\") #g dropout, d dropout, g batchnorm, noisy labels, loss weights, augment"
   ]
  },
  {
   "cell_type": "code",
   "execution_count": null,
   "metadata": {},
   "outputs": [],
   "source": [
    "import importlib.util\n",
    "spec = importlib.util.spec_from_file_location(\"src.py\", \"/Users/jlee/Desktop/JONG/TUM/18W/Advanced_Deep_Learning_for_Computer_Vision/project/ADL4CV_project/src.py\")\n",
    "src = importlib.util.module_from_spec(spec)\n",
    "spec.loader.exec_module(src)\n",
    "#import importlib as imp\n",
    "#imp.reload(src)"
   ]
  },
  {
   "cell_type": "code",
   "execution_count": null,
   "metadata": {},
   "outputs": [],
   "source": [
    "error_images, error_vals, error_means = src.error_distribution(T_test, G_imgs, metric=\"difference\")"
   ]
  },
  {
   "cell_type": "code",
   "execution_count": null,
   "metadata": {},
   "outputs": [],
   "source": [
    "error_images.shape"
   ]
  },
  {
   "cell_type": "code",
   "execution_count": null,
   "metadata": {},
   "outputs": [],
   "source": [
    "src.result_plotter(range(5), (X_test[:,:,:,0], T_test[:,:,:,0], G_imgs[:,:,:,0], error_images[:,:,:,0]), save=False)"
   ]
  },
  {
   "cell_type": "code",
   "execution_count": null,
   "metadata": {},
   "outputs": [],
   "source": []
  }
 ],
 "metadata": {
  "kernelspec": {
   "display_name": "Python 3",
   "language": "python",
   "name": "python3"
  },
  "language_info": {
   "codemirror_mode": {
    "name": "ipython",
    "version": 3
   },
   "file_extension": ".py",
   "mimetype": "text/x-python",
   "name": "python",
   "nbconvert_exporter": "python",
   "pygments_lexer": "ipython3",
   "version": "3.6.6"
  }
 },
 "nbformat": 4,
 "nbformat_minor": 2
}
