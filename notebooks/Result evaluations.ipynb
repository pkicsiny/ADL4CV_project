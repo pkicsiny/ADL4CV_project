{
 "cells": [
  {
   "cell_type": "code",
   "execution_count": null,
   "metadata": {},
   "outputs": [],
   "source": [
    "import sys\n",
    "#source code folder\n",
    "sys.path.insert(0, 'C:/Users/pkicsiny/Desktop/TUM/3/ADL4CV/ADL4CV_project')\n",
    "#model folder\n",
    "sys.path.insert(0, 'C:/Users/pkicsiny/Desktop/TUM/3/ADL4CV/ADL4CV_project/models/')"
   ]
  },
  {
   "cell_type": "code",
   "execution_count": null,
   "metadata": {},
   "outputs": [],
   "source": [
    "import src\n",
    "import os\n",
    "import numpy as np\n",
    "import re\n",
    "import math\n",
    "import pandas as pd\n",
    "import matplotlib.pyplot as plt"
   ]
  },
  {
   "cell_type": "code",
   "execution_count": null,
   "metadata": {},
   "outputs": [],
   "source": [
    "os.listdir(sys.path[0])"
   ]
  },
  {
   "cell_type": "code",
   "execution_count": null,
   "metadata": {},
   "outputs": [],
   "source": [
    "which_scores = \"_intensity_scores\""
   ]
  },
  {
   "cell_type": "code",
   "execution_count": null,
   "metadata": {},
   "outputs": [],
   "source": [
    "scores = {}\n",
    "for model in os.listdir(sys.path[0]):\n",
    "    try:\n",
    "        scores[model] = np.load(sys.path[0]+\"/\"+model+\"/\"+model+which_scores+\".npy\")\n",
    "    except:\n",
    "        pass"
   ]
  },
  {
   "cell_type": "code",
   "execution_count": null,
   "metadata": {},
   "outputs": [],
   "source": [
    "scores.keys()"
   ]
  },
  {
   "cell_type": "code",
   "execution_count": null,
   "metadata": {},
   "outputs": [],
   "source": [
    "result[\"baseline_2-1\"]"
   ]
  },
  {
   "cell_type": "code",
   "execution_count": null,
   "metadata": {
    "scrolled": true
   },
   "outputs": [],
   "source": [
    "result = {}\n",
    "for model in scores.keys():\n",
    "    result[model] = pd.DataFrame(\n",
    "        data=[pd.DataFrame(scores[model].item()[key]).mean() for key in scores[model].item().keys()],\n",
    "        index=scores[model].item().keys())#.groupby(['corr_to_input', 'corr_to_truth'])"
   ]
  },
  {
   "cell_type": "code",
   "execution_count": null,
   "metadata": {},
   "outputs": [],
   "source": [
    "n = 5"
   ]
  },
  {
   "cell_type": "code",
   "execution_count": null,
   "metadata": {},
   "outputs": [],
   "source": [
    "fig, ax1 = plt.subplots(1,1)\n",
    "#ax1.plot(result[\"sgan_2-1\"].reset_index()[\"corr_to_input\"][:n], label=\"Ds\", linestyle='--',c=\"r\")\n",
    "ax1.plot(result[\"sgan_2-1\"].reset_index()[\"corr_to_truth\"][:n], label=\"Ds\", c=\"red\")\n",
    "\n",
    "#ax1.plot(result[\"sgan_2-1_w\"].reset_index()[\"corr_to_input\"][:n], label=\"Ds WGAN\", linestyle='--',c=\"orange\")\n",
    "ax1.plot(result[\"sgan_2-1_w\"].reset_index()[\"corr_to_truth\"][:n], label=\"Ds WGAN\", c=\"orange\")\n",
    "\n",
    "#ax1.plot(result[\"sgan_2-1_iw\"].reset_index()[\"corr_to_input\"][:n], label=\"Ds iWGAN\", linestyle='--',c=\"g\")\n",
    "ax1.plot(result[\"sgan_2-1_iw\"].reset_index()[\"corr_to_truth\"][:n], label=\"Ds iWGAN\", c=\"green\")\n",
    "\n",
    "#ax1.plot(result[\"tgan_2-1\"].reset_index()[\"corr_to_input\"][:n], label=\"Ds+Dt\", linestyle='--',c=\"b\")\n",
    "ax1.plot(result[\"tgan_2-1\"].reset_index()[\"corr_to_truth\"][:n], label=\"Ds+Dt\", c=\"blue\")\n",
    "\n",
    "#ax1.plot(result[\"tgan_2-1_iw\"].reset_index()[\"corr_to_input\"][:n], label=\"Ds+Dt iWGAN\", linestyle='--',c=\"k\")\n",
    "ax1.plot(result[\"tgan_2-1_iw\"].reset_index()[\"corr_to_truth\"][:n], label=\"Ds+Dt iWGAN\", c=\"black\")\n",
    "\n",
    "#ax1.plot(result[\"baseline_2-1\"].reset_index()[\"corr_to_input\"][:n], label=\"Baseline\", linestyle='--',c=\"k\")\n",
    "ax1.plot(result[\"baseline_2-1\"].reset_index()[\"corr_to_truth\"][:n], label=\"Baseline\", c=\"brown\")\n",
    "ax1.grid()\n",
    "plt.xticks(np.arange(0, n, 1))\n",
    "ax1.set_xticklabels(list(map(str,5*np.arange(0,len(result['sgan_2-1']))+5)))\n",
    "ax1.set_xlabel(\"Prediction time\")\n",
    "ax1.set_ylabel(\"Correlations\")\n",
    "ax1.legend(loc=\"upper right\")\n",
    "plt.savefig(\"input_intensity_corrs\")"
   ]
  },
  {
   "cell_type": "code",
   "execution_count": null,
   "metadata": {},
   "outputs": [],
   "source": [
    "fig, ax2 = plt.subplots(1,1)\n",
    "ax2.plot(result[\"sgan_2-1\"].reset_index()[\"csi\"][:n], label=\"Ds\",c=\"r\")\n",
    "ax2.plot(result[\"sgan_2-1_w\"].reset_index()[\"csi\"][:n], label=\"Ds WGAN\",c=\"orange\")\n",
    "ax2.plot(result[\"sgan_2-1_iw\"].reset_index()[\"csi\"][:n], label=\"Ds iWGAN\",c=\"g\")\n",
    "ax2.plot(result[\"tgan_2-1\"].reset_index()[\"csi\"][:n], label=\"Ds+Dt\",c=\"b\")\n",
    "ax2.plot(result[\"tgan_2-1_iw\"].reset_index()[\"csi\"][:n], label=\"Ds+Dt iWGAN\",c=\"k\")\n",
    "ax2.plot(result[\"baseline_2-1\"].reset_index()[\"csi\"][:n], label=\"Baseline\",c=\"brown\")\n",
    "\n",
    "ax2.set_xlabel(\"Prediction time\")\n",
    "ax2.set_ylabel(\"CSI\")\n",
    "ax2.grid()\n",
    "plt.xticks(np.arange(0, n, 1))\n",
    "ax2.set_xticklabels(list(map(str,5*np.arange(0,len(result['sgan_2-1']))+5)))\n",
    "ax2.legend()\n",
    "plt.savefig(\"csi\")"
   ]
  },
  {
   "cell_type": "code",
   "execution_count": null,
   "metadata": {},
   "outputs": [],
   "source": [
    "fig, ax2 = plt.subplots(1,1)\n",
    "ax2.plot(result[\"sgan_2-1\"].reset_index()[\"pod\"][:n], label=\"Ds\",c=\"r\")\n",
    "ax2.plot(result[\"sgan_2-1_w\"].reset_index()[\"pod\"][:n], label=\"Ds WGAN\",c=\"orange\")\n",
    "ax2.plot(result[\"sgan_2-1_iw\"].reset_index()[\"pod\"][:n], label=\"Ds iWGAN\",c=\"g\")\n",
    "ax2.plot(result[\"tgan_2-1\"].reset_index()[\"pod\"][:n], label=\"Ds+Dt\",c=\"b\")\n",
    "ax2.plot(result[\"tgan_2-1_iw\"].reset_index()[\"pod\"][:n], label=\"Ds+Dt iWGAN\",c=\"k\")\n",
    "ax2.plot(result[\"baseline_2-1\"].reset_index()[\"pod\"][:n], label=\"Baseline\",c=\"brown\")\n",
    "\n",
    "ax2.set_xlabel(\"Prediction time\")\n",
    "ax2.set_ylabel(\"POD\")\n",
    "ax2.grid()\n",
    "plt.xticks(np.arange(0, n, 1))\n",
    "ax2.set_xticklabels(list(map(str,5*np.arange(0,len(result['sgan_2-1']))+5)))\n",
    "ax2.legend()\n",
    "plt.savefig(\"pod\")"
   ]
  },
  {
   "cell_type": "code",
   "execution_count": null,
   "metadata": {},
   "outputs": [],
   "source": [
    "fig, ax2 = plt.subplots(1,1)\n",
    "ax2.plot(result[\"sgan_2-1\"].reset_index()[\"far\"][:n], label=\"Ds\",c=\"r\")\n",
    "ax2.plot(result[\"sgan_2-1_w\"].reset_index()[\"far\"][:n], label=\"Ds WGAN\",c=\"orange\")\n",
    "ax2.plot(result[\"sgan_2-1_iw\"].reset_index()[\"far\"][:n], label=\"Ds iWGAN\",c=\"g\")\n",
    "ax2.plot(result[\"tgan_2-1\"].reset_index()[\"far\"][:n], label=\"Ds+Dt\",c=\"b\")\n",
    "ax2.plot(result[\"tgan_2-1_iw\"].reset_index()[\"far\"][:n], label=\"Ds+Dt iWGAN\",c=\"k\")\n",
    "ax2.plot(result[\"baseline_2-1\"].reset_index()[\"far\"][:n], label=\"Baseline\",c=\"brown\")\n",
    "\n",
    "ax2.set_xlabel(\"Prediction time\")\n",
    "ax2.set_ylabel(\"FAR\")\n",
    "ax2.grid()\n",
    "plt.xticks(np.arange(0, n, 1))\n",
    "ax2.set_xticklabels(list(map(str,5*np.arange(0,len(result['sgan_2-1']))+5)))\n",
    "ax2.legend()\n",
    "plt.savefig(\"far\")"
   ]
  },
  {
   "cell_type": "code",
   "execution_count": null,
   "metadata": {},
   "outputs": [],
   "source": []
  },
  {
   "cell_type": "code",
   "execution_count": null,
   "metadata": {},
   "outputs": [],
   "source": []
  }
 ],
 "metadata": {
  "kernelspec": {
   "display_name": "Python 3",
   "language": "python",
   "name": "python3"
  },
  "language_info": {
   "codemirror_mode": {
    "name": "ipython",
    "version": 3
   },
   "file_extension": ".py",
   "mimetype": "text/x-python",
   "name": "python",
   "nbconvert_exporter": "python",
   "pygments_lexer": "ipython3",
   "version": "3.6.4"
  }
 },
 "nbformat": 4,
 "nbformat_minor": 2
}
