{
 "cells": [
  {
   "cell_type": "code",
   "execution_count": 1,
   "metadata": {},
   "outputs": [
    {
     "name": "stderr",
     "output_type": "stream",
     "text": [
      "C:\\ProgramData\\Anaconda3\\lib\\site-packages\\h5py\\__init__.py:36: FutureWarning: Conversion of the second argument of issubdtype from `float` to `np.floating` is deprecated. In future, it will be treated as `np.float64 == np.dtype(float).type`.\n",
      "  from ._conv import register_converters as _register_converters\n",
      "Using TensorFlow backend.\n"
     ]
    },
    {
     "name": "stdout",
     "output_type": "stream",
     "text": [
      "[name: \"/device:CPU:0\"\n",
      "device_type: \"CPU\"\n",
      "memory_limit: 268435456\n",
      "locality {\n",
      "}\n",
      "incarnation: 18239850906612136387\n",
      ", name: \"/device:GPU:0\"\n",
      "device_type: \"GPU\"\n",
      "memory_limit: 1508248780\n",
      "locality {\n",
      "  bus_id: 1\n",
      "  links {\n",
      "  }\n",
      "}\n",
      "incarnation: 10814461532885806269\n",
      "physical_device_desc: \"device: 0, name: GeForce GT 740M, pci bus id: 0000:01:00.0, compute capability: 3.5\"\n",
      "]\n"
     ]
    }
   ],
   "source": [
    "import src\n",
    "import keras.backend as K\n",
    "import os\n",
    "import numpy as np\n",
    "import sys\n",
    "import re\n",
    "import math\n",
    "import io\n",
    "import matplotlib.pyplot as plt\n",
    "import pandas as pd\n",
    "import seaborn as sns\n",
    "from  matplotlib.animation import FuncAnimation\n",
    "from matplotlib import colors\n",
    "from netCDF4 import Dataset\n",
    "from IPython.display import clear_output\n",
    "#data folder\n",
    "sys.path.insert(0, 'C:/Users/pkicsiny/Desktop/TUM/3/ADL4CV/data')\n",
    "#forces CPU usage\n",
    "os.environ[\"CUDA_DEVICE_ORDER\"] = \"PCI_BUS_ID\"   # see issue #152\n",
    "os.environ[\"CUDA_VISIBLE_DEVICES\"] = \"0\" #\"\" or \"-1\" for CPU, \"0\" for GPU\n",
    "import tensorflow as tf\n",
    "from tensorflow import keras\n",
    "from keras.models import load_model\n",
    "from tensorflow.python.client import device_lib\n",
    "print(device_lib.list_local_devices())"
   ]
  },
  {
   "cell_type": "code",
   "execution_count": 2,
   "metadata": {},
   "outputs": [],
   "source": [
    "def sample_images(epoch, gan_test, gan_test_truth, past_input):\n",
    "    n = 5\n",
    "    test_batch = gan_test[:n,:,:,1:]\n",
    "    test_truth = gan_test_truth[:n]\n",
    "    gen_imgs = generator.predict(test_batch)\n",
    "    fig, axs = plt.subplots(n, past_input+2, figsize=(16, 16))\n",
    "    for i in range(n):\n",
    "        vmax = np.max([np.max(test_batch[i]), np.max(test_truth[i])])\n",
    "        vmin = 0\n",
    "        for j in range(past_input):\n",
    "            im = axs[i,j].imshow(test_batch[i, :,:,j], vmax=vmax,vmin=vmin)\n",
    "            axs[i,j].axis('off')\n",
    "            src.colorbar(im)\n",
    "            axs[i,j].set_title(\"Frame t\"+str([-past_input+1+j if j < past_input-1 else \"\"][0]))\n",
    "        im2 = axs[i,-2].imshow(test_truth[i, :,:,0], vmax=vmax, vmin=vmin)\n",
    "        axs[i,-2].axis('off')\n",
    "        src.colorbar(im2)                \n",
    "        axs[i,-2].set_title(\"Frame t+1\")\n",
    "        im3 = axs[i,-1].imshow(gen_imgs[i, :,:,0], vmax=vmax, vmin=vmin)\n",
    "        axs[i,-1].axis('off')\n",
    "        src.colorbar(im3)\n",
    "        axs[i,-1].set_title(\"Prediction t+1\")\n",
    "    fig.savefig(\"Plots/epoch %d.png\" % epoch)\n",
    "    plt.close()\n",
    "    \n",
    "def noisy_d_labels(real, fake):\n",
    "    # idea: https://arxiv.org/pdf/1606.03498.pdf\n",
    "    batch_size = len(real)\n",
    "    five_percent = int(0.05*batch_size)\n",
    "    idx = np.random.randint(0, batch_size, five_percent)\n",
    "    d_real = np.ones_like(real)\n",
    "    d_fake = np.zeros_like(fake)\n",
    "    d_real[idx] = 0\n",
    "    d_fake[idx] = 1\n",
    "    return d_real, d_fake"
   ]
  },
  {
   "cell_type": "markdown",
   "metadata": {},
   "source": [
    "Load dataset."
   ]
  },
  {
   "cell_type": "code",
   "execution_count": 3,
   "metadata": {},
   "outputs": [],
   "source": [
    "past = 4"
   ]
  },
  {
   "cell_type": "code",
   "execution_count": 4,
   "metadata": {},
   "outputs": [
    {
     "name": "stdout",
     "output_type": "stream",
     "text": [
      "Training data: (7500, 64, 64, 6)\n",
      "Validation data: (1500, 64, 64, 6)\n",
      "Test data: (1000, 64, 64, 6)\n"
     ]
    }
   ],
   "source": [
    "train, xval, test = src.load_datasets(past_frames=past+1)"
   ]
  },
  {
   "cell_type": "markdown",
   "metadata": {},
   "source": [
    "Split data to inputs and ground truth images."
   ]
  },
  {
   "cell_type": "code",
   "execution_count": 5,
   "metadata": {},
   "outputs": [
    {
     "name": "stdout",
     "output_type": "stream",
     "text": [
      "Data augmentation.\n",
      "Shape of training data:  (20, 64, 64, 5) \n",
      "Shape of training truth:  (20, 64, 64, 1) \n",
      "Shape of validation data:  (1500, 64, 64, 5) \n",
      "Shape of validation truth:  (1500, 64, 64, 1) \n",
      "Shape of test data:  (1000, 64, 64, 5) \n",
      "Shape of test truth:  (1000, 64, 64, 1)\n"
     ]
    }
   ],
   "source": [
    "gan_train, gan_truth, gan_val, gan_val_truth, gan_test, gan_test_truth = src.split_datasets(\n",
    "            train[:5], xval, test, past_frames=past+1, augment=True)"
   ]
  },
  {
   "cell_type": "markdown",
   "metadata": {},
   "source": [
    "Calculate optical flows between frame t-1 and t."
   ]
  },
  {
   "cell_type": "code",
   "execution_count": 6,
   "metadata": {},
   "outputs": [
    {
     "name": "stdout",
     "output_type": "stream",
     "text": [
      "[20/20]\n",
      "Optical flow map shapes: vx: (20, 64, 64, 1), vy: (20, 64, 64, 1)\n"
     ]
    }
   ],
   "source": [
    "#optical flow of the augmented data for the first 2500 training images\n",
    "vx, vy = src.optical_flow(gan_train[:,:,:,-2:-1], gan_train[:,:,:,-1:], window_size=4, tau=1e-2, init=1) # (n,:,:,1)"
   ]
  },
  {
   "cell_type": "code",
   "execution_count": 38,
   "metadata": {},
   "outputs": [
    {
     "data": {
      "text/plain": [
       "<matplotlib.colorbar.Colorbar at 0x268acf07400>"
      ]
     },
     "execution_count": 38,
     "metadata": {},
     "output_type": "execute_result"
    },
    {
     "data": {
      "image/png": "[encoded data removed]",
      "text/plain": [
       "<matplotlib.figure.Figure at 0x268acf7acc0>"
      ]
     },
     "metadata": {
      "needs_background": "light"
     },
     "output_type": "display_data"
    }
   ],
   "source": [
    "plt.imshow(gan_train[0,:,:,-1])\n",
    "plt.colorbar()"
   ]
  },
  {
   "cell_type": "code",
   "execution_count": 29,
   "metadata": {},
   "outputs": [],
   "source": [
    "d = np.concatenate((gan_train[0,:,:,-1:],vx[0],vy[0]), axis=-1)"
   ]
  },
  {
   "cell_type": "code",
   "execution_count": 30,
   "metadata": {},
   "outputs": [
    {
     "data": {
      "text/plain": [
       "(64, 64, 3)"
      ]
     },
     "execution_count": 30,
     "metadata": {},
     "output_type": "execute_result"
    }
   ],
   "source": [
    "d.shape"
   ]
  },
  {
   "cell_type": "code",
   "execution_count": 31,
   "metadata": {},
   "outputs": [],
   "source": [
    "res = src.advect(d)"
   ]
  },
  {
   "cell_type": "code",
   "execution_count": 43,
   "metadata": {},
   "outputs": [
    {
     "data": {
      "text/plain": [
       "<matplotlib.colorbar.Colorbar at 0x268ad2612e8>"
      ]
     },
     "execution_count": 43,
     "metadata": {},
     "output_type": "execute_result"
    },
    {
     "data": {
      "image/png": "[encoded data removed]",
      "text/plain": [
       "<matplotlib.figure.Figure at 0x268ad1e6470>"
      ]
     },
     "metadata": {
      "needs_background": "light"
     },
     "output_type": "display_data"
    }
   ],
   "source": [
    "plt.imshow(vx[0,:,:,0],cmap=\"seismic\")\n",
    "plt.colorbar()"
   ]
  },
  {
   "cell_type": "code",
   "execution_count": 41,
   "metadata": {},
   "outputs": [
    {
     "data": {
      "text/plain": [
       "<matplotlib.colorbar.Colorbar at 0x268ad0ffa20>"
      ]
     },
     "execution_count": 41,
     "metadata": {},
     "output_type": "execute_result"
    },
    {
     "data": {
      "image/png": "[encoded data removed]",
      "text/plain": [
       "<matplotlib.figure.Figure at 0x268ad38b7f0>"
      ]
     },
     "metadata": {
      "needs_background": "light"
     },
     "output_type": "display_data"
    }
   ],
   "source": [
    "plt.imshow(gan_truth[0,:,:,0]- res[:,:,0])\n",
    "plt.colorbar()"
   ]
  },
  {
   "cell_type": "markdown",
   "metadata": {},
   "source": [
    "Make discriminator labels."
   ]
  },
  {
   "cell_type": "code",
   "execution_count": null,
   "metadata": {},
   "outputs": [],
   "source": [
    "batch_size=64"
   ]
  },
  {
   "cell_type": "code",
   "execution_count": null,
   "metadata": {},
   "outputs": [],
   "source": [
    "# Adversarial ground truths\n",
    "real = np.ones((batch_size, 1))\n",
    "fake = np.zeros((batch_size, 1))\n",
    "#Generator ground truths\n",
    "g_real = np.ones((batch_size, 1))"
   ]
  },
  {
   "cell_type": "code",
   "execution_count": null,
   "metadata": {},
   "outputs": [],
   "source": [
    "real, fake = noisy_d_labels(real, fake)"
   ]
  },
  {
   "cell_type": "markdown",
   "metadata": {},
   "source": [
    "Make generator but don't compile."
   ]
  },
  {
   "cell_type": "code",
   "execution_count": null,
   "metadata": {},
   "outputs": [],
   "source": [
    "generator = src.unet((64, 64, 4), dropout=0.1, batchnorm=False)"
   ]
  },
  {
   "cell_type": "markdown",
   "metadata": {},
   "source": [
    "Make discriminators and compile."
   ]
  },
  {
   "cell_type": "code",
   "execution_count": null,
   "metadata": {},
   "outputs": [],
   "source": [
    "s_discriminator = src.spatial_discriminator(condition_shape=(64, 64, 4), dropout = 0.25, batchnorm=True)\n",
    "s_discriminator.compile(loss=keras.losses.binary_crossentropy,optimizer=keras.optimizers.SGD(),\n",
    "                      metrics=[keras.metrics.binary_accuracy])"
   ]
  },
  {
   "cell_type": "code",
   "execution_count": null,
   "metadata": {},
   "outputs": [],
   "source": [
    "t_discriminator = src.temporal_discriminator(dropout = 0.25, batchnorm=True)\n",
    "t_discriminator.compile(loss=keras.losses.binary_crossentropy,optimizer=keras.optimizers.SGD(),\n",
    "                      metrics=[keras.metrics.binary_accuracy])"
   ]
  },
  {
   "cell_type": "markdown",
   "metadata": {},
   "source": [
    "Inputs and outputs of the GAN."
   ]
  },
  {
   "cell_type": "code",
   "execution_count": null,
   "metadata": {},
   "outputs": [],
   "source": [
    "frame_t = keras.layers.Input(shape=(64, 64, 4))\n",
    "adv = keras.layers.Input(shape=(64, 64, 1))"
   ]
  },
  {
   "cell_type": "code",
   "execution_count": null,
   "metadata": {},
   "outputs": [],
   "source": [
    "generated = generator(frame_t)\n",
    "s_score = s_discriminator([frame_t, generated])\n",
    "t_score = t_discriminator([adv, generated])"
   ]
  },
  {
   "cell_type": "markdown",
   "metadata": {},
   "source": [
    "Freeze discriminator weights."
   ]
  },
  {
   "cell_type": "code",
   "execution_count": null,
   "metadata": {},
   "outputs": [],
   "source": [
    "s_discriminator.trainable = False\n",
    "t_discriminator.trainable = False"
   ]
  },
  {
   "cell_type": "markdown",
   "metadata": {},
   "source": [
    "Compile combined model."
   ]
  },
  {
   "cell_type": "code",
   "execution_count": null,
   "metadata": {},
   "outputs": [],
   "source": [
    "loss_weights=[0.3, 1, 1]"
   ]
  },
  {
   "cell_type": "code",
   "execution_count": null,
   "metadata": {},
   "outputs": [],
   "source": [
    "combined = keras.models.Model(inputs=[frame_t, adv], outputs=[generated, s_score, t_score])"
   ]
  },
  {
   "cell_type": "code",
   "execution_count": null,
   "metadata": {
    "scrolled": true
   },
   "outputs": [],
   "source": [
    "combined.compile(loss=[src.custom_loss(loss=\"l1\"),\n",
    "                       keras.losses.binary_crossentropy,\n",
    "                       keras.losses.binary_crossentropy],\n",
    "                 optimizer=keras.optimizers.Adam(0.0002, 0.5),\n",
    "                 loss_weights=loss_weights)"
   ]
  },
  {
   "cell_type": "markdown",
   "metadata": {},
   "source": [
    "Train x epochs."
   ]
  },
  {
   "cell_type": "code",
   "execution_count": null,
   "metadata": {},
   "outputs": [],
   "source": [
    "epochs = 100"
   ]
  },
  {
   "cell_type": "code",
   "execution_count": null,
   "metadata": {},
   "outputs": [],
   "source": [
    "log = {\"g_loss\":[],\n",
    "       \"g_metric\":[],\n",
    "       \"d_loss\":[],\n",
    "       \"ds_loss\":[],\n",
    "       \"ds_metric\":[],\n",
    "       \"dt_loss\":[],\n",
    "       \"dt_metric\":[],\n",
    "       \"ds_loss_real\":[],\n",
    "       \"ds_loss_fake\":[],\n",
    "       \"ds_test_real\":[],\n",
    "       \"ds_test_fake\":[],\n",
    "       \"dt_loss_real\":[],\n",
    "       \"dt_loss_fake\":[],\n",
    "       \"dt_test_real\":[],\n",
    "       \"dt_test_fake\":[]}"
   ]
  },
  {
   "cell_type": "code",
   "execution_count": null,
   "metadata": {
    "scrolled": true
   },
   "outputs": [],
   "source": [
    "for epoch in range(epochs):\n",
    "#DS create training batch\n",
    "    s_discriminator.trainable = True\n",
    "    idx = np.random.randint(0, gan_truth.shape[0], batch_size)\n",
    "    real_imgs = gan_truth[idx]\n",
    "    training_batch = gan_train[idx,:,:,1:]\n",
    "    #predict next frame  \n",
    "    generated_imgs = generator.predict(training_batch) \n",
    "    #train discriminator\n",
    "    ds_loss_real = s_discriminator.train_on_batch([training_batch, real_imgs], real)\n",
    "    ds_loss_fake = s_discriminator.train_on_batch([training_batch, generated_imgs], fake)\n",
    "    #add losses\n",
    "    ds_loss = 0.5 * np.add(ds_loss_real, ds_loss_fake)\n",
    "    s_discriminator.trainable = False\n",
    "#DT create training batch\n",
    "    t_discriminator.trainable = True\n",
    "    idx = np.random.randint(0, gan_truth.shape[0], batch_size)\n",
    "    real_imgs = gan_truth[idx]\n",
    "    training_batch = gan_train[idx,:,:,1:]\n",
    "    aux_batch = gan_train[idx,:,:,:-1]\n",
    "    #predict frame t from frame t-1 and advect\n",
    "    aux_gen_imgs = generator.predict(aux_batch)\n",
    "    aux_gen_imgs = np.concatenate((aux_gen_imgs, vx[idx], vy[idx]), axis=-1)\n",
    "    advected_aux_gen = np.array([src.advect(sample) for sample in aux_gen_imgs])\n",
    "    #advect frame t\n",
    "    aux_true_imgs = training_batch[:,:,:,-1:]\n",
    "    aux_true_imgs = np.concatenate((aux_true_imgs, vx[idx], vy[idx]), axis=-1)\n",
    "    advected_aux_truth = np.array([src.advect(sample) for sample in aux_true_imgs])\n",
    "    #predict next frame\n",
    "    generated_imgs = generator.predict(training_batch) \n",
    "    #train discriminator\n",
    "    dt_loss_real = t_discriminator.train_on_batch([advected_aux_truth, real_imgs], real)\n",
    "    dt_loss_fake = t_discriminator.train_on_batch([advected_aux_gen, generated_imgs], fake)\n",
    "    #add losses\n",
    "    dt_loss = 0.5 * np.add(dt_loss_real, dt_loss_fake)\n",
    "    t_discriminator.trainable = False\n",
    "    \n",
    "    d_loss = 0.5 * np.add(ds_loss, dt_loss)\n",
    "#G    \n",
    "    \n",
    "    idx = np.random.randint(0, gan_train.shape[0], batch_size)\n",
    "    real_imgs = gan_truth[idx]\n",
    "    training_batch = gan_train[idx,:,:,1:]\n",
    "    aux_batch = gan_train[idx,:,:,:-1]\n",
    "    \n",
    "    aux_gen_imgs = generator.predict(aux_batch)\n",
    "    aux_gen_imgs = np.concatenate((aux_gen_imgs, vx[idx], vy[idx]), axis=-1)\n",
    "    advected = np.array([src.advect(sample) for sample in aux_gen_imgs])\n",
    "\n",
    "    g_loss = combined.train_on_batch([training_batch, advected], [real_imgs, g_real, g_real])\n",
    "    \n",
    "    if g_loss[1] < 0.12 and loss_weights[0] > 2**(-1):\n",
    "        loss_weights[0] /= 2\n",
    "        combined.compile(loss=[src.custom_loss(loss=\"l1\"), keras.losses.binary_crossentropy], optimizer=keras.optimizers.Adam(0.0002, 0.5),\n",
    "                 loss_weights=loss_weights)\n",
    "    \n",
    "    log[\"g_loss\"].append(g_loss)\n",
    "    log[\"d_loss\"].append(d_loss)\n",
    "    log[\"ds_loss_real\"].append(ds_loss_real[0])\n",
    "    log[\"ds_loss_fake\"].append(ds_loss_fake[0])\n",
    "    log[\"dt_loss_real\"].append(dt_loss_real[0])\n",
    "    log[\"dt_loss_fake\"].append(dt_loss_fake[0])\n",
    "    log[\"ds_loss\"].append(ds_loss[0])\n",
    "    log[\"ds_metric\"].append(ds_loss[1])\n",
    "    log[\"dt_loss\"].append(dt_loss[0])\n",
    "    log[\"dt_metric\"].append(dt_loss[1])\n",
    "    print(f\"\\033[1m {epoch} [Ds loss: {ds_loss[0]}, acc.: {100*ds_loss[1]}]\\033[0m \\n\"+\n",
    "          f\"\\033[1m {epoch} [Dt loss: {dt_loss[0]}, acc.: {100*dt_loss[1]}]\\033[0m \\n\"+\n",
    "          f\"\\033[1m {epoch} [G loss: {g_loss[0]}, G obj.: {g_loss[1]}, Gs bce.: {g_loss[2]}, Gt bce.: {g_loss[3]}]\\033[0m\")\n",
    "    print(f\"S: real loss: {ds_loss_real}, fake loss: {ds_loss_fake}\")\n",
    "    print(f\"T: real loss: {dt_loss_real}, fake loss: {dt_loss_fake}\")\n",
    "\n",
    "    #print(f\"test real acc.: {np.mean(d_test_real)}, test fake acc.: {np.mean(d_test_fake)}\")\n",
    "    if epoch%10 == 0:\n",
    "        sample_images(epoch, gan_test, gan_test_truth, past)"
   ]
  },
  {
   "cell_type": "code",
   "execution_count": null,
   "metadata": {
    "scrolled": true
   },
   "outputs": [],
   "source": [
    "#%matplotlib notebook\n",
    "plt.plot(np.array(log[\"g_loss\"])[:,0], alpha=0.3,c=\"b\")\n",
    "plt.plot(np.array(log[\"d_loss\"])[:,0],alpha=0.3, c=\"orange\")\n",
    "\n",
    "#plt.plot(np.array(log[\"g_loss\"])[:,1], alpha=0.9,c=\"green\", label=\"L1 objective\")\n",
    "\n",
    "plt.plot(src.smooth(np.array(log[\"g_loss\"])[:,0]),c=\"b\", label=\"generator\")\n",
    "plt.plot(src.smooth(np.array(log[\"d_loss\"])[:,0]),c=\"orange\", label=\"discriminator\")\n",
    "plt.grid()\n",
    "plt.xlabel(\"Iterations\")\n",
    "plt.ylabel(\"Loss\")\n",
    "plt.legend()\n",
    "#plt.savefig(\"sGAN_training_curves_r\")"
   ]
  },
  {
   "cell_type": "markdown",
   "metadata": {},
   "source": [
    "\n",
    "## Save network weights and log"
   ]
  },
  {
   "cell_type": "code",
   "execution_count": null,
   "metadata": {},
   "outputs": [],
   "source": [
    "def save_model_params(name, model, log, scores):\n",
    "    for key in list(scores.keys()):\n",
    "        log[key] = scores[key]\n",
    "    np.save(\"C:/Users/pkicsiny/Desktop/TUM/3/ADL4CV/ADL4CV_project/trainings/\"+name+\"/\"+name, log) \n",
    "    model.save_weights(\"C:/Users/pkicsiny/Desktop/TUM/3/ADL4CV/ADL4CV_project/trainings/\"+name+\"/\"+name)"
   ]
  },
  {
   "cell_type": "code",
   "execution_count": null,
   "metadata": {},
   "outputs": [],
   "source": [
    "name = \"sgan_4-1\""
   ]
  },
  {
   "cell_type": "code",
   "execution_count": null,
   "metadata": {
    "scrolled": true
   },
   "outputs": [],
   "source": [
    "predictions = generator.predict(gan_test[:,:,:,1:])"
   ]
  },
  {
   "cell_type": "code",
   "execution_count": null,
   "metadata": {},
   "outputs": [],
   "source": [
    "scores = src.calculate_skill_scores(predictions, gan_test_truth, gan_test, 0.3)"
   ]
  },
  {
   "cell_type": "code",
   "execution_count": null,
   "metadata": {},
   "outputs": [],
   "source": [
    "save_model_params(name, combined, log, scores)"
   ]
  },
  {
   "cell_type": "markdown",
   "metadata": {},
   "source": [
    "# Some visualisation"
   ]
  },
  {
   "cell_type": "code",
   "execution_count": null,
   "metadata": {},
   "outputs": [],
   "source": [
    "np.mean(scores[\"corr_to_truth\"])"
   ]
  },
  {
   "cell_type": "code",
   "execution_count": null,
   "metadata": {},
   "outputs": [],
   "source": [
    "np.mean(scores[\"corr_to_input\"])"
   ]
  },
  {
   "cell_type": "code",
   "execution_count": null,
   "metadata": {},
   "outputs": [],
   "source": [
    "#%matplotlib notebook\n",
    "plt.imshow(predictions[0,:,:,0], vmin=0)"
   ]
  },
  {
   "cell_type": "code",
   "execution_count": null,
   "metadata": {},
   "outputs": [],
   "source": [
    "predictions.shape"
   ]
  },
  {
   "cell_type": "code",
   "execution_count": null,
   "metadata": {},
   "outputs": [],
   "source": [
    "labels = s_discriminator.predict([gan_test[:,:,:,1:], gan_test_truth])"
   ]
  },
  {
   "cell_type": "code",
   "execution_count": null,
   "metadata": {},
   "outputs": [],
   "source": [
    "np.mean(labels)"
   ]
  },
  {
   "cell_type": "code",
   "execution_count": null,
   "metadata": {},
   "outputs": [],
   "source": [
    "#%matplotlib notebook\n",
    "plt.imshow(gan_test_truth[0,:,:,0], vmin=0)"
   ]
  },
  {
   "cell_type": "code",
   "execution_count": null,
   "metadata": {},
   "outputs": [],
   "source": [
    "def wasserstein_loss(y_true, y_pred):\n",
    "    \"\"\"Calculates the Wasserstein loss for a sample batch.\n",
    "    The Wasserstein loss function is very simple to calculate. In a standard GAN, the discriminator\n",
    "    has a sigmoid output, representing the probability that samples are real or generated. In Wasserstein\n",
    "    GANs, however, the output is linear with no activation function! Instead of being constrained to [0, 1],\n",
    "    the discriminator wants to make the distance between its output for real and generated samples as large as possible.\n",
    "    The most natural way to achieve this is to label generated samples -1 and real samples 1, instead of the\n",
    "    0 and 1 used in normal GANs, so that multiplying the outputs by the labels will give you the loss immediately.\n",
    "    Note that the nature of this loss means that it can be (and frequently will be) less than 0.\"\"\"\n",
    "    return K.mean(y_true * y_pred)"
   ]
  },
  {
   "cell_type": "code",
   "execution_count": null,
   "metadata": {},
   "outputs": [],
   "source": []
  }
 ],
 "metadata": {
  "kernelspec": {
   "display_name": "Python 3",
   "language": "python",
   "name": "python3"
  },
  "language_info": {
   "codemirror_mode": {
    "name": "ipython",
    "version": 3
   },
   "file_extension": ".py",
   "mimetype": "text/x-python",
   "name": "python",
   "nbconvert_exporter": "python",
   "pygments_lexer": "ipython3",
   "version": "3.6.4"
  }
 },
 "nbformat": 4,
 "nbformat_minor": 2
}
