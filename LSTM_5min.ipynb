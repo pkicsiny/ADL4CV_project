{
 "cells": [
  {
   "cell_type": "markdown",
   "metadata": {},
   "source": [
    "- get rain data and visualise for overview <font color='orange'>&#9728;</font>\n",
    "- cut and split data to reasonable train, val, test sets <font color='orange'>&#9728;</font>\n",
    "- set up first generator and discriminator and overfit, play around with it, get first results (_November/December_)\n",
    "- train on small training set and improve losses, accuracy, results (_December_)\n",
    "- experiment with temporal discriminator (_December/January_)\n",
    "- experiment with wind data (_January_)"
   ]
  },
  {
   "cell_type": "markdown",
   "metadata": {},
   "source": [
    "## Imports and settings"
   ]
  },
  {
   "cell_type": "code",
   "execution_count": 1,
   "metadata": {},
   "outputs": [
    {
     "name": "stderr",
     "output_type": "stream",
     "text": [
      "C:\\ProgramData\\Anaconda3\\lib\\site-packages\\h5py\\__init__.py:36: FutureWarning: Conversion of the second argument of issubdtype from `float` to `np.floating` is deprecated. In future, it will be treated as `np.float64 == np.dtype(float).type`.\n",
      "  from ._conv import register_converters as _register_converters\n",
      "Using TensorFlow backend.\n"
     ]
    }
   ],
   "source": [
    "import src"
   ]
  },
  {
   "cell_type": "code",
   "execution_count": 2,
   "metadata": {},
   "outputs": [],
   "source": [
    "import os\n",
    "import numpy as np\n",
    "import sys\n",
    "import re\n",
    "import math\n",
    "import matplotlib.pyplot as plt\n",
    "import pandas as pd\n",
    "import seaborn as sns\n",
    "from  matplotlib.animation import FuncAnimation\n",
    "from matplotlib import colors\n",
    "from netCDF4 import Dataset\n",
    "from IPython.display import clear_output\n",
    "#data folder\n",
    "sys.path.insert(0, 'C:/Users/pkicsiny/Desktop/TUM/3/ADL4CV/data/rx')"
   ]
  },
  {
   "cell_type": "code",
   "execution_count": 78,
   "metadata": {},
   "outputs": [],
   "source": [
    "sys.path.insert(0, 'C:/Users/pkicsiny/Desktop/TUM/3/ADL4CV/data')"
   ]
  },
  {
   "cell_type": "code",
   "execution_count": 106,
   "metadata": {},
   "outputs": [
    {
     "name": "stdout",
     "output_type": "stream",
     "text": [
      "[name: \"/device:CPU:0\"\n",
      "device_type: \"CPU\"\n",
      "memory_limit: 268435456\n",
      "locality {\n",
      "}\n",
      "incarnation: 8528138879429290159\n",
      ", name: \"/device:GPU:0\"\n",
      "device_type: \"GPU\"\n",
      "memory_limit: 1508248780\n",
      "locality {\n",
      "  bus_id: 1\n",
      "  links {\n",
      "  }\n",
      "}\n",
      "incarnation: 1945332057894055086\n",
      "physical_device_desc: \"device: 0, name: GeForce GT 740M, pci bus id: 0000:01:00.0, compute capability: 3.5\"\n",
      "]\n"
     ]
    }
   ],
   "source": [
    "import keras.backend as K\n",
    "import tensorflow as tf\n",
    "from tensorflow import keras\n",
    "from tensorflow.python.client import device_lib\n",
    "from keras.models import Sequential\n",
    "from keras.layers import Dense, Activation, Flatten, Reshape\n",
    "from keras.layers import Conv2D, Conv2DTranspose, UpSampling2D\n",
    "from keras.layers import LeakyReLU, Dropout\n",
    "from keras.layers import BatchNormalization, TimeDistributed, LSTM\n",
    "from keras.optimizers import Adam, RMSprop\n",
    "print(device_lib.list_local_devices())"
   ]
  },
  {
   "cell_type": "code",
   "execution_count": 107,
   "metadata": {},
   "outputs": [],
   "source": [
    "#forces CPU usage\n",
    "os.environ[\"CUDA_DEVICE_ORDER\"] = \"PCI_BUS_ID\"   # see issue #152\n",
    "os.environ[\"CUDA_VISIBLE_DEVICES\"] = \"0\" #\"\" for CPU"
   ]
  },
  {
   "cell_type": "markdown",
   "metadata": {},
   "source": [
    "______________________________________-\n",
    "## Data preprocessing"
   ]
  },
  {
   "cell_type": "markdown",
   "metadata": {},
   "source": [
    "### Rain measurements\n",
    "Measurements are downloaded from the DWD (German weather service) open data server: __ftp://ftp-cdc.dwd.de/pub/CDC/grids_germany/hourly/__<br>\n",
    "I'm working with the data of August 2010 (based on [this](https://tradingeconomics.com/germany/precipitation)), so I have downloaded this: __ftp://ftp-cdc.dwd.de/pub/CDC/grids_germany/hourly/radolan/historical/asc/2010/RW-201008.tar__<br>\n",
    "_DWD manual:_<br>\n",
    "__ftp://ftp-cdc.dwd.de/pub/CDC/grids_germany/hourly/radolan/historical/asc/BESCHREIBUNG_gridsgermany_hourly_radolan_historical_asc_de.pdf__<br><br>\n",
    "This contains radar maps recorded in every hour. Each map has a resolution of $900\\times900$ pixels and each pixel corresponds to an $1\\,km\\times1\\,km$ area in reality. Pixel values are the precipitation height in $0.1\\,mm$.\n",
    "Below I'm importing the data of this as a series of numpy arrays and plot them to see the acual radar map. The _sys.path[0]_ is the path on my computer and it can be different for you."
   ]
  },
  {
   "cell_type": "code",
   "execution_count": null,
   "metadata": {},
   "outputs": [],
   "source": [
    "sys.path[0]"
   ]
  },
  {
   "cell_type": "code",
   "execution_count": 3,
   "metadata": {},
   "outputs": [],
   "source": [
    "files = os.listdir(\"../data/rx\")\n",
    "total_length = len(files)\n",
    "inputs = np.zeros((total_length,900,900))"
   ]
  },
  {
   "cell_type": "code",
   "execution_count": 4,
   "metadata": {},
   "outputs": [
    {
     "name": "stdout",
     "output_type": "stream",
     "text": [
      "0, 10, 20, 30, 40, 50, 60, 70, 80, 90, 100, 110, 120, 130, 140, 150, 160, 170, 180, 190, 200, 210, 220, 230, 240, 250, 260, 270, 280, 290, 300, 310, 320, 330, 340, 350, 360, 370, 380, 390, 400, 410, 420, 430, 440, 450, 460, 470, 480, 490, 500, 510, 520, 530, 540, 550, 560, 570, "
     ]
    }
   ],
   "source": [
    "\n",
    "for i, file in enumerate(files):\n",
    "    if i%10 == 0:\n",
    "        print(i, end=\", \")\n",
    "    with open(sys.path[0] + '/' + file, \"rb\") as f:\n",
    "        byte = f.read()\n",
    "        start = 0\n",
    "        for j in range(len(byte)) :\n",
    "            if byte[j] == 62 :\n",
    "                start = j\n",
    "                break\n",
    "        inputs[i] = np.flip(np.reshape(np.asarray([c for c in byte[start+3:]]),(900,900)), axis=0)\n",
    "        inputs[i][inputs[i] == 250] = -1"
   ]
  },
  {
   "cell_type": "code",
   "execution_count": 140,
   "metadata": {},
   "outputs": [
    {
     "data": {
      "image/png": "[encoded data removed]",
      "text/plain": [
       "<matplotlib.figure.Figure at 0x205e0080e10>"
      ]
     },
     "metadata": {},
     "output_type": "display_data"
    }
   ],
   "source": [
    "plt.imshow(inputs[0][500:564,600:664]/inputs[0][500:564,600:664].max())\n",
    "plt.colorbar()\n",
    "plt.savefig(\"2.png\")"
   ]
  },
  {
   "cell_type": "code",
   "execution_count": 72,
   "metadata": {},
   "outputs": [
    {
     "name": "stdout",
     "output_type": "stream",
     "text": [
      "Shape of data: (10000, 2, 64, 64)\n",
      "\n",
      "Training set: (6000, 2, 64, 64)\n",
      "Validation set: (2000, 2, 64, 64)\n",
      "Test set: (2000, 2, 64, 64)\n"
     ]
    }
   ],
   "source": [
    "images = src.generate_datasets(inputs, n=10000, size=64, length=2, normalize=True, split=(6,2,2))"
   ]
  },
  {
   "cell_type": "code",
   "execution_count": 95,
   "metadata": {},
   "outputs": [],
   "source": [
    "images = np.load(sys.path[0]+\"/5_minute.npy\").item()"
   ]
  },
  {
   "cell_type": "code",
   "execution_count": 103,
   "metadata": {},
   "outputs": [
    {
     "name": "stdout",
     "output_type": "stream",
     "text": [
      "Training data: (6000, 2, 64, 64, 1)\n",
      "Validation data: (2000, 2, 64, 64, 1)\n",
      "Test data: (2000, 2, 64, 64, 1)\n"
     ]
    }
   ],
   "source": [
    "#low_res_train = images[\"low_res_train\"]\n",
    "#low_res_xval = images[\"low_res_xval\"]\n",
    "#low_res_test = images[\"low_res_test\"]\n",
    "#overfit = np.reshape(images['images'],np.shape(images['images'])+(1,))\n",
    "train = np.reshape(images[\"train\"],np.shape(images[\"train\"])+(1,))\n",
    "xval = np.reshape(images[\"xval\"],np.shape(images[\"xval\"])+(1,))\n",
    "test = np.reshape(images[\"test\"],np.shape(images[\"test\"])+(1,))\n",
    "print(f\"Training data: {train.shape}\\nValidation data: {xval.shape}\\nTest data: {test.shape}\")"
   ]
  },
  {
   "cell_type": "code",
   "execution_count": 104,
   "metadata": {},
   "outputs": [
    {
     "name": "stdout",
     "output_type": "stream",
     "text": [
      "(6000, 1, 64, 64, 1) \n",
      " (6000, 1, 64, 64, 1) \n",
      " (2000, 1, 64, 64, 1) \n",
      " (2000, 1, 64, 64, 1)\n"
     ]
    }
   ],
   "source": [
    "lstm_train     = np.reshape(train[:,0,:,:,:],((train.shape[0],1,)+train.shape[2:]))\n",
    "lstm_truth     = np.reshape(train[:,1,:,:,:],((train.shape[0],1,)+train.shape[2:]))\n",
    "lstm_val       = np.reshape(xval[:,0,:,:,:],((xval.shape[0],1,)+xval.shape[2:]))\n",
    "lstm_val_truth = np.reshape(xval[:,1,:,:,:],((xval.shape[0],1,)+xval.shape[2:]))\n",
    "print(lstm_train.shape,\"\\n\",lstm_truth.shape,\"\\n\",lstm_val.shape,\"\\n\",lstm_val_truth.shape)\n",
    "lstm_test      = np.reshape(test[:,0,:,:,:],((test.shape[0],1,)+test.shape[2:]))\n",
    "lstm_test_truth = np.reshape(test[:,1,:,:,:],((test.shape[0],1,)+test.shape[2:]))"
   ]
  },
  {
   "cell_type": "code",
   "execution_count": null,
   "metadata": {},
   "outputs": [],
   "source": [
    "overfit_train = np.reshape(train[5,0,:,:,:],((1,1,)+train.shape[2:]))\n",
    "overfit_truth = np.reshape(train[5,1,:,:,:],((1,1,)+train.shape[2:]))"
   ]
  },
  {
   "cell_type": "code",
   "execution_count": null,
   "metadata": {},
   "outputs": [],
   "source": [
    "%matplotlib inline\n",
    "src.visualise_data(xval[:,:,:,:,0])"
   ]
  },
  {
   "cell_type": "markdown",
   "metadata": {},
   "source": [
    "## LSTM generator"
   ]
  },
  {
   "cell_type": "code",
   "execution_count": 142,
   "metadata": {
    "scrolled": true
   },
   "outputs": [
    {
     "name": "stdout",
     "output_type": "stream",
     "text": [
      "_________________________________________________________________\n",
      "Layer (type)                 Output Shape              Param #   \n",
      "=================================================================\n",
      "time_distributed_23 (TimeDis (None, 1, 32, 32, 8)      208       \n",
      "_________________________________________________________________\n",
      "batch_normalization_9 (Batch (None, 1, 32, 32, 8)      32        \n",
      "_________________________________________________________________\n",
      "activation_2 (Activation)    (None, 1, 32, 32, 8)      0         \n",
      "_________________________________________________________________\n",
      "time_distributed_24 (TimeDis (None, 1, 16, 16, 16)     3216      \n",
      "_________________________________________________________________\n",
      "batch_normalization_10 (Batc (None, 1, 16, 16, 16)     64        \n",
      "_________________________________________________________________\n",
      "activation_3 (Activation)    (None, 1, 16, 16, 16)     0         \n",
      "_________________________________________________________________\n",
      "time_distributed_25 (TimeDis (None, 1, 8, 8, 32)       12832     \n",
      "_________________________________________________________________\n",
      "batch_normalization_11 (Batc (None, 1, 8, 8, 32)       128       \n",
      "_________________________________________________________________\n",
      "activation_4 (Activation)    (None, 1, 8, 8, 32)       0         \n",
      "_________________________________________________________________\n",
      "time_distributed_26 (TimeDis (None, 1, 4, 4, 64)       51264     \n",
      "_________________________________________________________________\n",
      "batch_normalization_12 (Batc (None, 1, 4, 4, 64)       256       \n",
      "_________________________________________________________________\n",
      "activation_5 (Activation)    (None, 1, 4, 4, 64)       0         \n",
      "_________________________________________________________________\n",
      "time_distributed_27 (TimeDis (None, 1, 1, 1, 128)      204928    \n",
      "_________________________________________________________________\n",
      "time_distributed_28 (TimeDis (None, 1, 128)            0         \n",
      "_________________________________________________________________\n",
      "lstm_3 (LSTM)                (None, 1, 128)            131584    \n",
      "_________________________________________________________________\n",
      "reshape_3 (Reshape)          (None, 1, 1, 1, 128)      0         \n",
      "_________________________________________________________________\n",
      "time_distributed_29 (TimeDis (None, 1, 4, 4, 64)       204864    \n",
      "_________________________________________________________________\n",
      "time_distributed_30 (TimeDis (None, 1, 8, 8, 32)       51232     \n",
      "_________________________________________________________________\n",
      "time_distributed_31 (TimeDis (None, 1, 16, 16, 16)     12816     \n",
      "_________________________________________________________________\n",
      "time_distributed_32 (TimeDis (None, 1, 32, 32, 8)      3208      \n",
      "_________________________________________________________________\n",
      "time_distributed_33 (TimeDis (None, 1, 64, 64, 1)      201       \n",
      "=================================================================\n",
      "Total params: 676,833\n",
      "Trainable params: 676,593\n",
      "Non-trainable params: 240\n",
      "_________________________________________________________________\n"
     ]
    }
   ],
   "source": [
    "#batch_size=10\n",
    "lstm_model = keras.Sequential()\n",
    "# define CNN model\n",
    "lstm_model.add(keras.layers.TimeDistributed(keras.layers.Conv2D(\n",
    "    filters=8, kernel_size=5, strides=2, padding='same'))) #8\n",
    "lstm_model.add(keras.layers.BatchNormalization())\n",
    "lstm_model.add(keras.layers.Activation(\"relu\"))\n",
    "\n",
    "lstm_model.add(keras.layers.TimeDistributed(keras.layers.Conv2D(\n",
    "    filters=16, kernel_size=5, strides=2, padding='same')))\n",
    "lstm_model.add(keras.layers.BatchNormalization())\n",
    "lstm_model.add(keras.layers.Activation(\"relu\"))\n",
    "\n",
    "lstm_model.add(keras.layers.TimeDistributed(keras.layers.Conv2D(\n",
    "    filters=32, kernel_size=5, strides=2, padding='same')))\n",
    "lstm_model.add(keras.layers.BatchNormalization())\n",
    "lstm_model.add(keras.layers.Activation(\"relu\"))\n",
    "\n",
    "lstm_model.add(keras.layers.TimeDistributed(keras.layers.Conv2D(\n",
    "    filters=64, kernel_size=5, strides=2, padding='same')))\n",
    "lstm_model.add(keras.layers.BatchNormalization())\n",
    "lstm_model.add(keras.layers.Activation(\"relu\"))\n",
    "\n",
    "lstm_model.add(keras.layers.TimeDistributed(keras.layers.Conv2D(\n",
    "    filters=128, kernel_size=5, strides=4, padding='same', activation='tanh')))\n",
    "lstm_model.add(keras.layers.TimeDistributed(keras.layers.Flatten()))\n",
    "\n",
    "#LSTM\n",
    "lstm_model.add(keras.layers.LSTM(units=128, return_sequences=True))\n",
    "\n",
    "#upconv\n",
    "lstm_model.add(keras.layers.Reshape((1,1,1,128)))\n",
    "lstm_model.add(keras.layers.TimeDistributed(keras.layers.Conv2DTranspose(\n",
    "    filters=64,kernel_size=5,strides=4,padding='same', activation='relu'))) #64\n",
    "lstm_model.add(keras.layers.TimeDistributed(keras.layers.Conv2DTranspose(\n",
    "    filters=32,kernel_size=5,strides=2,padding='same', activation='relu')))\n",
    "lstm_model.add(keras.layers.TimeDistributed(keras.layers.Conv2DTranspose(\n",
    "    filters=16,kernel_size=5,strides=2,padding='same', activation='relu')))\n",
    "lstm_model.add(keras.layers.TimeDistributed(keras.layers.Conv2DTranspose(\n",
    "    filters=8,kernel_size=5,strides=2,padding='same', activation='relu')))\n",
    "lstm_model.add(keras.layers.TimeDistributed(keras.layers.Conv2DTranspose(\n",
    "    filters=1,kernel_size=5,strides=2,padding='same', activation='relu')))\n",
    "\n",
    "lstm_model.build((None,1,)+train.shape[2:])\n",
    "lstm_model.summary()"
   ]
  },
  {
   "cell_type": "code",
   "execution_count": 109,
   "metadata": {},
   "outputs": [],
   "source": [
    "callback = [keras.callbacks.EarlyStopping(monitor='val_loss', patience=10),\n",
    "            keras.callbacks.ModelCheckpoint(filepath='best_model.h5', monitor='val_loss', save_best_only=True)]"
   ]
  },
  {
   "cell_type": "code",
   "execution_count": 143,
   "metadata": {},
   "outputs": [],
   "source": [
    "def custom_loss(y_true, y_pred):\n",
    "    return keras.losses.mean_squared_error(y_true, y_pred) + src.gradient_diff(y_true, y_pred)"
   ]
  },
  {
   "cell_type": "code",
   "execution_count": null,
   "metadata": {},
   "outputs": [],
   "source": [
    "lstm_model.load_weights(\"best_model.h5\")"
   ]
  },
  {
   "cell_type": "code",
   "execution_count": 144,
   "metadata": {
    "scrolled": true
   },
   "outputs": [
    {
     "name": "stdout",
     "output_type": "stream",
     "text": [
      "Tensor(\"metrics_1/relative_error_tensor/truediv:0\", shape=(), dtype=float32)\n",
      "Tensor(\"time_distributed_33_target:0\", shape=(?, ?, ?, ?, ?), dtype=float32)\n"
     ]
    }
   ],
   "source": [
    "lstm_model.compile(optimizer=tf.train.AdamOptimizer(learning_rate = 0.0001),loss=custom_loss, metrics=[src.relative_error_tensor]) "
   ]
  },
  {
   "cell_type": "code",
   "execution_count": 145,
   "metadata": {
    "scrolled": true
   },
   "outputs": [
    {
     "name": "stdout",
     "output_type": "stream",
     "text": [
      "Train on 6000 samples, validate on 2000 samples\n",
      "Epoch 1/50\n",
      "6000/6000 [==============================] - 15s 2ms/step - loss: 0.2869 - relative_error_tensor: 0.9874 - val_loss: 0.2738 - val_relative_error_tensor: 0.9742\n",
      "Epoch 2/50\n",
      "6000/6000 [==============================] - 10s 2ms/step - loss: 0.2476 - relative_error_tensor: 0.8565 - val_loss: 0.2378 - val_relative_error_tensor: 0.8984\n",
      "Epoch 3/50\n",
      "6000/6000 [==============================] - 10s 2ms/step - loss: 0.2104 - relative_error_tensor: 0.7302 - val_loss: 0.2037 - val_relative_error_tensor: 0.8150\n",
      "Epoch 4/50\n",
      "6000/6000 [==============================] - 10s 2ms/step - loss: 0.1558 - relative_error_tensor: 0.6303 - val_loss: 0.1387 - val_relative_error_tensor: 0.7260\n",
      "Epoch 5/50\n",
      "6000/6000 [==============================] - 10s 2ms/step - loss: 0.1215 - relative_error_tensor: 0.5661 - val_loss: 0.1213 - val_relative_error_tensor: 0.6231\n",
      "Epoch 6/50\n",
      "6000/6000 [==============================] - 10s 2ms/step - loss: 0.1154 - relative_error_tensor: 0.5425 - val_loss: 0.1138 - val_relative_error_tensor: 0.5655\n",
      "Epoch 7/50\n",
      "6000/6000 [==============================] - 11s 2ms/step - loss: 0.1119 - relative_error_tensor: 0.5279 - val_loss: 0.1105 - val_relative_error_tensor: 0.5403\n",
      "Epoch 8/50\n",
      "6000/6000 [==============================] - 12s 2ms/step - loss: 0.1091 - relative_error_tensor: 0.5137 - val_loss: 0.1069 - val_relative_error_tensor: 0.5117\n",
      "Epoch 9/50\n",
      "6000/6000 [==============================] - 13s 2ms/step - loss: 0.1062 - relative_error_tensor: 0.4999 - val_loss: 0.1045 - val_relative_error_tensor: 0.4985\n",
      "Epoch 10/50\n",
      "6000/6000 [==============================] - 14s 2ms/step - loss: 0.1037 - relative_error_tensor: 0.4855 - val_loss: 0.1023 - val_relative_error_tensor: 0.4863\n",
      "Epoch 11/50\n",
      "6000/6000 [==============================] - 15s 2ms/step - loss: 0.1020 - relative_error_tensor: 0.4759 - val_loss: 0.1014 - val_relative_error_tensor: 0.4784\n",
      "Epoch 12/50\n",
      "6000/6000 [==============================] - 16s 3ms/step - loss: 0.1008 - relative_error_tensor: 0.4701 - val_loss: 0.0998 - val_relative_error_tensor: 0.4682\n",
      "Epoch 13/50\n",
      "6000/6000 [==============================] - 15s 3ms/step - loss: 0.0994 - relative_error_tensor: 0.4614 - val_loss: 0.0983 - val_relative_error_tensor: 0.4607\n",
      "Epoch 14/50\n",
      "6000/6000 [==============================] - 16s 3ms/step - loss: 0.0978 - relative_error_tensor: 0.4522 - val_loss: 0.0972 - val_relative_error_tensor: 0.4554\n",
      "Epoch 15/50\n",
      "6000/6000 [==============================] - 18s 3ms/step - loss: 0.0966 - relative_error_tensor: 0.4453 - val_loss: 0.0960 - val_relative_error_tensor: 0.4471\n",
      "Epoch 16/50\n",
      "6000/6000 [==============================] - 18s 3ms/step - loss: 0.0959 - relative_error_tensor: 0.4422 - val_loss: 0.0951 - val_relative_error_tensor: 0.4404\n",
      "Epoch 17/50\n",
      "6000/6000 [==============================] - 19s 3ms/step - loss: 0.0947 - relative_error_tensor: 0.4328 - val_loss: 0.0945 - val_relative_error_tensor: 0.4356\n",
      "Epoch 18/50\n",
      "6000/6000 [==============================] - 19s 3ms/step - loss: 0.0941 - relative_error_tensor: 0.4294 - val_loss: 0.0937 - val_relative_error_tensor: 0.4301\n",
      "Epoch 19/50\n",
      "6000/6000 [==============================] - 21s 3ms/step - loss: 0.0936 - relative_error_tensor: 0.4270 - val_loss: 0.0931 - val_relative_error_tensor: 0.4274\n",
      "Epoch 20/50\n",
      "6000/6000 [==============================] - 22s 4ms/step - loss: 0.0929 - relative_error_tensor: 0.4213 - val_loss: 0.0926 - val_relative_error_tensor: 0.4235\n",
      "Epoch 21/50\n",
      "6000/6000 [==============================] - 22s 4ms/step - loss: 0.0925 - relative_error_tensor: 0.4188 - val_loss: 0.0920 - val_relative_error_tensor: 0.4201\n",
      "Epoch 22/50\n",
      "6000/6000 [==============================] - 22s 4ms/step - loss: 0.0921 - relative_error_tensor: 0.4173 - val_loss: 0.0919 - val_relative_error_tensor: 0.4204\n",
      "Epoch 23/50\n",
      "6000/6000 [==============================] - 23s 4ms/step - loss: 0.0910 - relative_error_tensor: 0.4096 - val_loss: 0.0909 - val_relative_error_tensor: 0.4137\n",
      "WARNING:tensorflow:TensorFlow optimizers do not make it possible to access optimizer attributes or optimizer state after instantiation. As a result, we cannot save the optimizer as part of the model save file.You will have to compile your model again after loading it. Prefer using a Keras optimizer instead (see keras.io/optimizers).\n",
      "Epoch 24/50\n",
      "6000/6000 [==============================] - 22s 4ms/step - loss: 0.0906 - relative_error_tensor: 0.4069 - val_loss: 0.0905 - val_relative_error_tensor: 0.4126\n",
      "WARNING:tensorflow:TensorFlow optimizers do not make it possible to access optimizer attributes or optimizer state after instantiation. As a result, we cannot save the optimizer as part of the model save file.You will have to compile your model again after loading it. Prefer using a Keras optimizer instead (see keras.io/optimizers).\n",
      "Epoch 25/50\n",
      "6000/6000 [==============================] - 22s 4ms/step - loss: 0.0903 - relative_error_tensor: 0.4054 - val_loss: 0.0904 - val_relative_error_tensor: 0.4110\n",
      "WARNING:tensorflow:TensorFlow optimizers do not make it possible to access optimizer attributes or optimizer state after instantiation. As a result, we cannot save the optimizer as part of the model save file.You will have to compile your model again after loading it. Prefer using a Keras optimizer instead (see keras.io/optimizers).\n",
      "Epoch 26/50\n",
      "6000/6000 [==============================] - 22s 4ms/step - loss: 0.0897 - relative_error_tensor: 0.4017 - val_loss: 0.0901 - val_relative_error_tensor: 0.4100\n",
      "WARNING:tensorflow:TensorFlow optimizers do not make it possible to access optimizer attributes or optimizer state after instantiation. As a result, we cannot save the optimizer as part of the model save file.You will have to compile your model again after loading it. Prefer using a Keras optimizer instead (see keras.io/optimizers).\n",
      "Epoch 27/50\n",
      "6000/6000 [==============================] - 25s 4ms/step - loss: 0.0894 - relative_error_tensor: 0.3995 - val_loss: 0.0895 - val_relative_error_tensor: 0.4052\n",
      "WARNING:tensorflow:TensorFlow optimizers do not make it possible to access optimizer attributes or optimizer state after instantiation. As a result, we cannot save the optimizer as part of the model save file.You will have to compile your model again after loading it. Prefer using a Keras optimizer instead (see keras.io/optimizers).\n",
      "Epoch 28/50\n",
      "6000/6000 [==============================] - 22s 4ms/step - loss: 0.0889 - relative_error_tensor: 0.3963 - val_loss: 0.0891 - val_relative_error_tensor: 0.4042\n",
      "WARNING:tensorflow:TensorFlow optimizers do not make it possible to access optimizer attributes or optimizer state after instantiation. As a result, we cannot save the optimizer as part of the model save file.You will have to compile your model again after loading it. Prefer using a Keras optimizer instead (see keras.io/optimizers).\n",
      "Epoch 29/50\n",
      "6000/6000 [==============================] - 26s 4ms/step - loss: 0.0887 - relative_error_tensor: 0.3958 - val_loss: 0.0888 - val_relative_error_tensor: 0.4002\n",
      "WARNING:tensorflow:TensorFlow optimizers do not make it possible to access optimizer attributes or optimizer state after instantiation. As a result, we cannot save the optimizer as part of the model save file.You will have to compile your model again after loading it. Prefer using a Keras optimizer instead (see keras.io/optimizers).\n",
      "Epoch 30/50\n",
      "6000/6000 [==============================] - 25s 4ms/step - loss: 0.0882 - relative_error_tensor: 0.3917 - val_loss: 0.0888 - val_relative_error_tensor: 0.4028\n",
      "WARNING:tensorflow:TensorFlow optimizers do not make it possible to access optimizer attributes or optimizer state after instantiation. As a result, we cannot save the optimizer as part of the model save file.You will have to compile your model again after loading it. Prefer using a Keras optimizer instead (see keras.io/optimizers).\n",
      "Epoch 31/50\n",
      "6000/6000 [==============================] - 23s 4ms/step - loss: 0.0881 - relative_error_tensor: 0.3921 - val_loss: 0.0881 - val_relative_error_tensor: 0.3966\n",
      "WARNING:tensorflow:TensorFlow optimizers do not make it possible to access optimizer attributes or optimizer state after instantiation. As a result, we cannot save the optimizer as part of the model save file.You will have to compile your model again after loading it. Prefer using a Keras optimizer instead (see keras.io/optimizers).\n"
     ]
    },
    {
     "name": "stdout",
     "output_type": "stream",
     "text": [
      "Epoch 32/50\n",
      "6000/6000 [==============================] - 25s 4ms/step - loss: 0.0875 - relative_error_tensor: 0.3878 - val_loss: 0.0882 - val_relative_error_tensor: 0.3963\n",
      "Epoch 33/50\n",
      "6000/6000 [==============================] - 26s 4ms/step - loss: 0.0872 - relative_error_tensor: 0.3866 - val_loss: 0.0877 - val_relative_error_tensor: 0.3926\n",
      "WARNING:tensorflow:TensorFlow optimizers do not make it possible to access optimizer attributes or optimizer state after instantiation. As a result, we cannot save the optimizer as part of the model save file.You will have to compile your model again after loading it. Prefer using a Keras optimizer instead (see keras.io/optimizers).\n",
      "Epoch 34/50\n",
      "6000/6000 [==============================] - 25s 4ms/step - loss: 0.0867 - relative_error_tensor: 0.3826 - val_loss: 0.0873 - val_relative_error_tensor: 0.3903\n",
      "WARNING:tensorflow:TensorFlow optimizers do not make it possible to access optimizer attributes or optimizer state after instantiation. As a result, we cannot save the optimizer as part of the model save file.You will have to compile your model again after loading it. Prefer using a Keras optimizer instead (see keras.io/optimizers).\n",
      "Epoch 35/50\n",
      "6000/6000 [==============================] - 23s 4ms/step - loss: 0.0865 - relative_error_tensor: 0.3816 - val_loss: 0.0870 - val_relative_error_tensor: 0.3886\n",
      "WARNING:tensorflow:TensorFlow optimizers do not make it possible to access optimizer attributes or optimizer state after instantiation. As a result, we cannot save the optimizer as part of the model save file.You will have to compile your model again after loading it. Prefer using a Keras optimizer instead (see keras.io/optimizers).\n",
      "Epoch 36/50\n",
      "6000/6000 [==============================] - 23s 4ms/step - loss: 0.0861 - relative_error_tensor: 0.3782 - val_loss: 0.0869 - val_relative_error_tensor: 0.3872\n",
      "WARNING:tensorflow:TensorFlow optimizers do not make it possible to access optimizer attributes or optimizer state after instantiation. As a result, we cannot save the optimizer as part of the model save file.You will have to compile your model again after loading it. Prefer using a Keras optimizer instead (see keras.io/optimizers).\n",
      "Epoch 37/50\n",
      "6000/6000 [==============================] - 26s 4ms/step - loss: 0.0860 - relative_error_tensor: 0.3786 - val_loss: 0.0868 - val_relative_error_tensor: 0.3862\n",
      "WARNING:tensorflow:TensorFlow optimizers do not make it possible to access optimizer attributes or optimizer state after instantiation. As a result, we cannot save the optimizer as part of the model save file.You will have to compile your model again after loading it. Prefer using a Keras optimizer instead (see keras.io/optimizers).\n",
      "Epoch 38/50\n",
      "6000/6000 [==============================] - 26s 4ms/step - loss: 0.0856 - relative_error_tensor: 0.3754 - val_loss: 0.0864 - val_relative_error_tensor: 0.3839\n",
      "WARNING:tensorflow:TensorFlow optimizers do not make it possible to access optimizer attributes or optimizer state after instantiation. As a result, we cannot save the optimizer as part of the model save file.You will have to compile your model again after loading it. Prefer using a Keras optimizer instead (see keras.io/optimizers).\n",
      "Epoch 39/50\n",
      "6000/6000 [==============================] - 25s 4ms/step - loss: 0.0853 - relative_error_tensor: 0.3736 - val_loss: 0.0861 - val_relative_error_tensor: 0.3816\n",
      "WARNING:tensorflow:TensorFlow optimizers do not make it possible to access optimizer attributes or optimizer state after instantiation. As a result, we cannot save the optimizer as part of the model save file.You will have to compile your model again after loading it. Prefer using a Keras optimizer instead (see keras.io/optimizers).\n",
      "Epoch 40/50\n",
      "6000/6000 [==============================] - 28s 5ms/step - loss: 0.0851 - relative_error_tensor: 0.3720 - val_loss: 0.0860 - val_relative_error_tensor: 0.3829\n",
      "WARNING:tensorflow:TensorFlow optimizers do not make it possible to access optimizer attributes or optimizer state after instantiation. As a result, we cannot save the optimizer as part of the model save file.You will have to compile your model again after loading it. Prefer using a Keras optimizer instead (see keras.io/optimizers).\n",
      "Epoch 41/50\n",
      "6000/6000 [==============================] - 28s 5ms/step - loss: 0.0848 - relative_error_tensor: 0.3701 - val_loss: 0.0858 - val_relative_error_tensor: 0.3789\n",
      "WARNING:tensorflow:TensorFlow optimizers do not make it possible to access optimizer attributes or optimizer state after instantiation. As a result, we cannot save the optimizer as part of the model save file.You will have to compile your model again after loading it. Prefer using a Keras optimizer instead (see keras.io/optimizers).\n",
      "Epoch 42/50\n",
      "6000/6000 [==============================] - 27s 5ms/step - loss: 0.0846 - relative_error_tensor: 0.3687 - val_loss: 0.0857 - val_relative_error_tensor: 0.3809\n",
      "WARNING:tensorflow:TensorFlow optimizers do not make it possible to access optimizer attributes or optimizer state after instantiation. As a result, we cannot save the optimizer as part of the model save file.You will have to compile your model again after loading it. Prefer using a Keras optimizer instead (see keras.io/optimizers).\n",
      "Epoch 43/50\n",
      "6000/6000 [==============================] - 27s 4ms/step - loss: 0.0843 - relative_error_tensor: 0.3667 - val_loss: 0.0854 - val_relative_error_tensor: 0.3776\n",
      "WARNING:tensorflow:TensorFlow optimizers do not make it possible to access optimizer attributes or optimizer state after instantiation. As a result, we cannot save the optimizer as part of the model save file.You will have to compile your model again after loading it. Prefer using a Keras optimizer instead (see keras.io/optimizers).\n",
      "Epoch 44/50\n",
      "6000/6000 [==============================] - 32s 5ms/step - loss: 0.0841 - relative_error_tensor: 0.3653 - val_loss: 0.0853 - val_relative_error_tensor: 0.3760\n",
      "WARNING:tensorflow:TensorFlow optimizers do not make it possible to access optimizer attributes or optimizer state after instantiation. As a result, we cannot save the optimizer as part of the model save file.You will have to compile your model again after loading it. Prefer using a Keras optimizer instead (see keras.io/optimizers).\n",
      "Epoch 45/50\n",
      "6000/6000 [==============================] - 31s 5ms/step - loss: 0.0839 - relative_error_tensor: 0.3639 - val_loss: 0.0851 - val_relative_error_tensor: 0.3744\n",
      "WARNING:tensorflow:TensorFlow optimizers do not make it possible to access optimizer attributes or optimizer state after instantiation. As a result, we cannot save the optimizer as part of the model save file.You will have to compile your model again after loading it. Prefer using a Keras optimizer instead (see keras.io/optimizers).\n",
      "Epoch 46/50\n",
      "6000/6000 [==============================] - 28s 5ms/step - loss: 0.0837 - relative_error_tensor: 0.3623 - val_loss: 0.0850 - val_relative_error_tensor: 0.3750\n",
      "WARNING:tensorflow:TensorFlow optimizers do not make it possible to access optimizer attributes or optimizer state after instantiation. As a result, we cannot save the optimizer as part of the model save file.You will have to compile your model again after loading it. Prefer using a Keras optimizer instead (see keras.io/optimizers).\n",
      "Epoch 47/50\n",
      "6000/6000 [==============================] - 30s 5ms/step - loss: 0.0835 - relative_error_tensor: 0.3611 - val_loss: 0.0848 - val_relative_error_tensor: 0.3730\n",
      "WARNING:tensorflow:TensorFlow optimizers do not make it possible to access optimizer attributes or optimizer state after instantiation. As a result, we cannot save the optimizer as part of the model save file.You will have to compile your model again after loading it. Prefer using a Keras optimizer instead (see keras.io/optimizers).\n",
      "Epoch 48/50\n",
      "6000/6000 [==============================] - 24s 4ms/step - loss: 0.0833 - relative_error_tensor: 0.3603 - val_loss: 0.0847 - val_relative_error_tensor: 0.3717\n",
      "WARNING:tensorflow:TensorFlow optimizers do not make it possible to access optimizer attributes or optimizer state after instantiation. As a result, we cannot save the optimizer as part of the model save file.You will have to compile your model again after loading it. Prefer using a Keras optimizer instead (see keras.io/optimizers).\n"
     ]
    },
    {
     "name": "stdout",
     "output_type": "stream",
     "text": [
      "Epoch 49/50\n",
      "6000/6000 [==============================] - 26s 4ms/step - loss: 0.0831 - relative_error_tensor: 0.3595 - val_loss: 0.0853 - val_relative_error_tensor: 0.3795\n",
      "Epoch 50/50\n",
      "6000/6000 [==============================] - 29s 5ms/step - loss: 0.0830 - relative_error_tensor: 0.3581 - val_loss: 0.0843 - val_relative_error_tensor: 0.3699\n",
      "WARNING:tensorflow:TensorFlow optimizers do not make it possible to access optimizer attributes or optimizer state after instantiation. As a result, we cannot save the optimizer as part of the model save file.You will have to compile your model again after loading it. Prefer using a Keras optimizer instead (see keras.io/optimizers).\n"
     ]
    },
    {
     "data": {
      "text/plain": [
       "<tensorflow.python.keras._impl.keras.callbacks.History at 0x205f5556668>"
      ]
     },
     "execution_count": 145,
     "metadata": {},
     "output_type": "execute_result"
    }
   ],
   "source": [
    "#train the model\n",
    "lstm_model.fit(lstm_train, lstm_truth,\n",
    "               validation_data=(lstm_val, lstm_val_truth),\n",
    "               batch_size = 100,\n",
    "               epochs=50,\n",
    "               callbacks=callback,\n",
    "               shuffle = True)"
   ]
  },
  {
   "cell_type": "code",
   "execution_count": 146,
   "metadata": {},
   "outputs": [
    {
     "data": {
      "text/plain": [
       "dict_keys(['val_loss', 'val_relative_error_tensor', 'loss', 'relative_error_tensor'])"
      ]
     },
     "execution_count": 146,
     "metadata": {},
     "output_type": "execute_result"
    }
   ],
   "source": [
    "hist = lstm_model.history\n",
    "hist.history.keys()"
   ]
  },
  {
   "cell_type": "code",
   "execution_count": 147,
   "metadata": {
    "scrolled": true
   },
   "outputs": [
    {
     "data": {
      "image/png": "[encoded data removed]",
      "text/plain": [
       "<matplotlib.figure.Figure at 0x205ebd40588>"
      ]
     },
     "metadata": {},
     "output_type": "display_data"
    }
   ],
   "source": [
    "plt.plot(hist.history['loss'],)\n",
    "plt.plot(hist.history['val_loss'])\n",
    "plt.grid()\n",
    "plt.legend(['training', 'validation'], loc='upper left')\n",
    "plt.xlabel(\"Epoch\")\n",
    "plt.ylabel(\"Loss\")\n",
    "#plt.yscale(\"log\")\n",
    "plt.savefig('training.png')"
   ]
  },
  {
   "cell_type": "code",
   "execution_count": 148,
   "metadata": {},
   "outputs": [
    {
     "data": {
      "text/plain": [
       "(2000, 1, 64, 64, 1)"
      ]
     },
     "execution_count": 148,
     "metadata": {},
     "output_type": "execute_result"
    }
   ],
   "source": [
    "#test\n",
    "predictions = lstm_model.predict(lstm_test, batch_size=50)\n",
    "truth       = lstm_test_truth\n",
    "truth.shape"
   ]
  },
  {
   "cell_type": "code",
   "execution_count": 149,
   "metadata": {
    "scrolled": true
   },
   "outputs": [
    {
     "name": "stderr",
     "output_type": "stream",
     "text": [
      "C:\\Users\\pkicsiny\\Desktop\\TUM\\3\\ADL4CV\\ADL4CV_project\\src.py:198: RuntimeWarning: divide by zero encountered in true_divide\n",
      "  images[i, :, :, :] = np.divide(num, den)\n"
     ]
    },
    {
     "data": {
      "text/plain": [
       "[697, 1327, 1542, 1999, 1429, 1879, 1283, 909, 1638, 1640]"
      ]
     },
     "execution_count": 149,
     "metadata": {},
     "output_type": "execute_result"
    }
   ],
   "source": [
    "args = src.arg_getter(truth, predictions)\n",
    "args[:10]"
   ]
  },
  {
   "cell_type": "code",
   "execution_count": 150,
   "metadata": {
    "scrolled": true
   },
   "outputs": [
    {
     "data": {
      "image/png": "[encoded data removed]",
      "text/plain": [
       "<matplotlib.figure.Figure at 0x205e6642ac8>"
      ]
     },
     "metadata": {},
     "output_type": "display_data"
    }
   ],
   "source": [
    "error_images, error_vals, error_means = error_distribution(truth,predictions, metric=\"difference\")"
   ]
  },
  {
   "cell_type": "code",
   "execution_count": 128,
   "metadata": {},
   "outputs": [],
   "source": [
    "def error_distribution(truth, predictions, nbins=20, metric=\"difference\"):\n",
    "    \"\"\"\n",
    "    plot relative error dist. of results\n",
    "    :param truth: ground truth\n",
    "    :param predictions: predictions of network\n",
    "    :param metric: difference or relative_error\n",
    "    :return: nothing (plots relative error distributions)\n",
    "    \"\"\"\n",
    "\n",
    "    if metric == \"relative_error\":\n",
    "        error_images, error_vals, error_means = src.relative_error(truth, predictions)\n",
    "    elif metric == \"difference\":\n",
    "        error_images, error_vals, error_means = src.difference(truth, predictions)\n",
    "    else:\n",
    "        sys.exit(\"Metric must be 'difference' or 'relative_error'.\")\n",
    "\n",
    "    plt.hist(error_vals, nbins)\n",
    "    plt.xlabel('relative error')\n",
    "    plt.ylabel('count')\n",
    "    plt.title('mean = ' + str(np.mean(error_vals))[0:5] + ', min = ' + str(np.min(error_vals))[0:5] + ', max = ' + str(\n",
    "        np.max(error_vals))[0:5])\n",
    "    plt.yticks(list(set([int(tick) for tick in plt.yticks()[0]])))\n",
    "    plt.savefig(f\"{metric}.png\")\n",
    "    plt.show()\n",
    "    return error_images, error_vals, error_means"
   ]
  },
  {
   "cell_type": "code",
   "execution_count": 153,
   "metadata": {
    "scrolled": false
   },
   "outputs": [
    {
     "data": {
      "image/png": "[encoded data removed]",
      "text/plain": [
       "<matplotlib.figure.Figure at 0x205f5cbc4e0>"
      ]
     },
     "metadata": {},
     "output_type": "display_data"
    },
    {
     "data": {
      "image/png": "[encoded data removed]",
      "text/plain": [
       "<matplotlib.figure.Figure at 0x205dcd1b860>"
      ]
     },
     "metadata": {},
     "output_type": "display_data"
    }
   ],
   "source": [
    "src.result_plotter(args[-2:], (lstm_test[:,:,:,:,0], truth[:,:,:,:,0], predictions[:,:,:,:,0], error_images[:,:,:,:,0]))"
   ]
  },
  {
   "cell_type": "markdown",
   "metadata": {},
   "source": [
    "## Discriminator"
   ]
  },
  {
   "cell_type": "code",
   "execution_count": null,
   "metadata": {
    "scrolled": true
   },
   "outputs": [],
   "source": [
    "D = keras.Sequential()\n",
    "depth = 2\n",
    "dropout = 0.4\n",
    "\n",
    "conv1 = keras.layers.Conv2D(filters=depth*1 ,kernel_size=10, strides=5, input_shape=(900,900,1), padding='same')\n",
    "relu1 = keras.layers.LeakyReLU(alpha=0.2)\n",
    "dropout1 = keras.layers.Dropout(dropout)\n",
    "\n",
    "conv2 = keras.layers.Conv2D(filters=depth*2, kernel_size=10, strides=5, padding='same')\n",
    "relu2 = keras.layers.LeakyReLU(alpha=0.2)\n",
    "dropout2 = keras.layers.Dropout(dropout)\n",
    "\n",
    "conv3 = keras.layers.Conv2D(filters=depth*4, kernel_size=6, strides=2, padding='same')\n",
    "relu3 = keras.layers.LeakyReLU(alpha=0.2)\n",
    "dropout3 = keras.layers.Dropout(dropout)\n",
    "\n",
    "conv4 = keras.layers.Conv2D(filters=depth*8, kernel_size=2, strides=2, padding='same')\n",
    "relu4 = keras.layers.LeakyReLU(alpha=0.2)\n",
    "dropout4 = keras.layers.Dropout(dropout)\n",
    "\n",
    "# Out: 1-dim probability\n",
    "flatten = keras.layers.Flatten()\n",
    "fcl1 = keras.layers.Dense(1)\n",
    "sig1 = keras.layers.Activation('sigmoid')\n",
    "#summary()\n",
    "D.add(conv1)\n",
    "D.add(relu1)\n",
    "D.add(dropout1)\n",
    "D.add(conv2)\n",
    "D.add(relu2)\n",
    "D.add(dropout2)\n",
    "D.add(conv3)\n",
    "D.add(relu3)\n",
    "D.add(dropout3)\n",
    "D.add(conv4)\n",
    "D.add(relu4)\n",
    "D.add(dropout4)\n",
    "D.add(flatten)\n",
    "D.add(fcl1)\n",
    "D.add(sig1)\n",
    "D.summary()"
   ]
  },
  {
   "cell_type": "code",
   "execution_count": null,
   "metadata": {},
   "outputs": [],
   "source": [
    "optimizer = tf.train.RMSPropOptimizer(learning_rate=0.0001, decay=3e-8)\n",
    "AM = keras.Sequential()\n",
    "AM.add(G)\n",
    "AM.add(D)\n",
    "AM.compile(loss='binary_crossentropy', optimizer=optimizer, metrics=['accuracy'])"
   ]
  },
  {
   "cell_type": "code",
   "execution_count": null,
   "metadata": {},
   "outputs": [],
   "source": [
    "AM.fit(train_val_inputs,\n",
    "          train_val_targets,\n",
    "          batch_size = 50,\n",
    "          epochs=50,\n",
    "          validation_split = 0.1,\n",
    "          shuffle = True)"
   ]
  },
  {
   "cell_type": "code",
   "execution_count": null,
   "metadata": {},
   "outputs": [],
   "source": [
    "a = train[0,0,:,:,0]\n",
    "b = train[0,1,:,:,0]"
   ]
  },
  {
   "cell_type": "code",
   "execution_count": null,
   "metadata": {},
   "outputs": [],
   "source": [
    "b.shape"
   ]
  },
  {
   "cell_type": "code",
   "execution_count": null,
   "metadata": {},
   "outputs": [],
   "source": [
    "((a-b)**2).mean()"
   ]
  },
  {
   "cell_type": "code",
   "execution_count": null,
   "metadata": {},
   "outputs": [],
   "source": [
    "((a-b)**2).sum()/64/64"
   ]
  },
  {
   "cell_type": "code",
   "execution_count": null,
   "metadata": {},
   "outputs": [],
   "source": [
    "f = np.sum(np.abs(np.abs(a[1:,:]-a[:-1,:])-np.abs(b[1:,:]-b[:-1,:])))+np.sum(np.abs(np.abs(a[:,1:]-a[:,:-1])-np.abs(b[:,1:]-b[:,:-1])))"
   ]
  },
  {
   "cell_type": "code",
   "execution_count": null,
   "metadata": {},
   "outputs": [],
   "source": [
    "f/64/63/2-summe/(len(bb)+len(aa))"
   ]
  },
  {
   "cell_type": "code",
   "execution_count": null,
   "metadata": {},
   "outputs": [],
   "source": [
    "aa = np.abs(np.abs(a[1:,:]-a[:-1,:])-np.abs(b[1:,:]-b[:-1,:])).flatten()\n",
    "bb = np.abs(np.abs(a[:,1:]-a[:,:-1])-np.abs(b[:,1:]-b[:,:-1])).flatten()\n",
    "summe = np.sum(aa+bb)/(len(bb)+len(aa))\n",
    "summe"
   ]
  },
  {
   "cell_type": "code",
   "execution_count": null,
   "metadata": {},
   "outputs": [],
   "source": [
    "aa.shape"
   ]
  },
  {
   "cell_type": "code",
   "execution_count": null,
   "metadata": {},
   "outputs": [],
   "source": [
    "summe = np.sum(aa+bb)\n",
    "summe"
   ]
  },
  {
   "cell_type": "code",
   "execution_count": null,
   "metadata": {},
   "outputs": [],
   "source": [
    "summe/(len(bb)+len(aa))"
   ]
  },
  {
   "cell_type": "code",
   "execution_count": null,
   "metadata": {},
   "outputs": [],
   "source": [
    "import keras.backend as K"
   ]
  },
  {
   "cell_type": "code",
   "execution_count": null,
   "metadata": {},
   "outputs": [],
   "source": [
    "yTrue = K.variable(a.reshape(1,1,64,64,1))\n",
    "yPred =  K.variable(b.reshape(1,1,64,64,1))\n",
    "alpha = 1"
   ]
  },
  {
   "cell_type": "code",
   "execution_count": null,
   "metadata": {},
   "outputs": [],
   "source": [
    "true = K.pow(K.flatten(K.abs(K.abs(yTrue[:,:,1:,:,:] - yTrue[:,:,:-1,:,:]) -\n",
    "                                 K.abs(yPred[:,:,1:,:,:] - yPred[:,:,:-1,:,:]))),alpha)\n",
    "pred = K.pow(K.flatten(K.abs(K.abs(yTrue[:,:,:,1:,:] - yTrue[:,:,:,:-1,:]) -\n",
    "                                 K.abs(yPred[:,:,:,1:,:] - yPred[:,:,:,:-1,:]))),alpha)"
   ]
  },
  {
   "cell_type": "code",
   "execution_count": null,
   "metadata": {},
   "outputs": [],
   "source": [
    "vv = (K.eval(K.sum(true))+K.eval(K.sum(pred))) / tf.to_float(K.shape(true)[0] + K.shape(pred)[0])"
   ]
  },
  {
   "cell_type": "code",
   "execution_count": null,
   "metadata": {},
   "outputs": [],
   "source": [
    "K.eval(vv)"
   ]
  },
  {
   "cell_type": "code",
   "execution_count": null,
   "metadata": {},
   "outputs": [],
   "source": [
    "K.int_shape(true)[0]"
   ]
  },
  {
   "cell_type": "code",
   "execution_count": null,
   "metadata": {},
   "outputs": [],
   "source": [
    "K.count_params(true)"
   ]
  },
  {
   "cell_type": "code",
   "execution_count": null,
   "metadata": {},
   "outputs": [],
   "source": [
    "K.eval(K.shape(vv))"
   ]
  },
  {
   "cell_type": "code",
   "execution_count": null,
   "metadata": {},
   "outputs": [],
   "source": []
  }
 ],
 "metadata": {
  "kernelspec": {
   "display_name": "Python 3",
   "language": "python",
   "name": "python3"
  },
  "language_info": {
   "codemirror_mode": {
    "name": "ipython",
    "version": 3
   },
   "file_extension": ".py",
   "mimetype": "text/x-python",
   "name": "python",
   "nbconvert_exporter": "python",
   "pygments_lexer": "ipython3",
   "version": "3.6.4"
  }
 },
 "nbformat": 4,
 "nbformat_minor": 2
}
