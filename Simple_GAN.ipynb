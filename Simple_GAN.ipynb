{
 "cells": [
  {
   "cell_type": "code",
   "execution_count": 1,
   "metadata": {},
   "outputs": [
    {
     "name": "stderr",
     "output_type": "stream",
     "text": [
      "C:\\ProgramData\\Anaconda3\\lib\\site-packages\\h5py\\__init__.py:36: FutureWarning: Conversion of the second argument of issubdtype from `float` to `np.floating` is deprecated. In future, it will be treated as `np.float64 == np.dtype(float).type`.\n",
      "  from ._conv import register_converters as _register_converters\n",
      "Using TensorFlow backend.\n"
     ]
    },
    {
     "name": "stdout",
     "output_type": "stream",
     "text": [
      "[name: \"/device:CPU:0\"\n",
      "device_type: \"CPU\"\n",
      "memory_limit: 268435456\n",
      "locality {\n",
      "}\n",
      "incarnation: 16413392759246771787\n",
      "]\n"
     ]
    }
   ],
   "source": [
    "import src\n",
    "import keras.backend as K\n",
    "import os\n",
    "import numpy as np\n",
    "import sys\n",
    "import re\n",
    "import math\n",
    "import io\n",
    "import matplotlib.pyplot as plt\n",
    "import pandas as pd\n",
    "import seaborn as sns\n",
    "from  matplotlib.animation import FuncAnimation\n",
    "from matplotlib import colors\n",
    "from netCDF4 import Dataset\n",
    "from IPython.display import clear_output\n",
    "#data folder\n",
    "sys.path.insert(0, 'C:/Users/pkicsiny/Desktop/TUM/3/ADL4CV/data')\n",
    "#forces CPU usage\n",
    "os.environ[\"CUDA_DEVICE_ORDER\"] = \"PCI_BUS_ID\"   # see issue #152\n",
    "os.environ[\"CUDA_VISIBLE_DEVICES\"] = \"-1\" #\"\" or \"-1\" for CPU, \"0\" for GPU\n",
    "import tensorflow as tf\n",
    "from tensorflow import keras\n",
    "from keras.models import load_model\n",
    "from tensorflow.python.client import device_lib\n",
    "print(device_lib.list_local_devices())"
   ]
  },
  {
   "cell_type": "markdown",
   "metadata": {},
   "source": [
    "Load dataset."
   ]
  },
  {
   "cell_type": "code",
   "execution_count": 2,
   "metadata": {},
   "outputs": [],
   "source": [
    "past = 4"
   ]
  },
  {
   "cell_type": "code",
   "execution_count": 3,
   "metadata": {},
   "outputs": [
    {
     "name": "stdout",
     "output_type": "stream",
     "text": [
      "Training data: (7500, 64, 64, 5)\n",
      "Validation data: (1500, 64, 64, 5)\n",
      "Test data: (1000, 64, 64, 5)\n"
     ]
    }
   ],
   "source": [
    "train, xval, test = src.load_datasets(past_frames=past)"
   ]
  },
  {
   "cell_type": "markdown",
   "metadata": {},
   "source": [
    "Split data to inputs and ground truth images."
   ]
  },
  {
   "cell_type": "code",
   "execution_count": 4,
   "metadata": {},
   "outputs": [
    {
     "name": "stdout",
     "output_type": "stream",
     "text": [
      "Data augmentation.\n",
      "Shape of training data:  (8000, 64, 64, 4) \n",
      "Shape of training truth:  (8000, 64, 64, 1) \n",
      "Shape of validation data:  (1500, 64, 64, 4) \n",
      "Shape of validation truth:  (1500, 64, 64, 1) \n",
      "Shape of test data:  (1000, 64, 64, 4) \n",
      "Shape of test truth:  (1000, 64, 64, 1)\n"
     ]
    }
   ],
   "source": [
    "gan_train, gan_truth, gan_val, gan_val_truth, gan_test, gan_test_truth = src.split_datasets(\n",
    "            train[:1000], xval, test, past_frames=past, augment=True)"
   ]
  },
  {
   "cell_type": "markdown",
   "metadata": {},
   "source": [
    "Make discriminator labels."
   ]
  },
  {
   "cell_type": "code",
   "execution_count": 5,
   "metadata": {},
   "outputs": [],
   "source": [
    "batch_size=64"
   ]
  },
  {
   "cell_type": "code",
   "execution_count": 6,
   "metadata": {},
   "outputs": [],
   "source": [
    "# Adversarial ground truths\n",
    "real = np.ones((batch_size, 1))\n",
    "fake = np.zeros((batch_size, 1))\n",
    "#Generator ground truths\n",
    "g_real = np.ones((batch_size, 1))"
   ]
  },
  {
   "cell_type": "code",
   "execution_count": 7,
   "metadata": {},
   "outputs": [
    {
     "ename": "NameError",
     "evalue": "name 'noisy_d_labels' is not defined",
     "output_type": "error",
     "traceback": [
      "\u001b[1;31m---------------------------------------------------------------------------\u001b[0m",
      "\u001b[1;31mNameError\u001b[0m                                 Traceback (most recent call last)",
      "\u001b[1;32m<ipython-input-7-c24e77dfc923>\u001b[0m in \u001b[0;36m<module>\u001b[1;34m()\u001b[0m\n\u001b[1;32m----> 1\u001b[1;33m \u001b[0mreal\u001b[0m\u001b[1;33m,\u001b[0m \u001b[0mfake\u001b[0m \u001b[1;33m=\u001b[0m \u001b[0mnoisy_d_labels\u001b[0m\u001b[1;33m(\u001b[0m\u001b[0mreal\u001b[0m\u001b[1;33m,\u001b[0m \u001b[0mfake\u001b[0m\u001b[1;33m)\u001b[0m\u001b[1;33m\u001b[0m\u001b[0m\n\u001b[0m",
      "\u001b[1;31mNameError\u001b[0m: name 'noisy_d_labels' is not defined"
     ]
    }
   ],
   "source": [
    "real, fake = noisy_d_labels(real, fake)"
   ]
  },
  {
   "cell_type": "markdown",
   "metadata": {},
   "source": [
    "Make generator but don't compile."
   ]
  },
  {
   "cell_type": "code",
   "execution_count": 8,
   "metadata": {},
   "outputs": [],
   "source": [
    "generator = src.unet(gan_train.shape[1:], dropout=0, batchnorm=False)"
   ]
  },
  {
   "cell_type": "code",
   "execution_count": 9,
   "metadata": {
    "scrolled": true
   },
   "outputs": [
    {
     "name": "stdout",
     "output_type": "stream",
     "text": [
      "__________________________________________________________________________________________________\n",
      "Layer (type)                    Output Shape         Param #     Connected to                     \n",
      "==================================================================================================\n",
      "input_1 (InputLayer)            (None, 64, 64, 4)    0                                            \n",
      "__________________________________________________________________________________________________\n",
      "conv2d_1 (Conv2D)               (None, 64, 64, 32)   544         input_1[0][0]                    \n",
      "__________________________________________________________________________________________________\n",
      "leaky_re_lu_1 (LeakyReLU)       (None, 64, 64, 32)   0           conv2d_1[0][0]                   \n",
      "__________________________________________________________________________________________________\n",
      "conv2d_2 (Conv2D)               (None, 32, 32, 32)   4128        leaky_re_lu_1[0][0]              \n",
      "__________________________________________________________________________________________________\n",
      "leaky_re_lu_2 (LeakyReLU)       (None, 32, 32, 32)   0           conv2d_2[0][0]                   \n",
      "__________________________________________________________________________________________________\n",
      "conv2d_3 (Conv2D)               (None, 16, 16, 32)   4128        leaky_re_lu_2[0][0]              \n",
      "__________________________________________________________________________________________________\n",
      "leaky_re_lu_3 (LeakyReLU)       (None, 16, 16, 32)   0           conv2d_3[0][0]                   \n",
      "__________________________________________________________________________________________________\n",
      "conv2d_4 (Conv2D)               (None, 8, 8, 32)     4128        leaky_re_lu_3[0][0]              \n",
      "__________________________________________________________________________________________________\n",
      "leaky_re_lu_4 (LeakyReLU)       (None, 8, 8, 32)     0           conv2d_4[0][0]                   \n",
      "__________________________________________________________________________________________________\n",
      "conv2d_5 (Conv2D)               (None, 4, 4, 64)     8256        leaky_re_lu_4[0][0]              \n",
      "__________________________________________________________________________________________________\n",
      "leaky_re_lu_5 (LeakyReLU)       (None, 4, 4, 64)     0           conv2d_5[0][0]                   \n",
      "__________________________________________________________________________________________________\n",
      "up_sampling2d_1 (UpSampling2D)  (None, 8, 8, 64)     0           leaky_re_lu_5[0][0]              \n",
      "__________________________________________________________________________________________________\n",
      "concatenate_1 (Concatenate)     (None, 8, 8, 96)     0           conv2d_4[0][0]                   \n",
      "                                                                 up_sampling2d_1[0][0]            \n",
      "__________________________________________________________________________________________________\n",
      "conv2d_6 (Conv2D)               (None, 8, 8, 32)     49184       concatenate_1[0][0]              \n",
      "__________________________________________________________________________________________________\n",
      "leaky_re_lu_6 (LeakyReLU)       (None, 8, 8, 32)     0           conv2d_6[0][0]                   \n",
      "__________________________________________________________________________________________________\n",
      "up_sampling2d_2 (UpSampling2D)  (None, 16, 16, 32)   0           leaky_re_lu_6[0][0]              \n",
      "__________________________________________________________________________________________________\n",
      "concatenate_2 (Concatenate)     (None, 16, 16, 64)   0           conv2d_3[0][0]                   \n",
      "                                                                 up_sampling2d_2[0][0]            \n",
      "__________________________________________________________________________________________________\n",
      "conv2d_7 (Conv2D)               (None, 16, 16, 32)   32800       concatenate_2[0][0]              \n",
      "__________________________________________________________________________________________________\n",
      "leaky_re_lu_7 (LeakyReLU)       (None, 16, 16, 32)   0           conv2d_7[0][0]                   \n",
      "__________________________________________________________________________________________________\n",
      "up_sampling2d_3 (UpSampling2D)  (None, 32, 32, 32)   0           leaky_re_lu_7[0][0]              \n",
      "__________________________________________________________________________________________________\n",
      "concatenate_3 (Concatenate)     (None, 32, 32, 64)   0           conv2d_2[0][0]                   \n",
      "                                                                 up_sampling2d_3[0][0]            \n",
      "__________________________________________________________________________________________________\n",
      "conv2d_8 (Conv2D)               (None, 32, 32, 32)   32800       concatenate_3[0][0]              \n",
      "__________________________________________________________________________________________________\n",
      "leaky_re_lu_8 (LeakyReLU)       (None, 32, 32, 32)   0           conv2d_8[0][0]                   \n",
      "__________________________________________________________________________________________________\n",
      "up_sampling2d_4 (UpSampling2D)  (None, 64, 64, 32)   0           leaky_re_lu_8[0][0]              \n",
      "__________________________________________________________________________________________________\n",
      "concatenate_4 (Concatenate)     (None, 64, 64, 64)   0           conv2d_1[0][0]                   \n",
      "                                                                 up_sampling2d_4[0][0]            \n",
      "__________________________________________________________________________________________________\n",
      "conv2d_9 (Conv2D)               (None, 64, 64, 32)   32800       concatenate_4[0][0]              \n",
      "__________________________________________________________________________________________________\n",
      "leaky_re_lu_9 (LeakyReLU)       (None, 64, 64, 32)   0           conv2d_9[0][0]                   \n",
      "__________________________________________________________________________________________________\n",
      "conv2d_10 (Conv2D)              (None, 64, 64, 1)    513         leaky_re_lu_9[0][0]              \n",
      "==================================================================================================\n",
      "Total params: 169,281\n",
      "Trainable params: 169,281\n",
      "Non-trainable params: 0\n",
      "__________________________________________________________________________________________________\n"
     ]
    }
   ],
   "source": [
    "generator.summary()"
   ]
  },
  {
   "cell_type": "markdown",
   "metadata": {},
   "source": [
    "Make discriminator and compile."
   ]
  },
  {
   "cell_type": "code",
   "execution_count": 10,
   "metadata": {},
   "outputs": [],
   "source": [
    "discriminator = src.spatial_discriminator(condition_shape=gan_train.shape[1:], dropout = 0.25, batchnorm=True)\n",
    "discriminator.compile(loss=keras.losses.binary_crossentropy,optimizer=keras.optimizers.SGD(),\n",
    "                      metrics=[keras.metrics.binary_accuracy])"
   ]
  },
  {
   "cell_type": "markdown",
   "metadata": {},
   "source": [
    "Inputs and outputs of the GAN."
   ]
  },
  {
   "cell_type": "code",
   "execution_count": 11,
   "metadata": {},
   "outputs": [],
   "source": [
    "frame_t = keras.layers.Input(shape=gan_train.shape[1:])"
   ]
  },
  {
   "cell_type": "code",
   "execution_count": 12,
   "metadata": {},
   "outputs": [
    {
     "data": {
      "text/plain": [
       "TensorShape([Dimension(None), Dimension(64), Dimension(64), Dimension(4)])"
      ]
     },
     "execution_count": 12,
     "metadata": {},
     "output_type": "execute_result"
    }
   ],
   "source": [
    "frame_t.shape"
   ]
  },
  {
   "cell_type": "code",
   "execution_count": 13,
   "metadata": {},
   "outputs": [],
   "source": [
    "generated = generator(frame_t)"
   ]
  },
  {
   "cell_type": "code",
   "execution_count": 14,
   "metadata": {},
   "outputs": [],
   "source": [
    "score = discriminator([frame_t, generated])"
   ]
  },
  {
   "cell_type": "markdown",
   "metadata": {},
   "source": [
    "Freeze discriminator weights."
   ]
  },
  {
   "cell_type": "code",
   "execution_count": 15,
   "metadata": {},
   "outputs": [],
   "source": [
    "discriminator.trainable = False"
   ]
  },
  {
   "cell_type": "markdown",
   "metadata": {},
   "source": [
    "Compile combined model."
   ]
  },
  {
   "cell_type": "code",
   "execution_count": 16,
   "metadata": {},
   "outputs": [],
   "source": [
    "loss_weights=[0.1,1]"
   ]
  },
  {
   "cell_type": "code",
   "execution_count": 17,
   "metadata": {},
   "outputs": [],
   "source": [
    "combined = keras.models.Model(inputs=[frame_t], outputs=[generated, score])"
   ]
  },
  {
   "cell_type": "code",
   "execution_count": 19,
   "metadata": {
    "scrolled": true
   },
   "outputs": [
    {
     "name": "stdout",
     "output_type": "stream",
     "text": [
      "***Using L1 loss.***\n"
     ]
    }
   ],
   "source": [
    "combined.compile(loss=[src.custom_loss(loss=\"l1\"), keras.losses.binary_crossentropy], optimizer=keras.optimizers.Adam(0.0002, 0.5),\n",
    "                 loss_weights=loss_weights)"
   ]
  },
  {
   "cell_type": "markdown",
   "metadata": {},
   "source": [
    "Train x epochs."
   ]
  },
  {
   "cell_type": "code",
   "execution_count": 20,
   "metadata": {},
   "outputs": [],
   "source": [
    "epochs = 100"
   ]
  },
  {
   "cell_type": "code",
   "execution_count": 21,
   "metadata": {},
   "outputs": [],
   "source": [
    "\n",
    "log = {\"g_loss\":[],\n",
    "               \"d_loss\":[],\n",
    "               \"g_metric\":[],\n",
    "               \"d_metric\":[],\n",
    "      \"d_loss_real\":[],\n",
    "      \"d_loss_fake\":[],\n",
    "      \"d_test_real\":[],\n",
    "      \"d_test_fake\":[]}"
   ]
  },
  {
   "cell_type": "code",
   "execution_count": 26,
   "metadata": {
    "scrolled": true
   },
   "outputs": [
    {
     "name": "stdout",
     "output_type": "stream",
     "text": [
      "\u001b[1m 0 [D loss: 1.1088398694992065, acc.: 20.3125]\u001b[0m\u001b[1m[G loss: 1.0761208534240723, G obj.: 0.16393080353736877, G bce.: 1.0597277879714966]\u001b[0m\n",
      "real loss: [1.1445358, 0.234375], fake loss: [1.073144, 0.171875]\n",
      "\u001b[1m 1 [D loss: 1.0602788925170898, acc.: 19.53125]\u001b[0m\u001b[1m[G loss: 1.1862636804580688, G obj.: 0.15217742323875427, G bce.: 1.1710458993911743]\u001b[0m\n",
      "real loss: [1.0310283, 0.234375], fake loss: [1.0895296, 0.15625]\n",
      "\u001b[1m 2 [D loss: 1.2423008680343628, acc.: 7.8125]\u001b[0m\u001b[1m[G loss: 1.1620651483535767, G obj.: 0.13077087700366974, G bce.: 1.1489880084991455]\u001b[0m\n",
      "real loss: [1.2520127, 0.078125], fake loss: [1.232589, 0.078125]\n",
      "\u001b[1m 3 [D loss: 1.095888376235962, acc.: 17.96875]\u001b[0m\u001b[1m[G loss: 1.0398706197738647, G obj.: 0.14155927300453186, G bce.: 1.025714635848999]\u001b[0m\n",
      "real loss: [1.121751, 0.1875], fake loss: [1.0700259, 0.171875]\n",
      "\u001b[1m 4 [D loss: 1.0709245204925537, acc.: 17.96875]\u001b[0m\u001b[1m[G loss: 1.1045937538146973, G obj.: 0.14502984285354614, G bce.: 1.0900907516479492]\u001b[0m\n",
      "real loss: [1.0342063, 0.203125], fake loss: [1.1076429, 0.15625]\n",
      "\u001b[1m 5 [D loss: 1.0712237358093262, acc.: 22.65625]\u001b[0m\u001b[1m[G loss: 1.1892402172088623, G obj.: 0.13889232277870178, G bce.: 1.1753510236740112]\u001b[0m\n",
      "real loss: [1.0544338, 0.234375], fake loss: [1.0880138, 0.21875]\n",
      "\u001b[1m 6 [D loss: 1.056983470916748, acc.: 19.53125]\u001b[0m\u001b[1m[G loss: 1.061376690864563, G obj.: 0.14161725342273712, G bce.: 1.0472149848937988]\u001b[0m\n",
      "real loss: [1.1207542, 0.140625], fake loss: [0.99321276, 0.25]\n",
      "\u001b[1m 7 [D loss: 1.1697218418121338, acc.: 14.0625]\u001b[0m\u001b[1m[G loss: 1.0797367095947266, G obj.: 0.13336703181266785, G bce.: 1.0664000511169434]\u001b[0m\n",
      "real loss: [1.1488885, 0.1875], fake loss: [1.1905552, 0.09375]\n",
      "\u001b[1m 8 [D loss: 1.0975326299667358, acc.: 17.1875]\u001b[0m\u001b[1m[G loss: 1.1652311086654663, G obj.: 0.1411709487438202, G bce.: 1.1511139869689941]\u001b[0m\n",
      "real loss: [1.0702057, 0.171875], fake loss: [1.1248596, 0.171875]\n",
      "\u001b[1m 9 [D loss: 1.1025331020355225, acc.: 19.53125]\u001b[0m\u001b[1m[G loss: 1.1631971597671509, G obj.: 0.1316370964050293, G bce.: 1.1500334739685059]\u001b[0m\n",
      "real loss: [1.0701107, 0.21875], fake loss: [1.1349555, 0.171875]\n",
      "\u001b[1m 10 [D loss: 1.1692676544189453, acc.: 9.375]\u001b[0m\u001b[1m[G loss: 1.0334060192108154, G obj.: 0.13598552346229553, G bce.: 1.0198074579238892]\u001b[0m\n",
      "real loss: [1.2382818, 0.09375], fake loss: [1.1002536, 0.09375]\n",
      "\u001b[1m 11 [D loss: 1.0492007732391357, acc.: 21.09375]\u001b[0m\u001b[1m[G loss: 1.1227531433105469, G obj.: 0.14287197589874268, G bce.: 1.1084659099578857]\u001b[0m\n",
      "real loss: [1.031949, 0.21875], fake loss: [1.0664526, 0.203125]\n",
      "\u001b[1m 12 [D loss: 1.1044186353683472, acc.: 17.1875]\u001b[0m\u001b[1m[G loss: 1.1675565242767334, G obj.: 0.1394292712211609, G bce.: 1.153613567352295]\u001b[0m\n",
      "real loss: [1.1184049, 0.1875], fake loss: [1.0904324, 0.15625]\n",
      "\u001b[1m 13 [D loss: 1.0738309621810913, acc.: 18.75]\u001b[0m\u001b[1m[G loss: 1.1846507787704468, G obj.: 0.13691097497940063, G bce.: 1.170959711074829]\u001b[0m\n",
      "real loss: [1.0902677, 0.15625], fake loss: [1.0573943, 0.21875]\n",
      "\u001b[1m 14 [D loss: 1.0854156017303467, acc.: 20.3125]\u001b[0m\u001b[1m[G loss: 1.1702617406845093, G obj.: 0.130785271525383, G bce.: 1.1571831703186035]\u001b[0m\n",
      "real loss: [1.13277, 0.171875], fake loss: [1.0380614, 0.234375]\n",
      "\u001b[1m 15 [D loss: 1.100562334060669, acc.: 17.96875]\u001b[0m\u001b[1m[G loss: 1.1855170726776123, G obj.: 0.13043472170829773, G bce.: 1.1724735498428345]\u001b[0m\n",
      "real loss: [1.0187651, 0.21875], fake loss: [1.1823597, 0.140625]\n",
      "\u001b[1m 16 [D loss: 1.1296584606170654, acc.: 17.1875]\u001b[0m\u001b[1m[G loss: 1.1082179546356201, G obj.: 0.1421394944190979, G bce.: 1.0940040349960327]\u001b[0m\n",
      "real loss: [1.1301806, 0.1875], fake loss: [1.1291363, 0.15625]\n",
      "\u001b[1m 17 [D loss: 1.0456968545913696, acc.: 25.0]\u001b[0m\u001b[1m[G loss: 1.008522629737854, G obj.: 0.14044329524040222, G bce.: 0.9944783449172974]\u001b[0m\n",
      "real loss: [1.1344953, 0.15625], fake loss: [0.95689845, 0.34375]\n",
      "\u001b[1m 18 [D loss: 1.1348412036895752, acc.: 12.5]\u001b[0m\u001b[1m[G loss: 1.1710138320922852, G obj.: 0.1355379819869995, G bce.: 1.1574599742889404]\u001b[0m\n",
      "real loss: [1.1019475, 0.140625], fake loss: [1.1677347, 0.109375]\n",
      "\u001b[1m 19 [D loss: 1.202061414718628, acc.: 11.71875]\u001b[0m\u001b[1m[G loss: 1.1408535242080688, G obj.: 0.1326020359992981, G bce.: 1.1275932788848877]\u001b[0m\n",
      "real loss: [1.2452195, 0.09375], fake loss: [1.1589032, 0.140625]\n",
      "\u001b[1m 20 [D loss: 1.039137840270996, acc.: 23.4375]\u001b[0m\u001b[1m[G loss: 0.9797948598861694, G obj.: 0.12970595061779022, G bce.: 0.9668242931365967]\u001b[0m\n",
      "real loss: [1.0554333, 0.203125], fake loss: [1.0228424, 0.265625]\n",
      "\u001b[1m 21 [D loss: 1.0249552726745605, acc.: 21.09375]\u001b[0m\u001b[1m[G loss: 1.0134024620056152, G obj.: 0.13506412506103516, G bce.: 0.9998960494995117]\u001b[0m\n",
      "real loss: [1.014066, 0.25], fake loss: [1.0358444, 0.171875]\n",
      "\u001b[1m 22 [D loss: 1.125922441482544, acc.: 15.625]\u001b[0m\u001b[1m[G loss: 1.0125625133514404, G obj.: 0.14141450822353363, G bce.: 0.9984210729598999]\u001b[0m\n",
      "real loss: [1.1103725, 0.15625], fake loss: [1.1414723, 0.15625]\n",
      "\u001b[1m 23 [D loss: 1.1031368970870972, acc.: 10.9375]\u001b[0m\u001b[1m[G loss: 1.1327975988388062, G obj.: 0.12468703091144562, G bce.: 1.1203289031982422]\u001b[0m\n",
      "real loss: [1.1031549, 0.09375], fake loss: [1.1031189, 0.125]\n",
      "\u001b[1m 24 [D loss: 1.0089902877807617, acc.: 20.3125]\u001b[0m\u001b[1m[G loss: 1.0046685934066772, G obj.: 0.11884401738643646, G bce.: 0.9927841424942017]\u001b[0m\n",
      "real loss: [1.0022074, 0.234375], fake loss: [1.0157733, 0.171875]\n",
      "\u001b[1m 25 [D loss: 1.060767650604248, acc.: 16.40625]\u001b[0m\u001b[1m[G loss: 1.0032724142074585, G obj.: 0.13068470358848572, G bce.: 0.9902039766311646]\u001b[0m\n",
      "real loss: [1.0897808, 0.140625], fake loss: [1.0317545, 0.1875]\n",
      "\u001b[1m 26 [D loss: 1.022737741470337, acc.: 20.3125]\u001b[0m\u001b[1m[G loss: 0.968078076839447, G obj.: 0.13812217116355896, G bce.: 0.954265832901001]\u001b[0m\n",
      "real loss: [1.0148308, 0.203125], fake loss: [1.0306447, 0.203125]\n",
      "\u001b[1m 27 [D loss: 1.056801438331604, acc.: 17.96875]\u001b[0m\u001b[1m[G loss: 1.1442897319793701, G obj.: 0.1358226239681244, G bce.: 1.1307075023651123]\u001b[0m\n",
      "real loss: [1.0076973, 0.171875], fake loss: [1.1059055, 0.1875]\n",
      "\u001b[1m 28 [D loss: 1.1284592151641846, acc.: 14.84375]\u001b[0m\u001b[1m[G loss: 1.0153899192810059, G obj.: 0.1324373483657837, G bce.: 1.0021462440490723]\u001b[0m\n",
      "real loss: [1.1235018, 0.125], fake loss: [1.1334168, 0.171875]\n",
      "\u001b[1m 29 [D loss: 1.1219114065170288, acc.: 16.40625]\u001b[0m\u001b[1m[G loss: 1.0970622301101685, G obj.: 0.141293004155159, G bce.: 1.082932949066162]\u001b[0m\n",
      "real loss: [1.1313492, 0.140625], fake loss: [1.1124736, 0.1875]\n",
      "\u001b[1m 30 [D loss: 1.0637476444244385, acc.: 17.1875]\u001b[0m\u001b[1m[G loss: 1.0150374174118042, G obj.: 0.13908983767032623, G bce.: 1.0011284351348877]\u001b[0m\n",
      "real loss: [1.076803, 0.171875], fake loss: [1.0506924, 0.171875]\n",
      "\u001b[1m 31 [D loss: 0.9248640537261963, acc.: 28.125]\u001b[0m\u001b[1m[G loss: 1.1154738664627075, G obj.: 0.1387701779603958, G bce.: 1.1015968322753906]\u001b[0m\n",
      "real loss: [0.93380266, 0.296875], fake loss: [0.9159254, 0.265625]\n",
      "\u001b[1m 32 [D loss: 1.0916075706481934, acc.: 15.625]\u001b[0m\u001b[1m[G loss: 0.99405437707901, G obj.: 0.1563953012228012, G bce.: 0.9784148335456848]\u001b[0m\n",
      "real loss: [1.1174821, 0.15625], fake loss: [1.065733, 0.15625]\n",
      "\u001b[1m 33 [D loss: 1.1127502918243408, acc.: 16.40625]\u001b[0m\u001b[1m[G loss: 1.1132302284240723, G obj.: 0.1556902378797531, G bce.: 1.0976612567901611]\u001b[0m\n",
      "real loss: [1.0921217, 0.171875], fake loss: [1.133379, 0.15625]\n",
      "\u001b[1m 34 [D loss: 1.0271787643432617, acc.: 18.75]\u001b[0m\u001b[1m[G loss: 1.0814648866653442, G obj.: 0.17355188727378845, G bce.: 1.0641096830368042]\u001b[0m\n",
      "real loss: [1.0731502, 0.1875], fake loss: [0.9812073, 0.1875]\n",
      "\u001b[1m 35 [D loss: 1.0337202548980713, acc.: 14.0625]\u001b[0m\u001b[1m[G loss: 1.0808074474334717, G obj.: 0.16913387179374695, G bce.: 1.0638940334320068]\u001b[0m\n",
      "real loss: [0.9764656, 0.140625], fake loss: [1.090975, 0.140625]\n",
      "\u001b[1m 36 [D loss: 1.1318821907043457, acc.: 13.28125]\u001b[0m\u001b[1m[G loss: 1.0519963502883911, G obj.: 0.1412377953529358, G bce.: 1.037872552871704]\u001b[0m\n",
      "real loss: [1.1503229, 0.140625], fake loss: [1.1134415, 0.125]\n",
      "\u001b[1m 37 [D loss: 0.9866375923156738, acc.: 26.5625]\u001b[0m\u001b[1m[G loss: 1.1287835836410522, G obj.: 0.13734635710716248, G bce.: 1.1150490045547485]\u001b[0m\n",
      "real loss: [0.9932325, 0.203125], fake loss: [0.9800427, 0.328125]\n",
      "\u001b[1m 38 [D loss: 1.2068427801132202, acc.: 17.96875]\u001b[0m\u001b[1m[G loss: 1.1874412298202515, G obj.: 0.12329253554344177, G bce.: 1.175112009048462]\u001b[0m\n",
      "real loss: [1.1413915, 0.1875], fake loss: [1.272294, 0.171875]\n"
     ]
    },
    {
     "name": "stdout",
     "output_type": "stream",
     "text": [
      "\u001b[1m 39 [D loss: 1.0948066711425781, acc.: 17.1875]\u001b[0m\u001b[1m[G loss: 1.0112416744232178, G obj.: 0.12209728360176086, G bce.: 0.9990319013595581]\u001b[0m\n",
      "real loss: [1.1359468, 0.15625], fake loss: [1.0536665, 0.1875]\n",
      "\u001b[1m 40 [D loss: 1.0481841564178467, acc.: 17.96875]\u001b[0m\u001b[1m[G loss: 1.1266789436340332, G obj.: 0.12816926836967468, G bce.: 1.1138620376586914]\u001b[0m\n",
      "real loss: [1.0485133, 0.171875], fake loss: [1.0478549, 0.1875]\n",
      "\u001b[1m 41 [D loss: 1.0548927783966064, acc.: 19.53125]\u001b[0m\u001b[1m[G loss: 1.095626711845398, G obj.: 0.12098124623298645, G bce.: 1.0835286378860474]\u001b[0m\n",
      "real loss: [1.093347, 0.171875], fake loss: [1.0164387, 0.21875]\n",
      "\u001b[1m 42 [D loss: 1.0362701416015625, acc.: 11.71875]\u001b[0m\u001b[1m[G loss: 1.0387377738952637, G obj.: 0.1233779639005661, G bce.: 1.0263999700546265]\u001b[0m\n",
      "real loss: [1.0194216, 0.09375], fake loss: [1.0531187, 0.140625]\n",
      "\u001b[1m 43 [D loss: 1.00376296043396, acc.: 27.34375]\u001b[0m\u001b[1m[G loss: 1.1024136543273926, G obj.: 0.11374753713607788, G bce.: 1.0910389423370361]\u001b[0m\n",
      "real loss: [0.994856, 0.265625], fake loss: [1.01267, 0.28125]\n",
      "\u001b[1m 44 [D loss: 1.0284322500228882, acc.: 20.3125]\u001b[0m\u001b[1m[G loss: 1.0528289079666138, G obj.: 0.13252896070480347, G bce.: 1.0395760536193848]\u001b[0m\n",
      "real loss: [0.97434086, 0.25], fake loss: [1.0825237, 0.15625]\n",
      "\u001b[1m 45 [D loss: 1.111171841621399, acc.: 14.0625]\u001b[0m\u001b[1m[G loss: 1.0535911321640015, G obj.: 0.1175975650548935, G bce.: 1.041831374168396]\u001b[0m\n",
      "real loss: [1.1012473, 0.140625], fake loss: [1.1210964, 0.140625]\n",
      "\u001b[1m 46 [D loss: 1.0940815210342407, acc.: 14.84375]\u001b[0m\u001b[1m[G loss: 1.0999619960784912, G obj.: 0.12309269607067108, G bce.: 1.0876526832580566]\u001b[0m\n",
      "real loss: [1.0735023, 0.171875], fake loss: [1.1146607, 0.125]\n",
      "\u001b[1m 47 [D loss: 1.0944185256958008, acc.: 16.40625]\u001b[0m\u001b[1m[G loss: 1.1675114631652832, G obj.: 0.12104743719100952, G bce.: 1.1554067134857178]\u001b[0m\n",
      "real loss: [1.0773954, 0.203125], fake loss: [1.1114416, 0.125]\n",
      "\u001b[1m 48 [D loss: 1.0363061428070068, acc.: 23.4375]\u001b[0m\u001b[1m[G loss: 1.0535145998001099, G obj.: 0.11949686706066132, G bce.: 1.04156494140625]\u001b[0m\n",
      "real loss: [1.1016748, 0.171875], fake loss: [0.9709376, 0.296875]\n",
      "\u001b[1m 49 [D loss: 1.1122711896896362, acc.: 17.1875]\u001b[0m\u001b[1m[G loss: 0.9985962510108948, G obj.: 0.12192804366350174, G bce.: 0.9864034652709961]\u001b[0m\n",
      "real loss: [1.083003, 0.1875], fake loss: [1.1415393, 0.15625]\n",
      "\u001b[1m 50 [D loss: 1.0957603454589844, acc.: 14.84375]\u001b[0m\u001b[1m[G loss: 1.001381754875183, G obj.: 0.11707311868667603, G bce.: 0.9896743893623352]\u001b[0m\n",
      "real loss: [1.103363, 0.109375], fake loss: [1.0881575, 0.1875]\n",
      "\u001b[1m 51 [D loss: 1.1510930061340332, acc.: 8.59375]\u001b[0m\u001b[1m[G loss: 1.1570594310760498, G obj.: 0.1226235181093216, G bce.: 1.1447970867156982]\u001b[0m\n",
      "real loss: [1.1329055, 0.109375], fake loss: [1.1692805, 0.0625]\n",
      "\u001b[1m 52 [D loss: 1.0535447597503662, acc.: 14.84375]\u001b[0m\u001b[1m[G loss: 0.9923776984214783, G obj.: 0.1271612048149109, G bce.: 0.9796615839004517]\u001b[0m\n",
      "real loss: [1.0488795, 0.140625], fake loss: [1.0582099, 0.15625]\n",
      "\u001b[1m 53 [D loss: 1.115304708480835, acc.: 13.28125]\u001b[0m\u001b[1m[G loss: 1.1150304079055786, G obj.: 0.12816092371940613, G bce.: 1.1022143363952637]\u001b[0m\n",
      "real loss: [1.0907174, 0.140625], fake loss: [1.1398919, 0.125]\n",
      "\u001b[1m 54 [D loss: 1.048339605331421, acc.: 18.75]\u001b[0m\u001b[1m[G loss: 1.0462721586227417, G obj.: 0.12784597277641296, G bce.: 1.0334875583648682]\u001b[0m\n",
      "real loss: [1.1112895, 0.15625], fake loss: [0.9853898, 0.21875]\n",
      "\u001b[1m 55 [D loss: 1.0817031860351562, acc.: 16.40625]\u001b[0m\u001b[1m[G loss: 1.0423520803451538, G obj.: 0.13428112864494324, G bce.: 1.0289239883422852]\u001b[0m\n",
      "real loss: [1.0299596, 0.203125], fake loss: [1.1334469, 0.125]\n",
      "\u001b[1m 56 [D loss: 1.0432367324829102, acc.: 17.96875]\u001b[0m\u001b[1m[G loss: 0.9833160042762756, G obj.: 0.12066768109798431, G bce.: 0.9712492227554321]\u001b[0m\n",
      "real loss: [1.0917082, 0.15625], fake loss: [0.9947653, 0.203125]\n",
      "\u001b[1m 57 [D loss: 1.040433406829834, acc.: 16.40625]\u001b[0m\u001b[1m[G loss: 0.9600504040718079, G obj.: 0.12509356439113617, G bce.: 0.9475410580635071]\u001b[0m\n",
      "real loss: [1.0954676, 0.140625], fake loss: [0.9853991, 0.1875]\n",
      "\u001b[1m 58 [D loss: 1.0042724609375, acc.: 17.1875]\u001b[0m\u001b[1m[G loss: 1.0589344501495361, G obj.: 0.12494519352912903, G bce.: 1.0464398860931396]\u001b[0m\n",
      "real loss: [0.9776333, 0.171875], fake loss: [1.0309116, 0.171875]\n",
      "\u001b[1m 59 [D loss: 1.008111834526062, acc.: 17.1875]\u001b[0m\u001b[1m[G loss: 0.9902271032333374, G obj.: 0.135573148727417, G bce.: 0.9766697883605957]\u001b[0m\n",
      "real loss: [0.9765287, 0.234375], fake loss: [1.039695, 0.109375]\n",
      "\u001b[1m 60 [D loss: 1.0097546577453613, acc.: 16.40625]\u001b[0m\u001b[1m[G loss: 0.9977450966835022, G obj.: 0.1333983689546585, G bce.: 0.9844052791595459]\u001b[0m\n",
      "real loss: [0.9891193, 0.171875], fake loss: [1.03039, 0.15625]\n",
      "\u001b[1m 61 [D loss: 0.9779517650604248, acc.: 22.65625]\u001b[0m\u001b[1m[G loss: 1.002070665359497, G obj.: 0.13348764181137085, G bce.: 0.9887218475341797]\u001b[0m\n",
      "real loss: [0.93080246, 0.234375], fake loss: [1.0251011, 0.21875]\n",
      "\u001b[1m 62 [D loss: 1.0315203666687012, acc.: 21.875]\u001b[0m\u001b[1m[G loss: 1.073067545890808, G obj.: 0.13443851470947266, G bce.: 1.0596237182617188]\u001b[0m\n",
      "real loss: [1.0772362, 0.1875], fake loss: [0.98580444, 0.25]\n",
      "\u001b[1m 63 [D loss: 1.0571346282958984, acc.: 22.65625]\u001b[0m\u001b[1m[G loss: 1.002144694328308, G obj.: 0.1455148607492447, G bce.: 0.9875931739807129]\u001b[0m\n",
      "real loss: [1.0406934, 0.265625], fake loss: [1.073576, 0.1875]\n",
      "\u001b[1m 64 [D loss: 1.0023367404937744, acc.: 20.3125]\u001b[0m\u001b[1m[G loss: 1.0456500053405762, G obj.: 0.1364990472793579, G bce.: 1.0320000648498535]\u001b[0m\n",
      "real loss: [0.98299783, 0.203125], fake loss: [1.0216756, 0.203125]\n",
      "\u001b[1m 65 [D loss: 1.035865068435669, acc.: 17.96875]\u001b[0m\u001b[1m[G loss: 1.0218212604522705, G obj.: 0.14061133563518524, G bce.: 1.0077601671218872]\u001b[0m\n",
      "real loss: [1.0154246, 0.171875], fake loss: [1.0563056, 0.1875]\n",
      "\u001b[1m 66 [D loss: 1.0760149955749512, acc.: 20.3125]\u001b[0m\u001b[1m[G loss: 1.0338196754455566, G obj.: 0.1504485011100769, G bce.: 1.0187748670578003]\u001b[0m\n",
      "real loss: [1.1061119, 0.234375], fake loss: [1.045918, 0.171875]\n",
      "\u001b[1m 67 [D loss: 1.0903377532958984, acc.: 18.75]\u001b[0m\u001b[1m[G loss: 1.0712796449661255, G obj.: 0.1416824907064438, G bce.: 1.057111382484436]\u001b[0m\n",
      "real loss: [1.0950737, 0.1875], fake loss: [1.0856017, 0.1875]\n",
      "\u001b[1m 68 [D loss: 0.9887864589691162, acc.: 16.40625]\u001b[0m\u001b[1m[G loss: 1.086289644241333, G obj.: 0.14658473432064056, G bce.: 1.0716311931610107]\u001b[0m\n",
      "real loss: [0.94219166, 0.1875], fake loss: [1.0353813, 0.140625]\n",
      "\u001b[1m 69 [D loss: 1.051527738571167, acc.: 12.5]\u001b[0m\u001b[1m[G loss: 1.0341391563415527, G obj.: 0.13599437475204468, G bce.: 1.0205397605895996]\u001b[0m\n",
      "real loss: [1.1150435, 0.09375], fake loss: [0.98801196, 0.15625]\n",
      "\u001b[1m 70 [D loss: 1.0051486492156982, acc.: 17.96875]\u001b[0m\u001b[1m[G loss: 0.9372764825820923, G obj.: 0.13853883743286133, G bce.: 0.9234225749969482]\u001b[0m\n",
      "real loss: [0.9999628, 0.21875], fake loss: [1.0103344, 0.140625]\n",
      "\u001b[1m 71 [D loss: 1.0558208227157593, acc.: 16.40625]\u001b[0m\u001b[1m[G loss: 0.9539929628372192, G obj.: 0.1323726773262024, G bce.: 0.9407557249069214]\u001b[0m\n",
      "real loss: [1.0883892, 0.140625], fake loss: [1.0232525, 0.1875]\n",
      "\u001b[1m 72 [D loss: 1.0414299964904785, acc.: 20.3125]\u001b[0m\u001b[1m[G loss: 1.090142011642456, G obj.: 0.13225138187408447, G bce.: 1.0769168138504028]\u001b[0m\n",
      "real loss: [0.9655594, 0.265625], fake loss: [1.1173005, 0.140625]\n",
      "\u001b[1m 73 [D loss: 0.9815534949302673, acc.: 22.65625]\u001b[0m\u001b[1m[G loss: 1.0574818849563599, G obj.: 0.14206558465957642, G bce.: 1.0432753562927246]\u001b[0m\n",
      "real loss: [1.0482284, 0.1875], fake loss: [0.9148786, 0.265625]\n",
      "\u001b[1m 74 [D loss: 0.9784579873085022, acc.: 18.75]\u001b[0m\u001b[1m[G loss: 0.9677538275718689, G obj.: 0.15230624377727509, G bce.: 0.9525232315063477]\u001b[0m\n",
      "real loss: [0.9880244, 0.203125], fake loss: [0.96889156, 0.171875]\n",
      "\u001b[1m 75 [D loss: 1.0354740619659424, acc.: 15.625]\u001b[0m\u001b[1m[G loss: 1.0906039476394653, G obj.: 0.16174176335334778, G bce.: 1.0744297504425049]\u001b[0m\n",
      "real loss: [1.0052136, 0.234375], fake loss: [1.0657344, 0.078125]\n",
      "\u001b[1m 76 [D loss: 1.0186586380004883, acc.: 21.09375]\u001b[0m\u001b[1m[G loss: 0.9700690507888794, G obj.: 0.1610555797815323, G bce.: 0.9539635181427002]\u001b[0m\n",
      "real loss: [1.0158339, 0.25], fake loss: [1.0214834, 0.171875]\n",
      "\u001b[1m 77 [D loss: 1.0890216827392578, acc.: 14.0625]\u001b[0m\u001b[1m[G loss: 0.9618346691131592, G obj.: 0.15769577026367188, G bce.: 0.9460650682449341]\u001b[0m\n",
      "real loss: [1.0564393, 0.15625], fake loss: [1.1216042, 0.125]\n"
     ]
    },
    {
     "name": "stdout",
     "output_type": "stream",
     "text": [
      "\u001b[1m 78 [D loss: 0.9808628559112549, acc.: 21.09375]\u001b[0m\u001b[1m[G loss: 1.061607837677002, G obj.: 0.17439155280590057, G bce.: 1.0441687107086182]\u001b[0m\n",
      "real loss: [0.97481096, 0.234375], fake loss: [0.9869147, 0.1875]\n",
      "\u001b[1m 79 [D loss: 0.994084894657135, acc.: 18.75]\u001b[0m\u001b[1m[G loss: 0.9595310688018799, G obj.: 0.1582246571779251, G bce.: 0.943708598613739]\u001b[0m\n",
      "real loss: [1.0515364, 0.15625], fake loss: [0.93663335, 0.21875]\n",
      "\u001b[1m 80 [D loss: 1.023301124572754, acc.: 14.84375]\u001b[0m\u001b[1m[G loss: 1.0416136980056763, G obj.: 0.14561475813388824, G bce.: 1.0270521640777588]\u001b[0m\n",
      "real loss: [0.9655509, 0.203125], fake loss: [1.0810515, 0.09375]\n",
      "\u001b[1m 81 [D loss: 1.0278114080429077, acc.: 22.65625]\u001b[0m\u001b[1m[G loss: 0.9927358031272888, G obj.: 0.13562050461769104, G bce.: 0.9791737794876099]\u001b[0m\n",
      "real loss: [1.0294812, 0.25], fake loss: [1.0261416, 0.203125]\n",
      "\u001b[1m 82 [D loss: 0.9781216979026794, acc.: 17.1875]\u001b[0m\u001b[1m[G loss: 1.0685338973999023, G obj.: 0.14767101407051086, G bce.: 1.0537668466567993]\u001b[0m\n",
      "real loss: [0.9316484, 0.203125], fake loss: [1.024595, 0.140625]\n",
      "\u001b[1m 83 [D loss: 1.1009843349456787, acc.: 9.375]\u001b[0m\u001b[1m[G loss: 1.0452953577041626, G obj.: 0.1460399031639099, G bce.: 1.030691385269165]\u001b[0m\n",
      "real loss: [1.1408898, 0.078125], fake loss: [1.0610788, 0.109375]\n",
      "\u001b[1m 84 [D loss: 1.0298281908035278, acc.: 14.84375]\u001b[0m\u001b[1m[G loss: 1.0490235090255737, G obj.: 0.14203904569149017, G bce.: 1.0348196029663086]\u001b[0m\n",
      "real loss: [1.0601186, 0.109375], fake loss: [0.9995379, 0.1875]\n",
      "\u001b[1m 85 [D loss: 1.0087496042251587, acc.: 15.625]\u001b[0m\u001b[1m[G loss: 0.8948111534118652, G obj.: 0.12372741848230362, G bce.: 0.8824384212493896]\u001b[0m\n",
      "real loss: [1.0001084, 0.15625], fake loss: [1.0173908, 0.15625]\n",
      "\u001b[1m 86 [D loss: 0.954861581325531, acc.: 20.3125]\u001b[0m\u001b[1m[G loss: 0.9383186101913452, G obj.: 0.13460269570350647, G bce.: 0.9248583316802979]\u001b[0m\n",
      "real loss: [0.9646361, 0.1875], fake loss: [0.9450871, 0.21875]\n",
      "\u001b[1m 87 [D loss: 1.0060392618179321, acc.: 16.40625]\u001b[0m\u001b[1m[G loss: 1.0545971393585205, G obj.: 0.14113962650299072, G bce.: 1.0404831171035767]\u001b[0m\n",
      "real loss: [0.9971328, 0.203125], fake loss: [1.0149457, 0.125]\n",
      "\u001b[1m 88 [D loss: 1.001706600189209, acc.: 16.40625]\u001b[0m\u001b[1m[G loss: 0.9540786147117615, G obj.: 0.14415457844734192, G bce.: 0.9396631717681885]\u001b[0m\n",
      "real loss: [1.0525444, 0.109375], fake loss: [0.95086884, 0.21875]\n",
      "\u001b[1m 89 [D loss: 0.9812255501747131, acc.: 17.1875]\u001b[0m\u001b[1m[G loss: 1.031124472618103, G obj.: 0.1625850945711136, G bce.: 1.0148659944534302]\u001b[0m\n",
      "real loss: [0.9535645, 0.25], fake loss: [1.0088866, 0.09375]\n",
      "\u001b[1m 90 [D loss: 0.9907589554786682, acc.: 17.96875]\u001b[0m\u001b[1m[G loss: 0.9953999519348145, G obj.: 0.17965717613697052, G bce.: 0.9774342179298401]\u001b[0m\n",
      "real loss: [1.0176466, 0.171875], fake loss: [0.96387136, 0.1875]\n",
      "\u001b[1m 91 [D loss: 1.006796956062317, acc.: 14.0625]\u001b[0m\u001b[1m[G loss: 0.9607041478157043, G obj.: 0.15538577735424042, G bce.: 0.9451655745506287]\u001b[0m\n",
      "real loss: [0.9623502, 0.203125], fake loss: [1.0512437, 0.078125]\n",
      "\u001b[1m 92 [D loss: 1.0053703784942627, acc.: 17.1875]\u001b[0m\u001b[1m[G loss: 0.9648116827011108, G obj.: 0.13693350553512573, G bce.: 0.9511183500289917]\u001b[0m\n",
      "real loss: [1.0128274, 0.171875], fake loss: [0.9979135, 0.171875]\n",
      "\u001b[1m 93 [D loss: 1.0549068450927734, acc.: 13.28125]\u001b[0m\u001b[1m[G loss: 1.0104986429214478, G obj.: 0.13551457226276398, G bce.: 0.996947169303894]\u001b[0m\n",
      "real loss: [1.0082158, 0.140625], fake loss: [1.1015978, 0.125]\n",
      "\u001b[1m 94 [D loss: 0.9837048053741455, acc.: 21.09375]\u001b[0m\u001b[1m[G loss: 1.0056122541427612, G obj.: 0.13246874511241913, G bce.: 0.9923653602600098]\u001b[0m\n",
      "real loss: [0.9844003, 0.171875], fake loss: [0.9830094, 0.25]\n",
      "\u001b[1m 95 [D loss: 0.9583696126937866, acc.: 21.09375]\u001b[0m\u001b[1m[G loss: 1.0005255937576294, G obj.: 0.14044475555419922, G bce.: 0.9864810705184937]\u001b[0m\n",
      "real loss: [0.98768145, 0.1875], fake loss: [0.9290578, 0.234375]\n",
      "\u001b[1m 96 [D loss: 0.9956894516944885, acc.: 19.53125]\u001b[0m\u001b[1m[G loss: 0.9083319306373596, G obj.: 0.12953174114227295, G bce.: 0.8953787684440613]\u001b[0m\n",
      "real loss: [0.96737635, 0.203125], fake loss: [1.0240026, 0.1875]\n",
      "\u001b[1m 97 [D loss: 1.0250991582870483, acc.: 17.1875]\u001b[0m\u001b[1m[G loss: 0.9844648838043213, G obj.: 0.12203357368707657, G bce.: 0.9722615480422974]\u001b[0m\n",
      "real loss: [1.0278037, 0.140625], fake loss: [1.0223947, 0.203125]\n",
      "\u001b[1m 98 [D loss: 1.0349433422088623, acc.: 18.75]\u001b[0m\u001b[1m[G loss: 0.9765530824661255, G obj.: 0.13261303305625916, G bce.: 0.9632917642593384]\u001b[0m\n",
      "real loss: [1.0195723, 0.1875], fake loss: [1.0503143, 0.1875]\n",
      "\u001b[1m 99 [D loss: 0.9784810543060303, acc.: 17.96875]\u001b[0m\u001b[1m[G loss: 1.0053781270980835, G obj.: 0.14031139016151428, G bce.: 0.9913470149040222]\u001b[0m\n",
      "real loss: [0.9478947, 0.21875], fake loss: [1.0090674, 0.140625]\n"
     ]
    }
   ],
   "source": [
    "for epoch in range(epochs):\n",
    "    discriminator.trainable = True\n",
    "    idx = np.random.randint(0, gan_truth.shape[0], batch_size)\n",
    "    real_imgs = gan_truth[idx]\n",
    "    training_batch = gan_train[idx]\n",
    "        \n",
    "    generated_imgs = generator.predict(training_batch) \n",
    "    d_loss_real = discriminator.train_on_batch([training_batch, real_imgs], real)\n",
    "    d_loss_fake = discriminator.train_on_batch([training_batch, generated_imgs], fake)\n",
    "    d_loss = 0.5 * np.add(d_loss_real, d_loss_fake)\n",
    "    \n",
    "     #for l in discriminator.layers:\n",
    "     #   weights = l.get_weights()\n",
    "     #   weights = [np.clip(w, -clip_value, clip_value) for w in weights] \n",
    "     #   l.set_weights(weights)\n",
    "    \n",
    "    #d_test_real = discriminator.predict([training_batch, real_imgs])\n",
    "    #d_test_fake = discriminator.predict([training_batch, generated_imgs])\n",
    "    discriminator.trainable = False    \n",
    "    idx = np.random.randint(0, gan_train.shape[0], batch_size)\n",
    "    training_batch = gan_train[idx]\n",
    "    training_truth = gan_truth[idx]\n",
    "    \n",
    "    g_loss = combined.train_on_batch(training_batch, [training_truth, g_real])\n",
    "    \n",
    "    if g_loss[1] < 0.12 and loss_weights[0] > 2**(-1):\n",
    "        loss_weights[0] /= 2\n",
    "        combined.compile(loss=[src.custom_loss(loss=\"l1\"), keras.losses.binary_crossentropy], optimizer=keras.optimizers.Adam(0.0002, 0.5),\n",
    "                 loss_weights=loss_weights)\n",
    "    \n",
    "    log[\"g_loss\"].append(g_loss)\n",
    "    log[\"d_loss_real\"].append(d_loss_real[0])\n",
    "    log[\"d_loss_fake\"].append(d_loss_fake[0])\n",
    "    #log[\"d_test_real\"].append(d_test_real)\n",
    "    #log[\"d_test_fake\"].append(d_test_fake)\n",
    "    log[\"d_loss\"].append(d_loss[0])\n",
    "    log[\"d_metric\"].append(d_loss[1])\n",
    "    print(f\"\\033[1m {epoch} [D loss: {d_loss[0]}, acc.: {100*d_loss[1]}]\\033[0m\"+\n",
    "                  f\"\\033[1m[G loss: {g_loss[0]}, G obj.: {g_loss[1]}, G bce.: {g_loss[2]}]\\033[0m\")\n",
    "    print(f\"real loss: {d_loss_real}, fake loss: {d_loss_fake}\")\n",
    "    #print(f\"test real acc.: {np.mean(d_test_real)}, test fake acc.: {np.mean(d_test_fake)}\")\n",
    "    if epoch%10 == 0:\n",
    "        sample_images(epoch, gan_test, gan_test_truth, past)"
   ]
  },
  {
   "cell_type": "code",
   "execution_count": 23,
   "metadata": {},
   "outputs": [],
   "source": [
    "def sample_images(epoch, gan_test, gan_test_truth, past_input):\n",
    "    n = 5\n",
    "    test_batch = gan_test[:n]\n",
    "    test_truth = gan_test_truth[:n]\n",
    "    gen_imgs = generator.predict(test_batch)\n",
    "    plot_range = past_input \n",
    "    fig, axs = plt.subplots(n, plot_range+2, figsize=(16, 16))\n",
    "    for i in range(n):\n",
    "        vmax = np.max([np.max(test_batch[i]), np.max(test_truth[i])])\n",
    "        vmin = 0\n",
    "        for j in range(plot_range):\n",
    "            im = axs[i,j].imshow(test_batch[i, :,:,j], vmax=vmax,vmin=vmin)\n",
    "            axs[i,j].axis('off')\n",
    "            src.colorbar(im)\n",
    "            axs[i,j].set_title(\"Frame t\"+str([-past_input+1+j if j < past_input-1 else \"\"][0]))\n",
    "        im2 = axs[i,-2].imshow(test_truth[i, :,:,0], vmax=vmax, vmin=vmin)\n",
    "        axs[i,-2].axis('off')\n",
    "        src.colorbar(im2)                \n",
    "        axs[i,-2].set_title(\"Frame t+1\")\n",
    "        im3 = axs[i,-1].imshow(gen_imgs[i, :,:,0], vmax=vmax, vmin=vmin)\n",
    "        axs[i,-1].axis('off')\n",
    "        src.colorbar(im3)\n",
    "        axs[i,-1].set_title(\"Prediction t+1\")\n",
    "    fig.savefig(\"Plots/epoch %d.png\" % epoch)\n",
    "    plt.close()"
   ]
  },
  {
   "cell_type": "code",
   "execution_count": null,
   "metadata": {
    "scrolled": true
   },
   "outputs": [],
   "source": [
    "len(log[\"g_loss\"])"
   ]
  },
  {
   "cell_type": "code",
   "execution_count": null,
   "metadata": {},
   "outputs": [],
   "source": [
    "vx, vy = src.optical_flow(gan_train[:,:,:,-2:-1], gan_train[:,:,:,-1:], window_size=4, tau=1e-2)"
   ]
  },
  {
   "cell_type": "code",
   "execution_count": 27,
   "metadata": {
    "scrolled": true
   },
   "outputs": [
    {
     "name": "stderr",
     "output_type": "stream",
     "text": [
      "C:\\ProgramData\\Anaconda3\\lib\\site-packages\\scipy\\signal\\_arraytools.py:45: FutureWarning: Using a non-tuple sequence for multidimensional indexing is deprecated; use `arr[tuple(seq)]` instead of `arr[seq]`. In the future this will be interpreted as an array index, `arr[np.array(seq)]`, which will result either in an error or a different result.\n",
      "  b = a[a_slice]\n"
     ]
    },
    {
     "data": {
      "text/plain": [
       "<matplotlib.legend.Legend at 0x1cfe4bfbfd0>"
      ]
     },
     "execution_count": 27,
     "metadata": {},
     "output_type": "execute_result"
    },
    {
     "data": {
      "image/png": "[encoded data removed]",
      "text/plain": [
       "<matplotlib.figure.Figure at 0x1cfe32adef0>"
      ]
     },
     "metadata": {
      "needs_background": "light"
     },
     "output_type": "display_data"
    }
   ],
   "source": [
    "#%matplotlib notebook\n",
    "plt.plot(np.array(log[\"g_loss\"])[:,0], alpha=0.3,c=\"b\")\n",
    "plt.plot(np.array(log[\"d_loss\"]),alpha=0.3, c=\"orange\")\n",
    "\n",
    "#plt.plot(np.array(log[\"g_loss\"])[:,1], alpha=0.9,c=\"green\", label=\"L1 objective\")\n",
    "\n",
    "plt.plot(src.smooth(np.array(log[\"g_loss\"])[:,0]),c=\"b\", label=\"generator\")\n",
    "plt.plot(src.smooth(np.array(log[\"d_loss\"])),c=\"orange\", label=\"discriminator\")\n",
    "plt.grid()\n",
    "plt.xlabel(\"Iterations\")\n",
    "plt.ylabel(\"Loss\")\n",
    "plt.legend()\n",
    "#plt.savefig(\"sGAN_training_curves_r\")"
   ]
  },
  {
   "cell_type": "markdown",
   "metadata": {},
   "source": [
    "\n",
    "## Save network weights and log"
   ]
  },
  {
   "cell_type": "code",
   "execution_count": 56,
   "metadata": {},
   "outputs": [],
   "source": [
    "name = \"sgan_4-1\""
   ]
  },
  {
   "cell_type": "code",
   "execution_count": 47,
   "metadata": {
    "scrolled": true
   },
   "outputs": [],
   "source": [
    "predictions = generator.predict(gan_test)"
   ]
  },
  {
   "cell_type": "code",
   "execution_count": 48,
   "metadata": {},
   "outputs": [],
   "source": [
    "scores = src.calculate_skill_scores(predictions, gan_test_truth, gan_test, 0.3)"
   ]
  },
  {
   "cell_type": "code",
   "execution_count": 51,
   "metadata": {},
   "outputs": [],
   "source": [
    "for key in list(scores.keys()):\n",
    "    log[key] = scores[key]"
   ]
  },
  {
   "cell_type": "code",
   "execution_count": 64,
   "metadata": {},
   "outputs": [],
   "source": [
    "np.save(\"C:/Users/pkicsiny/Desktop/TUM/3/ADL4CV/ADL4CV_project/trainings/\"+name+\"/\"+name, log) "
   ]
  },
  {
   "cell_type": "code",
   "execution_count": 65,
   "metadata": {},
   "outputs": [],
   "source": [
    "combined.save_weights(\"C:/Users/pkicsiny/Desktop/TUM/3/ADL4CV/ADL4CV_project/trainings/\"+name+\"/\"+name)"
   ]
  },
  {
   "cell_type": "markdown",
   "metadata": {},
   "source": [
    "# Some visualisation"
   ]
  },
  {
   "cell_type": "code",
   "execution_count": 53,
   "metadata": {},
   "outputs": [
    {
     "data": {
      "text/plain": [
       "0.7522755633928455"
      ]
     },
     "execution_count": 53,
     "metadata": {},
     "output_type": "execute_result"
    }
   ],
   "source": [
    "np.mean(scores[\"corr_to_truth\"])"
   ]
  },
  {
   "cell_type": "code",
   "execution_count": 54,
   "metadata": {},
   "outputs": [
    {
     "data": {
      "text/plain": [
       "1.5669899952792217"
      ]
     },
     "execution_count": 54,
     "metadata": {},
     "output_type": "execute_result"
    }
   ],
   "source": [
    "np.mean(scores[\"corr_to_input\"])"
   ]
  },
  {
   "cell_type": "code",
   "execution_count": 43,
   "metadata": {},
   "outputs": [
    {
     "data": {
      "text/plain": [
       "<matplotlib.image.AxesImage at 0x1cfe4c759b0>"
      ]
     },
     "execution_count": 43,
     "metadata": {},
     "output_type": "execute_result"
    },
    {
     "data": {
      "image/png": "[encoded data removed]",
      "text/plain": [
       "<matplotlib.figure.Figure at 0x1cfe32a9828>"
      ]
     },
     "metadata": {
      "needs_background": "light"
     },
     "output_type": "display_data"
    }
   ],
   "source": [
    "#%matplotlib notebook\n",
    "plt.imshow(predictions[0,:,:,0], vmin=0)"
   ]
  },
  {
   "cell_type": "code",
   "execution_count": 44,
   "metadata": {},
   "outputs": [
    {
     "data": {
      "text/plain": [
       "<matplotlib.image.AxesImage at 0x1cfe53ab198>"
      ]
     },
     "execution_count": 44,
     "metadata": {},
     "output_type": "execute_result"
    },
    {
     "data": {
      "image/png": "[encoded data removed]",
      "text/plain": [
       "<matplotlib.figure.Figure at 0x1cfe32a99e8>"
      ]
     },
     "metadata": {
      "needs_background": "light"
     },
     "output_type": "display_data"
    }
   ],
   "source": [
    "#%matplotlib notebook\n",
    "plt.imshow(gan_test_truth[0,:,:,0], vmin=0)"
   ]
  },
  {
   "cell_type": "code",
   "execution_count": null,
   "metadata": {},
   "outputs": [],
   "source": [
    "scores = src.calculate_skill_scores(predictions, gan_test_truth, gan_test, 0.3)"
   ]
  },
  {
   "cell_type": "code",
   "execution_count": null,
   "metadata": {},
   "outputs": [],
   "source": [
    "np.mean(scores[\"corr_to_input\"])"
   ]
  },
  {
   "cell_type": "code",
   "execution_count": null,
   "metadata": {},
   "outputs": [],
   "source": [
    "np.mean(scores[\"corr_to_truth\"])"
   ]
  },
  {
   "cell_type": "code",
   "execution_count": null,
   "metadata": {},
   "outputs": [],
   "source": [
    "scores.keys()"
   ]
  },
  {
   "cell_type": "code",
   "execution_count": null,
   "metadata": {},
   "outputs": [],
   "source": [
    "np.mean(scores[\"csi\"])"
   ]
  },
  {
   "cell_type": "code",
   "execution_count": null,
   "metadata": {},
   "outputs": [],
   "source": [
    "np.mean(scores[\"far\"])"
   ]
  },
  {
   "cell_type": "code",
   "execution_count": null,
   "metadata": {},
   "outputs": [],
   "source": [
    "np.mean(scores[\"pod\"])"
   ]
  },
  {
   "cell_type": "code",
   "execution_count": null,
   "metadata": {},
   "outputs": [],
   "source": [
    "def wasserstein_loss(y_true, y_pred):\n",
    "    \"\"\"Calculates the Wasserstein loss for a sample batch.\n",
    "    The Wasserstein loss function is very simple to calculate. In a standard GAN, the discriminator\n",
    "    has a sigmoid output, representing the probability that samples are real or generated. In Wasserstein\n",
    "    GANs, however, the output is linear with no activation function! Instead of being constrained to [0, 1],\n",
    "    the discriminator wants to make the distance between its output for real and generated samples as large as possible.\n",
    "    The most natural way to achieve this is to label generated samples -1 and real samples 1, instead of the\n",
    "    0 and 1 used in normal GANs, so that multiplying the outputs by the labels will give you the loss immediately.\n",
    "    Note that the nature of this loss means that it can be (and frequently will be) less than 0.\"\"\"\n",
    "    return K.mean(y_true * y_pred)"
   ]
  },
  {
   "cell_type": "code",
   "execution_count": null,
   "metadata": {},
   "outputs": [],
   "source": [
    "def noisy_d_labels(real, fake):\n",
    "    # idea: https://arxiv.org/pdf/1606.03498.pdf\n",
    "    batch_size = len(real)\n",
    "    five_percent = int(0.05*batch_size)\n",
    "    idx = np.random.randint(0, batch_size, five_percent)\n",
    "    d_real = np.ones_like(real)\n",
    "    d_fake = np.zeros_like(fake)\n",
    "    d_real[idx] = 0\n",
    "    d_fake[idx] = 1\n",
    "    return d_real, d_fake"
   ]
  },
  {
   "cell_type": "code",
   "execution_count": null,
   "metadata": {},
   "outputs": [],
   "source": []
  }
 ],
 "metadata": {
  "kernelspec": {
   "display_name": "Python 3",
   "language": "python",
   "name": "python3"
  },
  "language_info": {
   "codemirror_mode": {
    "name": "ipython",
    "version": 3
   },
   "file_extension": ".py",
   "mimetype": "text/x-python",
   "name": "python",
   "nbconvert_exporter": "python",
   "pygments_lexer": "ipython3",
   "version": "3.6.4"
  }
 },
 "nbformat": 4,
 "nbformat_minor": 2
}
