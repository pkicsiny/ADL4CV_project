{
 "cells": [
  {
   "cell_type": "code",
   "execution_count": null,
   "metadata": {
    "colab": {
     "base_uri": "https://localhost:8080/",
     "height": 34
    },
    "colab_type": "code",
    "id": "Bfp-EppzOqx6",
    "outputId": "bf4db1ad-b83b-4b53-a619-b33dd073330e"
   },
   "outputs": [],
   "source": [
    "import keras.backend as K\n",
    "import os\n",
    "import numpy as np\n",
    "import sys\n",
    "import matplotlib.pyplot as plt\n",
    "import pandas as pd\n",
    "import src"
   ]
  },
  {
   "cell_type": "code",
   "execution_count": null,
   "metadata": {
    "colab": {},
    "colab_type": "code",
    "id": "Xw2X6t_ZPZ5N"
   },
   "outputs": [],
   "source": [
    "#model folder\n",
    "sys.path.insert(0, 'C:/Users/pkicsiny/Desktop/TUM/3/ADL4CV/ADL4CV_project/models/')\n",
    "#data folder\n",
    "sys.path.insert(0, 'C:/Users/pkicsiny/Desktop/TUM/3/ADL4CV/data')"
   ]
  },
  {
   "cell_type": "code",
   "execution_count": null,
   "metadata": {
    "colab": {},
    "colab_type": "code",
    "id": "dXOj7ZI5Pdti"
   },
   "outputs": [],
   "source": [
    "from keras.models import Sequential\n",
    "from keras.layers.convolutional import Conv3D, Conv2D\n",
    "from keras.layers.convolutional_recurrent import ConvLSTM2D\n",
    "from keras.layers.normalization import BatchNormalization"
   ]
  },
  {
   "cell_type": "markdown",
   "metadata": {},
   "source": [
    "The baseline model predicts x next frames from x past frames.\n",
    "Source: https://github.com/wqxu/ConvLSTM/blob/master/radar_forecast.py"
   ]
  },
  {
   "cell_type": "code",
   "execution_count": null,
   "metadata": {
    "colab": {},
    "colab_type": "code",
    "id": "bpxi9ookPhcy"
   },
   "outputs": [],
   "source": [
    "past = 2\n",
    "name = f\"baseline_{past}-1\""
   ]
  },
  {
   "cell_type": "code",
   "execution_count": null,
   "metadata": {
    "colab": {},
    "colab_type": "code",
    "id": "LP6RaxEBPk_O"
   },
   "outputs": [],
   "source": [
    "n_pixel = 64\n",
    "\n",
    "seq = Sequential()\n",
    "seq.add(ConvLSTM2D(filters=n_pixel, kernel_size=(3, 3),\n",
    "                   input_shape=(None, n_pixel, n_pixel, 1),\n",
    "                   padding='same', return_sequences=True))\n",
    "seq.add(BatchNormalization())\n",
    "\n",
    "seq.add(ConvLSTM2D(filters=n_pixel, kernel_size=(3, 3),\n",
    "                   padding='same', return_sequences=True))\n",
    "seq.add(BatchNormalization())\n",
    "\n",
    "seq.add(ConvLSTM2D(filters=n_pixel, kernel_size=(3, 3),\n",
    "                   padding='same', return_sequences=True))\n",
    "seq.add(BatchNormalization())\n",
    "\n",
    "seq.add(ConvLSTM2D(filters=n_pixel, kernel_size=(3, 3),\n",
    "                   padding='same', return_sequences=True))\n",
    "seq.add(BatchNormalization())\n",
    "\n",
    "seq.add(Conv3D(filters=1, kernel_size=(3, 3, 3),\n",
    "               activation='sigmoid',\n",
    "               padding='same', data_format='channels_last'))"
   ]
  },
  {
   "cell_type": "markdown",
   "metadata": {},
   "source": [
    "Loads pretrained model weights."
   ]
  },
  {
   "cell_type": "code",
   "execution_count": null,
   "metadata": {
    "colab": {},
    "colab_type": "code",
    "id": "nAtiou_BE5eU"
   },
   "outputs": [],
   "source": [
    "seq.load_weights(sys.path[1]+name+\"/\"+name+\"_model.h5\")"
   ]
  },
  {
   "cell_type": "markdown",
   "metadata": {},
   "source": [
    "Compile model."
   ]
  },
  {
   "cell_type": "code",
   "execution_count": null,
   "metadata": {
    "colab": {},
    "colab_type": "code",
    "id": "V9gpm0eqFB9Y"
   },
   "outputs": [],
   "source": [
    "seq.compile(loss='mean_squared_error', optimizer='adadelta')"
   ]
  },
  {
   "cell_type": "code",
   "execution_count": null,
   "metadata": {
    "colab": {
     "base_uri": "https://localhost:8080/",
     "height": 442
    },
    "colab_type": "code",
    "id": "mIUS9BPIPmZi",
    "outputId": "ed07fda4-1332-4c71-ea55-eeeac6e558ea"
   },
   "outputs": [],
   "source": [
    "seq.summary()"
   ]
  },
  {
   "cell_type": "markdown",
   "metadata": {},
   "source": [
    "Go to the prediction part if you only want to use the loaded model for prediction."
   ]
  },
  {
   "cell_type": "markdown",
   "metadata": {},
   "source": [
    "## Load dataset"
   ]
  },
  {
   "cell_type": "code",
   "execution_count": null,
   "metadata": {
    "colab": {
     "base_uri": "https://localhost:8080/",
     "height": 68
    },
    "colab_type": "code",
    "id": "HqFiaXq0SQQ0",
    "outputId": "702d60cb-2c08-4048-f8af-bbfabfd8125a"
   },
   "outputs": [],
   "source": [
    "train, xval, test = src.load_datasets(past_frames=past,future_frames=past)"
   ]
  },
  {
   "cell_type": "markdown",
   "metadata": {},
   "source": [
    "Split data to input and ground truth and augment optionally."
   ]
  },
  {
   "cell_type": "code",
   "execution_count": null,
   "metadata": {
    "colab": {
     "base_uri": "https://localhost:8080/",
     "height": 136
    },
    "colab_type": "code",
    "id": "DCd8onMqecuq",
    "outputId": "1d23d02d-a641-4872-ece9-3af4dc8f7150"
   },
   "outputs": [],
   "source": [
    "baseline_train, baseline_truth, baseline_val, baseline_val_truth, baseline_test, baseline_test_truth = src.split_datasets(\n",
    "            train[:2000], xval, test, past_frames=past, future_frames=past, augment=True)"
   ]
  },
  {
   "cell_type": "markdown",
   "metadata": {},
   "source": [
    "The ConvLSTM receives 5D samples."
   ]
  },
  {
   "cell_type": "code",
   "execution_count": null,
   "metadata": {
    "colab": {},
    "colab_type": "code",
    "id": "E9sTptaDSaik"
   },
   "outputs": [],
   "source": [
    "baseline_train = np.reshape(np.transpose(baseline_train,(0,3,1,2)), np.transpose(baseline_train,(0,3,1,2)).shape+(1,))\n",
    "baseline_truth = np.reshape(np.transpose(baseline_truth,(0,3,1,2)), np.transpose(baseline_truth,(0,3,1,2)).shape+(1,))\n",
    "baseline_val = np.reshape(np.transpose(baseline_val,(0,3,1,2)), np.transpose(baseline_val,(0,3,1,2)).shape+(1,))\n",
    "baseline_val_truth = np.reshape(np.transpose(baseline_val_truth,(0,3,1,2)), np.transpose(baseline_val_truth,(0,3,1,2)).shape+(1,))\n",
    "baseline_test = np.reshape(np.transpose(baseline_test,(0,3,1,2)), np.transpose(baseline_test,(0,3,1,2)).shape+(1,))\n",
    "baseline_test_truth = np.reshape(np.transpose(baseline_test_truth,(0,3,1,2)), np.transpose(baseline_test_truth,(0,3,1,2)).shape+(1,))"
   ]
  },
  {
   "cell_type": "markdown",
   "metadata": {},
   "source": [
    "## Training"
   ]
  },
  {
   "cell_type": "markdown",
   "metadata": {},
   "source": [
    "We train the baseline model for 20 epochs with a batch size of 16. This way there are $8000/16*20=10000$ gradient updates in total. Same as in our best model trainings where we did 5000 iterations and trained the generator twice per iteration."
   ]
  },
  {
   "cell_type": "code",
   "execution_count": null,
   "metadata": {
    "colab": {
     "base_uri": "https://localhost:8080/",
     "height": 802
    },
    "colab_type": "code",
    "id": "Jnacwd18Sc_l",
    "outputId": "8a3654ad-6920-4ccd-c2aa-1ca97fed3dc0"
   },
   "outputs": [],
   "source": [
    "seq.fit(baseline_train, baseline_truth, batch_size=16, epochs=20, validation_data=(baseline_val, baseline_val_truth))"
   ]
  },
  {
   "cell_type": "markdown",
   "metadata": {},
   "source": [
    "## Prediction"
   ]
  },
  {
   "cell_type": "markdown",
   "metadata": {},
   "source": [
    "Loads a 20 long sequence with 1000 sequence samples."
   ]
  },
  {
   "cell_type": "code",
   "execution_count": null,
   "metadata": {
    "colab": {
     "base_uri": "https://localhost:8080/",
     "height": 34
    },
    "colab_type": "code",
    "id": "qNMjOJSSSfVF",
    "outputId": "e3974642-bed8-4a16-cb30-ba175629deca"
   },
   "outputs": [],
   "source": [
    "sequence_test = src.load_datasets(prediction=True)\n",
    "#sequence_test = src.augment_data(sequence_test[:100])"
   ]
  },
  {
   "cell_type": "markdown",
   "metadata": {},
   "source": [
    "Reshape data to 5D."
   ]
  },
  {
   "cell_type": "code",
   "execution_count": null,
   "metadata": {
    "colab": {},
    "colab_type": "code",
    "id": "oK3G7zn3rexK"
   },
   "outputs": [],
   "source": [
    "sequence_test = np.reshape(np.transpose(sequence_test,(0,3,1,2)), np.transpose(sequence_test,(0,3,1,2)).shape+(1,))"
   ]
  },
  {
   "cell_type": "code",
   "execution_count": null,
   "metadata": {
    "colab": {},
    "colab_type": "code",
    "id": "dLx1CamUrllR"
   },
   "outputs": [],
   "source": [
    "n_next = 5\n",
    "predictions = {}\n",
    "past_frames = sequence_test[:,0:past]\n",
    "test_truth = sequence_test[:,past:past+past]"
   ]
  },
  {
   "cell_type": "markdown",
   "metadata": {},
   "source": [
    "To be consistent with our own model trainings we always use the first image of the prediction (model predicts 2 images) and make only one step forward in each iteration."
   ]
  },
  {
   "cell_type": "code",
   "execution_count": null,
   "metadata": {
    "colab": {
     "base_uri": "https://localhost:8080/",
     "height": 187
    },
    "colab_type": "code",
    "id": "uCFgoqxJWGfi",
    "outputId": "ca090f30-2452-4aaf-a79c-887bfbb0a5fc"
   },
   "outputs": [],
   "source": [
    "for t in range(n_next):\n",
    "    future = seq.predict(past_frames, batch_size=64)\n",
    "    predictions[f\"{t}\"] = future[:,:1,...]\n",
    "    print(predictions[f\"{t}\"].shape)\n",
    "    past_frames = np.concatenate((past_frames[:,1:,...], predictions[f\"{t}\"]), axis=1)\n",
    "    print(past_frames.shape)"
   ]
  },
  {
   "cell_type": "markdown",
   "metadata": {},
   "source": [
    "Reshape predictions to 4D."
   ]
  },
  {
   "cell_type": "code",
   "execution_count": null,
   "metadata": {
    "colab": {
     "base_uri": "https://localhost:8080/",
     "height": 102
    },
    "colab_type": "code",
    "id": "d29-t1WRcGUH",
    "outputId": "a2358167-1b06-4627-e2e3-13cfd034b685"
   },
   "outputs": [],
   "source": [
    "for key,value in enumerate(predictions):\n",
    "    predictions[str(key)] = np.reshape(predictions[str(key)],((predictions[str(key)].shape[0],)+predictions[str(key)].shape[2:4]+(predictions[str(key)].shape[1],)))"
   ]
  },
  {
   "cell_type": "markdown",
   "metadata": {},
   "source": [
    "Save example predictions. (First reload test data or resahpe it back to 4D)"
   ]
  },
  {
   "cell_type": "code",
   "execution_count": null,
   "metadata": {
    "colab": {
     "base_uri": "https://localhost:8080/",
     "height": 34
    },
    "colab_type": "code",
    "id": "qNMjOJSSSfVF",
    "outputId": "e3974642-bed8-4a16-cb30-ba175629deca"
   },
   "outputs": [],
   "source": [
    "sequence_test = src.load_datasets(prediction=True)\n",
    "#sequence_test = src.augment_data(sequence_test[:100])"
   ]
  },
  {
   "cell_type": "code",
   "execution_count": null,
   "metadata": {
    "colab": {},
    "colab_type": "code",
    "id": "KByJN439EGmY"
   },
   "outputs": [],
   "source": [
    "# 44, 110 in whole data w.o. augmenting, 33, 67, 57 in augmented of the first 100\n",
    "src.sequence_prediction_plot(name, sequence_test, predictions, past, samples=[33,67,57])"
   ]
  },
  {
   "cell_type": "markdown",
   "metadata": {},
   "source": [
    "Renormalize intensity values\n"
   ]
  },
  {
   "cell_type": "code",
   "execution_count": null,
   "metadata": {
    "colab": {},
    "colab_type": "code",
    "id": "GydDfbdaWVg6"
   },
   "outputs": [],
   "source": [
    "test_norms = np.load(sys.path[0]+\"/5min_long_pred_norms_compressed.npz\")[\"arr_1\"]"
   ]
  },
  {
   "cell_type": "code",
   "execution_count": null,
   "metadata": {
    "colab": {},
    "colab_type": "code",
    "id": "xccOxiBtWXYs"
   },
   "outputs": [],
   "source": [
    "#renormalize test samples\n",
    "renormalized_test = np.array([sample * np.array(test_norms)[i] for i, sample in enumerate(sequence_test)])\n",
    "renormalized_predictions = np.transpose((np.array([[sample * np.array(test_norms)[i] for i, sample in enumerate(predictions[key])] for key in list(map(str,np.arange(0,n_next)))])[:,:,:,:,0]), (1,2,3,0))"
   ]
  },
  {
   "cell_type": "markdown",
   "metadata": {},
   "source": [
    "Calculate pixel intensities back to dBZ and from there to mm/h. <br>\n",
    "Sources: <br>\n",
    "- https://www.dwd.de/DE/leistungen/radolan/radolan_info/radolan_radvor_op_komposit_format_pdf.pdf?__blob=publicationFile&v=11 (page 10)\n",
    "- <https://web.archive.org/web/20160113151652/http://www.desktopdoppler.com/help/nws-nexrad.htm#rainfall%20rates>"
   ]
  },
  {
   "cell_type": "code",
   "execution_count": null,
   "metadata": {
    "colab": {},
    "colab_type": "code",
    "id": "4HBHcI0uWXdK"
   },
   "outputs": [],
   "source": [
    "#dBZ\n",
    "dBZ_t = renormalized_test*0.5 - 32.5\n",
    "dBZ_p = renormalized_predictions*0.5 - 32.5\n",
    "#mm/h\n",
    "I_t = (0.005*10**(0.1*dBZ_t))**(0.625)\n",
    "I_p = (0.005*10**(0.1*dBZ_p))**(0.625)"
   ]
  },
  {
   "cell_type": "code",
   "execution_count": null,
   "metadata": {
    "colab": {
     "base_uri": "https://localhost:8080/",
     "height": 34
    },
    "colab_type": "code",
    "id": "pWwYXsDEWXgi",
    "outputId": "a0970ceb-d1c3-4c89-9ef3-b1b281b110e1"
   },
   "outputs": [],
   "source": [
    "intensity_scores = src.get_scores(renormalized_predictions, renormalized_test, n_next, past, thresholds_as_list=[18])\n",
    "scores = src.get_scores(I_p, I_t, n_next, past, thresholds_as_list=[0.5])"
   ]
  },
  {
   "cell_type": "markdown",
   "metadata": {},
   "source": [
    "Save scores."
   ]
  },
  {
   "cell_type": "code",
   "execution_count": null,
   "metadata": {
    "colab": {},
    "colab_type": "code",
    "id": "VTQpIbc_Wd57"
   },
   "outputs": [],
   "source": [
    "np.save(name+\"_scores\",scores)\n",
    "np.save(name+\"_intensity_scores\",intensity_scores)"
   ]
  },
  {
   "cell_type": "code",
   "execution_count": null,
   "metadata": {
    "colab": {},
    "colab_type": "code",
    "id": "E-R_o4OoIsVY"
   },
   "outputs": [],
   "source": []
  }
 ],
 "metadata": {
  "accelerator": "GPU",
  "colab": {
   "collapsed_sections": [],
   "name": "baseline_run.ipynb",
   "provenance": [],
   "version": "0.3.2"
  },
  "kernelspec": {
   "display_name": "Python 3",
   "language": "python",
   "name": "python3"
  },
  "language_info": {
   "codemirror_mode": {
    "name": "ipython",
    "version": 3
   },
   "file_extension": ".py",
   "mimetype": "text/x-python",
   "name": "python",
   "nbconvert_exporter": "python",
   "pygments_lexer": "ipython3",
   "version": "3.6.4"
  }
 },
 "nbformat": 4,
 "nbformat_minor": 1
}
