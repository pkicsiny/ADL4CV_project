{
 "cells": [
  {
   "cell_type": "markdown",
   "metadata": {},
   "source": [
    "# Playground notebook"
   ]
  },
  {
   "cell_type": "markdown",
   "metadata": {},
   "source": [
    "## Imports and settings"
   ]
  },
  {
   "cell_type": "code",
   "execution_count": 25,
   "metadata": {},
   "outputs": [
    {
     "name": "stderr",
     "output_type": "stream",
     "text": [
      "C:\\ProgramData\\Anaconda3\\lib\\site-packages\\h5py\\__init__.py:36: FutureWarning: Conversion of the second argument of issubdtype from `float` to `np.floating` is deprecated. In future, it will be treated as `np.float64 == np.dtype(float).type`.\n",
      "  from ._conv import register_converters as _register_converters\n",
      "Using TensorFlow backend.\n"
     ]
    },
    {
     "name": "stdout",
     "output_type": "stream",
     "text": [
      "[name: \"/device:CPU:0\"\n",
      "device_type: \"CPU\"\n",
      "memory_limit: 268435456\n",
      "locality {\n",
      "}\n",
      "incarnation: 4422596724912418874\n",
      "]\n"
     ]
    }
   ],
   "source": [
    "import src\n",
    "\n",
    "import os\n",
    "import numpy as np\n",
    "import sys\n",
    "import re\n",
    "import pickle\n",
    "import math\n",
    "import matplotlib.pyplot as plt\n",
    "import pandas as pd\n",
    "import seaborn as sns\n",
    "from  matplotlib.animation import FuncAnimation\n",
    "from matplotlib import colors\n",
    "from netCDF4 import Dataset\n",
    "from IPython.display import clear_output\n",
    "#data folder\n",
    "sys.path.insert(0, 'C:/Users/pkicsiny/Desktop/TUM/3/ADL4CV/data')\n",
    "\n",
    "#forces CPU usage\n",
    "os.environ[\"CUDA_DEVICE_ORDER\"] = \"PCI_BUS_ID\"   # see issue #152\n",
    "os.environ[\"CUDA_VISIBLE_DEVICES\"] = \"1\" #\"\" for CPU\n",
    "import tensorflow as tf\n",
    "from tensorflow import keras\n",
    "from tensorflow.python.client import device_lib\n",
    "print(device_lib.list_local_devices())"
   ]
  },
  {
   "cell_type": "markdown",
   "metadata": {},
   "source": [
    "______________________________________-\n",
    "## Data preprocessing"
   ]
  },
  {
   "cell_type": "markdown",
   "metadata": {},
   "source": [
    "### Rain measurements\n",
    "Measurements are downloaded from the DWD (German weather service) open data server: __ftp://ftp-cdc.dwd.de/pub/CDC/grids_germany/hourly/__<br>\n",
    "I'm working with the data of August 2010 (based on [this](https://tradingeconomics.com/germany/precipitation)), so I have downloaded this: __ftp://ftp-cdc.dwd.de/pub/CDC/grids_germany/hourly/radolan/historical/asc/2010/RW-201008.tar__<br>\n",
    "_DWD manual:_<br>\n",
    "__ftp://ftp-cdc.dwd.de/pub/CDC/grids_germany/hourly/radolan/historical/asc/BESCHREIBUNG_gridsgermany_hourly_radolan_historical_asc_de.pdf__<br><br>\n",
    "This contains radar maps recorded in every hour. Each map has a resolution of $900\\times900$ pixels and each pixel corresponds to an $1\\,km\\times1\\,km$ area in reality. Pixel values are the precipitation height in $0.1\\,mm$.\n",
    "Below I'm importing the data of this as a series of numpy arrays and plot them to see the acual radar map. The _sys.path[0]_ is the path on my computer and it can be different for you.\n",
    "<br>\n",
    "The data with hourly resolutions spans from 1995 to 2012.<br><br>\n",
    "Additionally there is data with 5 minutes resolution available here: \n",
    "https://opendata.dwd.de/weather/radar/composit/rx/<br>\n",
    "The span of this is the last two days and it is updated constantly."
   ]
  },
  {
   "cell_type": "code",
   "execution_count": null,
   "metadata": {},
   "outputs": [],
   "source": [
    "inputs = src.get_data(sys.path[0]+\"/rain_hourly\", which=\"h\",total_length=40, mask=True)"
   ]
  },
  {
   "cell_type": "markdown",
   "metadata": {},
   "source": [
    "### Wind measurements\n",
    "Here I'm loading wind measurements. This is important because later we might experiment not only with rain (the density field) but with the wind (velocity field) too. This is because in the tempoGAN paper they also use the velocity and without it that might be very difficult to build the GAN (unless you have some other ideas). So for now I'll try this way. I have downloaded two datasets for the wind:<br><br>\n",
    "_Wind direction:_ __ftp://ftp-cdc.dwd.de/pub/CDC/grids_germany/hourly/Project_TRY/wind_direction/DD_201208.nc.gz__<br>\n",
    "_Wind speed:_ __ftp://ftp-cdc.dwd.de/pub/CDC/grids_germany/hourly/Project_TRY/wind_speed/FF_201208.nc.gz__<br>\n",
    "_DWD manuals:_<br>\n",
    "__ftp://ftp-cdc.dwd.de/pub/CDC/grids_germany/hourly/Project_TRY/wind_direction/DESCRIPTION_gridsgermany_hourly_Project_TRY_wind_direction_en.pdf__\n",
    "<br>\n",
    "__ftp://ftp-cdc.dwd.de/pub/CDC/grids_germany/hourly/Project_TRY/wind_speed/DESCRIPTION_gridsgermany_hourly_Project_TRY_wind_speed_en.pdf__<br><br>\n",
    "I create two datasets out of these. They contain the $x$ and $y$ velocity components.\n",
    "The measurements are in $\\displaystyle0.1\\,\\frac{m}{s}$.\n",
    "<br><br>\n",
    "_<font color='red'>__Issue__:</font> [Mostly](https://www.nationalgeographic.com/science/earth/earths-atmosphere/clouds/) an average rain cloud is at $2000\\,m$ high. Normal clouds can be up to $6000\\,m$ high. We only have wind measurements recorded at $10\\,m$. \n",
    "We can use e.g. [this](https://websites.pmc.ucsc.edu/~jnoble/wind/extrap/) to calculate wind speed at higher altitudes. We can't correct the change in wind direction so this remains a weak point in the simulations._"
   ]
  },
  {
   "cell_type": "code",
   "execution_count": null,
   "metadata": {},
   "outputs": [],
   "source": [
    "#the paths are probably different for you\n",
    "w_dir = Dataset(sys.path[0]+'/wind_direction/DD_201008_CF.nc')  # direction\n",
    "w_vel = Dataset(sys.path[0]+'/wind_speed/FF_201008_CF.nc')  # velocity\n",
    "#cloud = Dataset(sys.path[0]+'/cloud/N_201008_CF.nc')['CF']  # cloud cover"
   ]
  },
  {
   "cell_type": "markdown",
   "metadata": {},
   "source": [
    "Read wind direction and magnitude datasets. They are hourly distributed and I use the dataset of 2010. August. There are 744 = 24$\\cdot$31 maps, each 938*720 pixels."
   ]
  },
  {
   "cell_type": "code",
   "execution_count": null,
   "metadata": {
    "scrolled": false
   },
   "outputs": [],
   "source": [
    "#creating vx and vy datasets from |v| and phi\n",
    "vx = np.ma.masked_where(np.ma.getmask(w_dir['DD'][:144]), np.zeros(w_dir['DD'][:144].shape))\n",
    "vy = np.ma.masked_where(np.ma.getmask(w_dir['DD'][:144]), np.zeros(w_dir['DD'][:144].shape))\n",
    "for t in range(np.shape(vx)[0]):\n",
    "    src.update_output(f\"[{t+1}/{np.shape(vx)[0]}]\")\n",
    "    vx[t] = np.flip(np.sin(np.deg2rad(w_dir['DD'][600+t])),axis = 0)\n",
    "    vy[t] = np.flip(np.cos(np.deg2rad(w_dir['DD'][600+t])),axis = 0)"
   ]
  },
  {
   "cell_type": "code",
   "execution_count": null,
   "metadata": {},
   "outputs": [],
   "source": [
    "#gps grid of wind maps\n",
    "#47.075\n",
    "wind_grid = pd.DataFrame(data={'LAT':w_vel['lat'][:].flatten(),\n",
    "                               'LON':w_vel['lon'][:].flatten()}).reset_index().rename(columns={\"index\":\"CELL_ID\"})"
   ]
  },
  {
   "cell_type": "code",
   "execution_count": null,
   "metadata": {},
   "outputs": [],
   "source": [
    "#sanity checks\n",
    "%matplotlib notebook\n",
    "idx = 0\n",
    "fig = plt.figure(figsize=(14,14))\n",
    "# NE, N, NW\n",
    "plt.subplot(2,2,1)\n",
    "plt.imshow(np.ma.masked_where(vy[idx] < 0, vy[idx]))\n",
    "plt.colorbar(shrink=0.7)\n",
    "plt.title(\"All northern wind\")\n",
    "\n",
    "plt.subplot(2,2,2)\n",
    "plt.imshow(np.flip(np.ma.masked_where((w_dir['DD'][idx]>=90)& (w_dir['DD'][idx]<=270),w_dir['DD'][idx] ), axis=0))\n",
    "plt.colorbar(shrink=0.7)\n",
    "plt.title(\"All northern wind truth\")\n",
    "\n",
    "# SW\n",
    "plt.subplot(2,2,3)\n",
    "plt.imshow(np.ma.masked_where((vy[idx]>0)|(vx[idx]>0), vy[idx]))\n",
    "plt.colorbar(shrink=0.7)\n",
    "plt.title(\"Southwestern wind\")\n",
    "\n",
    "plt.subplot(2,2,4)\n",
    "plt.imshow(np.flip(np.ma.masked_where((w_dir['DD'][idx]<180)| (w_dir['DD'][idx]>270),w_dir['DD'][idx] ), axis=0))\n",
    "plt.colorbar(shrink=0.7)\n",
    "plt.title(\"Southwestern wind truth\")\n",
    "\n",
    "plt.subplots_adjust(hspace=0.3, wspace=0.3)"
   ]
  },
  {
   "cell_type": "markdown",
   "metadata": {},
   "source": [
    "### Radar coordinates\n",
    "The gps coordinates of the radar grid for the rain measurements."
   ]
  },
  {
   "cell_type": "code",
   "execution_count": null,
   "metadata": {
    "scrolled": true
   },
   "outputs": [],
   "source": [
    "coords = src.get_rain_grid_coords()"
   ]
  },
  {
   "cell_type": "code",
   "execution_count": null,
   "metadata": {
    "scrolled": true
   },
   "outputs": [],
   "source": [
    "reduced_coords = coords[coords[\"LON\"]>= germany[\"LON\"].min()]\n",
    "reduced_coords"
   ]
  },
  {
   "cell_type": "markdown",
   "metadata": {},
   "source": [
    "### Germany\n",
    "GPS coordinates of Germany. This is a subset of the wind grid. As next I'm matching wind grid cells with the nearest rain cells. As seen on the plot below, the rain and wind data comes from a different radar measurement method so they have a different grid map so the grid points are not identical."
   ]
  },
  {
   "cell_type": "code",
   "execution_count": null,
   "metadata": {
    "scrolled": true
   },
   "outputs": [],
   "source": [
    "with open('germany.pickle', 'rb') as handle:\n",
    "    germany = pickle.load(handle)\n",
    "germany"
   ]
  },
  {
   "cell_type": "code",
   "execution_count": null,
   "metadata": {
    "scrolled": false
   },
   "outputs": [],
   "source": [
    "%matplotlib notebook\n",
    "idx_test = 277777\n",
    "\n",
    "#plt.scatter(wind_grid[\"LON\"],wind_grid[\"LAT\"],s=0.2, label=\"wind grid\")\n",
    "plt.scatter(reduced_coords[\"LON\"],\n",
    "            reduced_coords[\"LAT\"],s=0.2, label=\"rain grid\")\n",
    "#plt.scatter(germany[\"LON\"],germany[\"LAT\"],s=0.2, label=\"wind grid\")\n",
    "\n",
    "\n",
    "plt.scatter(germany[\"LON\"],germany[\"LAT\"],s=10, label=\"wind grid\")\n",
    "plt.scatter(coords.iloc[germany[\"CLOSEST_RAIN_CELL_ID\"]][\"LON\"],\n",
    "            coords.iloc[germany[\"CLOSEST_RAIN_CELL_ID\"]][\"LAT\"],\n",
    "            s=10, label=\"rain grid\")\n",
    "#plt.scatter(germany[\"LON\"],germany[\"LAT\"],s=0.2, label=\"Germany\")\n",
    "plt.xlabel(\"LON\")\n",
    "plt.ylabel(\"LAT\")\n",
    "lgnd = plt.legend(loc=\"lower right\")\n",
    "lgnd.legendHandles[0]._sizes = [30]\n",
    "lgnd.legendHandles[1]._sizes = [30]\n",
    "#lgnd.legendHandles[2]._sizes = [30]"
   ]
  },
  {
   "cell_type": "markdown",
   "metadata": {},
   "source": [
    "Create density channel (rain) with the grid of the wind maps. We need 3 channels: [rain,vx,vy]<br>\n",
    "Since the wind data is available until the end of 2012, we can only create three channels using the hourly resolution. 5 min data is available only for the past 48 hours."
   ]
  },
  {
   "cell_type": "code",
   "execution_count": null,
   "metadata": {},
   "outputs": [],
   "source": [
    "rho = np.ma.masked_where(np.flip(np.ma.getmask(w_dir['DD'][:144]),axis=1),\n",
    "                         np.zeros((144,w_dir['DD'].shape[1],w_dir['DD'].shape[2])))\n",
    "rho[:,938-germany[\"CELL_ID\"]//720,\n",
    "    germany[\"CELL_ID\"]%720] = inputs[600:,900-germany[\"CLOSEST_RAIN_CELL_ID\"]//900, germany[\"CLOSEST_RAIN_CELL_ID\"]%900]\n",
    "rho.shape"
   ]
  },
  {
   "cell_type": "code",
   "execution_count": null,
   "metadata": {},
   "outputs": [],
   "source": [
    "rho.shape"
   ]
  },
  {
   "cell_type": "code",
   "execution_count": null,
   "metadata": {},
   "outputs": [],
   "source": [
    "%matplotlib notebook\n",
    "idx = 45\n",
    "plt.subplot(1,3,1)\n",
    "plt.imshow(np.ma.masked_where(inputs[200+idx] < 0,inputs[200+idx]))\n",
    "plt.title(\"RADOLAN rain\")\n",
    "plt.subplot(1,3,2)\n",
    "plt.imshow(rho[idx])\n",
    "plt.title(\"Interpolated rain\")\n",
    "plt.subplot(1,3,3)\n",
    "plt.imshow(vy[idx])\n",
    "plt.title(\"Wind\")\n",
    "plt.show()"
   ]
  },
  {
   "cell_type": "code",
   "execution_count": null,
   "metadata": {},
   "outputs": [],
   "source": [
    "new = np.ma.concatenate((a[\"field\"][:], rho), axis=0)"
   ]
  },
  {
   "cell_type": "code",
   "execution_count": null,
   "metadata": {
    "scrolled": true
   },
   "outputs": [],
   "source": [
    "#root_grp.close()\n",
    "root_grp = Dataset('rho.nc', 'w', format='NETCDF4')\n",
    "root_grp.description = 'Example simulation data'\n",
    "\n",
    "lat_n = 938\n",
    "lon_n = 720\n",
    "xdimension = 0.75\n",
    "ydimension = 0.75\n",
    "# dimensions\n",
    "root_grp.createDimension('time', None)\n",
    "root_grp.createDimension('lat', lat_n)\n",
    "root_grp.createDimension('lon', lon_n)\n",
    "\n",
    "# variables\n",
    "time = root_grp.createVariable('time', 'c', ('time',))\n",
    "x = root_grp.createVariable('lat', 'c', ('lat',))\n",
    "y = root_grp.createVariable('lon', 'c', ('lon',))\n",
    "field = root_grp.createVariable('field', 'f4', ('time', 'lat', 'lon',))\n",
    "\n",
    "field[:,:,:] = new\n",
    "\n",
    "root_grp.close()"
   ]
  },
  {
   "cell_type": "code",
   "execution_count": 41,
   "metadata": {},
   "outputs": [],
   "source": [
    "a = Dataset(sys.path[0]+\"/rain_density/rho.nc\")"
   ]
  },
  {
   "cell_type": "code",
   "execution_count": 42,
   "metadata": {},
   "outputs": [
    {
     "data": {
      "text/plain": [
       "<matplotlib.image.AxesImage at 0x1f93c459e10>"
      ]
     },
     "execution_count": 42,
     "metadata": {},
     "output_type": "execute_result"
    },
    {
     "data": {
      "image/png": "[encoded data removed]",
      "text/plain": [
       "<matplotlib.figure.Figure at 0x1f9270a4be0>"
      ]
     },
     "metadata": {},
     "output_type": "display_data"
    }
   ],
   "source": [
    "plt.imshow(a[\"field\"][743])"
   ]
  },
  {
   "cell_type": "code",
   "execution_count": null,
   "metadata": {},
   "outputs": [],
   "source": [
    "# look over the data\n",
    "%matplotlib notebook\n",
    "from  matplotlib.animation import FuncAnimation\n",
    "\n",
    "fig = plt.figure()\n",
    "plot = plt.imshow(np.ma.masked_where(inputs[0] < 0, inputs[0])) #inputs 100 has a good mask\n",
    "def update(i):\n",
    "    plot.set_data(np.ma.masked_where(inputs[0] < 0, inputs[i]))\n",
    "    plt.title(i)\n",
    "    return plot\n",
    "\n",
    "anim = FuncAnimation(fig, update, frames=744, interval = 100, blit=True, repeat=False)\n",
    "\n",
    "plt.show()"
   ]
  },
  {
   "cell_type": "code",
   "execution_count": 39,
   "metadata": {},
   "outputs": [
    {
     "data": {
      "text/plain": [
       "[('FuncAnimation', 1056),\n",
       " ('Dataset', 400),\n",
       " ('clear_output', 136),\n",
       " ('memory', 136),\n",
       " ('colors', 80),\n",
       " ('device_lib', 80),\n",
       " ('np', 80),\n",
       " ('pd', 80),\n",
       " ('plt', 80),\n",
       " ('sns', 80),\n",
       " ('tf', 80),\n",
       " ('n', 28),\n",
       " ('a', 24),\n",
       " ('inputs', 24)]"
      ]
     },
     "execution_count": 39,
     "metadata": {},
     "output_type": "execute_result"
    }
   ],
   "source": [
    " # These are the usual ipython objects, including this one you are creating\n",
    "ipython_vars = ['In', 'Out', 'exit', 'quit', 'get_ipython', 'ipython_vars']\n",
    "\n",
    "    # Get a sorted list of the objects and their sizes\n",
    "sorted([(x, sys.getsizeof(globals().get(x))) for x in dir() if not x.startswith('_') and x not in sys.modules and x not in ipython_vars], key=lambda x: x[1], reverse=True)"
   ]
  },
  {
   "cell_type": "code",
   "execution_count": null,
   "metadata": {},
   "outputs": [],
   "source": []
  }
 ],
 "metadata": {
  "kernelspec": {
   "display_name": "Python 3",
   "language": "python",
   "name": "python3"
  },
  "language_info": {
   "codemirror_mode": {
    "name": "ipython",
    "version": 3
   },
   "file_extension": ".py",
   "mimetype": "text/x-python",
   "name": "python",
   "nbconvert_exporter": "python",
   "pygments_lexer": "ipython3",
   "version": "3.6.4"
  }
 },
 "nbformat": 4,
 "nbformat_minor": 2
}
