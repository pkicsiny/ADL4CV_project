{
 "cells": [
  {
   "cell_type": "markdown",
   "metadata": {},
   "source": [
    "# Playground notebook"
   ]
  },
  {
   "cell_type": "markdown",
   "metadata": {},
   "source": [
    "## Imports and settings"
   ]
  },
  {
   "cell_type": "code",
   "execution_count": null,
   "metadata": {},
   "outputs": [],
   "source": [
    "import src"
   ]
  },
  {
   "cell_type": "code",
   "execution_count": null,
   "metadata": {},
   "outputs": [],
   "source": [
    "import os\n",
    "import numpy as np\n",
    "import sys\n",
    "import re\n",
    "import math\n",
    "import matplotlib.pyplot as plt\n",
    "import pandas as pd\n",
    "import seaborn as sns\n",
    "from  matplotlib.animation import FuncAnimation\n",
    "from matplotlib import colors\n",
    "from netCDF4 import Dataset\n",
    "from IPython.display import clear_output\n",
    "#data folder\n",
    "sys.path.insert(0, 'C:/Users/pkicsiny/Desktop/TUM/3/ADL4CV/data/rx')"
   ]
  },
  {
   "cell_type": "code",
   "execution_count": null,
   "metadata": {},
   "outputs": [],
   "source": [
    "#forces CPU usage\n",
    "os.environ[\"CUDA_DEVICE_ORDER\"] = \"PCI_BUS_ID\"   # see issue #152\n",
    "os.environ[\"CUDA_VISIBLE_DEVICES\"] = \"0\" #\"\" for CPU\n",
    "import tensorflow as tf\n",
    "from tensorflow import keras\n",
    "from tensorflow.python.client import device_lib\n",
    "print(device_lib.list_local_devices())"
   ]
  },
  {
   "cell_type": "markdown",
   "metadata": {},
   "source": [
    "______________________________________-\n",
    "## Data preprocessing"
   ]
  },
  {
   "cell_type": "markdown",
   "metadata": {},
   "source": [
    "### Rain measurements\n",
    "Measurements are downloaded from the DWD (German weather service) open data server: __ftp://ftp-cdc.dwd.de/pub/CDC/grids_germany/hourly/__<br>\n",
    "I'm working with the data of August 2010 (based on [this](https://tradingeconomics.com/germany/precipitation)), so I have downloaded this: __ftp://ftp-cdc.dwd.de/pub/CDC/grids_germany/hourly/radolan/historical/asc/2010/RW-201008.tar__<br>\n",
    "_DWD manual:_<br>\n",
    "__ftp://ftp-cdc.dwd.de/pub/CDC/grids_germany/hourly/radolan/historical/asc/BESCHREIBUNG_gridsgermany_hourly_radolan_historical_asc_de.pdf__<br><br>\n",
    "This contains radar maps recorded in every hour. Each map has a resolution of $900\\times900$ pixels and each pixel corresponds to an $1\\,km\\times1\\,km$ area in reality. Pixel values are the precipitation height in $0.1\\,mm$.\n",
    "Below I'm importing the data of this as a series of numpy arrays and plot them to see the acual radar map. The _sys.path[0]_ is the path on my computer and it can be different for you."
   ]
  },
  {
   "cell_type": "code",
   "execution_count": null,
   "metadata": {},
   "outputs": [],
   "source": [
    "files = os.listdir(\"../data/rx\")\n",
    "total_length = len(files)\n",
    "inputs = np.zeros((total_length,900,900))"
   ]
  },
  {
   "cell_type": "code",
   "execution_count": null,
   "metadata": {},
   "outputs": [],
   "source": [
    "title_5min = f\"{files[i][19:21]}.{files[i][17:19]}.20{files[i][15:17]} {files[i][21:23]}:{files[i][23:25]}\"\n",
    "title_h = f\"{files[i][9:11]}.{files[i][7:9]}.{files[i][3:7]} {files[i][12:14]}:{files[i][14:16]}\""
   ]
  },
  {
   "cell_type": "code",
   "execution_count": null,
   "metadata": {},
   "outputs": [],
   "source": [
    "title_5min"
   ]
  },
  {
   "cell_type": "code",
   "execution_count": null,
   "metadata": {
    "scrolled": true
   },
   "outputs": [],
   "source": [
    "for i, file in enumerate(files):\n",
    "    if i%10 == 0:\n",
    "        print(i, end=\", \")\n",
    "    with open(sys.path[0] + '/' + file, \"rb\") as f:\n",
    "        byte = f.read()\n",
    "        start = 0\n",
    "        for j in range(len(byte)) :\n",
    "            if byte[j] == 62 :\n",
    "                start = j\n",
    "                break\n",
    "        inputs[i] = np.flip(np.reshape(np.asarray([c for c in byte[start+3:]]),(900,900)), axis=0)\n",
    "        inputs[i][inputs[i] == 250] = -1"
   ]
  },
  {
   "cell_type": "markdown",
   "metadata": {},
   "source": [
    "Hourly data"
   ]
  },
  {
   "cell_type": "code",
   "execution_count": null,
   "metadata": {},
   "outputs": [],
   "source": [
    "totalLength = len(files)\n",
    "#array of inputs\n",
    "inputs = np.empty((totalLength,900,900))\n",
    "print(inputs.shape)"
   ]
  },
  {
   "cell_type": "code",
   "execution_count": null,
   "metadata": {},
   "outputs": [],
   "source": [
    "#import data to the inputs array\n",
    "for i, file in enumerate(files):\n",
    "    clear_output(wait=True)\n",
    "    print(f\"[{i+1}/{totalLength}]\")\n",
    "    ascii_grid = np.loadtxt(f\"{dataDir}/{files[i]}\", skiprows=6)\n",
    "    inputs[i] = ascii_grid"
   ]
  },
  {
   "cell_type": "code",
   "execution_count": null,
   "metadata": {},
   "outputs": [],
   "source": [
    "inputs = preproc.mask_data(inputs,100)"
   ]
  },
  {
   "cell_type": "code",
   "execution_count": null,
   "metadata": {
    "scrolled": false
   },
   "outputs": [],
   "source": [
    "# look over the data\n",
    "%matplotlib notebook\n",
    "from  matplotlib.animation import FuncAnimation\n",
    "\n",
    "fig = plt.figure()\n",
    "plot = plt.imshow(np.ma.masked_where(inputs[0] < 0, inputs[0])) #inputs 100 has a good mask\n",
    "plt.colorbar()\n",
    "plt.xlabel(\"Longitude pixels\")\n",
    "plt.ylabel(\"Latitude pixels\")\n",
    "def update(i):\n",
    "    plot.set_data(np.ma.masked_where(inputs[i] < 0, inputs[i]))\n",
    "    plt.title(f\"Index in array: {i}\\nDate: \"+f\"{files[i][19:21]}.{files[i][17:19]}.20{files[i][15:17]} {files[i][21:23]}:{files[i][23:25]}\")\n",
    "    plt.savefig(f\"{i}\")\n",
    "    return plot\n",
    "\n",
    "anim = FuncAnimation(fig, update, frames=100, interval = 200, blit=True, repeat=False)\n",
    "\n",
    "plt.show()"
   ]
  },
  {
   "cell_type": "markdown",
   "metadata": {},
   "source": [
    "### Wind measurements\n",
    "Here I'm loading wind measurements. This is important because later we might experiment not only with rain (the density field) but with the wind (velocity field) too. This is because in the tempoGAN paper they also use the velocity and without it that might be very difficult to build the GAN (unless you have some other ideas). So for now I'll try this way. I have downloaded two datasets for the wind:<br><br>\n",
    "_Wind direction:_ __ftp://ftp-cdc.dwd.de/pub/CDC/grids_germany/hourly/Project_TRY/wind_direction/DD_201208.nc.gz__<br>\n",
    "_Wind speed:_ __ftp://ftp-cdc.dwd.de/pub/CDC/grids_germany/hourly/Project_TRY/wind_speed/FF_201208.nc.gz__<br>\n",
    "_DWD manuals:_<br>\n",
    "__ftp://ftp-cdc.dwd.de/pub/CDC/grids_germany/hourly/Project_TRY/wind_direction/DESCRIPTION_gridsgermany_hourly_Project_TRY_wind_direction_en.pdf__\n",
    "<br>\n",
    "__ftp://ftp-cdc.dwd.de/pub/CDC/grids_germany/hourly/Project_TRY/wind_speed/DESCRIPTION_gridsgermany_hourly_Project_TRY_wind_speed_en.pdf__<br><br>\n",
    "I create two datasets out of these. They contain the $x$ and $y$ velocity components.\n",
    "The measurements are in $\\displaystyle0.1\\,\\frac{m}{s}$.\n",
    "<br><br>\n",
    "_<font color='red'>__Issue__:</font> [Mostly](https://www.nationalgeographic.com/science/earth/earths-atmosphere/clouds/) an average rain cloud is at $2000\\,m$ high. Normal clouds can be up to $6000\\,m$ high. We only have wind measurements recorded at $10\\,m$. \n",
    "We can use e.g. [this](https://websites.pmc.ucsc.edu/~jnoble/wind/extrap/) to calculate wind speed at higher altitudes. We can't correct the change in wind direction so this remains a weak point in the simulations._"
   ]
  },
  {
   "cell_type": "code",
   "execution_count": null,
   "metadata": {},
   "outputs": [],
   "source": [
    "#the paths are probably different for you\n",
    "w_dir = Dataset(sys.path[0]+'/wind_direction/DD_201008_CF.nc')  # direction\n",
    "w_vel = Dataset(sys.path[0]+'/wind_speed/FF_201008_CF.nc')  # velocity\n",
    "cloud = Dataset(sys.path[0]+'/cloud/N_201008_CF.nc')['CF']  # cloud cover"
   ]
  },
  {
   "cell_type": "code",
   "execution_count": null,
   "metadata": {
    "scrolled": true
   },
   "outputs": [],
   "source": [
    "w_dir.variables.keys()"
   ]
  },
  {
   "cell_type": "code",
   "execution_count": null,
   "metadata": {
    "scrolled": true
   },
   "outputs": [],
   "source": [
    "#creating vx and vy datasets from |v| and phi\n",
    "vx = np.empty_like(w_dir['DD'])\n",
    "vy = np.empty_like(w_vel['FF'])\n",
    "for t in range(np.shape(vx)[0]):\n",
    "    vx[t] = w_vel['FF'][t]*np.sin(np.deg2rad(w_dir['DD'][t]))\n",
    "    vy[t] = w_vel['FF'][t]*np.cos(np.deg2rad(w_dir['DD'][t]))"
   ]
  },
  {
   "cell_type": "code",
   "execution_count": null,
   "metadata": {},
   "outputs": [],
   "source": [
    "cloud['datum'][0]"
   ]
  },
  {
   "cell_type": "code",
   "execution_count": null,
   "metadata": {},
   "outputs": [],
   "source": [
    "np.shape(rho[1])"
   ]
  },
  {
   "cell_type": "code",
   "execution_count": null,
   "metadata": {
    "scrolled": false
   },
   "outputs": [],
   "source": [
    "# look over the data\n",
    "%matplotlib notebook\n",
    "from  matplotlib.animation import FuncAnimation\n",
    "\n",
    "fig = plt.figure()\n",
    "plot = plt.imshow(np.flip(vx[0][300:332,300:332], axis=0)) #inputs 100 has a good mask\n",
    "plt.colorbar()\n",
    "plt.xlabel(\"Longitude pixels\")\n",
    "plt.ylabel(\"Latitude pixels\")\n",
    "def update(i):\n",
    "    plot.set_data(np.flip(vx[i][300:332,300:332], axis=0))\n",
    "    return plot\n",
    "\n",
    "anim = FuncAnimation(fig, update, frames=744, interval = 200, blit=True, repeat=False)\n",
    "\n",
    "plt.show()"
   ]
  },
  {
   "cell_type": "code",
   "execution_count": null,
   "metadata": {},
   "outputs": [],
   "source": [
    "plt.imshow(np.flip(rho, axis=0))\n",
    "plt.title(cloud['datum'][740])"
   ]
  },
  {
   "cell_type": "code",
   "execution_count": null,
   "metadata": {},
   "outputs": [],
   "source": [
    "#sanity checks\n",
    "%matplotlib inline\n",
    "\n",
    "# NE, N, NW\n",
    "plt.subplot(2,2,1)\n",
    "plt.imshow(np.flip(np.ma.masked_where(vy >0, vy), axis=0))\n",
    "plt.colorbar(shrink=0.7)\n",
    "plt.title(\"All northern wind\")\n",
    "\n",
    "plt.subplot(2,2,2)\n",
    "plt.imshow(np.flip(np.ma.masked_where((w_dir['DD'][0]<90)| (w_dir['DD'][0]>270),w_dir['DD'][0] ), axis=0))\n",
    "plt.colorbar(shrink=0.7)\n",
    "plt.title(\"All northern wind truth\")\n",
    "\n",
    "# SW\n",
    "plt.subplot(2,2,3)\n",
    "plt.imshow(np.flip(np.ma.masked_where((vx<0)|(vy<0), vy), axis=0))\n",
    "plt.colorbar(shrink=0.7)\n",
    "plt.title(\"Southwestern wind\")\n",
    "\n",
    "plt.subplot(2,2,4)\n",
    "plt.imshow(np.flip(np.ma.masked_where((w_dir['DD'][0]>90)| (w_dir['DD'][0]>360),w_dir['DD'][0] ), axis=0))\n",
    "plt.colorbar(shrink=0.7)\n",
    "plt.title(\"Southwestern wind truth\")\n",
    "\n",
    "plt.subplots_adjust(hspace=0.3, wspace=0.3)"
   ]
  },
  {
   "cell_type": "markdown",
   "metadata": {},
   "source": [
    "### Germany\n",
    "GPS coordinates of Germany."
   ]
  },
  {
   "cell_type": "code",
   "execution_count": null,
   "metadata": {},
   "outputs": [],
   "source": [
    "germany = pd.DataFrame(data={'LON':np.floor(w_vel['lon'][:][~w_vel['FF'][0].mask]*100)/100,\n",
    "                             'LAT':np.floor(w_vel['lat'][:][~w_vel['FF'][0].mask]*100)/100})[['LON','LAT']]"
   ]
  },
  {
   "cell_type": "code",
   "execution_count": null,
   "metadata": {
    "scrolled": true
   },
   "outputs": [],
   "source": [
    "test = pd.DataFrame(data={'gLON':germany['LON'], 'cLON':coords['LON']})\n",
    "test[test['cLON'] <=10.1844]"
   ]
  },
  {
   "cell_type": "code",
   "execution_count": null,
   "metadata": {
    "scrolled": true
   },
   "outputs": [],
   "source": [
    "trunc = ((100*coords[['LAT','LON']]).apply(np.floor)/100).reset_index().rename(columns={'index':'CELL_ID'})\n",
    "trunc"
   ]
  },
  {
   "cell_type": "code",
   "execution_count": null,
   "metadata": {
    "scrolled": true
   },
   "outputs": [],
   "source": [
    "everything = pd.concat([trunc, germany])\n",
    "res = everything[everything.duplicated(subset=('LAT','LON'), keep='last')].dropna()\n",
    "len(res)"
   ]
  },
  {
   "cell_type": "code",
   "execution_count": null,
   "metadata": {
    "scrolled": true
   },
   "outputs": [],
   "source": [
    "vx.max"
   ]
  },
  {
   "cell_type": "code",
   "execution_count": null,
   "metadata": {},
   "outputs": [],
   "source": [
    "everything[everything['LAT'] == 46.96]"
   ]
  },
  {
   "cell_type": "code",
   "execution_count": null,
   "metadata": {},
   "outputs": [],
   "source": [
    "%matplotlib inline\n",
    "plt.scatter(res['LON'],res['LAT'])"
   ]
  },
  {
   "cell_type": "code",
   "execution_count": null,
   "metadata": {
    "scrolled": true
   },
   "outputs": [],
   "source": [
    "inside = ((res['CELL_ID'].values//900).astype(int), (res['CELL_ID'].values%900).astype(int))\n",
    "inside"
   ]
  },
  {
   "cell_type": "code",
   "execution_count": null,
   "metadata": {},
   "outputs": [],
   "source": [
    "c = np.zeros(inputs[0].shape,bool)\n",
    "c[inside] = True"
   ]
  },
  {
   "cell_type": "code",
   "execution_count": null,
   "metadata": {},
   "outputs": [],
   "source": [
    "len(c[c])"
   ]
  },
  {
   "cell_type": "code",
   "execution_count": null,
   "metadata": {},
   "outputs": [],
   "source": [
    "%matplotlib notebook\n",
    "plt.imshow(np.ma.masked_where((~np.flip(c, axis=0)),inputs[1]))"
   ]
  },
  {
   "cell_type": "markdown",
   "metadata": {},
   "source": [
    "### Radar coordinates\n",
    "The gps coordinates of the radar grid for the rain measurements."
   ]
  },
  {
   "cell_type": "code",
   "execution_count": null,
   "metadata": {},
   "outputs": [],
   "source": [
    "lon, lat = [pd.DataFrame([re.findall('..\\......',row[0]) for idx,\n",
    "                    row in pd.read_table(sys.path[0]+f\"/rain_grid_coordinates/{file}_center.txt\",\n",
    "                    header=None).iterrows()]) for file in ['lambda', 'phi']]"
   ]
  },
  {
   "cell_type": "code",
   "execution_count": null,
   "metadata": {
    "scrolled": true
   },
   "outputs": [],
   "source": [
    "coords = pd.DataFrame(columns={\"LAT\", \"LON\"})\n",
    "coords[\"LAT\"] = pd.Series([item for sublist in lat.values.tolist() for item in sublist]).astype(float)\n",
    "coords[\"LON\"] = pd.Series([item for sublist in lon.values.tolist() for item in sublist]).astype(float)\n",
    "coords[\"CELL_ID\"] = coords.index.values"
   ]
  },
  {
   "cell_type": "code",
   "execution_count": null,
   "metadata": {
    "scrolled": true
   },
   "outputs": [],
   "source": [
    "#radar map\n",
    "%matplotlib inline\n",
    "plt.scatter(coords['LON'],coords['LAT'])"
   ]
  }
 ],
 "metadata": {
  "kernelspec": {
   "display_name": "Python 3",
   "language": "python",
   "name": "python3"
  },
  "language_info": {
   "codemirror_mode": {
    "name": "ipython",
    "version": 3
   },
   "file_extension": ".py",
   "mimetype": "text/x-python",
   "name": "python",
   "nbconvert_exporter": "python",
   "pygments_lexer": "ipython3",
   "version": "3.6.4"
  }
 },
 "nbformat": 4,
 "nbformat_minor": 2
}
