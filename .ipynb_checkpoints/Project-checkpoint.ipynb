{
 "cells": [
  {
   "cell_type": "markdown",
   "metadata": {},
   "source": [
    "## Imports and settings"
   ]
  },
  {
   "cell_type": "code",
   "execution_count": null,
   "metadata": {},
   "outputs": [],
   "source": [
    "from os import *\n",
    "import numpy as np\n",
    "import sys\n",
    "import matplotlib.pyplot as plt\n",
    "from matplotlib import animation\n",
    "import seaborn as sns\n",
    "from IPython.display import clear_output\n",
    "#data folder\n",
    "sys.path.insert(0, 'C:/Users/pkicsiny/Desktop/TUM/3/ADL4CV/data')"
   ]
  },
  {
   "cell_type": "code",
   "execution_count": null,
   "metadata": {},
   "outputs": [],
   "source": [
    "#forces CPU usage\n",
    "environ[\"CUDA_DEVICE_ORDER\"] = \"PCI_BUS_ID\"   # see issue #152\n",
    "environ[\"CUDA_VISIBLE_DEVICES\"] = \"0\" #\"\" for CPU\n",
    "import tensorflow as tf\n",
    "from tensorflow import keras"
   ]
  },
  {
   "cell_type": "code",
   "execution_count": null,
   "metadata": {},
   "outputs": [],
   "source": [
    "from tensorflow.python.client import device_lib\n",
    "print(device_lib.list_local_devices())"
   ]
  },
  {
   "cell_type": "markdown",
   "metadata": {},
   "source": [
    "______________________________________-\n",
    "## Data preprocessing"
   ]
  },
  {
   "cell_type": "code",
   "execution_count": null,
   "metadata": {},
   "outputs": [],
   "source": [
    "dataDir = sys.path[0]+\"/rain\"\n",
    "files = listdir(dataDir)\n",
    "files[0:5]"
   ]
  },
  {
   "cell_type": "code",
   "execution_count": null,
   "metadata": {},
   "outputs": [],
   "source": [
    "totalLength = len(files)\n",
    "totalLength"
   ]
  },
  {
   "cell_type": "code",
   "execution_count": null,
   "metadata": {},
   "outputs": [],
   "source": [
    "#array of inputs and outputs (predictions of the network)\n",
    "inputs = np.empty((totalLength,900,900))"
   ]
  },
  {
   "cell_type": "code",
   "execution_count": null,
   "metadata": {},
   "outputs": [],
   "source": [
    "for i, file in enumerate(files):\n",
    "    clear_output(wait=True)\n",
    "    print(f\"[{i+1}/{totalLength}]\")\n",
    "    ascii_grid = np.loadtxt(f\"{dataDir}/{files[i]}\", skiprows=6)\n",
    "    inputs[i] = ascii_grid\n",
    "    if i == 19:\n",
    "        length = i + 1\n",
    "        break"
   ]
  },
  {
   "cell_type": "code",
   "execution_count": null,
   "metadata": {},
   "outputs": [],
   "source": [
    "d = inputs[99]\n",
    "sns.heatmap(d, mask=d<0)"
   ]
  },
  {
   "cell_type": "code",
   "execution_count": null,
   "metadata": {
    "scrolled": false
   },
   "outputs": [],
   "source": [
    "%matplotlib notebook\n",
    "from  matplotlib.animation import FuncAnimation\n",
    "\n",
    "fig = plt.figure()\n",
    "plot = plt.imshow(np.ma.masked_where(inputs[23] < 0, inputs[0]))\n",
    "plt.colorbar()\n",
    "plt.xlabel(\"Longitude pixels\")\n",
    "plt.ylabel(\"Latitude pixels\")\n",
    "def update(i):\n",
    "    plot.set_data(np.ma.masked_where(inputs[23] < 0, inputs[i]))\n",
    "    plt.title(f\"Index: {i}\\nDate: {files[i][9:11]}.{files[i][7:9]}.{files[i][3:7]} {files[i][12:14]}:{files[i][14:16]}\")\n",
    "    return plot\n",
    "\n",
    "anim = FuncAnimation(fig, update, frames=length, interval = 200, blit=True, repeat=False)\n",
    "\n",
    "plt.show()"
   ]
  },
  {
   "cell_type": "markdown",
   "metadata": {},
   "source": [
    "______\n",
    "## State borders of Germany"
   ]
  },
  {
   "cell_type": "code",
   "execution_count": null,
   "metadata": {},
   "outputs": [],
   "source": [
    "import pandas as pd"
   ]
  },
  {
   "cell_type": "code",
   "execution_count": null,
   "metadata": {},
   "outputs": [],
   "source": [
    "data = pd.read_csv(sys.path[0]+\"/WDB/europe-bdy.txt\", sep=\" \", header=None).iloc[1:,:2] # data in LAT LON order\n",
    "data = data[data[0] != 'segment']\n",
    "data[0] = data[0].apply(lambda x: x[1:])\n",
    "data = data.convert_objects(convert_numeric=True).rename(columns={0:\"LAT\", 1:\"LON\"})"
   ]
  },
  {
   "cell_type": "code",
   "execution_count": null,
   "metadata": {},
   "outputs": [],
   "source": [
    "\"\"\"\n",
    "corrections\n",
    "\"\"\"\n",
    "def filter_border(data: pd.DataFrame):\n",
    "    #country borders include\n",
    "    nw_1 = (55.4286, 5.66933)\n",
    "    ne_1 = (55.4286, 15.2169)\n",
    "    sw_1 = (47.1231, 5.66933)\n",
    "    se_1 = (47.1231, 15.2169)\n",
    "    #DDR and BRD border exclude\n",
    "    nw_2 = (52.7435, 13.0489)\n",
    "    ne_2 = (52.7435, 13.5415)\n",
    "    sw_2 = (52.2764, 13.0489)\n",
    "    se_2 = (52.2764, 13.5415)\n",
    "    # Berlin exclude\n",
    "    nw_3 = (54.5733, 9.79445)\n",
    "    ne_3 = (54.5733, 12.082)\n",
    "    sw_3 = (50.1329, 9.79445)\n",
    "    se_3 = (50.1329, 12.082)\n",
    "    \n",
    "    return data[(data.iloc[:,0] <= nw_1[0]) & (data.iloc[:,1] >= nw_1[1]) & (data.iloc[:,0] >= se_1[0]) & (data.iloc[:,1] <= se_1[1]) &\n",
    "                ~((data.iloc[:,0] <= nw_2[0]) & (data.iloc[:,1] >= nw_2[1]) & (data.iloc[:,0] >= se_2[0]) & (data.iloc[:,1] <= se_2[1])) &\n",
    "                ~((data.iloc[:,0] <= nw_3[0]) & (data.iloc[:,1] >= nw_3[1]) & (data.iloc[:,0] >= se_3[0]) & (data.iloc[:,1] <= se_3[1]))]"
   ]
  },
  {
   "cell_type": "code",
   "execution_count": null,
   "metadata": {
    "scrolled": true
   },
   "outputs": [],
   "source": [
    "data"
   ]
  },
  {
   "cell_type": "code",
   "execution_count": null,
   "metadata": {
    "scrolled": true
   },
   "outputs": [],
   "source": [
    "pure = filter_border(data)"
   ]
  },
  {
   "cell_type": "code",
   "execution_count": null,
   "metadata": {},
   "outputs": [],
   "source": [
    "%matplotlib notebook\n",
    "plt.scatter(pure[\"LON\"],pure[\"LAT\"])"
   ]
  },
  {
   "cell_type": "code",
   "execution_count": null,
   "metadata": {
    "scrolled": true
   },
   "outputs": [],
   "source": [
    "coast = pd.read_csv(sys.path[0]+\"/WDB/europe-cil.txt\", sep = \" \").iloc[:,:2] # data in LAT LON order\n",
    "coast = coast[coast['segment'] != 'segment']\n",
    "coast['segment'] = coast['segment'].apply(lambda x: x[1:])\n",
    "coast = coast.convert_objects(convert_numeric=True).rename(columns={'segment':\"LAT\", '1':\"LON\"})"
   ]
  },
  {
   "cell_type": "code",
   "execution_count": null,
   "metadata": {
    "scrolled": true
   },
   "outputs": [],
   "source": [
    "coast"
   ]
  },
  {
   "cell_type": "code",
   "execution_count": null,
   "metadata": {},
   "outputs": [],
   "source": [
    "plt.figure()\n",
    "plt.scatter(coast[\"LON\"],coast[\"LAT\"])"
   ]
  },
  {
   "cell_type": "code",
   "execution_count": null,
   "metadata": {},
   "outputs": [],
   "source": []
  }
 ],
 "metadata": {
  "kernelspec": {
   "display_name": "Python 3",
   "language": "python",
   "name": "python3"
  },
  "language_info": {
   "codemirror_mode": {
    "name": "ipython",
    "version": 3
   },
   "file_extension": ".py",
   "mimetype": "text/x-python",
   "name": "python",
   "nbconvert_exporter": "python",
   "pygments_lexer": "ipython3",
   "version": "3.6.4"
  }
 },
 "nbformat": 4,
 "nbformat_minor": 2
}
