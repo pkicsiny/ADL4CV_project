{
 "cells": [
  {
   "cell_type": "markdown",
   "metadata": {},
   "source": [
    "Please download the datasets from here: https://drive.google.com/open?id=1mNEblJS0622w5-2mB6yCyMbu7RbcfENL<br>\n",
    "This should contain the following:\n",
    "- __5_min_train__: training data as np array. Shape: (7500, 64, 64, 8)\n",
    "- __5_min_xval__: validation data (currently unused) as np array. Shape: (1500, 64, 64, 8)\n",
    "- __5_min_test__: test data (used as visual validation during training) as np array. Shape: (1000, 64, 64, 8)\n",
    "- __5_min_norms__: list of floats containing the maximum pixel intensity value prior to normalization for each sequence. Shape: (10000,)\n",
    "- __5_min_long_pred__: test data for sequence prediction as np array. We used it for testing after training. Shape: (1000, 64, 64, 20)\n",
    "- __5_min_long_pred_norms__: list of floats containing the maximum pixel intensity value prior to normalization for each sequence for the 5_min_long_pred dataset. Shape: (1000,)\n",
    "- __tgan_1/2/4-1_vx/vy_2000__: optical flow images between the last and second last frames of the input for the first 2000 sequences of the training dataset (__5_min_train__) as np array. The 1/2/4 means the length of the input sequence. We mostly used 2. Shape: (2000, 64, 64, 1)\n",
    "- __germany__: Not needed. (GPS coordinates of Germany. Used for experimenting before.)\n",
    "\n",
    "In the datasets the first axis is stands for the sample, the next two for the frame height and width and the last for the channels which is the time axis here.<br>\n",
    "If data is missing or you cannot acces the drive, please write me an E-Mail: pkicsiny@gmail.com"
   ]
  },
  {
   "cell_type": "code",
   "execution_count": null,
   "metadata": {},
   "outputs": [],
   "source": [
    "import src\n",
    "import keras.backend as K\n",
    "import os\n",
    "import numpy as np\n",
    "import sys\n",
    "from functools import partial\n",
    "from scipy import ndimage\n",
    "import matplotlib.pyplot as plt\n",
    "import pandas as pd"
   ]
  },
  {
   "cell_type": "code",
   "execution_count": null,
   "metadata": {},
   "outputs": [],
   "source": [
    "#models folder\n",
    "sys.path.insert(0, 'C:/Users/pkicsiny/Desktop/TUM/3/ADL4CV/ADL4CV_project/models/')\n",
    "#data folder\n",
    "sys.path.insert(0, 'C:/Users/pkicsiny/Desktop/TUM/3/ADL4CV/data')"
   ]
  },
  {
   "cell_type": "code",
   "execution_count": null,
   "metadata": {},
   "outputs": [],
   "source": [
    "#forces CPU usage\n",
    "os.environ[\"CUDA_DEVICE_ORDER\"] = \"PCI_BUS_ID\"\n",
    "os.environ[\"CUDA_VISIBLE_DEVICES\"] = \"0\" #\"\" or \"-1\" for CPU, \"0\" for GPU\n",
    "import tensorflow as tf\n",
    "from tensorflow import keras\n",
    "from keras.models import load_model\n",
    "from tensorflow.python.client import device_lib\n",
    "print(device_lib.list_local_devices())"
   ]
  },
  {
   "cell_type": "code",
   "execution_count": null,
   "metadata": {},
   "outputs": [],
   "source": [
    "class RandomWeightedAverage(keras.layers.Concatenate):\n",
    "    \"\"\"Takes a randomly-weighted average of two tensors. In geometric terms, this outputs a random point on the line\n",
    "    between each pair of input points.\n",
    "    Inheriting from _Merge is a little messy but it was the quickest solution I could think of.\n",
    "    Improvements appreciated.\"\"\"\n",
    "\n",
    "    def _merge_function(self, inputs):\n",
    "        weights = K.random_uniform((batch_size, 1, 1, 1))\n",
    "        return (weights * inputs[0]) + ((1 - weights) * inputs[1]) if len(inputs) == 2 else \\\n",
    "               [(weights * inputs[0]) + ((1 - weights) * inputs[1]), (weights * inputs[2]) + ((1 - weights) * inputs[3])]"
   ]
  },
  {
   "cell_type": "markdown",
   "metadata": {},
   "source": [
    "Some global params"
   ]
  },
  {
   "cell_type": "code",
   "execution_count": null,
   "metadata": {},
   "outputs": [],
   "source": [
    "past = 2\n",
    "name = f\"tgan_{past}-1_iw\"\n",
    "iterations = 5000\n",
    "batch_size = 16\n",
    "GRADIENT_PENALTY_WEIGHT = 10\n",
    "#generator trainings in 1 iter\n",
    "g = 2\n",
    "#spatial disc trainings in 1 iter\n",
    "s = 1\n",
    "#temporal disc trainings in 1 iter\n",
    "t = 1\n",
    "#initialize random seed\n",
    "RND = 777\n",
    "np.random.seed(RND)"
   ]
  },
  {
   "cell_type": "code",
   "execution_count": null,
   "metadata": {},
   "outputs": [],
   "source": [
    "#set this to true if you want to use a pretrained model and load its weights from file\n",
    "use_loaded = True"
   ]
  },
  {
   "cell_type": "markdown",
   "metadata": {},
   "source": [
    "## Build network"
   ]
  },
  {
   "cell_type": "markdown",
   "metadata": {},
   "source": [
    "Make generator but don't compile."
   ]
  },
  {
   "cell_type": "code",
   "execution_count": null,
   "metadata": {},
   "outputs": [],
   "source": [
    "generator = src.unet((64, 64, past), dropout=0, batchnorm=True, kernel_size=4, feature_mult=1)\n",
    "if use_loaded:\n",
    "    generator.load_weights(sys.path[1]+name+\"/\"+name+\"_g_model.h5\")"
   ]
  },
  {
   "cell_type": "markdown",
   "metadata": {},
   "source": [
    "Make discriminators and compile."
   ]
  },
  {
   "cell_type": "code",
   "execution_count": null,
   "metadata": {},
   "outputs": [],
   "source": [
    "s_discriminator = src.spatial_discriminator(condition_shape=(64, 64, past), dropout = 0.25, batchnorm=True, wgan=True)\n",
    "if use_loaded:\n",
    "    s_discriminator.load_weights(sys.path[1]+name+\"/\"+name+\"_s_model.h5\")\n",
    "s_discriminator.compile(loss=src.wasserstein_loss,\n",
    "                        optimizer=keras.optimizers.RMSprop(lr=0.00005))"
   ]
  },
  {
   "cell_type": "code",
   "execution_count": null,
   "metadata": {},
   "outputs": [],
   "source": [
    "t_discriminator = src.temporal_discriminator(dropout = 0.25, batchnorm=True, wgan=True)\n",
    "if use_loaded:\n",
    "    t_discriminator.load_weights(sys.path[1]+name+\"/\"+name+\"_t_model.h5\")\n",
    "t_discriminator.compile(loss=src.wasserstein_loss,\n",
    "                        optimizer=keras.optimizers.RMSprop(lr=0.00005))"
   ]
  },
  {
   "cell_type": "markdown",
   "metadata": {},
   "source": [
    "Inputs and outputs of the GAN."
   ]
  },
  {
   "cell_type": "code",
   "execution_count": null,
   "metadata": {},
   "outputs": [],
   "source": [
    "frame_t = keras.layers.Input(shape=(64, 64, past), name='input_condition_')\n",
    "adv = keras.layers.Input(shape=(64, 64, 1), name=\"advected_frame\")"
   ]
  },
  {
   "cell_type": "code",
   "execution_count": null,
   "metadata": {},
   "outputs": [],
   "source": [
    "generated = generator(frame_t)\n",
    "s_score_fake = s_discriminator([frame_t, generated])\n",
    "t_score_fake = t_discriminator([adv, generated])"
   ]
  },
  {
   "cell_type": "markdown",
   "metadata": {},
   "source": [
    "Freeze discriminator weights."
   ]
  },
  {
   "cell_type": "code",
   "execution_count": null,
   "metadata": {},
   "outputs": [],
   "source": [
    "s_discriminator.trainable = False\n",
    "t_discriminator.trainable = False"
   ]
  },
  {
   "cell_type": "markdown",
   "metadata": {},
   "source": [
    "Compile combined model."
   ]
  },
  {
   "cell_type": "code",
   "execution_count": null,
   "metadata": {},
   "outputs": [],
   "source": [
    "loss_weights=[0, 1, 1]"
   ]
  },
  {
   "cell_type": "code",
   "execution_count": null,
   "metadata": {},
   "outputs": [],
   "source": [
    "combined = keras.models.Model(inputs=[frame_t, adv], outputs=[generated, s_score_fake, t_score_fake], name=\"combined_model\")"
   ]
  },
  {
   "cell_type": "code",
   "execution_count": null,
   "metadata": {
    "scrolled": true
   },
   "outputs": [],
   "source": [
    "combined.compile(loss=[src.custom_loss(loss=\"l1\"),\n",
    "                       src.wasserstein_loss,\n",
    "                       src.wasserstein_loss],\n",
    "                 optimizer=keras.optimizers.Adam(0.0001, 0.5),\n",
    "                 loss_weights=loss_weights)"
   ]
  },
  {
   "cell_type": "markdown",
   "metadata": {},
   "source": [
    "If you are using loaded weights for prediction only then please skip to the __prediction__ section."
   ]
  },
  {
   "cell_type": "markdown",
   "metadata": {},
   "source": [
    "Make gradient penalty"
   ]
  },
  {
   "cell_type": "code",
   "execution_count": null,
   "metadata": {},
   "outputs": [],
   "source": [
    "for l in s_discriminator.layers:\n",
    "    l.trainable = True\n",
    "for l in t_discriminator.layers:\n",
    "    l.trainable = True\n",
    "for l in generator.layers:\n",
    "    l.trainable = False\n",
    "\n",
    "s_discriminator.trainable = True\n",
    "t_discriminator.trainable = True\n",
    "generator.trainable = False"
   ]
  },
  {
   "cell_type": "markdown",
   "metadata": {},
   "source": [
    "Inputs and outputs"
   ]
  },
  {
   "cell_type": "code",
   "execution_count": null,
   "metadata": {},
   "outputs": [],
   "source": [
    "real_samples = keras.layers.Input(shape=(64, 64, 1), name=\"ground_truth\")\n",
    "adv_real = keras.layers.Input(shape=(64, 64, 1), name=\"real_advected\")\n",
    "\n",
    "frame_t = keras.layers.Input(shape=(64, 64, past), name=\"input_sequence\")\n",
    "adv = keras.layers.Input(shape=(64, 64, 1), name=\"fake_advected\")\n",
    "\n",
    "generated = generator(frame_t)"
   ]
  },
  {
   "cell_type": "code",
   "execution_count": null,
   "metadata": {},
   "outputs": [],
   "source": [
    "ds_output_generated = s_discriminator([frame_t, generated])\n",
    "ds_output_real = s_discriminator([frame_t, real_samples])\n",
    "s_averaged_samples = RandomWeightedAverage()([real_samples, generated])\n",
    "ds_output_avg = s_discriminator([frame_t, s_averaged_samples])\n",
    "\n",
    "dt_output_generated = t_discriminator([adv, generated])\n",
    "dt_output_real = t_discriminator([adv_real, real_samples])\n",
    "t_averaged_samples, t_averaged_advections = RandomWeightedAverage()([real_samples, generated, adv_real, adv])\n",
    "dt_output_avg = t_discriminator([t_averaged_advections, t_averaged_samples])"
   ]
  },
  {
   "cell_type": "markdown",
   "metadata": {},
   "source": [
    "Partial losses"
   ]
  },
  {
   "cell_type": "code",
   "execution_count": null,
   "metadata": {},
   "outputs": [],
   "source": [
    "s_partial_gp_loss = partial(src.gradient_penalty_loss,\n",
    "                          averaged_samples=s_averaged_samples,\n",
    "                          gradient_penalty_weight=GRADIENT_PENALTY_WEIGHT)\n",
    "s_partial_gp_loss.__name__ = 's_gradient_penalty' \n",
    "\n",
    "t_partial_gp_loss = partial(src.gradient_penalty_loss,\n",
    "                          averaged_samples=t_averaged_samples,\n",
    "                          gradient_penalty_weight=GRADIENT_PENALTY_WEIGHT)\n",
    "t_partial_gp_loss.__name__ = 't_gradient_penalty' "
   ]
  },
  {
   "cell_type": "markdown",
   "metadata": {},
   "source": [
    "Compile"
   ]
  },
  {
   "cell_type": "code",
   "execution_count": null,
   "metadata": {},
   "outputs": [],
   "source": [
    "Ds = keras.models.Model(inputs=[frame_t, real_samples],\n",
    "                                   outputs=[ds_output_real,\n",
    "                                            ds_output_generated,\n",
    "                                            ds_output_avg])\n",
    "\n",
    "Dt = keras.models.Model(inputs=[frame_t, real_samples, adv, adv_real],\n",
    "                                   outputs=[dt_output_real,\n",
    "                                            dt_output_generated,\n",
    "                                            dt_output_avg])"
   ]
  },
  {
   "cell_type": "code",
   "execution_count": null,
   "metadata": {},
   "outputs": [],
   "source": [
    "ds_loss_weights = [1, 1, 1]\n",
    "dt_loss_weights = [1, 1, 1]\n",
    "\n",
    "Ds.compile(optimizer=keras.optimizers.RMSprop(lr=0.00005),\n",
    "          loss=[src.wasserstein_loss, src.wasserstein_loss, s_partial_gp_loss], loss_weights=ds_loss_weights)\n",
    "\n",
    "Dt.compile(optimizer=keras.optimizers.RMSprop(lr=0.00005),\n",
    "          loss=[src.wasserstein_loss, src.wasserstein_loss, t_partial_gp_loss], loss_weights=dt_loss_weights)"
   ]
  },
  {
   "cell_type": "markdown",
   "metadata": {},
   "source": [
    "Labels"
   ]
  },
  {
   "cell_type": "code",
   "execution_count": null,
   "metadata": {},
   "outputs": [],
   "source": [
    "positive_y = np.ones((batch_size, 1), dtype=np.float32)\n",
    "negative_y = -positive_y\n",
    "dummy_y = np.zeros((batch_size, 1), dtype=np.float32)"
   ]
  },
  {
   "cell_type": "markdown",
   "metadata": {},
   "source": [
    "Log dict. Either append to existing log or start with an empty one."
   ]
  },
  {
   "cell_type": "code",
   "execution_count": null,
   "metadata": {},
   "outputs": [],
   "source": [
    "if use_loaded:\n",
    "    log = log = np.load(sys.path[1]+name+\"/\"+name+\"_log.npy\").item()\n",
    "else:\n",
    "    log = {\"g_loss\":[],\n",
    "           \"ds_loss\":[],\n",
    "           \"dt_loss\":[],\n",
    "           \"ds_loss_real\":[],\n",
    "           \"ds_loss_fake\":[],\n",
    "           \"ds_loss_avg\":[],\n",
    "           'ds_loss_wgan':[],\n",
    "           \"dt_loss_real\":[],\n",
    "           \"dt_loss_fake\":[],\n",
    "           \"dt_loss_avg\":[],\n",
    "           'dt_loss_wgan':[]}"
   ]
  },
  {
   "cell_type": "markdown",
   "metadata": {},
   "source": [
    "## Load dataset."
   ]
  },
  {
   "cell_type": "code",
   "execution_count": null,
   "metadata": {},
   "outputs": [],
   "source": [
    "train, xval, test = src.load_datasets(past_frames=past+1)"
   ]
  },
  {
   "cell_type": "markdown",
   "metadata": {},
   "source": [
    "Split data to inputs and ground truth images."
   ]
  },
  {
   "cell_type": "code",
   "execution_count": null,
   "metadata": {},
   "outputs": [],
   "source": [
    "gan_train, gan_truth, gan_val, gan_val_truth, gan_test, gan_test_truth = src.split_datasets(\n",
    "            train[:2000], xval, test, past_frames=past+1, augment=True)"
   ]
  },
  {
   "cell_type": "markdown",
   "metadata": {},
   "source": [
    "Calculate optical flows between frame t-1 and t."
   ]
  },
  {
   "cell_type": "code",
   "execution_count": null,
   "metadata": {},
   "outputs": [],
   "source": [
    "#optical flow of the augmented data of the first 2000 training images (8000 images)\n",
    "#vx, vy = src.optical_flow(gan_train[:,:,:,-2:-1], gan_train[:,:,:,-1:], window_size=4, tau=1e-2, init=1) # (n,:,:,1)"
   ]
  },
  {
   "cell_type": "markdown",
   "metadata": {},
   "source": [
    "Save optical flows"
   ]
  },
  {
   "cell_type": "code",
   "execution_count": null,
   "metadata": {},
   "outputs": [],
   "source": [
    "#np.savez_compressed(f\"{name}_vx_2000\",vx) #2000 denotes that they re the flo2 of the first 2000 samples from the training dataset\n",
    "#np.savez_compressed(f\"{name}_vy_2000\",vy)"
   ]
  },
  {
   "cell_type": "markdown",
   "metadata": {},
   "source": [
    "If optical flows are saved, load them"
   ]
  },
  {
   "cell_type": "code",
   "execution_count": null,
   "metadata": {},
   "outputs": [],
   "source": [
    "vx = np.load(sys.path[0]+f\"/tgan_{past}-1_vx_2000.npz\")[\"arr_0\"]\n",
    "vy = np.load(sys.path[0]+f\"/tgan_{past}-1_vy_2000.npz\")[\"arr_0\"]"
   ]
  },
  {
   "cell_type": "markdown",
   "metadata": {},
   "source": [
    "Preprocess optical flows"
   ]
  },
  {
   "cell_type": "code",
   "execution_count": null,
   "metadata": {},
   "outputs": [],
   "source": [
    "normalized_optical_flow = src.normalize_flows(vx, vy)\n",
    "flows = np.transpose([[ndimage.median_filter(image[..., ch], 4) for ch in range(2)] for image in normalized_optical_flow], (0, 2, 3, 1))"
   ]
  },
  {
   "cell_type": "markdown",
   "metadata": {},
   "source": [
    "## Training"
   ]
  },
  {
   "cell_type": "code",
   "execution_count": null,
   "metadata": {
    "scrolled": true
   },
   "outputs": [],
   "source": [
    "for it in range(iterations):\n",
    "#idx = range(it%nb_batches * batch_size,(it%nb_batches + 1) * batch_size)\n",
    "    if (it % 1000) < 25 or it % 500 == 0: # 25 times in 1000, every 500th\n",
    "        d_iters = 10\n",
    "    else:\n",
    "        d_iters = 10\n",
    "#Discriminators        \n",
    "    s_discriminator.trainable = True\n",
    "    for l in s_discriminator.layers: l.trainable = True\n",
    "    t_discriminator.trainable = True\n",
    "    for l in t_discriminator.layers: l.trainable = True\n",
    "    generator.trainable = False\n",
    "    for l in generator.layers: l.trainable = False\n",
    "          \n",
    "    for d_it in range(d_iters):\n",
    "        idx = np.random.choice(gan_train.shape[0], batch_size, replace=False)\n",
    "        real_imgs = gan_truth[idx]\n",
    "        training_batch = gan_train[idx,:,:,1:]\n",
    "        \n",
    "        ds_loss = Ds.train_on_batch([training_batch, real_imgs], [negative_y, positive_y, dummy_y])\n",
    "    \n",
    "        idx = np.random.choice(gan_train.shape[0], batch_size, replace=False)\n",
    "        real_imgs = gan_truth[idx]\n",
    "        training_batch = gan_train[idx,:,:,1:]\n",
    "        aux_batch = gan_train[idx,:,:,:-1]\n",
    "            \n",
    "        advected_aux_gen = generator.predict(aux_batch)\n",
    "        advected_aux_truth = training_batch[:,:,:,-1:]\n",
    "        for i in range(10):\n",
    "            advected_aux_gen = np.array([src.advect(sample, order=2) for sample in np.concatenate((advected_aux_gen, -flows[idx]), axis=-1)])\n",
    "            advected_aux_truth = np.array([src.advect(sample, order=2) for sample in np.concatenate((advected_aux_truth, -flows[idx]), axis=-1)])\n",
    "        \n",
    "        dt_loss = Dt.train_on_batch([training_batch,\n",
    "                                     real_imgs,\n",
    "                                     advected_aux_gen,\n",
    "                                     advected_aux_truth], [negative_y, positive_y, dummy_y])\n",
    "        \n",
    "        print(f\"{it}/{d_it} [Ds loss real: {ds_loss[1]} Ds loss fake: {ds_loss[2]} Ds loss avg: {ds_loss[3]}] \\n\"+\n",
    "              f\"{it}/{d_it} [Dt loss real: {dt_loss[1]} Dt loss fake: {dt_loss[2]} Dt loss avg: {dt_loss[3]}]\")\n",
    "\n",
    "#Generator\n",
    "    s_discriminator.trainable = False\n",
    "    for l in s_discriminator.layers: l.trainable = False\n",
    "    t_discriminator.trainable = False\n",
    "    for l in t_discriminator.layers: l.trainable = False\n",
    "    generator.trainable = True\n",
    "    for l in generator.layers: l.trainable = True\n",
    "        \n",
    "    for tg in range(g):\n",
    "        idx = np.random.choice(gan_train.shape[0], batch_size, replace=False)\n",
    "        real_imgs = gan_truth[idx]\n",
    "        training_batch = gan_train[idx,:,:,1:]\n",
    "        aux_batch = gan_train[idx,:,:,:-1]\n",
    "\n",
    "        advected = generator.predict(aux_batch)\n",
    "        for i in range(10):\n",
    "            advected = np.array([src.advect(sample, order=2) for sample in np.concatenate((advected, -flows[idx]), axis=-1)])  \n",
    "    \n",
    "        g_loss = combined.train_on_batch([training_batch, advected], [real_imgs, negative_y, negative_y])\n",
    "    \n",
    "    log[\"g_loss\"].append(g_loss)\n",
    "    log[\"ds_loss\"].append(ds_loss) \n",
    "    log[\"dt_loss\"].append(dt_loss)\n",
    "    log[\"ds_loss_real\"].append(ds_loss[1])\n",
    "    log[\"ds_loss_fake\"].append(ds_loss[2])\n",
    "    log[\"ds_loss_avg\"].append(ds_loss[3])\n",
    "    log['ds_loss_wgan'].append(-1 * ds_loss[1] + ds_loss[2])\n",
    "    log[\"dt_loss_real\"].append(dt_loss[1])\n",
    "    log[\"dt_loss_fake\"].append(dt_loss[2])\n",
    "    log[\"dt_loss_avg\"].append(dt_loss[3])\n",
    "    log['dt_loss_wgan'].append(-1 * dt_loss[1] + dt_loss[2])\n",
    "    \n",
    "    \n",
    "    print(f\"\\033[1m {it} [G loss: {g_loss}]\\033[0m \\n\"+\n",
    "          f\" Ds: real loss: {ds_loss[1]}, fake loss: {ds_loss[2]}, avg loss: {ds_loss[3]} \\n\"+\n",
    "          f\" Dt: real loss: {dt_loss[1]}, fake loss: {dt_loss[2]}, avg loss: {dt_loss[3]}\")\n",
    "    if it%100 == 0 and it>0:\n",
    "        src.sample_images(it, gan_test[...,1:], gan_test_truth, past, generator)\n",
    "        src.plot_advections(advected_aux_gen, advected_aux_truth, it)\n",
    "        src.plot_temporal_training_curves(log, it, name, wgan=True)\n",
    "        src.update_output(\"\")\n",
    "    \n",
    "    #if np.abs(ds_loss[1]) > limit or np.abs(ds_loss[2]) > limit:\n",
    "    #    ds_loss_weights[0] /= 2\n",
    "    #    ds_loss_weights[1] /= 2\n",
    "    #    ds_loss_weights[2] /= 2\n",
    "    #    s_discriminator.trainable = True\n",
    "    #    Ds.compile(optimizer=keras.optimizers.RMSprop(lr=0.00005),\n",
    "    #      loss=[src.wasserstein_loss, src.wasserstein_loss, s_partial_gp_loss], loss_weights=ds_loss_weights)\n",
    "    #    limit *=2 \n",
    "#\n",
    "    #if np.abs(dt_loss[1]) > limit or np.abs(dt_loss[2]) > limit:\n",
    "    #    dt_loss_weights[0] /= 2\n",
    "    #    dt_loss_weights[1] /= 2\n",
    "    #    dt_loss_weights[2] /= 2\n",
    "    #    t_discriminator.trainable = True\n",
    "    #    Dt.compile(optimizer=keras.optimizers.RMSprop(lr=0.00005),\n",
    "    #      loss=[src.wasserstein_loss, src.wasserstein_loss, t_partial_gp_loss], loss_weights=dt_loss_weights)\n",
    "    #    limit *=2 \n",
    "        \n",
    "\n",
    "src.sample_images(iterations, gan_test[...,1:], gan_test_truth, past, generator)\n",
    "src.plot_temporal_training_curves(log, iterations, name, wgan=True)"
   ]
  },
  {
   "cell_type": "code",
   "execution_count": null,
   "metadata": {},
   "outputs": [],
   "source": [
    "f, (a0, a1) = plt.subplots(2, 1, gridspec_kw={'height_ratios': [5, 2]})\n",
    "a0.plot(np.array(log[\"dt_loss_real\"]), alpha=0.3, c=\"b\")\n",
    "a0.plot(np.array(log[\"dt_loss_fake\"]), alpha=0.3, c=\"orange\")\n",
    "a0.plot(np.array(log[\"dt_loss_avg\"]), alpha=0.3 , c=\"g\")\n",
    "a0.plot(src.smooth(np.array(log[\"dt_loss_real\"])), c=\"b\", label=\"Dt_real\")\n",
    "a0.plot(src.smooth(np.array(log[\"dt_loss_fake\"])), c=\"orange\" , label=\"Dt_fake\")\n",
    "a0.plot(src.smooth(np.array(log[\"dt_loss_avg\"])), c=\"g\", label=\"Dt_avg\")\n",
    "a0.grid()\n",
    "a0.legend()\n",
    "a1.plot(src.smooth(np.array(log[\"g_loss\"])[:,0]),label=\"Generator loss\",c=\"b\")\n",
    "a1.plot(np.array(log[\"g_loss\"])[:,0],alpha=0.3,c=\"b\")\n",
    "\n",
    "a1.grid()\n",
    "a1.legend()\n",
    "f.text(0.5, 0, 'Iterations', ha='center', va='center')\n",
    "f.text(0, 0.5, 'Loss', ha='center', va='center', rotation='vertical')\n",
    "f.savefig(\"ww.png\")"
   ]
  },
  {
   "cell_type": "markdown",
   "metadata": {},
   "source": [
    "Save model history"
   ]
  },
  {
   "cell_type": "code",
   "execution_count": null,
   "metadata": {},
   "outputs": [],
   "source": [
    "np.save(name+\"_log\",log)"
   ]
  },
  {
   "cell_type": "markdown",
   "metadata": {},
   "source": [
    "Save model weights"
   ]
  },
  {
   "cell_type": "code",
   "execution_count": null,
   "metadata": {},
   "outputs": [],
   "source": [
    "generator.save_weights(name+\"_g_model.h5\")\n",
    "s_discriminator.save_weights(name+\"_s_model.h5\")\n",
    "t_discriminator.save_weights(name+\"_t_model.h5\")"
   ]
  },
  {
   "cell_type": "code",
   "execution_count": null,
   "metadata": {},
   "outputs": [],
   "source": [
    "combined.save_weights(name+\"_model.h5\")\n",
    "Ds.save_weights(name+\"_Ds_model.h5\")\n",
    "Dt.save_weights(name+\"_Dt_model.h5\")"
   ]
  },
  {
   "cell_type": "markdown",
   "metadata": {},
   "source": [
    "## Prediction"
   ]
  },
  {
   "cell_type": "markdown",
   "metadata": {},
   "source": [
    "Predict future frames. Loads a 20 long sequence with 1000 sequence samples."
   ]
  },
  {
   "cell_type": "code",
   "execution_count": null,
   "metadata": {
    "scrolled": true
   },
   "outputs": [],
   "source": [
    "sequence_test = src.load_datasets(prediction=True)"
   ]
  },
  {
   "cell_type": "code",
   "execution_count": null,
   "metadata": {},
   "outputs": [],
   "source": [
    "#sequence_test = src.augment_data(sequence_test)"
   ]
  },
  {
   "cell_type": "code",
   "execution_count": null,
   "metadata": {},
   "outputs": [],
   "source": [
    "generator = combined.layers[1]"
   ]
  },
  {
   "cell_type": "code",
   "execution_count": null,
   "metadata": {},
   "outputs": [],
   "source": [
    "n_next = 5\n",
    "predictions = {}\n",
    "past_frames = sequence_test[...,0:past]\n",
    "test_truth = sequence_test[...,past:past+1]\n",
    "for t in range(n_next):\n",
    "    src.update_output(t)\n",
    "    future = generator.predict(past_frames, batch_size=64)\n",
    "    predictions[f\"{t}\"] = future\n",
    "    past_frames = np.concatenate((past_frames[:,:,:,1:], predictions[f\"{t}\"]), axis=-1)\n",
    "    test_truth = sequence_test[...,past+1+t:past+2+t]"
   ]
  },
  {
   "cell_type": "markdown",
   "metadata": {},
   "source": [
    "Save example predictions"
   ]
  },
  {
   "cell_type": "code",
   "execution_count": null,
   "metadata": {},
   "outputs": [],
   "source": [
    "src.sequence_prediction_plot(name, sequence_test, predictions, past, samples=[44,110])"
   ]
  },
  {
   "cell_type": "markdown",
   "metadata": {},
   "source": [
    "Renormalize intensity values"
   ]
  },
  {
   "cell_type": "code",
   "execution_count": null,
   "metadata": {},
   "outputs": [],
   "source": [
    "test_norms = np.load(sys.path[0]+\"/5min_long_pred_norms_compressed.npz\")[\"arr_1\"]"
   ]
  },
  {
   "cell_type": "code",
   "execution_count": null,
   "metadata": {},
   "outputs": [],
   "source": [
    "#renormalize test samples\n",
    "renormalized_test = np.array([sample * np.array(test_norms)[i] for i, sample in enumerate(sequence_test)])\n",
    "renormalized_predictions = np.transpose((np.array([[sample * np.array(test_norms)[i] for i, sample in enumerate(predictions[key])] for key in list(map(str,np.arange(0,n_next)))])[:,:,:,:,0]), (1,2,3,0))"
   ]
  },
  {
   "cell_type": "markdown",
   "metadata": {},
   "source": [
    "Calculate pixel intensities back to dBZ and from there to mm/h. <br>\n",
    "Sources: <br>\n",
    "- https://www.dwd.de/DE/leistungen/radolan/radolan_info/radolan_radvor_op_komposit_format_pdf.pdf?__blob=publicationFile&v=11 (page 10)\n",
    "- <https://web.archive.org/web/20160113151652/http://www.desktopdoppler.com/help/nws-nexrad.htm#rainfall%20rates>"
   ]
  },
  {
   "cell_type": "code",
   "execution_count": null,
   "metadata": {},
   "outputs": [],
   "source": [
    "np.log10(0.5**(8/5)*200)*10"
   ]
  },
  {
   "cell_type": "code",
   "execution_count": null,
   "metadata": {},
   "outputs": [],
   "source": [
    "#dBZ\n",
    "dBZ_t = renormalized_test*0.5 - 32.5\n",
    "dBZ_p = renormalized_predictions*0.5 - 32.5\n",
    "#mm/h\n",
    "I_t = (0.005*10**(0.1*dBZ_t))**(0.625)\n",
    "I_p = (0.005*10**(0.1*dBZ_p))**(0.625)"
   ]
  },
  {
   "cell_type": "code",
   "execution_count": null,
   "metadata": {},
   "outputs": [],
   "source": [
    "intensity_scores = src.get_scores(renormalized_predictions, renormalized_test, n_next, past, thresholds_as_list=[18])\n",
    "scores = src.get_scores(I_p, I_t, n_next, past, thresholds_as_list=[0.5])"
   ]
  },
  {
   "cell_type": "code",
   "execution_count": null,
   "metadata": {},
   "outputs": [],
   "source": [
    "plt.imshow(I_p[10,:,:,0])"
   ]
  },
  {
   "cell_type": "code",
   "execution_count": null,
   "metadata": {},
   "outputs": [],
   "source": [
    "plt.imshow(I_t[10,:,:,-1])"
   ]
  },
  {
   "cell_type": "code",
   "execution_count": null,
   "metadata": {},
   "outputs": [],
   "source": [
    "plt.imshow(renormalized_predictions[10,:,:,0], vmin=0)"
   ]
  },
  {
   "cell_type": "code",
   "execution_count": null,
   "metadata": {},
   "outputs": [],
   "source": [
    "plt.imshow(renormalized_test[10,:,:,-1], vmin=0)"
   ]
  },
  {
   "cell_type": "markdown",
   "metadata": {},
   "source": [
    "Save scores."
   ]
  },
  {
   "cell_type": "code",
   "execution_count": null,
   "metadata": {},
   "outputs": [],
   "source": [
    "np.save(name+\"_scores\",scores)\n",
    "np.save(name+\"_intensity_scores\",intensity_scores)"
   ]
  },
  {
   "cell_type": "code",
   "execution_count": null,
   "metadata": {},
   "outputs": [],
   "source": [
    "pd.Series(scores['pred_1'][\"corr_to_truth\"]).mean()"
   ]
  },
  {
   "cell_type": "code",
   "execution_count": null,
   "metadata": {},
   "outputs": [],
   "source": [
    "pd.Series(intensity_scores['pred_1'][\"corr_to_truth\"]).mean()"
   ]
  },
  {
   "cell_type": "code",
   "execution_count": null,
   "metadata": {},
   "outputs": [],
   "source": [
    "pd.Series(intensity_scores['pred_1'][\"corr_to_input\"]).mean()"
   ]
  },
  {
   "cell_type": "code",
   "execution_count": null,
   "metadata": {},
   "outputs": [],
   "source": []
  }
 ],
 "metadata": {
  "kernelspec": {
   "display_name": "Python 3",
   "language": "python",
   "name": "python3"
  },
  "language_info": {
   "codemirror_mode": {
    "name": "ipython",
    "version": 3
   },
   "file_extension": ".py",
   "mimetype": "text/x-python",
   "name": "python",
   "nbconvert_exporter": "python",
   "pygments_lexer": "ipython3",
   "version": "3.6.4"
  }
 },
 "nbformat": 4,
 "nbformat_minor": 2
}
