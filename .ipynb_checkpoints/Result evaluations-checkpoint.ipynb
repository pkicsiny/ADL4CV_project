{
 "cells": [
  {
   "cell_type": "code",
   "execution_count": 16,
   "metadata": {},
   "outputs": [],
   "source": [
    "import src\n",
    "import os\n",
    "import numpy as np\n",
    "import sys\n",
    "import re\n",
    "import math\n",
    "import pandas as pd\n",
    "import matplotlib.pyplot as plt\n",
    "sys.path.insert(0, 'C:/Users/pkicsiny/Desktop/TUM/3/ADL4CV/ADL4CV_project/trainings')\n"
   ]
  },
  {
   "cell_type": "code",
   "execution_count": 42,
   "metadata": {},
   "outputs": [],
   "source": [
    "scores = {}\n",
    "for training in os.listdir(sys.path[0]):\n",
    "    try:\n",
    "        scores[training] = np.load(sys.path[0]+\"/\"+training+\"/\"+training+\"_scores.npy\")\n",
    "    except:\n",
    "        pass"
   ]
  },
  {
   "cell_type": "code",
   "execution_count": 43,
   "metadata": {},
   "outputs": [
    {
     "data": {
      "text/plain": [
       "dict_keys(['tgan_1-1', 'tgan_4-1', 'unet_1-1', 'unet_2-1', 'unet_4-1'])"
      ]
     },
     "execution_count": 43,
     "metadata": {},
     "output_type": "execute_result"
    }
   ],
   "source": [
    "scores.keys()"
   ]
  },
  {
   "cell_type": "code",
   "execution_count": 51,
   "metadata": {
    "scrolled": true
   },
   "outputs": [],
   "source": [
    "result = {}\n",
    "for training in scores.keys():\n",
    "    result[training] = pd.DataFrame(\n",
    "        data=[pd.DataFrame(scores[training].item()[key]).mean() for key in scores[training].item().keys()],\n",
    "        index=scores[training].item().keys())#.groupby(['corr_to_input', 'corr_to_truth'])"
   ]
  },
  {
   "cell_type": "code",
   "execution_count": 88,
   "metadata": {},
   "outputs": [
    {
     "data": {
      "text/html": [
       "<div>\n",
       "<style scoped>\n",
       "    .dataframe tbody tr th:only-of-type {\n",
       "        vertical-align: middle;\n",
       "    }\n",
       "\n",
       "    .dataframe tbody tr th {\n",
       "        vertical-align: top;\n",
       "    }\n",
       "\n",
       "    .dataframe thead th {\n",
       "        text-align: right;\n",
       "    }\n",
       "</style>\n",
       "<table border=\"1\" class=\"dataframe\">\n",
       "  <thead>\n",
       "    <tr style=\"text-align: right;\">\n",
       "      <th></th>\n",
       "      <th>corr_to_input</th>\n",
       "      <th>corr_to_truth</th>\n",
       "      <th>csi</th>\n",
       "      <th>far</th>\n",
       "      <th>pod</th>\n",
       "    </tr>\n",
       "  </thead>\n",
       "  <tbody>\n",
       "    <tr>\n",
       "      <th>pred_1_threshold_10</th>\n",
       "      <td>1.353878</td>\n",
       "      <td>0.850564</td>\n",
       "      <td>0.665435</td>\n",
       "      <td>0.225001</td>\n",
       "      <td>0.821256</td>\n",
       "    </tr>\n",
       "    <tr>\n",
       "      <th>pred_1_threshold_50</th>\n",
       "      <td>1.353878</td>\n",
       "      <td>0.850564</td>\n",
       "      <td>0.550568</td>\n",
       "      <td>0.218147</td>\n",
       "      <td>0.631553</td>\n",
       "    </tr>\n",
       "    <tr>\n",
       "      <th>pred_1_threshold_100</th>\n",
       "      <td>1.353878</td>\n",
       "      <td>0.850564</td>\n",
       "      <td>0.249434</td>\n",
       "      <td>0.457791</td>\n",
       "      <td>0.330452</td>\n",
       "    </tr>\n",
       "    <tr>\n",
       "      <th>pred_2_threshold_10</th>\n",
       "      <td>1.200657</td>\n",
       "      <td>0.753417</td>\n",
       "      <td>0.565854</td>\n",
       "      <td>0.232535</td>\n",
       "      <td>0.683194</td>\n",
       "    </tr>\n",
       "    <tr>\n",
       "      <th>pred_2_threshold_50</th>\n",
       "      <td>1.200657</td>\n",
       "      <td>0.753417</td>\n",
       "      <td>0.460882</td>\n",
       "      <td>0.306339</td>\n",
       "      <td>0.561458</td>\n",
       "    </tr>\n",
       "    <tr>\n",
       "      <th>pred_2_threshold_100</th>\n",
       "      <td>1.200657</td>\n",
       "      <td>0.753417</td>\n",
       "      <td>0.204229</td>\n",
       "      <td>0.606300</td>\n",
       "      <td>0.341704</td>\n",
       "    </tr>\n",
       "    <tr>\n",
       "      <th>pred_3_threshold_10</th>\n",
       "      <td>1.098870</td>\n",
       "      <td>0.672291</td>\n",
       "      <td>0.484605</td>\n",
       "      <td>0.281478</td>\n",
       "      <td>0.603734</td>\n",
       "    </tr>\n",
       "    <tr>\n",
       "      <th>pred_3_threshold_50</th>\n",
       "      <td>1.098870</td>\n",
       "      <td>0.672291</td>\n",
       "      <td>0.399250</td>\n",
       "      <td>0.379905</td>\n",
       "      <td>0.520571</td>\n",
       "    </tr>\n",
       "    <tr>\n",
       "      <th>pred_3_threshold_100</th>\n",
       "      <td>1.098870</td>\n",
       "      <td>0.672291</td>\n",
       "      <td>0.173074</td>\n",
       "      <td>0.703796</td>\n",
       "      <td>0.369170</td>\n",
       "    </tr>\n",
       "    <tr>\n",
       "      <th>pred_4_threshold_10</th>\n",
       "      <td>1.030046</td>\n",
       "      <td>0.605155</td>\n",
       "      <td>0.428699</td>\n",
       "      <td>0.335696</td>\n",
       "      <td>0.560328</td>\n",
       "    </tr>\n",
       "    <tr>\n",
       "      <th>pred_4_threshold_50</th>\n",
       "      <td>1.030046</td>\n",
       "      <td>0.605155</td>\n",
       "      <td>0.349831</td>\n",
       "      <td>0.456106</td>\n",
       "      <td>0.496649</td>\n",
       "    </tr>\n",
       "    <tr>\n",
       "      <th>pred_4_threshold_100</th>\n",
       "      <td>1.030046</td>\n",
       "      <td>0.605155</td>\n",
       "      <td>0.140595</td>\n",
       "      <td>0.784050</td>\n",
       "      <td>0.376329</td>\n",
       "    </tr>\n",
       "  </tbody>\n",
       "</table>\n",
       "</div>"
      ],
      "text/plain": [
       "                      corr_to_input  corr_to_truth       csi       far  \\\n",
       "pred_1_threshold_10        1.353878       0.850564  0.665435  0.225001   \n",
       "pred_1_threshold_50        1.353878       0.850564  0.550568  0.218147   \n",
       "pred_1_threshold_100       1.353878       0.850564  0.249434  0.457791   \n",
       "pred_2_threshold_10        1.200657       0.753417  0.565854  0.232535   \n",
       "pred_2_threshold_50        1.200657       0.753417  0.460882  0.306339   \n",
       "pred_2_threshold_100       1.200657       0.753417  0.204229  0.606300   \n",
       "pred_3_threshold_10        1.098870       0.672291  0.484605  0.281478   \n",
       "pred_3_threshold_50        1.098870       0.672291  0.399250  0.379905   \n",
       "pred_3_threshold_100       1.098870       0.672291  0.173074  0.703796   \n",
       "pred_4_threshold_10        1.030046       0.605155  0.428699  0.335696   \n",
       "pred_4_threshold_50        1.030046       0.605155  0.349831  0.456106   \n",
       "pred_4_threshold_100       1.030046       0.605155  0.140595  0.784050   \n",
       "\n",
       "                           pod  \n",
       "pred_1_threshold_10   0.821256  \n",
       "pred_1_threshold_50   0.631553  \n",
       "pred_1_threshold_100  0.330452  \n",
       "pred_2_threshold_10   0.683194  \n",
       "pred_2_threshold_50   0.561458  \n",
       "pred_2_threshold_100  0.341704  \n",
       "pred_3_threshold_10   0.603734  \n",
       "pred_3_threshold_50   0.520571  \n",
       "pred_3_threshold_100  0.369170  \n",
       "pred_4_threshold_10   0.560328  \n",
       "pred_4_threshold_50   0.496649  \n",
       "pred_4_threshold_100  0.376329  "
      ]
     },
     "execution_count": 88,
     "metadata": {},
     "output_type": "execute_result"
    }
   ],
   "source": [
    "result['unet_4-1']"
   ]
  },
  {
   "cell_type": "code",
   "execution_count": 124,
   "metadata": {},
   "outputs": [
    {
     "data": {
      "text/plain": [
       "<matplotlib.legend.Legend at 0x25a10ae7748>"
      ]
     },
     "execution_count": 124,
     "metadata": {},
     "output_type": "execute_result"
    },
    {
     "data": {
      "image/png": "[encoded data removed]",
      "text/plain": [
       "<matplotlib.figure.Figure at 0x25a10e6cf98>"
      ]
     },
     "metadata": {
      "needs_background": "light"
     },
     "output_type": "display_data"
    }
   ],
   "source": [
    "training = \"tgan_4-1\"\n",
    "fig, (ax1, ax2) = plt.subplots(1,2, figsize=(12,4))\n",
    "ax1.plot(result[training][\"corr_to_input\"][0::3], label=\"corr. to input\")\n",
    "ax1.plot(result[training][\"corr_to_truth\"][0::3], label=\"corr. to reference\")\n",
    "ax1.grid()\n",
    "ax1.set_xticklabels([\"5\", \"10\", \"15\", \"20\"])\n",
    "ax1.set_xlabel(\"Prediction time\")\n",
    "ax1.set_ylabel(\"Correlations\")\n",
    "ax1.legend()\n",
    "ax2.plot(result[training][\"csi\"][0::3], label=\"csi\")\n",
    "ax2.plot(result[training][\"pod\"][0::3], label=\"pod\")\n",
    "ax2.plot(result[training][\"far\"][0::3], label=\"far\")\n",
    "ax2.set_xlabel(\"Prediction time\")\n",
    "ax2.set_ylabel(\"Scores\")\n",
    "ax2.grid()\n",
    "ax2.set_xticklabels([\"5\", \"10\", \"15\", \"20\"])\n",
    "ax2.legend()"
   ]
  },
  {
   "cell_type": "code",
   "execution_count": null,
   "metadata": {},
   "outputs": [],
   "source": []
  }
 ],
 "metadata": {
  "kernelspec": {
   "display_name": "Python 3",
   "language": "python",
   "name": "python3"
  },
  "language_info": {
   "codemirror_mode": {
    "name": "ipython",
    "version": 3
   },
   "file_extension": ".py",
   "mimetype": "text/x-python",
   "name": "python",
   "nbconvert_exporter": "python",
   "pygments_lexer": "ipython3",
   "version": "3.6.4"
  }
 },
 "nbformat": 4,
 "nbformat_minor": 2
}
