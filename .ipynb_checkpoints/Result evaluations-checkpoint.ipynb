{
 "cells": [
  {
   "cell_type": "code",
   "execution_count": 1,
   "metadata": {},
   "outputs": [
    {
     "name": "stderr",
     "output_type": "stream",
     "text": [
      "C:\\ProgramData\\Anaconda3\\lib\\site-packages\\h5py\\__init__.py:36: FutureWarning: Conversion of the second argument of issubdtype from `float` to `np.floating` is deprecated. In future, it will be treated as `np.float64 == np.dtype(float).type`.\n",
      "  from ._conv import register_converters as _register_converters\n",
      "Using TensorFlow backend.\n"
     ]
    }
   ],
   "source": [
    "import src\n",
    "import os\n",
    "import numpy as np\n",
    "import sys\n",
    "import re\n",
    "import math\n",
    "import pandas as pd\n",
    "import matplotlib.pyplot as plt\n",
    "sys.path.insert(0, 'C:/Users/pkicsiny/Desktop/TUM/3/ADL4CV/ADL4CV_project/models')"
   ]
  },
  {
   "cell_type": "code",
   "execution_count": 2,
   "metadata": {},
   "outputs": [
    {
     "data": {
      "text/plain": [
       "['sgan_2-1', 'sgan_2-1_w', 'tgan_2-1', 'unet_2-1']"
      ]
     },
     "execution_count": 2,
     "metadata": {},
     "output_type": "execute_result"
    }
   ],
   "source": [
    "os.listdir(sys.path[0])"
   ]
  },
  {
   "cell_type": "code",
   "execution_count": 3,
   "metadata": {},
   "outputs": [],
   "source": [
    "scores = {}\n",
    "for model in os.listdir(sys.path[0]):\n",
    "    try:\n",
    "        scores[model] = np.load(sys.path[0]+\"/\"+model+\"/\"+model+\"_scores.npy\")\n",
    "    except:\n",
    "        pass"
   ]
  },
  {
   "cell_type": "code",
   "execution_count": 4,
   "metadata": {},
   "outputs": [
    {
     "data": {
      "text/plain": [
       "dict_keys(['sgan_2-1', 'sgan_2-1_w', 'tgan_2-1', 'unet_2-1'])"
      ]
     },
     "execution_count": 4,
     "metadata": {},
     "output_type": "execute_result"
    }
   ],
   "source": [
    "scores.keys()"
   ]
  },
  {
   "cell_type": "code",
   "execution_count": 5,
   "metadata": {
    "scrolled": true
   },
   "outputs": [
    {
     "data": {
      "text/plain": [
       "dict_keys(['pred_1', 'pred_2', 'pred_3', 'pred_4', 'pred_5'])"
      ]
     },
     "execution_count": 5,
     "metadata": {},
     "output_type": "execute_result"
    }
   ],
   "source": [
    "scores['sgan_2-1_w'].item().keys()"
   ]
  },
  {
   "cell_type": "code",
   "execution_count": 6,
   "metadata": {
    "scrolled": true
   },
   "outputs": [],
   "source": [
    "result = {}\n",
    "for model in scores.keys():\n",
    "    result[model] = pd.DataFrame(\n",
    "        data=[pd.DataFrame(scores[model].item()[key]).mean(skipna=True) for key in scores[model].item().keys()],\n",
    "        index=scores[model].item().keys())#.groupby(['corr_to_input', 'corr_to_truth'])"
   ]
  },
  {
   "cell_type": "code",
   "execution_count": 7,
   "metadata": {},
   "outputs": [
    {
     "data": {
      "text/html": [
       "<div>\n",
       "<style scoped>\n",
       "    .dataframe tbody tr th:only-of-type {\n",
       "        vertical-align: middle;\n",
       "    }\n",
       "\n",
       "    .dataframe tbody tr th {\n",
       "        vertical-align: top;\n",
       "    }\n",
       "\n",
       "    .dataframe thead th {\n",
       "        text-align: right;\n",
       "    }\n",
       "</style>\n",
       "<table border=\"1\" class=\"dataframe\">\n",
       "  <thead>\n",
       "    <tr style=\"text-align: right;\">\n",
       "      <th></th>\n",
       "      <th>corr_to_input</th>\n",
       "      <th>corr_to_truth</th>\n",
       "      <th>csi</th>\n",
       "      <th>far</th>\n",
       "      <th>pod</th>\n",
       "    </tr>\n",
       "  </thead>\n",
       "  <tbody>\n",
       "    <tr>\n",
       "      <th>pred_1</th>\n",
       "      <td>0.186951</td>\n",
       "      <td>0.176242</td>\n",
       "      <td>0.060228</td>\n",
       "      <td>0.922667</td>\n",
       "      <td>0.263047</td>\n",
       "    </tr>\n",
       "    <tr>\n",
       "      <th>pred_2</th>\n",
       "      <td>0.202568</td>\n",
       "      <td>0.188747</td>\n",
       "      <td>0.056994</td>\n",
       "      <td>0.930796</td>\n",
       "      <td>0.332566</td>\n",
       "    </tr>\n",
       "    <tr>\n",
       "      <th>pred_3</th>\n",
       "      <td>0.219741</td>\n",
       "      <td>0.200627</td>\n",
       "      <td>0.052136</td>\n",
       "      <td>0.939977</td>\n",
       "      <td>0.421934</td>\n",
       "    </tr>\n",
       "    <tr>\n",
       "      <th>pred_4</th>\n",
       "      <td>0.227934</td>\n",
       "      <td>0.211601</td>\n",
       "      <td>0.047987</td>\n",
       "      <td>0.946926</td>\n",
       "      <td>0.525442</td>\n",
       "    </tr>\n",
       "    <tr>\n",
       "      <th>pred_5</th>\n",
       "      <td>0.226111</td>\n",
       "      <td>0.214665</td>\n",
       "      <td>0.044815</td>\n",
       "      <td>0.952066</td>\n",
       "      <td>0.576983</td>\n",
       "    </tr>\n",
       "  </tbody>\n",
       "</table>\n",
       "</div>"
      ],
      "text/plain": [
       "        corr_to_input  corr_to_truth       csi       far       pod\n",
       "pred_1       0.186951       0.176242  0.060228  0.922667  0.263047\n",
       "pred_2       0.202568       0.188747  0.056994  0.930796  0.332566\n",
       "pred_3       0.219741       0.200627  0.052136  0.939977  0.421934\n",
       "pred_4       0.227934       0.211601  0.047987  0.946926  0.525442\n",
       "pred_5       0.226111       0.214665  0.044815  0.952066  0.576983"
      ]
     },
     "execution_count": 7,
     "metadata": {},
     "output_type": "execute_result"
    }
   ],
   "source": [
    "result[\"sgan_2-1_w\"]"
   ]
  },
  {
   "cell_type": "code",
   "execution_count": 8,
   "metadata": {},
   "outputs": [
    {
     "data": {
      "text/html": [
       "<div>\n",
       "<style scoped>\n",
       "    .dataframe tbody tr th:only-of-type {\n",
       "        vertical-align: middle;\n",
       "    }\n",
       "\n",
       "    .dataframe tbody tr th {\n",
       "        vertical-align: top;\n",
       "    }\n",
       "\n",
       "    .dataframe thead th {\n",
       "        text-align: right;\n",
       "    }\n",
       "</style>\n",
       "<table border=\"1\" class=\"dataframe\">\n",
       "  <thead>\n",
       "    <tr style=\"text-align: right;\">\n",
       "      <th></th>\n",
       "      <th>corr_to_input</th>\n",
       "      <th>corr_to_truth</th>\n",
       "      <th>csi</th>\n",
       "      <th>far</th>\n",
       "      <th>pod</th>\n",
       "    </tr>\n",
       "  </thead>\n",
       "  <tbody>\n",
       "    <tr>\n",
       "      <th>pred_1</th>\n",
       "      <td>0.419722</td>\n",
       "      <td>0.408843</td>\n",
       "      <td>0.158531</td>\n",
       "      <td>0.648910</td>\n",
       "      <td>0.240742</td>\n",
       "    </tr>\n",
       "    <tr>\n",
       "      <th>pred_2</th>\n",
       "      <td>0.286258</td>\n",
       "      <td>0.284586</td>\n",
       "      <td>0.098920</td>\n",
       "      <td>0.777811</td>\n",
       "      <td>0.173009</td>\n",
       "    </tr>\n",
       "    <tr>\n",
       "      <th>pred_3</th>\n",
       "      <td>0.226415</td>\n",
       "      <td>0.223684</td>\n",
       "      <td>0.072718</td>\n",
       "      <td>0.844066</td>\n",
       "      <td>0.148683</td>\n",
       "    </tr>\n",
       "    <tr>\n",
       "      <th>pred_4</th>\n",
       "      <td>0.203311</td>\n",
       "      <td>0.197327</td>\n",
       "      <td>0.060857</td>\n",
       "      <td>0.874601</td>\n",
       "      <td>0.136485</td>\n",
       "    </tr>\n",
       "    <tr>\n",
       "      <th>pred_5</th>\n",
       "      <td>0.000000</td>\n",
       "      <td>0.000000</td>\n",
       "      <td>NaN</td>\n",
       "      <td>NaN</td>\n",
       "      <td>NaN</td>\n",
       "    </tr>\n",
       "  </tbody>\n",
       "</table>\n",
       "</div>"
      ],
      "text/plain": [
       "        corr_to_input  corr_to_truth       csi       far       pod\n",
       "pred_1       0.419722       0.408843  0.158531  0.648910  0.240742\n",
       "pred_2       0.286258       0.284586  0.098920  0.777811  0.173009\n",
       "pred_3       0.226415       0.223684  0.072718  0.844066  0.148683\n",
       "pred_4       0.203311       0.197327  0.060857  0.874601  0.136485\n",
       "pred_5       0.000000       0.000000       NaN       NaN       NaN"
      ]
     },
     "execution_count": 8,
     "metadata": {},
     "output_type": "execute_result"
    }
   ],
   "source": [
    "result[\"tgan_2-1\"]"
   ]
  },
  {
   "cell_type": "code",
   "execution_count": 9,
   "metadata": {},
   "outputs": [
    {
     "data": {
      "text/html": [
       "<div>\n",
       "<style scoped>\n",
       "    .dataframe tbody tr th:only-of-type {\n",
       "        vertical-align: middle;\n",
       "    }\n",
       "\n",
       "    .dataframe tbody tr th {\n",
       "        vertical-align: top;\n",
       "    }\n",
       "\n",
       "    .dataframe thead th {\n",
       "        text-align: right;\n",
       "    }\n",
       "</style>\n",
       "<table border=\"1\" class=\"dataframe\">\n",
       "  <thead>\n",
       "    <tr style=\"text-align: right;\">\n",
       "      <th></th>\n",
       "      <th>corr_to_input</th>\n",
       "      <th>corr_to_truth</th>\n",
       "      <th>csi</th>\n",
       "      <th>far</th>\n",
       "      <th>pod</th>\n",
       "    </tr>\n",
       "  </thead>\n",
       "  <tbody>\n",
       "    <tr>\n",
       "      <th>pred_1</th>\n",
       "      <td>0.831327</td>\n",
       "      <td>0.836055</td>\n",
       "      <td>0.638678</td>\n",
       "      <td>0.322863</td>\n",
       "      <td>0.914238</td>\n",
       "    </tr>\n",
       "    <tr>\n",
       "      <th>pred_2</th>\n",
       "      <td>0.664743</td>\n",
       "      <td>0.701171</td>\n",
       "      <td>0.585867</td>\n",
       "      <td>0.283978</td>\n",
       "      <td>0.762600</td>\n",
       "    </tr>\n",
       "    <tr>\n",
       "      <th>pred_3</th>\n",
       "      <td>0.500319</td>\n",
       "      <td>0.545513</td>\n",
       "      <td>0.480002</td>\n",
       "      <td>0.292094</td>\n",
       "      <td>0.609874</td>\n",
       "    </tr>\n",
       "    <tr>\n",
       "      <th>pred_4</th>\n",
       "      <td>0.362328</td>\n",
       "      <td>0.391256</td>\n",
       "      <td>0.381965</td>\n",
       "      <td>0.322462</td>\n",
       "      <td>0.488021</td>\n",
       "    </tr>\n",
       "    <tr>\n",
       "      <th>pred_5</th>\n",
       "      <td>0.270801</td>\n",
       "      <td>0.274132</td>\n",
       "      <td>0.310207</td>\n",
       "      <td>0.387576</td>\n",
       "      <td>0.401632</td>\n",
       "    </tr>\n",
       "  </tbody>\n",
       "</table>\n",
       "</div>"
      ],
      "text/plain": [
       "        corr_to_input  corr_to_truth       csi       far       pod\n",
       "pred_1       0.831327       0.836055  0.638678  0.322863  0.914238\n",
       "pred_2       0.664743       0.701171  0.585867  0.283978  0.762600\n",
       "pred_3       0.500319       0.545513  0.480002  0.292094  0.609874\n",
       "pred_4       0.362328       0.391256  0.381965  0.322462  0.488021\n",
       "pred_5       0.270801       0.274132  0.310207  0.387576  0.401632"
      ]
     },
     "execution_count": 9,
     "metadata": {},
     "output_type": "execute_result"
    }
   ],
   "source": [
    "result[\"unet_2-1\"]"
   ]
  },
  {
   "cell_type": "code",
   "execution_count": null,
   "metadata": {},
   "outputs": [],
   "source": [
    "fig, ax1 = plt.subplots(1,1)\n",
    "ax1.plot(result[\"sgan_2-1\"][\"corr_to_input\"], label=\"Ds\", linestyle='--',c=\"r\")\n",
    "ax1.plot(result[\"sgan_2-1\"][\"corr_to_truth\"], label=\"Ds\", c=\"darkred\")\n",
    "\n",
    "ax1.plot(result[\"tgan_2-1\"][\"corr_to_input\"], label=\"Ds+Dt\", linestyle='--',c=\"b\")\n",
    "ax1.plot(result[\"tgan_2-1\"][\"corr_to_truth\"], label=\"Ds+Dt\", c=\"darkblue\")\n",
    "\n",
    "ax1.plot(result[\"unet_2-1\"][\"corr_to_input\"], label=\"Unet\", linestyle='--',c=\"orange\")\n",
    "ax1.plot(result[\"unet_2-1\"][\"corr_to_truth\"], label=\"Unet\", c=\"darkorange\")\n",
    "ax1.grid()\n",
    "ax1.set_xticklabels([\"5\", \"10\", \"15\", \"20\", \"25\"])\n",
    "ax1.set_xlabel(\"Prediction time\")\n",
    "ax1.set_ylabel(\"Correlations\")\n",
    "ax1.legend()\n",
    "plt.savefig(\"corrs\")"
   ]
  },
  {
   "cell_type": "code",
   "execution_count": null,
   "metadata": {},
   "outputs": [],
   "source": [
    "fig, ax2 = plt.subplots(1,1, figsize=(12,4))\n",
    "ax2.plot(result[\"sgan_2-1\"][\"csi\"], label=\"CSI\")\n",
    "ax2.plot(result[\"sgan_2-1\"][\"pod\"], label=\"POD\")\n",
    "ax2.plot(result[\"sgan_2-1\"][\"far\"], label=\"FAR\")\n",
    "\n",
    "ax2.set_xlabel(\"Prediction time\")\n",
    "ax2.set_ylabel(\"Scores\")\n",
    "ax2.grid()\n",
    "ax2.set_xticklabels([\"5\", \"10\", \"15\", \"20\", \"25\"])\n",
    "ax2.legend()"
   ]
  },
  {
   "cell_type": "code",
   "execution_count": null,
   "metadata": {},
   "outputs": [],
   "source": [
    "fig, ax2 = plt.subplots(1,1, figsize=(12,4))\n",
    "ax2.plot(result[\"tgan_2-1\"][\"csi\"], label=\"CSI\")\n",
    "ax2.plot(result[\"tgan_2-1\"][\"pod\"], label=\"POD\")\n",
    "ax2.plot(result[\"tgan_2-1\"][\"far\"], label=\"FAR\")\n",
    "\n",
    "ax2.set_xlabel(\"Prediction time\")\n",
    "ax2.set_ylabel(\"Scores\")\n",
    "ax2.grid()\n",
    "ax2.set_xticklabels([\"5\", \"10\", \"15\", \"20\", \"25\"])\n",
    "ax2.legend()"
   ]
  },
  {
   "cell_type": "code",
   "execution_count": null,
   "metadata": {},
   "outputs": [],
   "source": []
  }
 ],
 "metadata": {
  "kernelspec": {
   "display_name": "Python 3",
   "language": "python",
   "name": "python3"
  },
  "language_info": {
   "codemirror_mode": {
    "name": "ipython",
    "version": 3
   },
   "file_extension": ".py",
   "mimetype": "text/x-python",
   "name": "python",
   "nbconvert_exporter": "python",
   "pygments_lexer": "ipython3",
   "version": "3.6.4"
  }
 },
 "nbformat": 4,
 "nbformat_minor": 2
}
