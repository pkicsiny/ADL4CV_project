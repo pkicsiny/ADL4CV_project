{
 "cells": [
  {
   "cell_type": "markdown",
   "metadata": {},
   "source": [
    "Please download the datasets from here: https://drive.google.com/open?id=1mNEblJS0622w5-2mB6yCyMbu7RbcfENL<br>\n",
    "This should contain the following:\n",
    "- __5_min_train__: training data as np array. Shape: (7500, 64, 64, 8)\n",
    "- __5_min_xval__: validation data (currently unused) as np array. Shape: (1500, 64, 64, 8)\n",
    "- __5_min_test__: test data (used as visual validation during training) as np array. Shape: (1000, 64, 64, 8)\n",
    "- __5_min_norms__: list of floats containing the maximum pixel intensity value prior to normalization for each sequence. Shape: (10000,)\n",
    "- __5_min_long_pred__: test data for sequence prediction as np array. We used it for testing after training. Shape: (1000, 64, 64, 20)\n",
    "- __5_min_long_pred_norms__: list of floats containing the maximum pixel intensity value prior to normalization for each sequence for the 5_min_long_pred dataset. Shape: (1000,)\n",
    "- __tgan_1/2/4-1_vx/vy_2000__: optical flow images between the last and second last frames of the input for the first 2000 sequences of the training dataset (__5_min_train__) as np array. The 1/2/4 means the length of the input sequence. We mostly used 2. Shape: (2000, 64, 64, 1)\n",
    "- __germany__: Not needed. (GPS coordinates of Germany. Used for experimenting before.)\n",
    "\n",
    "In the datasets the first axis is stands for the sample, the next two for the frame height and width and the last for the channels which is the time axis here.<br>\n",
    "If data is missing or you cannot acces the drive, please write me an E-Mail: pkicsiny@gmail.com"
   ]
  },
  {
   "cell_type": "code",
   "execution_count": 1,
   "metadata": {
    "scrolled": true
   },
   "outputs": [
    {
     "name": "stderr",
     "output_type": "stream",
     "text": [
      "C:\\ProgramData\\Anaconda3\\lib\\site-packages\\h5py\\__init__.py:36: FutureWarning: Conversion of the second argument of issubdtype from `float` to `np.floating` is deprecated. In future, it will be treated as `np.float64 == np.dtype(float).type`.\n",
      "  from ._conv import register_converters as _register_converters\n",
      "Using TensorFlow backend.\n"
     ]
    },
    {
     "name": "stdout",
     "output_type": "stream",
     "text": [
      "[name: \"/device:CPU:0\"\n",
      "device_type: \"CPU\"\n",
      "memory_limit: 268435456\n",
      "locality {\n",
      "}\n",
      "incarnation: 15002850793169663632\n",
      ", name: \"/device:GPU:0\"\n",
      "device_type: \"GPU\"\n",
      "memory_limit: 1508248780\n",
      "locality {\n",
      "  bus_id: 1\n",
      "  links {\n",
      "  }\n",
      "}\n",
      "incarnation: 6937310469666272480\n",
      "physical_device_desc: \"device: 0, name: GeForce GT 740M, pci bus id: 0000:01:00.0, compute capability: 3.5\"\n",
      "]\n"
     ]
    }
   ],
   "source": [
    "import src\n",
    "import keras.backend as K\n",
    "import os\n",
    "import numpy as np\n",
    "import sys\n",
    "import re\n",
    "import math\n",
    "import io\n",
    "import matplotlib.pyplot as plt\n",
    "import pandas as pd\n",
    "import seaborn as sns\n",
    "from  matplotlib.animation import FuncAnimation\n",
    "from matplotlib import colors\n",
    "from netCDF4 import Dataset\n",
    "from IPython.display import clear_output\n",
    "#data folder\n",
    "sys.path.insert(0, 'C:/Users/pkicsiny/Desktop/TUM/3/ADL4CV/ADL4CV_project/trainings')\n",
    "\n",
    "sys.path.insert(0, 'C:/Users/pkicsiny/Desktop/TUM/3/ADL4CV/data')\n",
    "#forces CPU usage\n",
    "os.environ[\"CUDA_DEVICE_ORDER\"] = \"PCI_BUS_ID\"   # see issue #152\n",
    "os.environ[\"CUDA_VISIBLE_DEVICES\"] = \"0\" #\"\" or \"-1\" for CPU, \"0\" for GPU\n",
    "import tensorflow as tf\n",
    "from tensorflow import keras\n",
    "from keras.models import load_model\n",
    "from tensorflow.python.client import device_lib\n",
    "print(device_lib.list_local_devices())"
   ]
  },
  {
   "cell_type": "code",
   "execution_count": 2,
   "metadata": {},
   "outputs": [],
   "source": [
    "past = 2\n",
    "name = f\"sgan_{past}-1\""
   ]
  },
  {
   "cell_type": "markdown",
   "metadata": {},
   "source": [
    "Load dataset."
   ]
  },
  {
   "cell_type": "code",
   "execution_count": 3,
   "metadata": {},
   "outputs": [
    {
     "name": "stdout",
     "output_type": "stream",
     "text": [
      "Training data: (7500, 64, 64, 3)\n",
      "Validation data: (1500, 64, 64, 3)\n",
      "Test data: (1000, 64, 64, 3)\n"
     ]
    }
   ],
   "source": [
    "train, xval, test = src.load_datasets(past_frames=past)"
   ]
  },
  {
   "cell_type": "code",
   "execution_count": 4,
   "metadata": {},
   "outputs": [
    {
     "name": "stdout",
     "output_type": "stream",
     "text": [
      "Shape of training data:  (2000, 64, 64, 2) \n",
      "Shape of training truth:  (2000, 64, 64, 1) \n",
      "Shape of validation data:  (1500, 64, 64, 2) \n",
      "Shape of validation truth:  (1500, 64, 64, 1) \n",
      "Shape of test data:  (1000, 64, 64, 2) \n",
      "Shape of test truth:  (1000, 64, 64, 1)\n"
     ]
    }
   ],
   "source": [
    "gan_train, gan_truth, gan_val, gan_val_truth, gan_test, gan_test_truth = src.split_datasets(\n",
    "            train[:2000], xval, test, past_frames=past, augment=False)"
   ]
  },
  {
   "cell_type": "markdown",
   "metadata": {},
   "source": [
    "Best settings:<br>\n",
    "    - generator batchnorm: False\n",
    "    - discriminatos batchnorm: True\n",
    "    - generator dropout: 0\n",
    "    - discriminator dropout: 0.25\n",
    "    - noisy labels: False\n",
    "    - generator kernel size: 4\n",
    "    - generator feature multiplicator: 1\n",
    "    - l1 loss weight: 0.1\n",
    "    - softmax loss weight: 1\n",
    "    - generator optimizer: Adam(0.0002, 0.5)\n",
    "    - discriminator optimizer SGD"
   ]
  },
  {
   "cell_type": "markdown",
   "metadata": {},
   "source": [
    "Make discriminator labels."
   ]
  },
  {
   "cell_type": "code",
   "execution_count": 5,
   "metadata": {},
   "outputs": [],
   "source": [
    "batch_size=64"
   ]
  },
  {
   "cell_type": "code",
   "execution_count": 6,
   "metadata": {},
   "outputs": [],
   "source": [
    "# Adversarial ground truths\n",
    "real = np.ones((batch_size, 1))\n",
    "fake = np.zeros((batch_size, 1))\n",
    "#Generator ground truths\n",
    "g_real = np.ones((batch_size, 1))#*0.9\n",
    "#real, fake = src.noisy_d_labels(real, fake)"
   ]
  },
  {
   "cell_type": "markdown",
   "metadata": {},
   "source": [
    "Make generator but don't compile."
   ]
  },
  {
   "cell_type": "code",
   "execution_count": 7,
   "metadata": {},
   "outputs": [],
   "source": [
    "generator = src.unet((64, 64, past), dropout=0, batchnorm=False, kernel_size=4, feature_mult=1)"
   ]
  },
  {
   "cell_type": "code",
   "execution_count": 8,
   "metadata": {
    "scrolled": true
   },
   "outputs": [
    {
     "name": "stdout",
     "output_type": "stream",
     "text": [
      "__________________________________________________________________________________________________\n",
      "Layer (type)                    Output Shape         Param #     Connected to                     \n",
      "==================================================================================================\n",
      "input_1 (InputLayer)            (None, 64, 64, 2)    0                                            \n",
      "__________________________________________________________________________________________________\n",
      "conv2d_1 (Conv2D)               (None, 32, 32, 16)   528         input_1[0][0]                    \n",
      "__________________________________________________________________________________________________\n",
      "leaky_re_lu_1 (LeakyReLU)       (None, 32, 32, 16)   0           conv2d_1[0][0]                   \n",
      "__________________________________________________________________________________________________\n",
      "conv2d_2 (Conv2D)               (None, 16, 16, 16)   4112        leaky_re_lu_1[0][0]              \n",
      "__________________________________________________________________________________________________\n",
      "leaky_re_lu_2 (LeakyReLU)       (None, 16, 16, 16)   0           conv2d_2[0][0]                   \n",
      "__________________________________________________________________________________________________\n",
      "conv2d_3 (Conv2D)               (None, 8, 8, 32)     8224        leaky_re_lu_2[0][0]              \n",
      "__________________________________________________________________________________________________\n",
      "leaky_re_lu_3 (LeakyReLU)       (None, 8, 8, 32)     0           conv2d_3[0][0]                   \n",
      "__________________________________________________________________________________________________\n",
      "conv2d_4 (Conv2D)               (None, 4, 4, 32)     16416       leaky_re_lu_3[0][0]              \n",
      "__________________________________________________________________________________________________\n",
      "leaky_re_lu_4 (LeakyReLU)       (None, 4, 4, 32)     0           conv2d_4[0][0]                   \n",
      "__________________________________________________________________________________________________\n",
      "conv2d_5 (Conv2D)               (None, 2, 2, 64)     32832       leaky_re_lu_4[0][0]              \n",
      "__________________________________________________________________________________________________\n",
      "leaky_re_lu_5 (LeakyReLU)       (None, 2, 2, 64)     0           conv2d_5[0][0]                   \n",
      "__________________________________________________________________________________________________\n",
      "conv2d_transpose_1 (Conv2DTrans (None, 4, 4, 32)     32800       leaky_re_lu_5[0][0]              \n",
      "__________________________________________________________________________________________________\n",
      "leaky_re_lu_6 (LeakyReLU)       (None, 4, 4, 32)     0           conv2d_transpose_1[0][0]         \n",
      "__________________________________________________________________________________________________\n",
      "concatenate_1 (Concatenate)     (None, 4, 4, 64)     0           conv2d_4[0][0]                   \n",
      "                                                                 leaky_re_lu_6[0][0]              \n",
      "__________________________________________________________________________________________________\n",
      "conv2d_transpose_2 (Conv2DTrans (None, 8, 8, 32)     32800       concatenate_1[0][0]              \n",
      "__________________________________________________________________________________________________\n",
      "leaky_re_lu_7 (LeakyReLU)       (None, 8, 8, 32)     0           conv2d_transpose_2[0][0]         \n",
      "__________________________________________________________________________________________________\n",
      "concatenate_2 (Concatenate)     (None, 8, 8, 64)     0           conv2d_3[0][0]                   \n",
      "                                                                 leaky_re_lu_7[0][0]              \n",
      "__________________________________________________________________________________________________\n",
      "conv2d_transpose_3 (Conv2DTrans (None, 16, 16, 16)   16400       concatenate_2[0][0]              \n",
      "__________________________________________________________________________________________________\n",
      "leaky_re_lu_8 (LeakyReLU)       (None, 16, 16, 16)   0           conv2d_transpose_3[0][0]         \n",
      "__________________________________________________________________________________________________\n",
      "concatenate_3 (Concatenate)     (None, 16, 16, 32)   0           conv2d_2[0][0]                   \n",
      "                                                                 leaky_re_lu_8[0][0]              \n",
      "__________________________________________________________________________________________________\n",
      "conv2d_transpose_4 (Conv2DTrans (None, 32, 32, 16)   8208        concatenate_3[0][0]              \n",
      "__________________________________________________________________________________________________\n",
      "leaky_re_lu_9 (LeakyReLU)       (None, 32, 32, 16)   0           conv2d_transpose_4[0][0]         \n",
      "__________________________________________________________________________________________________\n",
      "concatenate_4 (Concatenate)     (None, 32, 32, 32)   0           conv2d_1[0][0]                   \n",
      "                                                                 leaky_re_lu_9[0][0]              \n",
      "__________________________________________________________________________________________________\n",
      "conv2d_transpose_5 (Conv2DTrans (None, 64, 64, 1)    513         concatenate_4[0][0]              \n",
      "==================================================================================================\n",
      "Total params: 152,833\n",
      "Trainable params: 152,833\n",
      "Non-trainable params: 0\n",
      "__________________________________________________________________________________________________\n"
     ]
    }
   ],
   "source": [
    "generator.summary()"
   ]
  },
  {
   "cell_type": "markdown",
   "metadata": {},
   "source": [
    "Make discriminator and compile."
   ]
  },
  {
   "cell_type": "code",
   "execution_count": 9,
   "metadata": {},
   "outputs": [],
   "source": [
    "discriminator = src.spatial_discriminator(condition_shape=(64, 64, past), dropout = 0.25, batchnorm=True)\n",
    "discriminator.compile(loss=keras.losses.binary_crossentropy,optimizer=keras.optimizers.SGD(),\n",
    "                      metrics=[keras.metrics.binary_accuracy])"
   ]
  },
  {
   "cell_type": "markdown",
   "metadata": {},
   "source": [
    "Inputs and outputs of the GAN."
   ]
  },
  {
   "cell_type": "code",
   "execution_count": 10,
   "metadata": {},
   "outputs": [],
   "source": [
    "frame_t = keras.layers.Input(shape=(64, 64, past))"
   ]
  },
  {
   "cell_type": "code",
   "execution_count": 11,
   "metadata": {},
   "outputs": [],
   "source": [
    "generated = generator(frame_t)"
   ]
  },
  {
   "cell_type": "code",
   "execution_count": 12,
   "metadata": {},
   "outputs": [],
   "source": [
    "score = discriminator([frame_t, generated])"
   ]
  },
  {
   "cell_type": "markdown",
   "metadata": {},
   "source": [
    "Freeze discriminator weights."
   ]
  },
  {
   "cell_type": "code",
   "execution_count": 13,
   "metadata": {},
   "outputs": [],
   "source": [
    "discriminator.trainable = False"
   ]
  },
  {
   "cell_type": "markdown",
   "metadata": {},
   "source": [
    "Compile combined model."
   ]
  },
  {
   "cell_type": "code",
   "execution_count": 14,
   "metadata": {},
   "outputs": [],
   "source": [
    "loss_weights=[0.1,1]"
   ]
  },
  {
   "cell_type": "code",
   "execution_count": 15,
   "metadata": {},
   "outputs": [],
   "source": [
    "combined = keras.models.Model(inputs=[frame_t], outputs=[generated, score])"
   ]
  },
  {
   "cell_type": "code",
   "execution_count": 16,
   "metadata": {
    "scrolled": true
   },
   "outputs": [
    {
     "name": "stdout",
     "output_type": "stream",
     "text": [
      "***Using L1 loss.***\n",
      "Tensor(\"metrics_1/relative_error_tensor/truediv:0\", shape=(), dtype=float32)\n",
      "Tensor(\"model_1_target:0\", shape=(?, ?, ?, ?), dtype=float32)\n",
      "Tensor(\"metrics_1/relative_error_tensor_1/truediv:0\", shape=(), dtype=float32)\n",
      "Tensor(\"model_2_target:0\", shape=(?, ?), dtype=float32)\n"
     ]
    }
   ],
   "source": [
    "combined.compile(loss=[src.custom_loss(loss=\"l1\"), keras.losses.binary_crossentropy], optimizer=keras.optimizers.Adam(0.0002, 0.5),\n",
    "                 loss_weights=loss_weights, metrics=[src.relative_error_tensor,\"accuracy\"])"
   ]
  },
  {
   "cell_type": "code",
   "execution_count": 17,
   "metadata": {},
   "outputs": [],
   "source": [
    "\n",
    "log = {\"g_loss\":[],\n",
    "       \"d_loss\":[],\n",
    "       \"g_metric\":[],\n",
    "       \"d_metric\":[],\n",
    "       \"d_loss_real\":[],\n",
    "       \"d_loss_fake\":[],\n",
    "       \"d_test_real\":[],\n",
    "       \"d_test_fake\":[]}"
   ]
  },
  {
   "cell_type": "markdown",
   "metadata": {},
   "source": [
    "Train x epochs."
   ]
  },
  {
   "cell_type": "code",
   "execution_count": 22,
   "metadata": {},
   "outputs": [],
   "source": [
    "generated_imgs = generator.predict(training_batch) "
   ]
  },
  {
   "cell_type": "code",
   "execution_count": 47,
   "metadata": {},
   "outputs": [
    {
     "data": {
      "image/png": "[encoded data removed]",
      "text/plain": [
       "<matplotlib.figure.Figure at 0x205ca548940>"
      ]
     },
     "metadata": {
      "needs_background": "light"
     },
     "output_type": "display_data"
    }
   ],
   "source": [
    "plt.imshow(training_batch[54,...,1],vmin=0)\n",
    "plt.savefig(\"54_1.png\")"
   ]
  },
  {
   "cell_type": "code",
   "execution_count": 48,
   "metadata": {},
   "outputs": [
    {
     "data": {
      "image/png": "[encoded data removed]",
      "text/plain": [
       "<matplotlib.figure.Figure at 0x205cd6e3b38>"
      ]
     },
     "metadata": {
      "needs_background": "light"
     },
     "output_type": "display_data"
    }
   ],
   "source": [
    "plt.imshow(generated_imgs[54,...,0], vmin=0)\n",
    "plt.savefig(\"54_2.png\")"
   ]
  },
  {
   "cell_type": "code",
   "execution_count": 20,
   "metadata": {},
   "outputs": [],
   "source": [
    "epochs = 200"
   ]
  },
  {
   "cell_type": "code",
   "execution_count": 21,
   "metadata": {
    "scrolled": true
   },
   "outputs": [
    {
     "name": "stdout",
     "output_type": "stream",
     "text": [
      "\u001b[1m 0 [D loss: 1.0438786745071411, acc.: 27.34375]\u001b[0m \n",
      "\u001b[1m 0 [G loss: 1.3453118801116943, G obj.: 0.17679902911186218, G bce.: 1.327631950378418]\u001b[0m \n",
      "\u001b[1m 0 [real loss: [1.1053064, 0.265625], fake loss: [0.982451, 0.28125]]\u001b[0m\n",
      "\u001b[1m 1 [D loss: 0.9332358837127686, acc.: 35.9375]\u001b[0m \n",
      "\u001b[1m 1 [G loss: 1.4714831113815308, G obj.: 0.17599733173847198, G bce.: 1.453883409500122]\u001b[0m \n",
      "\u001b[1m 1 [real loss: [0.9115807, 0.375], fake loss: [0.9548911, 0.34375]]\u001b[0m\n",
      "\u001b[1m 2 [D loss: 0.9463045001029968, acc.: 33.59375]\u001b[0m \n",
      "\u001b[1m 2 [G loss: 1.543074131011963, G obj.: 0.18500548601150513, G bce.: 1.524573564529419]\u001b[0m \n",
      "\u001b[1m 2 [real loss: [0.9533428, 0.265625], fake loss: [0.9392662, 0.40625]]\u001b[0m\n",
      "\u001b[1m 3 [D loss: 1.0929229259490967, acc.: 28.90625]\u001b[0m \n",
      "\u001b[1m 3 [G loss: 1.4578144550323486, G obj.: 0.19559268653392792, G bce.: 1.4382551908493042]\u001b[0m \n",
      "\u001b[1m 3 [real loss: [1.0370197, 0.359375], fake loss: [1.148826, 0.21875]]\u001b[0m\n",
      "\u001b[1m 4 [D loss: 1.057945966720581, acc.: 28.125]\u001b[0m \n",
      "\u001b[1m 4 [G loss: 1.5304665565490723, G obj.: 0.1973017007112503, G bce.: 1.510736346244812]\u001b[0m \n",
      "\u001b[1m 4 [real loss: [1.0952998, 0.265625], fake loss: [1.0205922, 0.296875]]\u001b[0m\n",
      "\u001b[1m 5 [D loss: 1.0618393421173096, acc.: 29.6875]\u001b[0m \n",
      "\u001b[1m 5 [G loss: 1.4454123973846436, G obj.: 0.18571430444717407, G bce.: 1.4268410205841064]\u001b[0m \n",
      "\u001b[1m 5 [real loss: [1.0630236, 0.296875], fake loss: [1.0606551, 0.296875]]\u001b[0m\n",
      "\u001b[1m 6 [D loss: 1.0643011331558228, acc.: 28.125]\u001b[0m \n",
      "\u001b[1m 6 [G loss: 1.472692608833313, G obj.: 0.17509379982948303, G bce.: 1.4551832675933838]\u001b[0m \n",
      "\u001b[1m 6 [real loss: [0.9946718, 0.296875], fake loss: [1.1339304, 0.265625]]\u001b[0m\n",
      "\u001b[1m 7 [D loss: 1.0006479024887085, acc.: 31.25]\u001b[0m \n",
      "\u001b[1m 7 [G loss: 1.4577422142028809, G obj.: 0.1960548460483551, G bce.: 1.4381366968154907]\u001b[0m \n",
      "\u001b[1m 7 [real loss: [0.9856672, 0.328125], fake loss: [1.0156286, 0.296875]]\u001b[0m\n",
      "\u001b[1m 8 [D loss: 1.16806161403656, acc.: 25.78125]\u001b[0m \n",
      "\u001b[1m 8 [G loss: 1.582312822341919, G obj.: 0.1948610544204712, G bce.: 1.5628267526626587]\u001b[0m \n",
      "\u001b[1m 8 [real loss: [1.1557987, 0.296875], fake loss: [1.1803246, 0.21875]]\u001b[0m\n",
      "\u001b[1m 9 [D loss: 1.1735625267028809, acc.: 24.21875]\u001b[0m \n",
      "\u001b[1m 9 [G loss: 1.8012372255325317, G obj.: 0.2169656753540039, G bce.: 1.7795406579971313]\u001b[0m \n",
      "\u001b[1m 9 [real loss: [1.0666336, 0.3125], fake loss: [1.2804916, 0.171875]]\u001b[0m\n",
      "\u001b[1m 10 [D loss: 1.17429518699646, acc.: 15.625]\u001b[0m \n",
      "\u001b[1m 10 [G loss: 1.8759642839431763, G obj.: 0.22494132816791534, G bce.: 1.8534702062606812]\u001b[0m \n",
      "\u001b[1m 10 [real loss: [1.1847162, 0.140625], fake loss: [1.163874, 0.171875]]\u001b[0m\n",
      "\u001b[1m 11 [D loss: 1.0425221920013428, acc.: 26.5625]\u001b[0m \n",
      "\u001b[1m 11 [G loss: 1.5965813398361206, G obj.: 0.24947123229503632, G bce.: 1.5716341733932495]\u001b[0m \n",
      "\u001b[1m 11 [real loss: [1.174609, 0.203125], fake loss: [0.91043556, 0.328125]]\u001b[0m\n",
      "\u001b[1m 12 [D loss: 1.2565407752990723, acc.: 15.625]\u001b[0m \n",
      "\u001b[1m 12 [G loss: 1.7521625757217407, G obj.: 0.26559311151504517, G bce.: 1.7256032228469849]\u001b[0m \n",
      "\u001b[1m 12 [real loss: [1.2351085, 0.171875], fake loss: [1.2779729, 0.140625]]\u001b[0m\n",
      "\u001b[1m 13 [D loss: 1.1108978986740112, acc.: 30.46875]\u001b[0m \n",
      "\u001b[1m 13 [G loss: 1.9343812465667725, G obj.: 0.2720143496990204, G bce.: 1.907179832458496]\u001b[0m \n",
      "\u001b[1m 13 [real loss: [1.2824447, 0.1875], fake loss: [0.9393511, 0.421875]]\u001b[0m\n",
      "\u001b[1m 14 [D loss: 1.1362292766571045, acc.: 32.03125]\u001b[0m \n",
      "\u001b[1m 14 [G loss: 2.0694947242736816, G obj.: 0.27391451597213745, G bce.: 2.0421032905578613]\u001b[0m \n",
      "\u001b[1m 14 [real loss: [1.1429288, 0.3125], fake loss: [1.1295297, 0.328125]]\u001b[0m\n",
      "\u001b[1m 15 [D loss: 0.9481797814369202, acc.: 36.71875]\u001b[0m \n",
      "\u001b[1m 15 [G loss: 2.137178421020508, G obj.: 0.274864137172699, G bce.: 2.109692096710205]\u001b[0m \n",
      "\u001b[1m 15 [real loss: [1.0289711, 0.296875], fake loss: [0.8673885, 0.4375]]\u001b[0m\n",
      "\u001b[1m 16 [D loss: 0.7763362526893616, acc.: 53.90625]\u001b[0m \n",
      "\u001b[1m 16 [G loss: 2.2655301094055176, G obj.: 0.2718391418457031, G bce.: 2.2383460998535156]\u001b[0m \n",
      "\u001b[1m 16 [real loss: [0.85918367, 0.484375], fake loss: [0.69348884, 0.59375]]\u001b[0m\n",
      "\u001b[1m 17 [D loss: 0.8053696155548096, acc.: 48.4375]\u001b[0m \n",
      "\u001b[1m 17 [G loss: 2.166888952255249, G obj.: 0.27254077792167664, G bce.: 2.139634847640991]\u001b[0m \n",
      "\u001b[1m 17 [real loss: [0.8850438, 0.421875], fake loss: [0.7256954, 0.546875]]\u001b[0m\n",
      "\u001b[1m 18 [D loss: 0.6695430278778076, acc.: 66.40625]\u001b[0m \n",
      "\u001b[1m 18 [G loss: 1.8221265077590942, G obj.: 0.25763535499572754, G bce.: 1.7963629961013794]\u001b[0m \n",
      "\u001b[1m 18 [real loss: [0.7218882, 0.609375], fake loss: [0.6171978, 0.71875]]\u001b[0m\n",
      "\u001b[1m 19 [D loss: 0.9244422912597656, acc.: 41.40625]\u001b[0m \n",
      "\u001b[1m 19 [G loss: 2.076680898666382, G obj.: 0.24849018454551697, G bce.: 2.0518319606781006]\u001b[0m \n",
      "\u001b[1m 19 [real loss: [0.9261462, 0.421875], fake loss: [0.9227384, 0.40625]]\u001b[0m\n",
      "\u001b[1m 20 [D loss: 0.7903020977973938, acc.: 53.90625]\u001b[0m \n",
      "\u001b[1m 20 [G loss: 2.033113956451416, G obj.: 0.24062350392341614, G bce.: 2.009051561355591]\u001b[0m \n",
      "\u001b[1m 20 [real loss: [0.8464975, 0.515625], fake loss: [0.7341067, 0.5625]]\u001b[0m\n",
      "\u001b[1m 21 [D loss: 1.1016076803207397, acc.: 35.9375]\u001b[0m \n",
      "\u001b[1m 21 [G loss: 1.9894230365753174, G obj.: 0.24072277545928955, G bce.: 1.9653507471084595]\u001b[0m \n",
      "\u001b[1m 21 [real loss: [1.0416788, 0.453125], fake loss: [1.1615366, 0.265625]]\u001b[0m\n",
      "\u001b[1m 22 [D loss: 1.068665862083435, acc.: 36.71875]\u001b[0m \n",
      "\u001b[1m 22 [G loss: 1.9970684051513672, G obj.: 0.22807098925113678, G bce.: 1.9742612838745117]\u001b[0m \n",
      "\u001b[1m 22 [real loss: [1.040122, 0.421875], fake loss: [1.0972097, 0.3125]]\u001b[0m\n",
      "\u001b[1m 23 [D loss: 1.0979889631271362, acc.: 32.03125]\u001b[0m \n",
      "\u001b[1m 23 [G loss: 1.7261461019515991, G obj.: 0.2301039695739746, G bce.: 1.7031357288360596]\u001b[0m \n",
      "\u001b[1m 23 [real loss: [1.006674, 0.359375], fake loss: [1.1893039, 0.28125]]\u001b[0m\n",
      "\u001b[1m 24 [D loss: 1.131957769393921, acc.: 32.8125]\u001b[0m \n",
      "\u001b[1m 24 [G loss: 1.656333327293396, G obj.: 0.2141856551170349, G bce.: 1.634914755821228]\u001b[0m \n",
      "\u001b[1m 24 [real loss: [1.1544291, 0.359375], fake loss: [1.1094863, 0.296875]]\u001b[0m\n",
      "\u001b[1m 25 [D loss: 1.069586992263794, acc.: 39.0625]\u001b[0m \n",
      "\u001b[1m 25 [G loss: 1.7859753370285034, G obj.: 0.19844338297843933, G bce.: 1.766131043434143]\u001b[0m \n",
      "\u001b[1m 25 [real loss: [0.99547076, 0.421875], fake loss: [1.1437032, 0.359375]]\u001b[0m\n",
      "\u001b[1m 26 [D loss: 0.95756995677948, acc.: 35.9375]\u001b[0m \n",
      "\u001b[1m 26 [G loss: 1.5464073419570923, G obj.: 0.19688962399959564, G bce.: 1.5267183780670166]\u001b[0m \n",
      "\u001b[1m 26 [real loss: [0.9930166, 0.296875], fake loss: [0.9221234, 0.421875]]\u001b[0m\n",
      "\u001b[1m 27 [D loss: 1.136756420135498, acc.: 30.46875]\u001b[0m \n",
      "\u001b[1m 27 [G loss: 1.8160101175308228, G obj.: 0.20042093098163605, G bce.: 1.7959680557250977]\u001b[0m \n",
      "\u001b[1m 27 [real loss: [1.083072, 0.34375], fake loss: [1.1904409, 0.265625]]\u001b[0m\n",
      "\u001b[1m 28 [D loss: 1.1449542045593262, acc.: 19.53125]\u001b[0m \n",
      "\u001b[1m 28 [G loss: 1.5413570404052734, G obj.: 0.19109052419662476, G bce.: 1.5222480297088623]\u001b[0m \n",
      "\u001b[1m 28 [real loss: [1.1548963, 0.25], fake loss: [1.1350121, 0.140625]]\u001b[0m\n",
      "\u001b[1m 29 [D loss: 0.9850598573684692, acc.: 31.25]\u001b[0m \n",
      "\u001b[1m 29 [G loss: 1.5248137712478638, G obj.: 0.1759003847837448, G bce.: 1.5072237253189087]\u001b[0m \n",
      "\u001b[1m 29 [real loss: [0.97845674, 0.328125], fake loss: [0.99166304, 0.296875]]\u001b[0m\n",
      "\u001b[1m 30 [D loss: 0.9069812893867493, acc.: 42.96875]\u001b[0m \n",
      "\u001b[1m 30 [G loss: 1.7917132377624512, G obj.: 0.18899744749069214, G bce.: 1.7728134393692017]\u001b[0m \n",
      "\u001b[1m 30 [real loss: [0.86519736, 0.484375], fake loss: [0.9487652, 0.375]]\u001b[0m\n",
      "\u001b[1m 31 [D loss: 0.9662968516349792, acc.: 29.6875]\u001b[0m \n",
      "\u001b[1m 31 [G loss: 1.7594146728515625, G obj.: 0.18300235271453857, G bce.: 1.7411143779754639]\u001b[0m \n",
      "\u001b[1m 31 [real loss: [1.036275, 0.265625], fake loss: [0.8963187, 0.328125]]\u001b[0m\n",
      "\u001b[1m 32 [D loss: 1.061307668685913, acc.: 25.78125]\u001b[0m \n",
      "\u001b[1m 32 [G loss: 1.7058125734329224, G obj.: 0.16486476361751556, G bce.: 1.6893260478973389]\u001b[0m \n",
      "\u001b[1m 32 [real loss: [1.0467359, 0.3125], fake loss: [1.0758795, 0.203125]]\u001b[0m\n",
      "\u001b[1m 33 [D loss: 0.9272741675376892, acc.: 39.84375]\u001b[0m \n",
      "\u001b[1m 33 [G loss: 1.858628273010254, G obj.: 0.17492249608039856, G bce.: 1.8411359786987305]\u001b[0m \n",
      "\u001b[1m 33 [real loss: [0.89083, 0.4375], fake loss: [0.96371835, 0.359375]]\u001b[0m\n",
      "\u001b[1m 34 [D loss: 0.9594020843505859, acc.: 34.375]\u001b[0m \n",
      "\u001b[1m 34 [G loss: 1.7700380086898804, G obj.: 0.1709279716014862, G bce.: 1.7529451847076416]\u001b[0m \n",
      "\u001b[1m 34 [real loss: [1.0600965, 0.3125], fake loss: [0.85870767, 0.375]]\u001b[0m\n",
      "\u001b[1m 35 [D loss: 0.8852370381355286, acc.: 39.84375]\u001b[0m \n",
      "\u001b[1m 35 [G loss: 1.6753737926483154, G obj.: 0.17153015732765198, G bce.: 1.6582207679748535]\u001b[0m \n",
      "\u001b[1m 35 [real loss: [0.84762335, 0.515625], fake loss: [0.9228507, 0.28125]]\u001b[0m\n"
     ]
    },
    {
     "name": "stdout",
     "output_type": "stream",
     "text": [
      "\u001b[1m 36 [D loss: 0.9936805367469788, acc.: 32.03125]\u001b[0m \n",
      "\u001b[1m 36 [G loss: 1.735241413116455, G obj.: 0.1732305884361267, G bce.: 1.7179183959960938]\u001b[0m \n",
      "\u001b[1m 36 [real loss: [0.9752859, 0.359375], fake loss: [1.0120752, 0.28125]]\u001b[0m\n",
      "\u001b[1m 37 [D loss: 0.92118239402771, acc.: 37.5]\u001b[0m \n",
      "\u001b[1m 37 [G loss: 1.6262320280075073, G obj.: 0.16755490005016327, G bce.: 1.6094765663146973]\u001b[0m \n",
      "\u001b[1m 37 [real loss: [0.99488276, 0.296875], fake loss: [0.847482, 0.453125]]\u001b[0m\n",
      "\u001b[1m 38 [D loss: 0.9768334627151489, acc.: 36.71875]\u001b[0m \n",
      "\u001b[1m 38 [G loss: 1.7671993970870972, G obj.: 0.1591416448354721, G bce.: 1.751285195350647]\u001b[0m \n",
      "\u001b[1m 38 [real loss: [0.9112965, 0.359375], fake loss: [1.0423704, 0.375]]\u001b[0m\n",
      "\u001b[1m 39 [D loss: 0.8072202205657959, acc.: 51.5625]\u001b[0m \n",
      "\u001b[1m 39 [G loss: 1.6835970878601074, G obj.: 0.16718918085098267, G bce.: 1.6668782234191895]\u001b[0m \n",
      "\u001b[1m 39 [real loss: [0.85700566, 0.46875], fake loss: [0.75743484, 0.5625]]\u001b[0m\n",
      "\u001b[1m 40 [D loss: 0.9412986040115356, acc.: 32.8125]\u001b[0m \n",
      "\u001b[1m 40 [G loss: 1.7050750255584717, G obj.: 0.1707272231578827, G bce.: 1.688002347946167]\u001b[0m \n",
      "\u001b[1m 40 [real loss: [0.8918865, 0.328125], fake loss: [0.99071074, 0.328125]]\u001b[0m\n",
      "\u001b[1m 41 [D loss: 0.9757538437843323, acc.: 34.375]\u001b[0m \n",
      "\u001b[1m 41 [G loss: 1.6051931381225586, G obj.: 0.165574848651886, G bce.: 1.5886356830596924]\u001b[0m \n",
      "\u001b[1m 41 [real loss: [0.97456765, 0.375], fake loss: [0.97694004, 0.3125]]\u001b[0m\n",
      "\u001b[1m 42 [D loss: 0.9385419487953186, acc.: 39.84375]\u001b[0m \n",
      "\u001b[1m 42 [G loss: 1.6846034526824951, G obj.: 0.15929779410362244, G bce.: 1.6686736345291138]\u001b[0m \n",
      "\u001b[1m 42 [real loss: [0.8758445, 0.390625], fake loss: [1.0012394, 0.40625]]\u001b[0m\n",
      "\u001b[1m 43 [D loss: 0.9083449244499207, acc.: 43.75]\u001b[0m \n",
      "\u001b[1m 43 [G loss: 1.6349762678146362, G obj.: 0.17680473625659943, G bce.: 1.617295742034912]\u001b[0m \n",
      "\u001b[1m 43 [real loss: [0.91758895, 0.359375], fake loss: [0.8991009, 0.515625]]\u001b[0m\n",
      "\u001b[1m 44 [D loss: 0.964174747467041, acc.: 35.15625]\u001b[0m \n",
      "\u001b[1m 44 [G loss: 1.9150418043136597, G obj.: 0.16460439562797546, G bce.: 1.8985813856124878]\u001b[0m \n",
      "\u001b[1m 44 [real loss: [0.93342936, 0.375], fake loss: [0.99492013, 0.328125]]\u001b[0m\n",
      "\u001b[1m 45 [D loss: 0.9221987724304199, acc.: 32.8125]\u001b[0m \n",
      "\u001b[1m 45 [G loss: 1.655962586402893, G obj.: 0.17027541995048523, G bce.: 1.6389350891113281]\u001b[0m \n",
      "\u001b[1m 45 [real loss: [0.9432508, 0.296875], fake loss: [0.9011468, 0.359375]]\u001b[0m\n",
      "\u001b[1m 46 [D loss: 0.9436547756195068, acc.: 32.03125]\u001b[0m \n",
      "\u001b[1m 46 [G loss: 1.695175051689148, G obj.: 0.16876664757728577, G bce.: 1.6782983541488647]\u001b[0m \n",
      "\u001b[1m 46 [real loss: [0.9197606, 0.34375], fake loss: [0.9675489, 0.296875]]\u001b[0m\n",
      "\u001b[1m 47 [D loss: 1.0357933044433594, acc.: 26.5625]\u001b[0m \n",
      "\u001b[1m 47 [G loss: 1.5378458499908447, G obj.: 0.15449684858322144, G bce.: 1.522396206855774]\u001b[0m \n",
      "\u001b[1m 47 [real loss: [1.0826383, 0.234375], fake loss: [0.9889482, 0.296875]]\u001b[0m\n",
      "\u001b[1m 48 [D loss: 1.026658058166504, acc.: 32.03125]\u001b[0m \n",
      "\u001b[1m 48 [G loss: 1.7622172832489014, G obj.: 0.17413637042045593, G bce.: 1.7448036670684814]\u001b[0m \n",
      "\u001b[1m 48 [real loss: [0.96417886, 0.375], fake loss: [1.0891373, 0.265625]]\u001b[0m\n",
      "\u001b[1m 49 [D loss: 0.9694625735282898, acc.: 33.59375]\u001b[0m \n",
      "\u001b[1m 49 [G loss: 1.3653186559677124, G obj.: 0.1753566563129425, G bce.: 1.3477829694747925]\u001b[0m \n",
      "\u001b[1m 49 [real loss: [1.1003745, 0.203125], fake loss: [0.8385507, 0.46875]]\u001b[0m\n",
      "\u001b[1m 50 [D loss: 1.0504915714263916, acc.: 32.03125]\u001b[0m \n",
      "\u001b[1m 50 [G loss: 1.5473639965057373, G obj.: 0.15839946269989014, G bce.: 1.5315240621566772]\u001b[0m \n",
      "\u001b[1m 50 [real loss: [0.9925804, 0.375], fake loss: [1.1084027, 0.265625]]\u001b[0m\n",
      "\u001b[1m 51 [D loss: 1.0445128679275513, acc.: 31.25]\u001b[0m \n",
      "\u001b[1m 51 [G loss: 1.7867372035980225, G obj.: 0.17344406247138977, G bce.: 1.7693928480148315]\u001b[0m \n",
      "\u001b[1m 51 [real loss: [1.071214, 0.296875], fake loss: [1.0178118, 0.328125]]\u001b[0m\n",
      "\u001b[1m 52 [D loss: 0.8727031946182251, acc.: 35.9375]\u001b[0m \n",
      "\u001b[1m 52 [G loss: 1.84833562374115, G obj.: 0.16938933730125427, G bce.: 1.8313966989517212]\u001b[0m \n",
      "\u001b[1m 52 [real loss: [0.8527938, 0.40625], fake loss: [0.8926126, 0.3125]]\u001b[0m\n",
      "\u001b[1m 53 [D loss: 1.0314842462539673, acc.: 34.375]\u001b[0m \n",
      "\u001b[1m 53 [G loss: 1.8032249212265015, G obj.: 0.16772937774658203, G bce.: 1.7864519357681274]\u001b[0m \n",
      "\u001b[1m 53 [real loss: [0.984902, 0.421875], fake loss: [1.0780665, 0.265625]]\u001b[0m\n",
      "\u001b[1m 54 [D loss: 0.9909617900848389, acc.: 39.0625]\u001b[0m \n",
      "\u001b[1m 54 [G loss: 1.671230435371399, G obj.: 0.18056532740592957, G bce.: 1.6531739234924316]\u001b[0m \n",
      "\u001b[1m 54 [real loss: [1.0357189, 0.40625], fake loss: [0.94620466, 0.375]]\u001b[0m\n",
      "\u001b[1m 55 [D loss: 0.8991202116012573, acc.: 35.9375]\u001b[0m \n",
      "\u001b[1m 55 [G loss: 1.6963419914245605, G obj.: 0.18475286662578583, G bce.: 1.6778666973114014]\u001b[0m \n",
      "\u001b[1m 55 [real loss: [0.9652965, 0.3125], fake loss: [0.832944, 0.40625]]\u001b[0m\n",
      "\u001b[1m 56 [D loss: 0.9385762214660645, acc.: 41.40625]\u001b[0m \n",
      "\u001b[1m 56 [G loss: 1.6865992546081543, G obj.: 0.1668306291103363, G bce.: 1.6699161529541016]\u001b[0m \n",
      "\u001b[1m 56 [real loss: [0.97929156, 0.390625], fake loss: [0.8978608, 0.4375]]\u001b[0m\n",
      "\u001b[1m 57 [D loss: 1.0123043060302734, acc.: 38.28125]\u001b[0m \n",
      "\u001b[1m 57 [G loss: 1.8172760009765625, G obj.: 0.1824163794517517, G bce.: 1.7990343570709229]\u001b[0m \n",
      "\u001b[1m 57 [real loss: [0.8748019, 0.4375], fake loss: [1.1498069, 0.328125]]\u001b[0m\n",
      "\u001b[1m 58 [D loss: 1.0200631618499756, acc.: 32.8125]\u001b[0m \n",
      "\u001b[1m 58 [G loss: 1.7118638753890991, G obj.: 0.1978216916322708, G bce.: 1.6920816898345947]\u001b[0m \n",
      "\u001b[1m 58 [real loss: [1.1064427, 0.328125], fake loss: [0.9336835, 0.328125]]\u001b[0m\n",
      "\u001b[1m 59 [D loss: 0.8840924501419067, acc.: 42.1875]\u001b[0m \n",
      "\u001b[1m 59 [G loss: 1.6720678806304932, G obj.: 0.18294326961040497, G bce.: 1.653773546218872]\u001b[0m \n",
      "\u001b[1m 59 [real loss: [0.85512984, 0.484375], fake loss: [0.91305506, 0.359375]]\u001b[0m\n",
      "\u001b[1m 60 [D loss: 0.958182692527771, acc.: 41.40625]\u001b[0m \n",
      "\u001b[1m 60 [G loss: 1.8579288721084595, G obj.: 0.20478631556034088, G bce.: 1.8374502658843994]\u001b[0m \n",
      "\u001b[1m 60 [real loss: [0.98278177, 0.359375], fake loss: [0.9335836, 0.46875]]\u001b[0m\n",
      "\u001b[1m 61 [D loss: 0.9360365271568298, acc.: 44.53125]\u001b[0m \n",
      "\u001b[1m 61 [G loss: 1.563546895980835, G obj.: 0.19434483349323273, G bce.: 1.5441124439239502]\u001b[0m \n",
      "\u001b[1m 61 [real loss: [0.85427606, 0.5], fake loss: [1.017797, 0.390625]]\u001b[0m\n",
      "\u001b[1m 62 [D loss: 1.0142364501953125, acc.: 35.9375]\u001b[0m \n",
      "\u001b[1m 62 [G loss: 1.7216811180114746, G obj.: 0.1992872655391693, G bce.: 1.7017524242401123]\u001b[0m \n",
      "\u001b[1m 62 [real loss: [0.9935876, 0.390625], fake loss: [1.0348853, 0.328125]]\u001b[0m\n",
      "\u001b[1m 63 [D loss: 1.058310866355896, acc.: 32.03125]\u001b[0m \n",
      "\u001b[1m 63 [G loss: 1.7429126501083374, G obj.: 0.20767134428024292, G bce.: 1.7221455574035645]\u001b[0m \n",
      "\u001b[1m 63 [real loss: [1.0853344, 0.3125], fake loss: [1.0312873, 0.328125]]\u001b[0m\n",
      "\u001b[1m 64 [D loss: 0.91981440782547, acc.: 39.0625]\u001b[0m \n",
      "\u001b[1m 64 [G loss: 1.768082857131958, G obj.: 0.22942349314689636, G bce.: 1.745140552520752]\u001b[0m \n",
      "\u001b[1m 64 [real loss: [0.8796406, 0.40625], fake loss: [0.95998824, 0.375]]\u001b[0m\n",
      "\u001b[1m 65 [D loss: 0.9338781833648682, acc.: 44.53125]\u001b[0m \n",
      "\u001b[1m 65 [G loss: 1.9083099365234375, G obj.: 0.24938476085662842, G bce.: 1.8833714723587036]\u001b[0m \n",
      "\u001b[1m 65 [real loss: [0.9649563, 0.484375], fake loss: [0.9028001, 0.40625]]\u001b[0m\n",
      "\u001b[1m 66 [D loss: 0.7642332315444946, acc.: 52.34375]\u001b[0m \n",
      "\u001b[1m 66 [G loss: 1.9302444458007812, G obj.: 0.26719850301742554, G bce.: 1.90352463722229]\u001b[0m \n",
      "\u001b[1m 66 [real loss: [0.8455695, 0.515625], fake loss: [0.682897, 0.53125]]\u001b[0m\n",
      "\u001b[1m 67 [D loss: 0.7282902598381042, acc.: 52.34375]\u001b[0m \n",
      "\u001b[1m 67 [G loss: 2.1802468299865723, G obj.: 0.24139833450317383, G bce.: 2.156106948852539]\u001b[0m \n",
      "\u001b[1m 67 [real loss: [0.62413436, 0.640625], fake loss: [0.83244616, 0.40625]]\u001b[0m\n",
      "\u001b[1m 68 [D loss: 0.7858525514602661, acc.: 48.4375]\u001b[0m \n",
      "\u001b[1m 68 [G loss: 2.209564208984375, G obj.: 0.26651889085769653, G bce.: 2.1829123497009277]\u001b[0m \n",
      "\u001b[1m 68 [real loss: [0.7562773, 0.53125], fake loss: [0.8154278, 0.4375]]\u001b[0m\n",
      "\u001b[1m 69 [D loss: 1.0067552328109741, acc.: 32.8125]\u001b[0m \n",
      "\u001b[1m 69 [G loss: 2.1209380626678467, G obj.: 0.26595795154571533, G bce.: 2.0943422317504883]\u001b[0m \n",
      "\u001b[1m 69 [real loss: [1.0191345, 0.328125], fake loss: [0.9943759, 0.328125]]\u001b[0m\n",
      "\u001b[1m 70 [D loss: 1.0042686462402344, acc.: 32.03125]\u001b[0m \n",
      "\u001b[1m 70 [G loss: 2.17026424407959, G obj.: 0.26829013228416443, G bce.: 2.14343523979187]\u001b[0m \n",
      "\u001b[1m 70 [real loss: [0.8958468, 0.390625], fake loss: [1.1126904, 0.25]]\u001b[0m\n"
     ]
    },
    {
     "name": "stdout",
     "output_type": "stream",
     "text": [
      "\u001b[1m 71 [D loss: 1.026581048965454, acc.: 29.6875]\u001b[0m \n",
      "\u001b[1m 71 [G loss: 2.487135410308838, G obj.: 0.2884509265422821, G bce.: 2.4582903385162354]\u001b[0m \n",
      "\u001b[1m 71 [real loss: [1.1183141, 0.234375], fake loss: [0.93484783, 0.359375]]\u001b[0m\n",
      "\u001b[1m 72 [D loss: 0.8490551710128784, acc.: 40.625]\u001b[0m \n",
      "\u001b[1m 72 [G loss: 2.6029250621795654, G obj.: 0.2789697051048279, G bce.: 2.57502818107605]\u001b[0m \n",
      "\u001b[1m 72 [real loss: [0.8652253, 0.375], fake loss: [0.83288497, 0.4375]]\u001b[0m\n",
      "\u001b[1m 73 [D loss: 0.827468991279602, acc.: 53.90625]\u001b[0m \n",
      "\u001b[1m 73 [G loss: 2.4705536365509033, G obj.: 0.279523640871048, G bce.: 2.442601203918457]\u001b[0m \n",
      "\u001b[1m 73 [real loss: [0.92833865, 0.46875], fake loss: [0.7265994, 0.609375]]\u001b[0m\n",
      "\u001b[1m 74 [D loss: 0.8924937844276428, acc.: 46.09375]\u001b[0m \n",
      "\u001b[1m 74 [G loss: 2.5722289085388184, G obj.: 0.25128936767578125, G bce.: 2.547100067138672]\u001b[0m \n",
      "\u001b[1m 74 [real loss: [0.9004221, 0.515625], fake loss: [0.8845655, 0.40625]]\u001b[0m\n",
      "\u001b[1m 75 [D loss: 0.8351141214370728, acc.: 45.3125]\u001b[0m \n",
      "\u001b[1m 75 [G loss: 2.4571011066436768, G obj.: 0.24780049920082092, G bce.: 2.432321071624756]\u001b[0m \n",
      "\u001b[1m 75 [real loss: [1.0104358, 0.28125], fake loss: [0.6597924, 0.625]]\u001b[0m\n",
      "\u001b[1m 76 [D loss: 0.784555971622467, acc.: 50.78125]\u001b[0m \n",
      "\u001b[1m 76 [G loss: 2.30869197845459, G obj.: 0.24106870591640472, G bce.: 2.2845849990844727]\u001b[0m \n",
      "\u001b[1m 76 [real loss: [0.913911, 0.453125], fake loss: [0.65520096, 0.5625]]\u001b[0m\n",
      "\u001b[1m 77 [D loss: 0.7293515801429749, acc.: 57.8125]\u001b[0m \n",
      "\u001b[1m 77 [G loss: 2.244004011154175, G obj.: 0.22338266670703888, G bce.: 2.221665859222412]\u001b[0m \n",
      "\u001b[1m 77 [real loss: [0.8252663, 0.5625], fake loss: [0.63343686, 0.59375]]\u001b[0m\n",
      "\u001b[1m 78 [D loss: 0.7437425851821899, acc.: 57.03125]\u001b[0m \n",
      "\u001b[1m 78 [G loss: 2.2232651710510254, G obj.: 0.22303929924964905, G bce.: 2.2009613513946533]\u001b[0m \n",
      "\u001b[1m 78 [real loss: [0.8113802, 0.53125], fake loss: [0.676105, 0.609375]]\u001b[0m\n",
      "\u001b[1m 79 [D loss: 0.6867343187332153, acc.: 57.03125]\u001b[0m \n",
      "\u001b[1m 79 [G loss: 2.109308958053589, G obj.: 0.21161405742168427, G bce.: 2.0881476402282715]\u001b[0m \n",
      "\u001b[1m 79 [real loss: [0.7444118, 0.53125], fake loss: [0.6290568, 0.609375]]\u001b[0m\n",
      "\u001b[1m 80 [D loss: 0.889310359954834, acc.: 49.21875]\u001b[0m \n",
      "\u001b[1m 80 [G loss: 2.3752620220184326, G obj.: 0.2082270085811615, G bce.: 2.3544392585754395]\u001b[0m \n",
      "\u001b[1m 80 [real loss: [0.7982345, 0.5625], fake loss: [0.98038626, 0.421875]]\u001b[0m\n",
      "\u001b[1m 81 [D loss: 0.961992621421814, acc.: 41.40625]\u001b[0m \n",
      "\u001b[1m 81 [G loss: 2.1689891815185547, G obj.: 0.19504550099372864, G bce.: 2.149484634399414]\u001b[0m \n",
      "\u001b[1m 81 [real loss: [1.0355945, 0.421875], fake loss: [0.8883908, 0.40625]]\u001b[0m\n",
      "\u001b[1m 82 [D loss: 1.0582075119018555, acc.: 31.25]\u001b[0m \n",
      "\u001b[1m 82 [G loss: 2.598968982696533, G obj.: 0.2068103849887848, G bce.: 2.5782878398895264]\u001b[0m \n",
      "\u001b[1m 82 [real loss: [0.9364191, 0.40625], fake loss: [1.1799958, 0.21875]]\u001b[0m\n",
      "\u001b[1m 83 [D loss: 0.9866178035736084, acc.: 42.1875]\u001b[0m \n",
      "\u001b[1m 83 [G loss: 2.4928157329559326, G obj.: 0.22328676283359528, G bce.: 2.470487117767334]\u001b[0m \n",
      "\u001b[1m 83 [real loss: [1.1330357, 0.375], fake loss: [0.84019995, 0.46875]]\u001b[0m\n",
      "\u001b[1m 84 [D loss: 0.9709286093711853, acc.: 40.625]\u001b[0m \n",
      "\u001b[1m 84 [G loss: 2.7700276374816895, G obj.: 0.22968047857284546, G bce.: 2.7470595836639404]\u001b[0m \n",
      "\u001b[1m 84 [real loss: [1.102171, 0.28125], fake loss: [0.8396863, 0.53125]]\u001b[0m\n",
      "\u001b[1m 85 [D loss: 0.6940174102783203, acc.: 63.28125]\u001b[0m \n",
      "\u001b[1m 85 [G loss: 2.4018867015838623, G obj.: 0.23918335139751434, G bce.: 2.3779683113098145]\u001b[0m \n",
      "\u001b[1m 85 [real loss: [0.8957058, 0.46875], fake loss: [0.49232897, 0.796875]]\u001b[0m\n",
      "\u001b[1m 86 [D loss: 0.6574393510818481, acc.: 66.40625]\u001b[0m \n",
      "\u001b[1m 86 [G loss: 2.688891887664795, G obj.: 0.24496951699256897, G bce.: 2.6643948554992676]\u001b[0m \n",
      "\u001b[1m 86 [real loss: [0.67585784, 0.703125], fake loss: [0.63902086, 0.625]]\u001b[0m\n",
      "\u001b[1m 87 [D loss: 0.5301510095596313, acc.: 75.0]\u001b[0m \n",
      "\u001b[1m 87 [G loss: 2.4039950370788574, G obj.: 0.2339852899312973, G bce.: 2.380596399307251]\u001b[0m \n",
      "\u001b[1m 87 [real loss: [0.5797337, 0.671875], fake loss: [0.48056832, 0.828125]]\u001b[0m\n",
      "\u001b[1m 88 [D loss: 0.6045467853546143, acc.: 67.1875]\u001b[0m \n",
      "\u001b[1m 88 [G loss: 2.40190052986145, G obj.: 0.24509567022323608, G bce.: 2.3773908615112305]\u001b[0m \n",
      "\u001b[1m 88 [real loss: [0.63150084, 0.65625], fake loss: [0.5775928, 0.6875]]\u001b[0m\n",
      "\u001b[1m 89 [D loss: 0.5078126192092896, acc.: 76.5625]\u001b[0m \n",
      "\u001b[1m 89 [G loss: 2.1204090118408203, G obj.: 0.2539883255958557, G bce.: 2.095010280609131]\u001b[0m \n",
      "\u001b[1m 89 [real loss: [0.57189447, 0.703125], fake loss: [0.4437307, 0.828125]]\u001b[0m\n",
      "\u001b[1m 90 [D loss: 0.5756160616874695, acc.: 71.09375]\u001b[0m \n",
      "\u001b[1m 90 [G loss: 2.3307032585144043, G obj.: 0.23185284435749054, G bce.: 2.3075180053710938]\u001b[0m \n",
      "\u001b[1m 90 [real loss: [0.55315375, 0.75], fake loss: [0.59807837, 0.671875]]\u001b[0m\n",
      "\u001b[1m 91 [D loss: 0.6815578937530518, acc.: 60.15625]\u001b[0m \n",
      "\u001b[1m 91 [G loss: 2.622565269470215, G obj.: 0.24072203040122986, G bce.: 2.5984930992126465]\u001b[0m \n",
      "\u001b[1m 91 [real loss: [0.56061864, 0.703125], fake loss: [0.8024971, 0.5]]\u001b[0m\n",
      "\u001b[1m 92 [D loss: 0.8501408696174622, acc.: 55.46875]\u001b[0m \n",
      "\u001b[1m 92 [G loss: 2.215839385986328, G obj.: 0.2060829997062683, G bce.: 2.1952311992645264]\u001b[0m \n",
      "\u001b[1m 92 [real loss: [0.7946045, 0.546875], fake loss: [0.90567726, 0.5625]]\u001b[0m\n",
      "\u001b[1m 93 [D loss: 0.9811983108520508, acc.: 39.84375]\u001b[0m \n",
      "\u001b[1m 93 [G loss: 2.126197099685669, G obj.: 0.18675921857357025, G bce.: 2.1075212955474854]\u001b[0m \n",
      "\u001b[1m 93 [real loss: [1.017297, 0.40625], fake loss: [0.9450996, 0.390625]]\u001b[0m\n",
      "\u001b[1m 94 [D loss: 0.9697780013084412, acc.: 34.375]\u001b[0m \n",
      "\u001b[1m 94 [G loss: 2.2407751083374023, G obj.: 0.195707306265831, G bce.: 2.2212042808532715]\u001b[0m \n",
      "\u001b[1m 94 [real loss: [0.93560505, 0.390625], fake loss: [1.003951, 0.296875]]\u001b[0m\n",
      "\u001b[1m 95 [D loss: 0.9611190557479858, acc.: 32.8125]\u001b[0m \n",
      "\u001b[1m 95 [G loss: 2.419912576675415, G obj.: 0.19025394320487976, G bce.: 2.4008872509002686]\u001b[0m \n",
      "\u001b[1m 95 [real loss: [0.95335925, 0.34375], fake loss: [0.9688789, 0.3125]]\u001b[0m\n",
      "\u001b[1m 96 [D loss: 0.9477677941322327, acc.: 42.96875]\u001b[0m \n",
      "\u001b[1m 96 [G loss: 2.195936679840088, G obj.: 0.1881118267774582, G bce.: 2.1771254539489746]\u001b[0m \n",
      "\u001b[1m 96 [real loss: [1.0534129, 0.296875], fake loss: [0.8421227, 0.5625]]\u001b[0m\n",
      "\u001b[1m 97 [D loss: 0.8977276682853699, acc.: 49.21875]\u001b[0m \n",
      "\u001b[1m 97 [G loss: 2.1288886070251465, G obj.: 0.19155454635620117, G bce.: 2.1097331047058105]\u001b[0m \n",
      "\u001b[1m 97 [real loss: [1.0359588, 0.359375], fake loss: [0.75949657, 0.625]]\u001b[0m\n",
      "\u001b[1m 98 [D loss: 0.8237574100494385, acc.: 50.0]\u001b[0m \n",
      "\u001b[1m 98 [G loss: 2.1267433166503906, G obj.: 0.1875002086162567, G bce.: 2.1079933643341064]\u001b[0m \n",
      "\u001b[1m 98 [real loss: [0.8788545, 0.5], fake loss: [0.76866025, 0.5]]\u001b[0m\n",
      "\u001b[1m 99 [D loss: 0.8446387052536011, acc.: 47.65625]\u001b[0m \n",
      "\u001b[1m 99 [G loss: 2.2689390182495117, G obj.: 0.19400522112846375, G bce.: 2.2495384216308594]\u001b[0m \n",
      "\u001b[1m 99 [real loss: [0.8466406, 0.484375], fake loss: [0.84263676, 0.46875]]\u001b[0m\n",
      "\u001b[1m 100 [D loss: 0.8329869508743286, acc.: 46.875]\u001b[0m \n",
      "\u001b[1m 100 [G loss: 2.4864518642425537, G obj.: 0.18962223827838898, G bce.: 2.467489719390869]\u001b[0m \n",
      "\u001b[1m 100 [real loss: [0.9244374, 0.359375], fake loss: [0.7415365, 0.578125]]\u001b[0m\n",
      "\u001b[1m 101 [D loss: 0.8344224691390991, acc.: 46.875]\u001b[0m \n",
      "\u001b[1m 101 [G loss: 2.5106418132781982, G obj.: 0.18919284641742706, G bce.: 2.491722583770752]\u001b[0m \n",
      "\u001b[1m 101 [real loss: [0.9247128, 0.421875], fake loss: [0.74413216, 0.515625]]\u001b[0m\n",
      "\u001b[1m 102 [D loss: 0.7156051397323608, acc.: 61.71875]\u001b[0m \n",
      "\u001b[1m 102 [G loss: 2.1607918739318848, G obj.: 0.1864301562309265, G bce.: 2.142148971557617]\u001b[0m \n",
      "\u001b[1m 102 [real loss: [0.85643184, 0.5625], fake loss: [0.57477844, 0.671875]]\u001b[0m\n",
      "\u001b[1m 103 [D loss: 0.5569523572921753, acc.: 72.65625]\u001b[0m \n",
      "\u001b[1m 103 [G loss: 2.4915499687194824, G obj.: 0.18424439430236816, G bce.: 2.473125457763672]\u001b[0m \n",
      "\u001b[1m 103 [real loss: [0.5600858, 0.765625], fake loss: [0.55381894, 0.6875]]\u001b[0m\n",
      "\u001b[1m 104 [D loss: 0.5592373609542847, acc.: 70.3125]\u001b[0m \n",
      "\u001b[1m 104 [G loss: 2.1899571418762207, G obj.: 0.1706257164478302, G bce.: 2.1728944778442383]\u001b[0m \n",
      "\u001b[1m 104 [real loss: [0.62698555, 0.625], fake loss: [0.49148914, 0.78125]]\u001b[0m\n",
      "\u001b[1m 105 [D loss: 0.48634159564971924, acc.: 76.5625]\u001b[0m \n",
      "\u001b[1m 105 [G loss: 2.146601915359497, G obj.: 0.17813479900360107, G bce.: 2.128788471221924]\u001b[0m \n",
      "\u001b[1m 105 [real loss: [0.5591198, 0.734375], fake loss: [0.41356334, 0.796875]]\u001b[0m\n"
     ]
    },
    {
     "name": "stdout",
     "output_type": "stream",
     "text": [
      "\u001b[1m 106 [D loss: 0.5238591432571411, acc.: 74.21875]\u001b[0m \n",
      "\u001b[1m 106 [G loss: 2.1340372562408447, G obj.: 0.1789308786392212, G bce.: 2.1161441802978516]\u001b[0m \n",
      "\u001b[1m 106 [real loss: [0.536811, 0.71875], fake loss: [0.51090735, 0.765625]]\u001b[0m\n",
      "\u001b[1m 107 [D loss: 0.5542296171188354, acc.: 75.78125]\u001b[0m \n",
      "\u001b[1m 107 [G loss: 2.1812307834625244, G obj.: 0.16390027105808258, G bce.: 2.1648406982421875]\u001b[0m \n",
      "\u001b[1m 107 [real loss: [0.6320042, 0.640625], fake loss: [0.47645497, 0.875]]\u001b[0m\n",
      "\u001b[1m 108 [D loss: 0.489926815032959, acc.: 78.90625]\u001b[0m \n",
      "\u001b[1m 108 [G loss: 2.1255886554718018, G obj.: 0.17261920869350433, G bce.: 2.1083266735076904]\u001b[0m \n",
      "\u001b[1m 108 [real loss: [0.4928428, 0.796875], fake loss: [0.48701084, 0.78125]]\u001b[0m\n",
      "\u001b[1m 109 [D loss: 0.6166176795959473, acc.: 61.71875]\u001b[0m \n",
      "\u001b[1m 109 [G loss: 2.543856620788574, G obj.: 0.16580542922019958, G bce.: 2.527276039123535]\u001b[0m \n",
      "\u001b[1m 109 [real loss: [0.5377562, 0.71875], fake loss: [0.6954791, 0.515625]]\u001b[0m\n",
      "\u001b[1m 110 [D loss: 0.6587103605270386, acc.: 61.71875]\u001b[0m \n",
      "\u001b[1m 110 [G loss: 2.3946995735168457, G obj.: 0.16927601397037506, G bce.: 2.3777718544006348]\u001b[0m \n",
      "\u001b[1m 110 [real loss: [0.67264044, 0.609375], fake loss: [0.6447802, 0.625]]\u001b[0m\n",
      "\u001b[1m 111 [D loss: 0.8544030785560608, acc.: 52.34375]\u001b[0m \n",
      "\u001b[1m 111 [G loss: 2.6288108825683594, G obj.: 0.17736364901065826, G bce.: 2.611074447631836]\u001b[0m \n",
      "\u001b[1m 111 [real loss: [0.74780375, 0.625], fake loss: [0.9610024, 0.421875]]\u001b[0m\n",
      "\u001b[1m 112 [D loss: 1.2150522470474243, acc.: 25.78125]\u001b[0m \n",
      "\u001b[1m 112 [G loss: 2.3591814041137695, G obj.: 0.1799728274345398, G bce.: 2.341184139251709]\u001b[0m \n",
      "\u001b[1m 112 [real loss: [1.1153344, 0.328125], fake loss: [1.3147701, 0.1875]]\u001b[0m\n",
      "\u001b[1m 113 [D loss: 1.3219473361968994, acc.: 17.1875]\u001b[0m \n",
      "\u001b[1m 113 [G loss: 2.7987000942230225, G obj.: 0.2035638689994812, G bce.: 2.778343677520752]\u001b[0m \n",
      "\u001b[1m 113 [real loss: [1.2444515, 0.25], fake loss: [1.3994433, 0.09375]]\u001b[0m\n",
      "\u001b[1m 114 [D loss: 1.1029640436172485, acc.: 35.9375]\u001b[0m \n",
      "\u001b[1m 114 [G loss: 2.4841716289520264, G obj.: 0.2205202281475067, G bce.: 2.4621195793151855]\u001b[0m \n",
      "\u001b[1m 114 [real loss: [1.4558432, 0.171875], fake loss: [0.75008494, 0.546875]]\u001b[0m\n",
      "\u001b[1m 115 [D loss: 0.7104530334472656, acc.: 60.15625]\u001b[0m \n",
      "\u001b[1m 115 [G loss: 2.645034074783325, G obj.: 0.2777370512485504, G bce.: 2.617260456085205]\u001b[0m \n",
      "\u001b[1m 115 [real loss: [0.901773, 0.421875], fake loss: [0.5191331, 0.78125]]\u001b[0m\n",
      "\u001b[1m 116 [D loss: 0.6179571151733398, acc.: 64.0625]\u001b[0m \n",
      "\u001b[1m 116 [G loss: 2.6495044231414795, G obj.: 0.28979137539863586, G bce.: 2.620525360107422]\u001b[0m \n",
      "\u001b[1m 116 [real loss: [0.72875684, 0.546875], fake loss: [0.50715744, 0.734375]]\u001b[0m\n",
      "\u001b[1m 117 [D loss: 0.5780859589576721, acc.: 70.3125]\u001b[0m \n",
      "\u001b[1m 117 [G loss: 2.369015693664551, G obj.: 0.32085174322128296, G bce.: 2.336930513381958]\u001b[0m \n",
      "\u001b[1m 117 [real loss: [0.707219, 0.609375], fake loss: [0.4489529, 0.796875]]\u001b[0m\n",
      "\u001b[1m 118 [D loss: 0.374711275100708, acc.: 89.0625]\u001b[0m \n",
      "\u001b[1m 118 [G loss: 2.604822874069214, G obj.: 0.3380300998687744, G bce.: 2.5710198879241943]\u001b[0m \n",
      "\u001b[1m 118 [real loss: [0.41773605, 0.828125], fake loss: [0.3316865, 0.953125]]\u001b[0m\n",
      "\u001b[1m 119 [D loss: 0.3943536877632141, acc.: 85.9375]\u001b[0m \n",
      "\u001b[1m 119 [G loss: 2.592432975769043, G obj.: 0.3291608691215515, G bce.: 2.5595169067382812]\u001b[0m \n",
      "\u001b[1m 119 [real loss: [0.43204114, 0.78125], fake loss: [0.35666627, 0.9375]]\u001b[0m\n",
      "\u001b[1m 120 [D loss: 0.35524722933769226, acc.: 89.0625]\u001b[0m \n",
      "\u001b[1m 120 [G loss: 2.606006383895874, G obj.: 0.3055158257484436, G bce.: 2.5754547119140625]\u001b[0m \n",
      "\u001b[1m 120 [real loss: [0.36098224, 0.890625], fake loss: [0.34951222, 0.890625]]\u001b[0m\n",
      "\u001b[1m 121 [D loss: 0.36439117789268494, acc.: 89.0625]\u001b[0m \n",
      "\u001b[1m 121 [G loss: 2.6582202911376953, G obj.: 0.2941693365573883, G bce.: 2.628803253173828]\u001b[0m \n",
      "\u001b[1m 121 [real loss: [0.38892305, 0.890625], fake loss: [0.3398593, 0.890625]]\u001b[0m\n",
      "\u001b[1m 122 [D loss: 0.4475966691970825, acc.: 80.46875]\u001b[0m \n",
      "\u001b[1m 122 [G loss: 2.6714446544647217, G obj.: 0.2954772710800171, G bce.: 2.641896963119507]\u001b[0m \n",
      "\u001b[1m 122 [real loss: [0.43290645, 0.8125], fake loss: [0.46228686, 0.796875]]\u001b[0m\n",
      "\u001b[1m 123 [D loss: 0.39676380157470703, acc.: 86.71875]\u001b[0m \n",
      "\u001b[1m 123 [G loss: 2.7455334663391113, G obj.: 0.26262393593788147, G bce.: 2.719271183013916]\u001b[0m \n",
      "\u001b[1m 123 [real loss: [0.33534825, 0.90625], fake loss: [0.45817935, 0.828125]]\u001b[0m\n",
      "\u001b[1m 124 [D loss: 0.5509699583053589, acc.: 70.3125]\u001b[0m \n",
      "\u001b[1m 124 [G loss: 3.0230355262756348, G obj.: 0.24484865367412567, G bce.: 2.9985506534576416]\u001b[0m \n",
      "\u001b[1m 124 [real loss: [0.4480244, 0.765625], fake loss: [0.6539155, 0.640625]]\u001b[0m\n",
      "\u001b[1m 125 [D loss: 0.6733576655387878, acc.: 62.5]\u001b[0m \n",
      "\u001b[1m 125 [G loss: 2.843580961227417, G obj.: 0.2242942601442337, G bce.: 2.8211514949798584]\u001b[0m \n",
      "\u001b[1m 125 [real loss: [0.6335448, 0.6875], fake loss: [0.7131705, 0.5625]]\u001b[0m\n",
      "\u001b[1m 126 [D loss: 1.0637142658233643, acc.: 35.15625]\u001b[0m \n",
      "\u001b[1m 126 [G loss: 2.8388936519622803, G obj.: 0.19586893916130066, G bce.: 2.8193068504333496]\u001b[0m \n",
      "\u001b[1m 126 [real loss: [0.9444996, 0.4375], fake loss: [1.1829288, 0.265625]]\u001b[0m\n",
      "\u001b[1m 127 [D loss: 0.8634182214736938, acc.: 47.65625]\u001b[0m \n",
      "\u001b[1m 127 [G loss: 2.7082343101501465, G obj.: 0.1954556107521057, G bce.: 2.6886887550354004]\u001b[0m \n",
      "\u001b[1m 127 [real loss: [0.8924989, 0.453125], fake loss: [0.83433753, 0.5]]\u001b[0m\n",
      "\u001b[1m 128 [D loss: 0.714762806892395, acc.: 59.375]\u001b[0m \n",
      "\u001b[1m 128 [G loss: 2.33475923538208, G obj.: 0.19435401260852814, G bce.: 2.315323829650879]\u001b[0m \n",
      "\u001b[1m 128 [real loss: [0.84168476, 0.484375], fake loss: [0.5878408, 0.703125]]\u001b[0m\n",
      "\u001b[1m 129 [D loss: 0.7278308868408203, acc.: 57.8125]\u001b[0m \n",
      "\u001b[1m 129 [G loss: 2.5289766788482666, G obj.: 0.18328674137592316, G bce.: 2.510648012161255]\u001b[0m \n",
      "\u001b[1m 129 [real loss: [0.8099742, 0.546875], fake loss: [0.6456876, 0.609375]]\u001b[0m\n",
      "\u001b[1m 130 [D loss: 0.58336341381073, acc.: 71.09375]\u001b[0m \n",
      "\u001b[1m 130 [G loss: 2.657428503036499, G obj.: 0.19287292659282684, G bce.: 2.63814115524292]\u001b[0m \n",
      "\u001b[1m 130 [real loss: [0.67375124, 0.625], fake loss: [0.4929756, 0.796875]]\u001b[0m\n",
      "\u001b[1m 131 [D loss: 0.4906112253665924, acc.: 78.125]\u001b[0m \n",
      "\u001b[1m 131 [G loss: 2.4620816707611084, G obj.: 0.19292029738426208, G bce.: 2.4427895545959473]\u001b[0m \n",
      "\u001b[1m 131 [real loss: [0.61143005, 0.703125], fake loss: [0.3697924, 0.859375]]\u001b[0m\n",
      "\u001b[1m 132 [D loss: 0.5044635534286499, acc.: 77.34375]\u001b[0m \n",
      "\u001b[1m 132 [G loss: 2.5026838779449463, G obj.: 0.18557506799697876, G bce.: 2.484126329421997]\u001b[0m \n",
      "\u001b[1m 132 [real loss: [0.5280229, 0.78125], fake loss: [0.48090416, 0.765625]]\u001b[0m\n",
      "\u001b[1m 133 [D loss: 0.592380166053772, acc.: 67.96875]\u001b[0m \n",
      "\u001b[1m 133 [G loss: 2.2464020252227783, G obj.: 0.18303637206554413, G bce.: 2.2280983924865723]\u001b[0m \n",
      "\u001b[1m 133 [real loss: [0.697546, 0.609375], fake loss: [0.48721433, 0.75]]\u001b[0m\n",
      "\u001b[1m 134 [D loss: 0.4894154667854309, acc.: 78.90625]\u001b[0m \n",
      "\u001b[1m 134 [G loss: 2.186211347579956, G obj.: 0.17513412237167358, G bce.: 2.1686978340148926]\u001b[0m \n",
      "\u001b[1m 134 [real loss: [0.5484772, 0.75], fake loss: [0.43035373, 0.828125]]\u001b[0m\n",
      "\u001b[1m 135 [D loss: 0.35413098335266113, acc.: 84.375]\u001b[0m \n",
      "\u001b[1m 135 [G loss: 2.691476821899414, G obj.: 0.16950321197509766, G bce.: 2.6745264530181885]\u001b[0m \n",
      "\u001b[1m 135 [real loss: [0.3076073, 0.90625], fake loss: [0.4006547, 0.78125]]\u001b[0m\n",
      "\u001b[1m 136 [D loss: 0.464174747467041, acc.: 78.90625]\u001b[0m \n",
      "\u001b[1m 136 [G loss: 2.5756354331970215, G obj.: 0.18271902203559875, G bce.: 2.557363510131836]\u001b[0m \n",
      "\u001b[1m 136 [real loss: [0.49835378, 0.75], fake loss: [0.42999572, 0.828125]]\u001b[0m\n",
      "\u001b[1m 137 [D loss: 0.5712509751319885, acc.: 77.34375]\u001b[0m \n",
      "\u001b[1m 137 [G loss: 2.690744638442993, G obj.: 0.16914209723472595, G bce.: 2.673830509185791]\u001b[0m \n",
      "\u001b[1m 137 [real loss: [0.63005877, 0.796875], fake loss: [0.5124432, 0.75]]\u001b[0m\n",
      "\u001b[1m 138 [D loss: 0.3766986131668091, acc.: 86.71875]\u001b[0m \n",
      "\u001b[1m 138 [G loss: 2.666426181793213, G obj.: 0.17108678817749023, G bce.: 2.649317502975464]\u001b[0m \n",
      "\u001b[1m 138 [real loss: [0.44543013, 0.78125], fake loss: [0.30796713, 0.953125]]\u001b[0m\n",
      "\u001b[1m 139 [D loss: 0.40680962800979614, acc.: 80.46875]\u001b[0m \n",
      "\u001b[1m 139 [G loss: 2.3662052154541016, G obj.: 0.16750285029411316, G bce.: 2.349454879760742]\u001b[0m \n",
      "\u001b[1m 139 [real loss: [0.48700374, 0.734375], fake loss: [0.3266155, 0.875]]\u001b[0m\n",
      "\u001b[1m 140 [D loss: 0.3972615599632263, acc.: 87.5]\u001b[0m \n",
      "\u001b[1m 140 [G loss: 2.4295735359191895, G obj.: 0.1688477247953415, G bce.: 2.412688732147217]\u001b[0m \n",
      "\u001b[1m 140 [real loss: [0.42694286, 0.859375], fake loss: [0.3675803, 0.890625]]\u001b[0m\n"
     ]
    },
    {
     "name": "stdout",
     "output_type": "stream",
     "text": [
      "\u001b[1m 141 [D loss: 0.4729384779930115, acc.: 77.34375]\u001b[0m \n",
      "\u001b[1m 141 [G loss: 2.7662405967712402, G obj.: 0.1711985468864441, G bce.: 2.7491207122802734]\u001b[0m \n",
      "\u001b[1m 141 [real loss: [0.377558, 0.875], fake loss: [0.56831896, 0.671875]]\u001b[0m\n",
      "\u001b[1m 142 [D loss: 0.5259819030761719, acc.: 70.3125]\u001b[0m \n",
      "\u001b[1m 142 [G loss: 2.5021915435791016, G obj.: 0.16941000521183014, G bce.: 2.485250473022461]\u001b[0m \n",
      "\u001b[1m 142 [real loss: [0.60854053, 0.59375], fake loss: [0.44342333, 0.8125]]\u001b[0m\n",
      "\u001b[1m 143 [D loss: 0.5091475248336792, acc.: 75.78125]\u001b[0m \n",
      "\u001b[1m 143 [G loss: 2.5558156967163086, G obj.: 0.16148442029953003, G bce.: 2.5396673679351807]\u001b[0m \n",
      "\u001b[1m 143 [real loss: [0.45678967, 0.796875], fake loss: [0.5615053, 0.71875]]\u001b[0m\n",
      "\u001b[1m 144 [D loss: 0.7395272254943848, acc.: 54.6875]\u001b[0m \n",
      "\u001b[1m 144 [G loss: 2.529050588607788, G obj.: 0.17061372101306915, G bce.: 2.511989116668701]\u001b[0m \n",
      "\u001b[1m 144 [real loss: [0.76253664, 0.515625], fake loss: [0.71651775, 0.578125]]\u001b[0m\n",
      "\u001b[1m 145 [D loss: 0.851327121257782, acc.: 52.34375]\u001b[0m \n",
      "\u001b[1m 145 [G loss: 2.4639384746551514, G obj.: 0.1785954385995865, G bce.: 2.4460790157318115]\u001b[0m \n",
      "\u001b[1m 145 [real loss: [0.8478074, 0.59375], fake loss: [0.85484684, 0.453125]]\u001b[0m\n",
      "\u001b[1m 146 [D loss: 1.213284969329834, acc.: 28.90625]\u001b[0m \n",
      "\u001b[1m 146 [G loss: 2.339553117752075, G obj.: 0.20200800895690918, G bce.: 2.319352388381958]\u001b[0m \n",
      "\u001b[1m 146 [real loss: [1.0670325, 0.390625], fake loss: [1.3595374, 0.1875]]\u001b[0m\n",
      "\u001b[1m 147 [D loss: 0.768745481967926, acc.: 58.59375]\u001b[0m \n",
      "\u001b[1m 147 [G loss: 2.3625218868255615, G obj.: 0.21567605435848236, G bce.: 2.340954303741455]\u001b[0m \n",
      "\u001b[1m 147 [real loss: [0.79054415, 0.59375], fake loss: [0.7469468, 0.578125]]\u001b[0m\n",
      "\u001b[1m 148 [D loss: 0.8975229263305664, acc.: 46.875]\u001b[0m \n",
      "\u001b[1m 148 [G loss: 2.491590738296509, G obj.: 0.21261394023895264, G bce.: 2.4703292846679688]\u001b[0m \n",
      "\u001b[1m 148 [real loss: [1.0260375, 0.40625], fake loss: [0.76900834, 0.53125]]\u001b[0m\n",
      "\u001b[1m 149 [D loss: 0.7238483428955078, acc.: 60.15625]\u001b[0m \n",
      "\u001b[1m 149 [G loss: 2.510256290435791, G obj.: 0.21892009675502777, G bce.: 2.4883642196655273]\u001b[0m \n",
      "\u001b[1m 149 [real loss: [0.82114196, 0.5625], fake loss: [0.6265547, 0.640625]]\u001b[0m\n",
      "\u001b[1m 150 [D loss: 0.6764963269233704, acc.: 61.71875]\u001b[0m \n",
      "\u001b[1m 150 [G loss: 2.7451977729797363, G obj.: 0.20504659414291382, G bce.: 2.7246930599212646]\u001b[0m \n",
      "\u001b[1m 150 [real loss: [0.6492844, 0.65625], fake loss: [0.70370823, 0.578125]]\u001b[0m\n",
      "\u001b[1m 151 [D loss: 0.6733143925666809, acc.: 64.84375]\u001b[0m \n",
      "\u001b[1m 151 [G loss: 2.420928955078125, G obj.: 0.19751906394958496, G bce.: 2.401176929473877]\u001b[0m \n",
      "\u001b[1m 151 [real loss: [0.7342907, 0.625], fake loss: [0.61233807, 0.671875]]\u001b[0m\n",
      "\u001b[1m 152 [D loss: 0.7134628295898438, acc.: 56.25]\u001b[0m \n",
      "\u001b[1m 152 [G loss: 2.6669201850891113, G obj.: 0.2003026008605957, G bce.: 2.6468899250030518]\u001b[0m \n",
      "\u001b[1m 152 [real loss: [0.7969848, 0.5625], fake loss: [0.6299409, 0.5625]]\u001b[0m\n",
      "\u001b[1m 153 [D loss: 0.6177152395248413, acc.: 64.84375]\u001b[0m \n",
      "\u001b[1m 153 [G loss: 2.3959076404571533, G obj.: 0.1914210468530655, G bce.: 2.376765489578247]\u001b[0m \n",
      "\u001b[1m 153 [real loss: [0.78802407, 0.53125], fake loss: [0.44740647, 0.765625]]\u001b[0m\n",
      "\u001b[1m 154 [D loss: 0.5566869378089905, acc.: 72.65625]\u001b[0m \n",
      "\u001b[1m 154 [G loss: 2.6360023021698, G obj.: 0.19408392906188965, G bce.: 2.616593837738037]\u001b[0m \n",
      "\u001b[1m 154 [real loss: [0.48221937, 0.8125], fake loss: [0.63115454, 0.640625]]\u001b[0m\n",
      "\u001b[1m 155 [D loss: 0.566997766494751, acc.: 68.75]\u001b[0m \n",
      "\u001b[1m 155 [G loss: 2.4747328758239746, G obj.: 0.18996869027614594, G bce.: 2.455735921859741]\u001b[0m \n",
      "\u001b[1m 155 [real loss: [0.66221213, 0.59375], fake loss: [0.4717834, 0.78125]]\u001b[0m\n",
      "\u001b[1m 156 [D loss: 0.5796855688095093, acc.: 65.625]\u001b[0m \n",
      "\u001b[1m 156 [G loss: 2.6772654056549072, G obj.: 0.20213718712329865, G bce.: 2.6570518016815186]\u001b[0m \n",
      "\u001b[1m 156 [real loss: [0.5769314, 0.65625], fake loss: [0.58243966, 0.65625]]\u001b[0m\n",
      "\u001b[1m 157 [D loss: 0.682152509689331, acc.: 62.5]\u001b[0m \n",
      "\u001b[1m 157 [G loss: 2.417753219604492, G obj.: 0.1956920623779297, G bce.: 2.398184061050415]\u001b[0m \n",
      "\u001b[1m 157 [real loss: [0.74006367, 0.59375], fake loss: [0.62424135, 0.65625]]\u001b[0m\n",
      "\u001b[1m 158 [D loss: 0.638410210609436, acc.: 67.96875]\u001b[0m \n",
      "\u001b[1m 158 [G loss: 2.5258030891418457, G obj.: 0.20746737718582153, G bce.: 2.505056381225586]\u001b[0m \n",
      "\u001b[1m 158 [real loss: [0.63812363, 0.703125], fake loss: [0.6386968, 0.65625]]\u001b[0m\n",
      "\u001b[1m 159 [D loss: 0.6581218242645264, acc.: 71.875]\u001b[0m \n",
      "\u001b[1m 159 [G loss: 2.4838216304779053, G obj.: 0.19085781276226044, G bce.: 2.464735746383667]\u001b[0m \n",
      "\u001b[1m 159 [real loss: [0.73946565, 0.65625], fake loss: [0.57677805, 0.78125]]\u001b[0m\n",
      "\u001b[1m 160 [D loss: 0.6305443048477173, acc.: 67.1875]\u001b[0m \n",
      "\u001b[1m 160 [G loss: 2.6945641040802, G obj.: 0.19837167859077454, G bce.: 2.674726963043213]\u001b[0m \n",
      "\u001b[1m 160 [real loss: [0.62258005, 0.6875], fake loss: [0.63850856, 0.65625]]\u001b[0m\n",
      "\u001b[1m 161 [D loss: 0.6649877429008484, acc.: 69.53125]\u001b[0m \n",
      "\u001b[1m 161 [G loss: 2.4576163291931152, G obj.: 0.17953985929489136, G bce.: 2.439662456512451]\u001b[0m \n",
      "\u001b[1m 161 [real loss: [0.65344024, 0.71875], fake loss: [0.67653525, 0.671875]]\u001b[0m\n",
      "\u001b[1m 162 [D loss: 0.7092882394790649, acc.: 57.03125]\u001b[0m \n",
      "\u001b[1m 162 [G loss: 2.4538509845733643, G obj.: 0.18091998994350433, G bce.: 2.4357590675354004]\u001b[0m \n",
      "\u001b[1m 162 [real loss: [0.74469894, 0.53125], fake loss: [0.6738776, 0.609375]]\u001b[0m\n",
      "\u001b[1m 163 [D loss: 0.6954367160797119, acc.: 57.03125]\u001b[0m \n",
      "\u001b[1m 163 [G loss: 2.6939547061920166, G obj.: 0.18371662497520447, G bce.: 2.6755831241607666]\u001b[0m \n",
      "\u001b[1m 163 [real loss: [0.7238406, 0.546875], fake loss: [0.6670328, 0.59375]]\u001b[0m\n",
      "\u001b[1m 164 [D loss: 0.8741601705551147, acc.: 50.78125]\u001b[0m \n",
      "\u001b[1m 164 [G loss: 2.5149242877960205, G obj.: 0.17599065601825714, G bce.: 2.4973251819610596]\u001b[0m \n",
      "\u001b[1m 164 [real loss: [0.9008522, 0.46875], fake loss: [0.84746814, 0.546875]]\u001b[0m\n",
      "\u001b[1m 165 [D loss: 0.8161505460739136, acc.: 53.125]\u001b[0m \n",
      "\u001b[1m 165 [G loss: 2.447906970977783, G obj.: 0.1728338599205017, G bce.: 2.4306235313415527]\u001b[0m \n",
      "\u001b[1m 165 [real loss: [0.7771482, 0.59375], fake loss: [0.85515296, 0.46875]]\u001b[0m\n",
      "\u001b[1m 166 [D loss: 0.8326369524002075, acc.: 48.4375]\u001b[0m \n",
      "\u001b[1m 166 [G loss: 2.4886515140533447, G obj.: 0.1575266420841217, G bce.: 2.4728989601135254]\u001b[0m \n",
      "\u001b[1m 166 [real loss: [0.8806863, 0.46875], fake loss: [0.7845876, 0.5]]\u001b[0m\n",
      "\u001b[1m 167 [D loss: 0.7964414358139038, acc.: 53.125]\u001b[0m \n",
      "\u001b[1m 167 [G loss: 2.7637393474578857, G obj.: 0.1576157510280609, G bce.: 2.7479777336120605]\u001b[0m \n",
      "\u001b[1m 167 [real loss: [0.75668764, 0.578125], fake loss: [0.83619523, 0.484375]]\u001b[0m\n",
      "\u001b[1m 168 [D loss: 0.9543495178222656, acc.: 40.625]\u001b[0m \n",
      "\u001b[1m 168 [G loss: 2.33626651763916, G obj.: 0.15174469351768494, G bce.: 2.321092128753662]\u001b[0m \n",
      "\u001b[1m 168 [real loss: [1.0608368, 0.296875], fake loss: [0.84786224, 0.515625]]\u001b[0m\n",
      "\u001b[1m 169 [D loss: 0.9099435806274414, acc.: 50.0]\u001b[0m \n",
      "\u001b[1m 169 [G loss: 2.2777798175811768, G obj.: 0.14367380738258362, G bce.: 2.2634124755859375]\u001b[0m \n",
      "\u001b[1m 169 [real loss: [0.99864686, 0.40625], fake loss: [0.8212403, 0.59375]]\u001b[0m\n",
      "\u001b[1m 170 [D loss: 0.8572154641151428, acc.: 51.5625]\u001b[0m \n",
      "\u001b[1m 170 [G loss: 2.3095109462738037, G obj.: 0.1459508240222931, G bce.: 2.2949159145355225]\u001b[0m \n",
      "\u001b[1m 170 [real loss: [0.86424804, 0.5], fake loss: [0.8501829, 0.53125]]\u001b[0m\n",
      "\u001b[1m 171 [D loss: 0.8372864127159119, acc.: 55.46875]\u001b[0m \n",
      "\u001b[1m 171 [G loss: 2.4596967697143555, G obj.: 0.14079950749874115, G bce.: 2.4456167221069336]\u001b[0m \n",
      "\u001b[1m 171 [real loss: [0.9360065, 0.484375], fake loss: [0.73856634, 0.625]]\u001b[0m\n",
      "\u001b[1m 172 [D loss: 0.7469499111175537, acc.: 55.46875]\u001b[0m \n",
      "\u001b[1m 172 [G loss: 2.0704898834228516, G obj.: 0.1369248926639557, G bce.: 2.056797504425049]\u001b[0m \n",
      "\u001b[1m 172 [real loss: [0.78639394, 0.5625], fake loss: [0.70750594, 0.546875]]\u001b[0m\n",
      "\u001b[1m 173 [D loss: 0.8965829610824585, acc.: 42.1875]\u001b[0m \n",
      "\u001b[1m 173 [G loss: 2.5095202922821045, G obj.: 0.13917022943496704, G bce.: 2.495603322982788]\u001b[0m \n",
      "\u001b[1m 173 [real loss: [0.8690029, 0.5], fake loss: [0.9241631, 0.34375]]\u001b[0m\n",
      "\u001b[1m 174 [D loss: 0.7436691522598267, acc.: 55.46875]\u001b[0m \n",
      "\u001b[1m 174 [G loss: 2.3460164070129395, G obj.: 0.14068710803985596, G bce.: 2.3319478034973145]\u001b[0m \n",
      "\u001b[1m 174 [real loss: [0.8105875, 0.53125], fake loss: [0.6767507, 0.578125]]\u001b[0m\n",
      "\u001b[1m 175 [D loss: 0.594970166683197, acc.: 64.0625]\u001b[0m \n",
      "\u001b[1m 175 [G loss: 2.2873966693878174, G obj.: 0.13380318880081177, G bce.: 2.2740163803100586]\u001b[0m \n",
      "\u001b[1m 175 [real loss: [0.66867113, 0.5625], fake loss: [0.5212692, 0.71875]]\u001b[0m\n"
     ]
    },
    {
     "name": "stdout",
     "output_type": "stream",
     "text": [
      "\u001b[1m 176 [D loss: 0.6292099952697754, acc.: 62.5]\u001b[0m \n",
      "\u001b[1m 176 [G loss: 2.4089133739471436, G obj.: 0.13177168369293213, G bce.: 2.3957362174987793]\u001b[0m \n",
      "\u001b[1m 176 [real loss: [0.6216574, 0.625], fake loss: [0.6367626, 0.625]]\u001b[0m\n",
      "\u001b[1m 177 [D loss: 0.7174608111381531, acc.: 54.6875]\u001b[0m \n",
      "\u001b[1m 177 [G loss: 2.3811564445495605, G obj.: 0.12739816308021545, G bce.: 2.3684165477752686]\u001b[0m \n",
      "\u001b[1m 177 [real loss: [0.6891612, 0.546875], fake loss: [0.74576044, 0.546875]]\u001b[0m\n",
      "\u001b[1m 178 [D loss: 0.8201889991760254, acc.: 53.125]\u001b[0m \n",
      "\u001b[1m 178 [G loss: 2.2252602577209473, G obj.: 0.1381276696920395, G bce.: 2.2114474773406982]\u001b[0m \n",
      "\u001b[1m 178 [real loss: [0.9110099, 0.5], fake loss: [0.72936815, 0.5625]]\u001b[0m\n",
      "\u001b[1m 179 [D loss: 0.6497271060943604, acc.: 62.5]\u001b[0m \n",
      "\u001b[1m 179 [G loss: 2.586704730987549, G obj.: 0.13611234724521637, G bce.: 2.5730934143066406]\u001b[0m \n",
      "\u001b[1m 179 [real loss: [0.6146926, 0.640625], fake loss: [0.68476164, 0.609375]]\u001b[0m\n",
      "\u001b[1m 180 [D loss: 0.761915922164917, acc.: 59.375]\u001b[0m \n",
      "\u001b[1m 180 [G loss: 2.373837947845459, G obj.: 0.13736610114574432, G bce.: 2.3601012229919434]\u001b[0m \n",
      "\u001b[1m 180 [real loss: [0.91522086, 0.46875], fake loss: [0.6086109, 0.71875]]\u001b[0m\n",
      "\u001b[1m 181 [D loss: 0.5867465734481812, acc.: 67.1875]\u001b[0m \n",
      "\u001b[1m 181 [G loss: 2.3893845081329346, G obj.: 0.12898585200309753, G bce.: 2.376485824584961]\u001b[0m \n",
      "\u001b[1m 181 [real loss: [0.5307341, 0.71875], fake loss: [0.642759, 0.625]]\u001b[0m\n",
      "\u001b[1m 182 [D loss: 0.5775414705276489, acc.: 68.75]\u001b[0m \n",
      "\u001b[1m 182 [G loss: 2.2714450359344482, G obj.: 0.13006877899169922, G bce.: 2.2584381103515625]\u001b[0m \n",
      "\u001b[1m 182 [real loss: [0.6649492, 0.625], fake loss: [0.49013376, 0.75]]\u001b[0m\n",
      "\u001b[1m 183 [D loss: 0.6720906496047974, acc.: 64.84375]\u001b[0m \n",
      "\u001b[1m 183 [G loss: 2.337934732437134, G obj.: 0.13854718208312988, G bce.: 2.324079990386963]\u001b[0m \n",
      "\u001b[1m 183 [real loss: [0.6901917, 0.640625], fake loss: [0.6539897, 0.65625]]\u001b[0m\n",
      "\u001b[1m 184 [D loss: 0.5936388969421387, acc.: 71.875]\u001b[0m \n",
      "\u001b[1m 184 [G loss: 2.5578200817108154, G obj.: 0.14042925834655762, G bce.: 2.5437772274017334]\u001b[0m \n",
      "\u001b[1m 184 [real loss: [0.60381657, 0.640625], fake loss: [0.58346117, 0.796875]]\u001b[0m\n",
      "\u001b[1m 185 [D loss: 0.5587149858474731, acc.: 69.53125]\u001b[0m \n",
      "\u001b[1m 185 [G loss: 2.359410047531128, G obj.: 0.13100852072238922, G bce.: 2.346309185028076]\u001b[0m \n",
      "\u001b[1m 185 [real loss: [0.656755, 0.625], fake loss: [0.46067497, 0.765625]]\u001b[0m\n",
      "\u001b[1m 186 [D loss: 0.4886961579322815, acc.: 75.0]\u001b[0m \n",
      "\u001b[1m 186 [G loss: 2.3590328693389893, G obj.: 0.12687838077545166, G bce.: 2.3463449478149414]\u001b[0m \n",
      "\u001b[1m 186 [real loss: [0.44975275, 0.765625], fake loss: [0.52763957, 0.734375]]\u001b[0m\n",
      "\u001b[1m 187 [D loss: 0.5898103713989258, acc.: 67.1875]\u001b[0m \n",
      "\u001b[1m 187 [G loss: 2.6328651905059814, G obj.: 0.12562544643878937, G bce.: 2.620302677154541]\u001b[0m \n",
      "\u001b[1m 187 [real loss: [0.6305531, 0.640625], fake loss: [0.5490676, 0.703125]]\u001b[0m\n",
      "\u001b[1m 188 [D loss: 0.6171645522117615, acc.: 67.96875]\u001b[0m \n",
      "\u001b[1m 188 [G loss: 2.467270612716675, G obj.: 0.13187219202518463, G bce.: 2.4540834426879883]\u001b[0m \n",
      "\u001b[1m 188 [real loss: [0.65739894, 0.65625], fake loss: [0.57693017, 0.703125]]\u001b[0m\n",
      "\u001b[1m 189 [D loss: 0.47240960597991943, acc.: 75.0]\u001b[0m \n",
      "\u001b[1m 189 [G loss: 2.351254940032959, G obj.: 0.14061668515205383, G bce.: 2.337193250656128]\u001b[0m \n",
      "\u001b[1m 189 [real loss: [0.58462214, 0.640625], fake loss: [0.36019704, 0.859375]]\u001b[0m\n",
      "\u001b[1m 190 [D loss: 0.5893816947937012, acc.: 67.1875]\u001b[0m \n",
      "\u001b[1m 190 [G loss: 2.684830904006958, G obj.: 0.13685309886932373, G bce.: 2.6711456775665283]\u001b[0m \n",
      "\u001b[1m 190 [real loss: [0.5100869, 0.703125], fake loss: [0.6686765, 0.640625]]\u001b[0m\n",
      "\u001b[1m 191 [D loss: 0.6402778029441833, acc.: 62.5]\u001b[0m \n",
      "\u001b[1m 191 [G loss: 2.536205530166626, G obj.: 0.14002540707588196, G bce.: 2.522202968597412]\u001b[0m \n",
      "\u001b[1m 191 [real loss: [0.6910564, 0.578125], fake loss: [0.58949924, 0.671875]]\u001b[0m\n",
      "\u001b[1m 192 [D loss: 0.5088797807693481, acc.: 71.875]\u001b[0m \n",
      "\u001b[1m 192 [G loss: 2.3075027465820312, G obj.: 0.13517361879348755, G bce.: 2.293985366821289]\u001b[0m \n",
      "\u001b[1m 192 [real loss: [0.5877886, 0.625], fake loss: [0.42997092, 0.8125]]\u001b[0m\n",
      "\u001b[1m 193 [D loss: 0.5835751891136169, acc.: 67.1875]\u001b[0m \n",
      "\u001b[1m 193 [G loss: 2.387080669403076, G obj.: 0.13620932400226593, G bce.: 2.373459815979004]\u001b[0m \n",
      "\u001b[1m 193 [real loss: [0.60454154, 0.640625], fake loss: [0.56260884, 0.703125]]\u001b[0m\n",
      "\u001b[1m 194 [D loss: 0.5790045857429504, acc.: 66.40625]\u001b[0m \n",
      "\u001b[1m 194 [G loss: 2.7435333728790283, G obj.: 0.14228588342666626, G bce.: 2.729304790496826]\u001b[0m \n",
      "\u001b[1m 194 [real loss: [0.56431973, 0.65625], fake loss: [0.59368944, 0.671875]]\u001b[0m\n",
      "\u001b[1m 195 [D loss: 0.7493057250976562, acc.: 64.0625]\u001b[0m \n",
      "\u001b[1m 195 [G loss: 2.572333574295044, G obj.: 0.1293175220489502, G bce.: 2.559401750564575]\u001b[0m \n",
      "\u001b[1m 195 [real loss: [0.925537, 0.546875], fake loss: [0.57307446, 0.734375]]\u001b[0m\n",
      "\u001b[1m 196 [D loss: 0.3750292658805847, acc.: 82.8125]\u001b[0m \n",
      "\u001b[1m 196 [G loss: 2.525282621383667, G obj.: 0.13911601901054382, G bce.: 2.51137113571167]\u001b[0m \n",
      "\u001b[1m 196 [real loss: [0.3017094, 0.875], fake loss: [0.44834915, 0.78125]]\u001b[0m\n",
      "\u001b[1m 197 [D loss: 0.768520176410675, acc.: 57.8125]\u001b[0m \n",
      "\u001b[1m 197 [G loss: 2.679781198501587, G obj.: 0.13691142201423645, G bce.: 2.6660900115966797]\u001b[0m \n",
      "\u001b[1m 197 [real loss: [0.85119057, 0.546875], fake loss: [0.6858498, 0.609375]]\u001b[0m\n",
      "\u001b[1m 198 [D loss: 0.6756184101104736, acc.: 57.8125]\u001b[0m \n",
      "\u001b[1m 198 [G loss: 2.28977108001709, G obj.: 0.138390451669693, G bce.: 2.2759320735931396]\u001b[0m \n",
      "\u001b[1m 198 [real loss: [0.74997747, 0.5625], fake loss: [0.60125935, 0.59375]]\u001b[0m\n",
      "\u001b[1m 199 [D loss: 0.6318193674087524, acc.: 64.84375]\u001b[0m \n",
      "\u001b[1m 199 [G loss: 2.4976863861083984, G obj.: 0.1375630497932434, G bce.: 2.4839301109313965]\u001b[0m \n",
      "\u001b[1m 199 [real loss: [0.6305553, 0.6875], fake loss: [0.63308346, 0.609375]]\u001b[0m\n"
     ]
    },
    {
     "name": "stderr",
     "output_type": "stream",
     "text": [
      "C:\\ProgramData\\Anaconda3\\lib\\site-packages\\scipy\\signal\\_arraytools.py:45: FutureWarning: Using a non-tuple sequence for multidimensional indexing is deprecated; use `arr[tuple(seq)]` instead of `arr[seq]`. In the future this will be interpreted as an array index, `arr[np.array(seq)]`, which will result either in an error or a different result.\n",
      "  b = a[a_slice]\n"
     ]
    },
    {
     "data": {
      "image/png": "[encoded data removed]",
      "text/plain": [
       "<matplotlib.figure.Figure at 0x205ccab67f0>"
      ]
     },
     "metadata": {
      "needs_background": "light"
     },
     "output_type": "display_data"
    }
   ],
   "source": [
    "for epoch in range(epochs):\n",
    "    discriminator.trainable = True\n",
    "    idx = np.random.randint(0, gan_truth.shape[0], batch_size)\n",
    "    real_imgs = gan_truth[idx]\n",
    "    training_batch = gan_train[idx]\n",
    "        \n",
    "    generated_imgs = generator.predict(training_batch) \n",
    "    d_loss_real = discriminator.train_on_batch([training_batch, real_imgs], real)\n",
    "    d_loss_fake = discriminator.train_on_batch([training_batch, generated_imgs], fake)\n",
    "    d_loss = 0.5 * np.add(d_loss_real, d_loss_fake)\n",
    "    discriminator.trainable = False \n",
    "    \n",
    "    idx = np.random.randint(0, gan_train.shape[0], batch_size)\n",
    "    training_batch = gan_train[idx]\n",
    "    training_truth = gan_truth[idx]\n",
    "    \n",
    "    g_loss = combined.train_on_batch(training_batch, [training_truth, g_real])\n",
    "    \n",
    "    #if g_loss[1] < 0.11 and loss_weights[0] > 2**(-4):\n",
    "    #    loss_weights[0] /= 2\n",
    "    #    combined.compile(loss=[src.custom_loss(loss=\"l1\"), keras.losses.binary_crossentropy], optimizer=keras.optimizers.Adam(0.0002, 0.5),\n",
    "    #             loss_weights=loss_weights)\n",
    "    \n",
    "    log[\"g_loss\"].append(g_loss) #sum, obj, bce\n",
    "    log[\"d_loss\"].append(d_loss) #sum\n",
    "    log[\"g_metric\"].append(g_loss[1])\n",
    "    log[\"d_metric\"].append(d_loss[1])\n",
    "    log[\"d_loss_real\"].append(d_loss_real)\n",
    "    log[\"d_loss_fake\"].append(d_loss_fake)\n",
    "    \n",
    "    print(f\"\\033[1m {epoch} [D loss: {d_loss[0]}, acc.: {100*d_loss[1]}]\\033[0m \\n\"+\n",
    "          f\"\\033[1m {epoch} [G loss: {g_loss[0]}, G obj.: {g_loss[1]}, G bce.: {g_loss[2]}]\\033[0m \\n\"+\n",
    "          f\"\\033[1m {epoch} [real loss: {d_loss_real}, fake loss: {d_loss_fake}]\\033[0m\")\n",
    "    if (epoch%200 == 0 or epoch == epochs-1) and epoch > 0:\n",
    "        src.sample_images(epoch, gan_test, gan_test_truth, past, generator)\n",
    "        src.plot_training_curves(log, epoch, name)"
   ]
  },
  {
   "cell_type": "code",
   "execution_count": null,
   "metadata": {},
   "outputs": [],
   "source": [
    "src.sample_images(epoch, gan_test, gan_test_truth, past, generator)\n",
    "src.plot_training_curves(log, epoch, name)"
   ]
  },
  {
   "cell_type": "markdown",
   "metadata": {},
   "source": [
    "## Save features"
   ]
  },
  {
   "cell_type": "markdown",
   "metadata": {},
   "source": [
    "Save model history"
   ]
  },
  {
   "cell_type": "code",
   "execution_count": null,
   "metadata": {},
   "outputs": [],
   "source": [
    "np.save(name+\"_log\",log)"
   ]
  },
  {
   "cell_type": "markdown",
   "metadata": {},
   "source": [
    "Save model weights"
   ]
  },
  {
   "cell_type": "code",
   "execution_count": null,
   "metadata": {},
   "outputs": [],
   "source": [
    "combined.save_weights(name+\"_model.h5\")"
   ]
  },
  {
   "cell_type": "markdown",
   "metadata": {},
   "source": [
    "Load model and predict"
   ]
  },
  {
   "cell_type": "code",
   "execution_count": 14,
   "metadata": {},
   "outputs": [],
   "source": [
    "combined.load_weights(\"C:/Users/pkicsiny/Desktop/TUM/3/ADL4CV/ADL4CV_project/models/sgan_2-1/\"+name+\"_model.h5\")"
   ]
  },
  {
   "cell_type": "markdown",
   "metadata": {},
   "source": [
    "Predict future frames. Loads a 20 long sequence with 1000 sequence samples."
   ]
  },
  {
   "cell_type": "code",
   "execution_count": 16,
   "metadata": {},
   "outputs": [
    {
     "name": "stdout",
     "output_type": "stream",
     "text": [
      "Test data: (1000, 64, 64, 20)\n"
     ]
    }
   ],
   "source": [
    "sequence_test = src.load_datasets(prediction=True)"
   ]
  },
  {
   "cell_type": "code",
   "execution_count": 17,
   "metadata": {},
   "outputs": [],
   "source": [
    "sequence_test = src.augment_data(sequence_test[:100])"
   ]
  },
  {
   "cell_type": "code",
   "execution_count": 18,
   "metadata": {},
   "outputs": [
    {
     "data": {
      "text/plain": [
       "(400, 64, 64, 20)"
      ]
     },
     "execution_count": 18,
     "metadata": {},
     "output_type": "execute_result"
    }
   ],
   "source": [
    "sequence_test.shape"
   ]
  },
  {
   "cell_type": "code",
   "execution_count": 19,
   "metadata": {},
   "outputs": [],
   "source": [
    "#test\n",
    "predictions = {}\n",
    "past_frames = sequence_test[...,0:past]\n",
    "test_truth = sequence_test[...,past:past+1]"
   ]
  },
  {
   "cell_type": "code",
   "execution_count": 20,
   "metadata": {},
   "outputs": [],
   "source": [
    "gen = combined.layers[1]"
   ]
  },
  {
   "cell_type": "code",
   "execution_count": 21,
   "metadata": {},
   "outputs": [],
   "source": [
    "for t in range(5):\n",
    "    future = gen.predict(past_frames, batch_size=64)\n",
    "    predictions[f\"{t}\"] = future\n",
    "    past_frames = np.concatenate((past_frames[:,:,:,1:], predictions[f\"{t}\"]), axis=-1)\n",
    "    test_truth = sequence_test[...,past+1+t:past+2+t]"
   ]
  },
  {
   "cell_type": "markdown",
   "metadata": {},
   "source": [
    "Save example predictions"
   ]
  },
  {
   "cell_type": "code",
   "execution_count": null,
   "metadata": {},
   "outputs": [],
   "source": [
    "def save_examples(name, test, predictions_dict, past, samples=0):\n",
    "    fig, axs = plt.subplots(len(samples)*2,past+len(predictions_dict.keys()), figsize=(32, 32))\n",
    "    fig.subplots_adjust(wspace=0.3, hspace=0.0)\n",
    "    for n in range(len(samples)):\n",
    "        vmax = np.max(test[n,:,:,:past])\n",
    "        vmin = 0\n",
    "        print(test.shape)\n",
    "        for i in range(past):\n",
    "            im = axs[2*n,i].imshow(test[samples[n], :,:,i], vmax=vmax,vmin=vmin)\n",
    "            axs[2*n,i].axis('off')\n",
    "            axs[2*n,i].set_title(f\"Past frame {i+1}\")\n",
    "            src.colorbar(im)\n",
    "            im = axs[2*n+1,i].imshow(test[samples[n], :,:,i], vmax=vmax,vmin=vmin)\n",
    "            axs[2*n+1,i].axis('off')\n",
    "            axs[2*n+1,i].set_title(f\"Past frame {i+1}\")\n",
    "            src.colorbar(im)\n",
    "        for i in range(past,past+len(predictions_dict.keys())):\n",
    "            im = axs[2*n,i].imshow(predictions_dict[f\"{i-past}\"][samples[n], :,:,0], vmax=vmax, vmin=vmin)\n",
    "            axs[2*n,i].axis('off')\n",
    "            axs[2*n,i].set_title(f\"Predicted frame {i-past+1}\")\n",
    "            src.colorbar(im)\n",
    "            im = axs[2*n+1,i].imshow(test[samples[n], :,:,i], vmax=vmax, vmin=vmin)\n",
    "            axs[2*n+1,i].axis('off')\n",
    "            axs[2*n+1,i].set_title(f\"Reference frame {i-past+1}\")\n",
    "            src.colorbar(im)\n",
    "    fig.savefig(f\"Plots/{name}_sequence_prediction.png\")\n",
    "    plt.close()\n"
   ]
  },
  {
   "cell_type": "code",
   "execution_count": null,
   "metadata": {},
   "outputs": [],
   "source": [
    "save_examples(name, sequence_test, predictions, past, samples=[33,54]) # 33, 46, 54"
   ]
  },
  {
   "cell_type": "markdown",
   "metadata": {},
   "source": [
    "Calculate scores"
   ]
  },
  {
   "cell_type": "code",
   "execution_count": null,
   "metadata": {},
   "outputs": [],
   "source": [
    "list(predictions.keys())"
   ]
  },
  {
   "cell_type": "code",
   "execution_count": 22,
   "metadata": {},
   "outputs": [],
   "source": [
    "norms = np.load(sys.path[0]+\"/5min_long_pred_norms_compressed.npz\")[\"arr_1\"]"
   ]
  },
  {
   "cell_type": "code",
   "execution_count": 23,
   "metadata": {},
   "outputs": [],
   "source": [
    "# *4 bc of augmentaion (it concats the frames so the 0th 1000th 2000th and 3000th are the same sample just rotated)\n",
    "test_norms = list(norms)*4"
   ]
  },
  {
   "cell_type": "code",
   "execution_count": 24,
   "metadata": {},
   "outputs": [],
   "source": [
    "#renormalize test samples\n",
    "renormalized_test = np.array([sample * np.array(test_norms)[i] for i, sample in enumerate(sequence_test)])\n",
    "renormalized_predictions = np.transpose((np.array([[sample * np.array(test_norms)[i] for i, sample in enumerate(predictions[key])] for key in predictions.keys()])[:,:,:,:,0]), (1,2,3,0))"
   ]
  },
  {
   "cell_type": "markdown",
   "metadata": {},
   "source": [
    "Calculate pixel intensities back to dBZ and from there to mm/h. <br>\n",
    "Sources: <br>\n",
    "- https://www.dwd.de/DE/leistungen/radolan/radolan_info/radolan_radvor_op_komposit_format_pdf.pdf?__blob=publicationFile&v=11 (page 10)\n",
    "- <https://web.archive.org/web/20160113151652/http://www.desktopdoppler.com/help/nws-nexrad.htm#rainfall%20rates>"
   ]
  },
  {
   "cell_type": "code",
   "execution_count": 25,
   "metadata": {},
   "outputs": [],
   "source": [
    "#dBZ\n",
    "dBZ_t = renormalized_test*0.5 - 32.5\n",
    "dBZ_p = renormalized_predictions*0.5 - 32.5\n",
    "#mm/h\n",
    "I_t = (0.005*10**(0.1*dBZ_t))**(0.625)\n",
    "I_p = (0.005*10**(0.1*dBZ_p))**(0.625)"
   ]
  },
  {
   "cell_type": "code",
   "execution_count": 27,
   "metadata": {},
   "outputs": [
    {
     "name": "stderr",
     "output_type": "stream",
     "text": [
      "C:\\Users\\pkicsiny\\Desktop\\TUM\\3\\ADL4CV\\ADL4CV_project\\src.py:878: RuntimeWarning: invalid value encountered in true_divide\n",
      "  scores[\"csi\"] = hits/(hits+misses+false_alarms)\n",
      "C:\\Users\\pkicsiny\\Desktop\\TUM\\3\\ADL4CV\\ADL4CV_project\\src.py:880: RuntimeWarning: invalid value encountered in true_divide\n",
      "  scores[\"far\"] = false_alarms/(hits+false_alarms)\n",
      "C:\\Users\\pkicsiny\\Desktop\\TUM\\3\\ADL4CV\\ADL4CV_project\\src.py:882: RuntimeWarning: invalid value encountered in true_divide\n",
      "  scores[\"pod\"] = hits/(hits+misses)\n"
     ]
    }
   ],
   "source": [
    "thresholds = [0.5]\n",
    "scores = {}\n",
    "for t in range(5): # loop over the predictions (4)\n",
    "    for s in thresholds: # make a dict entry for each threshold score\n",
    "        scores[f\"pred_{t+1}\"] = src.calculate_skill_scores(I_p[...,t:t+1],\n",
    "                                                          I_t[...,past+t:past+1+t],\n",
    "                                                          x=I_t[...,past-1:past],\n",
    "                                                          threshold=s)"
   ]
  },
  {
   "cell_type": "code",
   "execution_count": 28,
   "metadata": {},
   "outputs": [],
   "source": [
    "np.save(name+\"_scores\",scores)"
   ]
  },
  {
   "cell_type": "code",
   "execution_count": null,
   "metadata": {},
   "outputs": [],
   "source": [
    "loaded_scores = np.load(sys.path[1]+\"/\"+name+\"/\"+name+\"_scores.npy\").item()"
   ]
  },
  {
   "cell_type": "code",
   "execution_count": 29,
   "metadata": {},
   "outputs": [
    {
     "data": {
      "text/plain": [
       "0.3215545413822158"
      ]
     },
     "execution_count": 29,
     "metadata": {},
     "output_type": "execute_result"
    }
   ],
   "source": [
    "np.mean((pd.Series(scores[\"pred_1\"][\"corr_to_input\"]).dropna()))"
   ]
  },
  {
   "cell_type": "code",
   "execution_count": 30,
   "metadata": {},
   "outputs": [
    {
     "data": {
      "text/plain": [
       "0.32743476358472745"
      ]
     },
     "execution_count": 30,
     "metadata": {},
     "output_type": "execute_result"
    }
   ],
   "source": [
    "np.mean((pd.Series(scores[\"pred_1\"][\"corr_to_truth\"]).dropna()))"
   ]
  },
  {
   "cell_type": "code",
   "execution_count": null,
   "metadata": {},
   "outputs": [],
   "source": [
    "np.mean((pd.Series(scores[\"pred_4\"][\"corr_to_input\"]).dropna()))"
   ]
  },
  {
   "cell_type": "code",
   "execution_count": null,
   "metadata": {},
   "outputs": [],
   "source": [
    "np.mean((pd.Series(scores[\"pred_4\"][\"corr_to_truth\"]).dropna()))"
   ]
  },
  {
   "cell_type": "code",
   "execution_count": 49,
   "metadata": {},
   "outputs": [
    {
     "data": {
      "text/plain": [
       "(2000, 64, 64, 2)"
      ]
     },
     "execution_count": 49,
     "metadata": {},
     "output_type": "execute_result"
    }
   ],
   "source": [
    "gan_train.shape"
   ]
  },
  {
   "cell_type": "code",
   "execution_count": 52,
   "metadata": {},
   "outputs": [
    {
     "ename": "IndexError",
     "evalue": "too many indices for array",
     "output_type": "error",
     "traceback": [
      "\u001b[1;31m---------------------------------------------------------------------------\u001b[0m",
      "\u001b[1;31mIndexError\u001b[0m                                Traceback (most recent call last)",
      "\u001b[1;32m<ipython-input-52-ce3364761097>\u001b[0m in \u001b[0;36m<module>\u001b[1;34m()\u001b[0m\n\u001b[1;32m----> 1\u001b[1;33m \u001b[0madvected\u001b[0m \u001b[1;33m=\u001b[0m \u001b[0madvect\u001b[0m\u001b[1;33m(\u001b[0m\u001b[0mgan_train\u001b[0m\u001b[1;33m[\u001b[0m\u001b[1;36m0\u001b[0m\u001b[1;33m,\u001b[0m\u001b[1;33m...\u001b[0m\u001b[1;33m,\u001b[0m\u001b[1;33m-\u001b[0m\u001b[1;36m1\u001b[0m\u001b[1;33m]\u001b[0m\u001b[1;33m)\u001b[0m\u001b[1;33m\u001b[0m\u001b[0m\n\u001b[0m",
      "\u001b[1;32m<ipython-input-51-7d2e13102269>\u001b[0m in \u001b[0;36madvect\u001b[1;34m(image, order)\u001b[0m\n\u001b[0;32m     15\u001b[0m         \u001b[0mpadded\u001b[0m\u001b[1;33m[\u001b[0m\u001b[0mnp\u001b[0m\u001b[1;33m.\u001b[0m\u001b[0misnan\u001b[0m\u001b[1;33m(\u001b[0m\u001b[0mpadded\u001b[0m\u001b[1;33m)\u001b[0m\u001b[1;33m]\u001b[0m \u001b[1;33m=\u001b[0m \u001b[1;36m0\u001b[0m\u001b[1;33m\u001b[0m\u001b[0m\n\u001b[0;32m     16\u001b[0m         \u001b[1;31m#advect\u001b[0m\u001b[1;33m\u001b[0m\u001b[1;33m\u001b[0m\u001b[0m\n\u001b[1;32m---> 17\u001b[1;33m         \u001b[0madvected\u001b[0m \u001b[1;33m=\u001b[0m \u001b[0mimage\u001b[0m\u001b[1;33m[\u001b[0m\u001b[1;33m...\u001b[0m\u001b[1;33m,\u001b[0m\u001b[1;36m0\u001b[0m\u001b[1;33m]\u001b[0m \u001b[1;33m-\u001b[0m                   \u001b[0mimage\u001b[0m\u001b[1;33m[\u001b[0m\u001b[1;33m...\u001b[0m\u001b[1;33m,\u001b[0m\u001b[1;36m1\u001b[0m\u001b[1;33m]\u001b[0m\u001b[1;33m*\u001b[0m\u001b[1;33m(\u001b[0m\u001b[0mpadded\u001b[0m\u001b[1;33m[\u001b[0m\u001b[1;36m1\u001b[0m\u001b[1;33m:\u001b[0m\u001b[1;33m,\u001b[0m\u001b[1;33m:\u001b[0m\u001b[1;33m,\u001b[0m\u001b[1;36m0\u001b[0m\u001b[1;33m]\u001b[0m \u001b[1;33m-\u001b[0m \u001b[0mpadded\u001b[0m\u001b[1;33m[\u001b[0m\u001b[1;33m:\u001b[0m\u001b[1;33m-\u001b[0m\u001b[1;36m1\u001b[0m\u001b[1;33m,\u001b[0m\u001b[1;33m:\u001b[0m\u001b[1;33m,\u001b[0m\u001b[1;36m0\u001b[0m\u001b[1;33m]\u001b[0m\u001b[1;33m)\u001b[0m\u001b[1;33m[\u001b[0m\u001b[1;33m:\u001b[0m\u001b[1;33m,\u001b[0m\u001b[1;33m:\u001b[0m\u001b[1;33m-\u001b[0m\u001b[1;36m1\u001b[0m\u001b[1;33m]\u001b[0m \u001b[1;33m-\u001b[0m                   \u001b[0mimage\u001b[0m\u001b[1;33m[\u001b[0m\u001b[1;33m...\u001b[0m\u001b[1;33m,\u001b[0m\u001b[1;36m2\u001b[0m\u001b[1;33m]\u001b[0m\u001b[1;33m*\u001b[0m\u001b[1;33m(\u001b[0m\u001b[0mpadded\u001b[0m\u001b[1;33m[\u001b[0m\u001b[1;33m:\u001b[0m\u001b[1;33m,\u001b[0m\u001b[1;36m1\u001b[0m\u001b[1;33m:\u001b[0m\u001b[1;33m,\u001b[0m\u001b[1;36m0\u001b[0m\u001b[1;33m]\u001b[0m \u001b[1;33m-\u001b[0m \u001b[0mpadded\u001b[0m\u001b[1;33m[\u001b[0m\u001b[1;33m:\u001b[0m\u001b[1;33m,\u001b[0m\u001b[1;33m:\u001b[0m\u001b[1;33m-\u001b[0m\u001b[1;36m1\u001b[0m\u001b[1;33m,\u001b[0m\u001b[1;36m0\u001b[0m\u001b[1;33m]\u001b[0m\u001b[1;33m)\u001b[0m\u001b[1;33m[\u001b[0m\u001b[1;33m:\u001b[0m\u001b[1;33m-\u001b[0m\u001b[1;36m1\u001b[0m\u001b[1;33m]\u001b[0m\u001b[1;33m\u001b[0m\u001b[0m\n\u001b[0m\u001b[0;32m     18\u001b[0m     \u001b[1;32melif\u001b[0m \u001b[0morder\u001b[0m \u001b[1;33m==\u001b[0m \u001b[1;36m2\u001b[0m\u001b[1;33m:\u001b[0m\u001b[1;33m\u001b[0m\u001b[0m\n\u001b[0;32m     19\u001b[0m         \u001b[1;31m#pad image\u001b[0m\u001b[1;33m\u001b[0m\u001b[1;33m\u001b[0m\u001b[0m\n",
      "\u001b[1;31mIndexError\u001b[0m: too many indices for array"
     ]
    }
   ],
   "source": [
    "advected = advect(gan_train[0,...,-1])"
   ]
  },
  {
   "cell_type": "code",
   "execution_count": 51,
   "metadata": {},
   "outputs": [],
   "source": [
    "def advect(image, order=1): # (64,64,3)\n",
    "    \"\"\"\n",
    "    Applies the physical advection (material derivative) on a density (rain) frame.\n",
    "    See: https://en.wikipedia.org/wiki/Advection\n",
    "    in short: r(t+1)=r(t)-vx(t)*drdx(t)-vy(t)*drdy(t)\n",
    "    :param image: one image with 3 channels: the advected material (rain desity) and the flow field (wind) x and y components.\n",
    "    \"\"\"\n",
    "    assert order in [1, 2], \"This supports only first and second order advection.\"\n",
    "    #create array for advected frame\n",
    "    advected = np.empty_like(image[...,0:1])\n",
    "    if order == 1:\n",
    "        #pad image\n",
    "        padded = np.pad(image,(0,1),'edge')[...,:-1]\n",
    "        #set nans to 0\n",
    "        padded[np.isnan(padded)] = 0\n",
    "        #advect\n",
    "        advected = image[...,0] -\\\n",
    "                   image[...,1]*(padded[1:,:,0] - padded[:-1,:,0])[:,:-1] -\\\n",
    "                   image[...,2]*(padded[:,1:,0] - padded[:,:-1,0])[:-1]\n",
    "    elif order == 2:\n",
    "        #pad image\n",
    "        padded = np.pad(image,(1,1),'edge')[:,:,1:-1]\n",
    "        #set nans to 0\n",
    "        padded[np.isnan(padded)] = 0\n",
    "        #advect\n",
    "        advected = image[...,0] - 0.5*image[\n",
    "            ...,1]*(padded[2:,:,0] - padded[:-2,:,0])[:,1:-1] - 0.5*image[\n",
    "            ...,2]*(padded[:,2:,0] - padded[:,:-2,0])[1:-1] + 0.5*image[\n",
    "            ...,1]**2*(padded[2:,:,0] + padded[:-2,:,0] - 2*padded[1:-1,:,0])[:,1:-1] + 0.5*image[\n",
    "            ...,2]**2*(padded[:,2:,0] + padded[:,:-2,0] - 2*padded[:,1:-1,0])[1:-1]\n",
    "    #renormalize (clamp)\n",
    "    advected[advected < 0] = 0\n",
    "    advected[advected > 1] = 1\n",
    "    return advected  # (64, 64, 1) only rain   "
   ]
  },
  {
   "cell_type": "code",
   "execution_count": null,
   "metadata": {},
   "outputs": [],
   "source": []
  }
 ],
 "metadata": {
  "kernelspec": {
   "display_name": "Python 3",
   "language": "python",
   "name": "python3"
  },
  "language_info": {
   "codemirror_mode": {
    "name": "ipython",
    "version": 3
   },
   "file_extension": ".py",
   "mimetype": "text/x-python",
   "name": "python",
   "nbconvert_exporter": "python",
   "pygments_lexer": "ipython3",
   "version": "3.6.4"
  }
 },
 "nbformat": 4,
 "nbformat_minor": 2
}
